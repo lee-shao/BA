{
 "cells": [
  {
   "cell_type": "code",
   "execution_count": 1,
   "id": "addf5dfa-49fb-4832-bf9b-a0a654e82bcd",
   "metadata": {},
   "outputs": [],
   "source": [
    "import pandas as pd"
   ]
  },
  {
   "cell_type": "code",
   "execution_count": 3,
   "id": "1493c770-a4b0-41c8-949e-324d3bc2c889",
   "metadata": {},
   "outputs": [],
   "source": [
    "# Datensatz laden\n",
    "file_path = r\"C:\\Users\\leesh\\Desktop\\BA\\Datensätze\\cardiovascular_disease_dataset\\cvd_a0_(id).xlsx\"\n",
    "df = pd.read_excel(file_path)"
   ]
  },
  {
   "cell_type": "code",
   "execution_count": 25,
   "id": "8ebeb29d-db2e-45a9-9ad6-443deaf627c6",
   "metadata": {},
   "outputs": [
    {
     "name": "stdout",
     "output_type": "stream",
     "text": [
      "<class 'pandas.core.frame.DataFrame'>\n",
      "RangeIndex: 70000 entries, 0 to 69999\n",
      "Data columns (total 13 columns):\n",
      " #   Column       Non-Null Count  Dtype  \n",
      "---  ------       --------------  -----  \n",
      " 0   id           70000 non-null  int64  \n",
      " 1   age          70000 non-null  int64  \n",
      " 2   gender       70000 non-null  int64  \n",
      " 3   height       70000 non-null  int64  \n",
      " 4   weight       70000 non-null  float64\n",
      " 5   ap_hi        70000 non-null  int64  \n",
      " 6   ap_lo        70000 non-null  int64  \n",
      " 7   cholesterol  70000 non-null  int64  \n",
      " 8   gluc         70000 non-null  int64  \n",
      " 9   smoke        70000 non-null  int64  \n",
      " 10  alco         70000 non-null  int64  \n",
      " 11  active       70000 non-null  int64  \n",
      " 12  cardio       70000 non-null  int64  \n",
      "dtypes: float64(1), int64(12)\n",
      "memory usage: 6.9 MB\n"
     ]
    }
   ],
   "source": [
    "df.info()"
   ]
  },
  {
   "cell_type": "code",
   "execution_count": 11,
   "id": "b97b5f35-0062-47aa-8512-f4ceb4396af8",
   "metadata": {},
   "outputs": [],
   "source": [
    "# Normbereiche definieren\n",
    "height_range = (140, 210)\n",
    "weight_range = (40, 150)\n",
    "ap_hi_range = (90, 200)\n",
    "ap_lo_range = (60, 120)"
   ]
  },
  {
   "cell_type": "code",
   "execution_count": 13,
   "id": "862156a7-fd9e-49c5-97cc-898645fcd249",
   "metadata": {},
   "outputs": [],
   "source": [
    "# Filter für Normbereiche anwenden\n",
    "filtered_df = df[\n",
    "    (df['height'] >= height_range[0]) & (df['height'] <= height_range[1]) &\n",
    "    (df['weight'] >= weight_range[0]) & (df['weight'] <= weight_range[1]) &\n",
    "    (df['ap_hi'] >= ap_hi_range[0]) & (df['ap_hi'] <= ap_hi_range[1]) &\n",
    "    (df['ap_lo'] >= ap_lo_range[0]) & (df['ap_lo'] <= ap_lo_range[1])\n",
    "]"
   ]
  },
  {
   "cell_type": "code",
   "execution_count": 21,
   "id": "93ad15ed-14ae-40d1-a1e7-07fcd6dac75c",
   "metadata": {},
   "outputs": [
    {
     "name": "stdout",
     "output_type": "stream",
     "text": [
      "<class 'pandas.core.frame.DataFrame'>\n",
      "Index: 68184 entries, 0 to 69999\n",
      "Data columns (total 13 columns):\n",
      " #   Column       Non-Null Count  Dtype  \n",
      "---  ------       --------------  -----  \n",
      " 0   id           68184 non-null  int64  \n",
      " 1   age          68184 non-null  int64  \n",
      " 2   gender       68184 non-null  int64  \n",
      " 3   height       68184 non-null  int64  \n",
      " 4   weight       68184 non-null  float64\n",
      " 5   ap_hi        68184 non-null  int64  \n",
      " 6   ap_lo        68184 non-null  int64  \n",
      " 7   cholesterol  68184 non-null  int64  \n",
      " 8   gluc         68184 non-null  int64  \n",
      " 9   smoke        68184 non-null  int64  \n",
      " 10  alco         68184 non-null  int64  \n",
      " 11  active       68184 non-null  int64  \n",
      " 12  cardio       68184 non-null  int64  \n",
      "dtypes: float64(1), int64(12)\n",
      "memory usage: 7.3 MB\n"
     ]
    }
   ],
   "source": [
    "# Bereinigte Daten anzeigen\n",
    "filtered_df.info()"
   ]
  },
  {
   "cell_type": "code",
   "execution_count": 31,
   "id": "1a8d5c9b-8e8b-4ec1-ad04-618e4f8efdcb",
   "metadata": {},
   "outputs": [],
   "source": [
    "# Daten exportieren\n",
    "max_cols = df.shape[1]\n",
    "output_file_path = r'C:\\Users\\leesh\\Desktop\\BA\\Datensätze\\cardiovascular_disease_dataset\\cvd_a0_(filtered).xlsx'\n",
    "filtered_df.to_excel(output_file_path, index=False)"
   ]
  },
  {
   "cell_type": "code",
   "execution_count": null,
   "id": "29e14e03-400a-4261-bf96-7f86e43e4239",
   "metadata": {},
   "outputs": [],
   "source": []
  }
 ],
 "metadata": {
  "kernelspec": {
   "display_name": "Python 3 (ipykernel)",
   "language": "python",
   "name": "python3"
  },
  "language_info": {
   "codemirror_mode": {
    "name": "ipython",
    "version": 3
   },
   "file_extension": ".py",
   "mimetype": "text/x-python",
   "name": "python",
   "nbconvert_exporter": "python",
   "pygments_lexer": "ipython3",
   "version": "3.11.7"
  }
 },
 "nbformat": 4,
 "nbformat_minor": 5
}
