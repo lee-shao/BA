{
 "cells": [
  {
   "cell_type": "code",
   "execution_count": 1,
   "id": "06f3e3d9-8753-4780-880e-47ff2e034a76",
   "metadata": {
    "scrolled": true
   },
   "outputs": [
    {
     "name": "stderr",
     "output_type": "stream",
     "text": [
      "[I 2024-09-17 19:44:26,729] A new study created in memory with name: no-name-c5e87408-dce6-4dc0-b156-50fb74bc6887\n"
     ]
    },
    {
     "name": "stdout",
     "output_type": "stream",
     "text": [
      "Optimizing for C:/Users/leesh/Desktop/BA/Notebooks/weight_optimization/cvd_k0_l0.csv\n",
      "Running Java anonymization for trial 0 with k=10...\n",
      "Running Java code with k=10...\n",
      "Anonymization successful for k = 10, l = 2\n",
      "Execution successful!\n",
      "Gesamte Ausführung hat 0 Stunden, 0 Minuten, und 32.93 Sekunden gedauert.\n",
      "Anonymization completed for k=10. Output saved to C:/Users/leesh/Desktop/BA/Notebooks/weight_optimization/anonymized_trial_0_k10.csv.\n",
      "Running Java anonymization for trial 0 with k=20...\n",
      "Running Java code with k=20...\n",
      "Anonymization successful for k = 20, l = 2\n",
      "Execution successful!\n",
      "Gesamte Ausführung hat 0 Stunden, 0 Minuten, und 32.76 Sekunden gedauert.\n",
      "Anonymization completed for k=20. Output saved to C:/Users/leesh/Desktop/BA/Notebooks/weight_optimization/anonymized_trial_0_k20.csv.\n",
      "All anonymization processes completed.\n"
     ]
    },
    {
     "name": "stderr",
     "output_type": "stream",
     "text": [
      "[I 2024-09-17 19:45:42,615] Trial 0 finished with value: 0.7198266976990588 and parameters: {'age_weight': 0.849267429030091, 'gender_weight': 0.3371963365626721, 'height_weight': 0.9055086736048579, 'weight_weight': 0.7810336703300543, 'ap_hi_weight': 0.12340100949463606, 'ap_lo_weight': 0.38899307097095304, 'cholesterol_weight': 0.009341277459541386, 'gluc_weight': 0.8736676236714979, 'smoke_weight': 0.4174092098645704, 'alco_weight': 0.1716774960334141, 'active_weight': 0.3268498074996268}. Best is trial 0 with value: 0.7198266976990588.\n"
     ]
    },
    {
     "name": "stdout",
     "output_type": "stream",
     "text": [
      "Running Java anonymization for trial 1 with k=10...\n",
      "Running Java code with k=10...\n",
      "Anonymization successful for k = 10, l = 2\n",
      "Execution successful!\n",
      "Gesamte Ausführung hat 0 Stunden, 0 Minuten, und 32.70 Sekunden gedauert.\n",
      "Anonymization completed for k=10. Output saved to C:/Users/leesh/Desktop/BA/Notebooks/weight_optimization/anonymized_trial_1_k10.csv.\n",
      "Running Java anonymization for trial 1 with k=20...\n",
      "Running Java code with k=20...\n",
      "Anonymization successful for k = 20, l = 2\n",
      "Execution successful!\n",
      "Gesamte Ausführung hat 0 Stunden, 0 Minuten, und 32.66 Sekunden gedauert.\n",
      "Anonymization completed for k=20. Output saved to C:/Users/leesh/Desktop/BA/Notebooks/weight_optimization/anonymized_trial_1_k20.csv.\n",
      "All anonymization processes completed.\n"
     ]
    },
    {
     "name": "stderr",
     "output_type": "stream",
     "text": [
      "[I 2024-09-17 19:46:58,594] Trial 1 finished with value: 0.7108969664222344 and parameters: {'age_weight': 0.6926961740009183, 'gender_weight': 0.1521592024905315, 'height_weight': 0.1358133274792731, 'weight_weight': 0.5983663058757148, 'ap_hi_weight': 0.9345543581242608, 'ap_lo_weight': 0.9254424138436175, 'cholesterol_weight': 0.3764406418952597, 'gluc_weight': 0.9066618576673418, 'smoke_weight': 0.2535815475365083, 'alco_weight': 0.5500095290336634, 'active_weight': 0.6475556707330159}. Best is trial 0 with value: 0.7198266976990588.\n"
     ]
    },
    {
     "name": "stdout",
     "output_type": "stream",
     "text": [
      "Running Java anonymization for trial 2 with k=10...\n",
      "Running Java code with k=10...\n",
      "Anonymization successful for k = 10, l = 2\n",
      "Execution successful!\n",
      "Gesamte Ausführung hat 0 Stunden, 0 Minuten, und 33.27 Sekunden gedauert.\n",
      "Anonymization completed for k=10. Output saved to C:/Users/leesh/Desktop/BA/Notebooks/weight_optimization/anonymized_trial_2_k10.csv.\n",
      "Running Java anonymization for trial 2 with k=20...\n",
      "Running Java code with k=20...\n",
      "Anonymization successful for k = 20, l = 2\n",
      "Execution successful!\n",
      "Gesamte Ausführung hat 0 Stunden, 0 Minuten, und 33.61 Sekunden gedauert.\n",
      "Anonymization completed for k=20. Output saved to C:/Users/leesh/Desktop/BA/Notebooks/weight_optimization/anonymized_trial_2_k20.csv.\n",
      "All anonymization processes completed.\n"
     ]
    },
    {
     "name": "stderr",
     "output_type": "stream",
     "text": [
      "[I 2024-09-17 19:48:17,040] Trial 2 finished with value: 0.6555991486802512 and parameters: {'age_weight': 0.5418876068887256, 'gender_weight': 0.6484140327947273, 'height_weight': 0.044030984836105236, 'weight_weight': 0.37590083010945874, 'ap_hi_weight': 0.4271721406587039, 'ap_lo_weight': 0.028541042972032193, 'cholesterol_weight': 0.3296885174634202, 'gluc_weight': 0.3362382082102141, 'smoke_weight': 0.26664368833457, 'alco_weight': 0.1678165117696322, 'active_weight': 0.8521149067964083}. Best is trial 0 with value: 0.7198266976990588.\n"
     ]
    },
    {
     "name": "stdout",
     "output_type": "stream",
     "text": [
      "Running Java anonymization for trial 3 with k=10...\n",
      "Running Java code with k=10...\n",
      "Anonymization successful for k = 10, l = 2\n",
      "Execution successful!\n",
      "Gesamte Ausführung hat 0 Stunden, 0 Minuten, und 32.93 Sekunden gedauert.\n",
      "Anonymization completed for k=10. Output saved to C:/Users/leesh/Desktop/BA/Notebooks/weight_optimization/anonymized_trial_3_k10.csv.\n",
      "Running Java anonymization for trial 3 with k=20...\n",
      "Running Java code with k=20...\n",
      "Anonymization successful for k = 20, l = 2\n",
      "Execution successful!\n",
      "Gesamte Ausführung hat 0 Stunden, 0 Minuten, und 32.89 Sekunden gedauert.\n",
      "Anonymization completed for k=20. Output saved to C:/Users/leesh/Desktop/BA/Notebooks/weight_optimization/anonymized_trial_3_k20.csv.\n",
      "All anonymization processes completed.\n"
     ]
    },
    {
     "name": "stderr",
     "output_type": "stream",
     "text": [
      "[I 2024-09-17 19:49:34,223] Trial 3 finished with value: 0.7144894566555712 and parameters: {'age_weight': 0.29739669340819586, 'gender_weight': 0.33644626665025557, 'height_weight': 0.9587665063298818, 'weight_weight': 0.7420978406859671, 'ap_hi_weight': 0.12233420320330235, 'ap_lo_weight': 0.40187827056210657, 'cholesterol_weight': 0.2550906782189897, 'gluc_weight': 0.3018147192546631, 'smoke_weight': 0.5968859507006875, 'alco_weight': 0.9687152440261465, 'active_weight': 0.3930289744200228}. Best is trial 0 with value: 0.7198266976990588.\n"
     ]
    },
    {
     "name": "stdout",
     "output_type": "stream",
     "text": [
      "Running Java anonymization for trial 4 with k=10...\n",
      "Running Java code with k=10...\n",
      "Anonymization successful for k = 10, l = 2\n",
      "Execution successful!\n",
      "Gesamte Ausführung hat 0 Stunden, 0 Minuten, und 32.61 Sekunden gedauert.\n",
      "Anonymization completed for k=10. Output saved to C:/Users/leesh/Desktop/BA/Notebooks/weight_optimization/anonymized_trial_4_k10.csv.\n",
      "Running Java anonymization for trial 4 with k=20...\n",
      "Running Java code with k=20...\n",
      "Anonymization successful for k = 20, l = 2\n",
      "Execution successful!\n",
      "Gesamte Ausführung hat 0 Stunden, 0 Minuten, und 32.74 Sekunden gedauert.\n",
      "Anonymization completed for k=20. Output saved to C:/Users/leesh/Desktop/BA/Notebooks/weight_optimization/anonymized_trial_4_k20.csv.\n",
      "All anonymization processes completed.\n"
     ]
    },
    {
     "name": "stderr",
     "output_type": "stream",
     "text": [
      "[I 2024-09-17 19:50:50,386] Trial 4 finished with value: 0.6918531781557744 and parameters: {'age_weight': 0.15766287765780806, 'gender_weight': 0.2280216142653272, 'height_weight': 0.05852913961445971, 'weight_weight': 0.19903533160370912, 'ap_hi_weight': 0.3957731682644343, 'ap_lo_weight': 0.08808477547907934, 'cholesterol_weight': 0.5772228611732029, 'gluc_weight': 0.3022192670909557, 'smoke_weight': 0.36036182322332566, 'alco_weight': 0.3225943348841479, 'active_weight': 0.5393962052424589}. Best is trial 0 with value: 0.7198266976990588.\n"
     ]
    },
    {
     "name": "stdout",
     "output_type": "stream",
     "text": [
      "Running Java anonymization for trial 5 with k=10...\n",
      "Running Java code with k=10...\n",
      "Anonymization successful for k = 10, l = 2\n",
      "Execution successful!\n",
      "Gesamte Ausführung hat 0 Stunden, 0 Minuten, und 32.63 Sekunden gedauert.\n",
      "Anonymization completed for k=10. Output saved to C:/Users/leesh/Desktop/BA/Notebooks/weight_optimization/anonymized_trial_5_k10.csv.\n",
      "Running Java anonymization for trial 5 with k=20...\n",
      "Running Java code with k=20...\n",
      "Anonymization successful for k = 20, l = 2\n",
      "Execution successful!\n",
      "Gesamte Ausführung hat 0 Stunden, 0 Minuten, und 32.39 Sekunden gedauert.\n",
      "Anonymization completed for k=20. Output saved to C:/Users/leesh/Desktop/BA/Notebooks/weight_optimization/anonymized_trial_5_k20.csv.\n",
      "All anonymization processes completed.\n"
     ]
    },
    {
     "name": "stderr",
     "output_type": "stream",
     "text": [
      "[I 2024-09-17 19:52:05,660] Trial 5 finished with value: 0.6507393175365662 and parameters: {'age_weight': 0.34828756319937426, 'gender_weight': 0.841625493079163, 'height_weight': 0.8920320703739499, 'weight_weight': 0.9692049687813094, 'ap_hi_weight': 0.6124953728399166, 'ap_lo_weight': 0.2569895627398553, 'cholesterol_weight': 0.3097418626258074, 'gluc_weight': 0.2737188548533155, 'smoke_weight': 0.5059395103041823, 'alco_weight': 0.4269445677140251, 'active_weight': 0.5999837094297331}. Best is trial 0 with value: 0.7198266976990588.\n"
     ]
    },
    {
     "name": "stdout",
     "output_type": "stream",
     "text": [
      "Running Java anonymization for trial 6 with k=10...\n",
      "Running Java code with k=10...\n",
      "Anonymization successful for k = 10, l = 2\n",
      "Execution successful!\n",
      "Gesamte Ausführung hat 0 Stunden, 0 Minuten, und 32.72 Sekunden gedauert.\n",
      "Anonymization completed for k=10. Output saved to C:/Users/leesh/Desktop/BA/Notebooks/weight_optimization/anonymized_trial_6_k10.csv.\n",
      "Running Java anonymization for trial 6 with k=20...\n",
      "Running Java code with k=20...\n",
      "Anonymization successful for k = 20, l = 2\n",
      "Execution successful!\n",
      "Gesamte Ausführung hat 0 Stunden, 0 Minuten, und 32.61 Sekunden gedauert.\n",
      "Anonymization completed for k=20. Output saved to C:/Users/leesh/Desktop/BA/Notebooks/weight_optimization/anonymized_trial_6_k20.csv.\n",
      "All anonymization processes completed.\n"
     ]
    },
    {
     "name": "stderr",
     "output_type": "stream",
     "text": [
      "[I 2024-09-17 19:53:21,777] Trial 6 finished with value: 0.714654013444049 and parameters: {'age_weight': 0.29851448813971515, 'gender_weight': 0.2750949319869348, 'height_weight': 0.723411912054089, 'weight_weight': 0.4194680790911517, 'ap_hi_weight': 0.41399258488665835, 'ap_lo_weight': 0.8287795489211036, 'cholesterol_weight': 0.3457664702373411, 'gluc_weight': 0.05997473658091279, 'smoke_weight': 0.8672619829922708, 'alco_weight': 0.7149040739556457, 'active_weight': 0.032966459201296705}. Best is trial 0 with value: 0.7198266976990588.\n"
     ]
    },
    {
     "name": "stdout",
     "output_type": "stream",
     "text": [
      "Running Java anonymization for trial 7 with k=10...\n",
      "Running Java code with k=10...\n",
      "Anonymization successful for k = 10, l = 2\n",
      "Execution successful!\n",
      "Gesamte Ausführung hat 0 Stunden, 0 Minuten, und 32.44 Sekunden gedauert.\n",
      "Anonymization completed for k=10. Output saved to C:/Users/leesh/Desktop/BA/Notebooks/weight_optimization/anonymized_trial_7_k10.csv.\n",
      "Running Java anonymization for trial 7 with k=20...\n",
      "Running Java code with k=20...\n",
      "Anonymization successful for k = 20, l = 2\n",
      "Execution successful!\n",
      "Gesamte Ausführung hat 0 Stunden, 0 Minuten, und 32.78 Sekunden gedauert.\n",
      "Anonymization completed for k=20. Output saved to C:/Users/leesh/Desktop/BA/Notebooks/weight_optimization/anonymized_trial_7_k20.csv.\n",
      "All anonymization processes completed.\n"
     ]
    },
    {
     "name": "stderr",
     "output_type": "stream",
     "text": [
      "[I 2024-09-17 19:54:38,443] Trial 7 finished with value: 0.7142424835062445 and parameters: {'age_weight': 0.7521500340067664, 'gender_weight': 0.4799057404891912, 'height_weight': 0.3827660335471804, 'weight_weight': 0.10318473496237879, 'ap_hi_weight': 0.9954830844950625, 'ap_lo_weight': 0.8279736941294493, 'cholesterol_weight': 0.4814663539272598, 'gluc_weight': 0.6663553094257925, 'smoke_weight': 0.7033464309556824, 'alco_weight': 0.3085483904520073, 'active_weight': 0.11977666274163679}. Best is trial 0 with value: 0.7198266976990588.\n"
     ]
    },
    {
     "name": "stdout",
     "output_type": "stream",
     "text": [
      "Running Java anonymization for trial 8 with k=10...\n",
      "Running Java code with k=10...\n",
      "Anonymization successful for k = 10, l = 2\n",
      "Execution successful!\n",
      "Gesamte Ausführung hat 0 Stunden, 0 Minuten, und 32.53 Sekunden gedauert.\n",
      "Anonymization completed for k=10. Output saved to C:/Users/leesh/Desktop/BA/Notebooks/weight_optimization/anonymized_trial_8_k10.csv.\n",
      "Running Java anonymization for trial 8 with k=20...\n",
      "Running Java code with k=20...\n",
      "Anonymization successful for k = 20, l = 2\n",
      "Execution successful!\n",
      "Gesamte Ausführung hat 0 Stunden, 0 Minuten, und 32.42 Sekunden gedauert.\n",
      "Anonymization completed for k=20. Output saved to C:/Users/leesh/Desktop/BA/Notebooks/weight_optimization/anonymized_trial_8_k20.csv.\n",
      "All anonymization processes completed.\n"
     ]
    },
    {
     "name": "stderr",
     "output_type": "stream",
     "text": [
      "[I 2024-09-17 19:55:53,847] Trial 8 finished with value: 0.7116639325841028 and parameters: {'age_weight': 0.33521245251999987, 'gender_weight': 0.3677765781851122, 'height_weight': 0.4154021082670539, 'weight_weight': 0.7797157403635844, 'ap_hi_weight': 0.24518539329915667, 'ap_lo_weight': 0.9934648229020082, 'cholesterol_weight': 0.9684329883121321, 'gluc_weight': 0.048133378857846965, 'smoke_weight': 0.48887042154870475, 'alco_weight': 0.2902674964125104, 'active_weight': 0.2840856218619682}. Best is trial 0 with value: 0.7198266976990588.\n"
     ]
    },
    {
     "name": "stdout",
     "output_type": "stream",
     "text": [
      "Running Java anonymization for trial 9 with k=10...\n",
      "Running Java code with k=10...\n",
      "Anonymization successful for k = 10, l = 2\n",
      "Execution successful!\n",
      "Gesamte Ausführung hat 0 Stunden, 0 Minuten, und 32.32 Sekunden gedauert.\n",
      "Anonymization completed for k=10. Output saved to C:/Users/leesh/Desktop/BA/Notebooks/weight_optimization/anonymized_trial_9_k10.csv.\n",
      "Running Java anonymization for trial 9 with k=20...\n",
      "Running Java code with k=20...\n",
      "Anonymization successful for k = 20, l = 2\n",
      "Execution successful!\n",
      "Gesamte Ausführung hat 0 Stunden, 0 Minuten, und 32.42 Sekunden gedauert.\n",
      "Anonymization completed for k=20. Output saved to C:/Users/leesh/Desktop/BA/Notebooks/weight_optimization/anonymized_trial_9_k20.csv.\n",
      "All anonymization processes completed.\n"
     ]
    },
    {
     "name": "stderr",
     "output_type": "stream",
     "text": [
      "[I 2024-09-17 19:57:08,287] Trial 9 finished with value: 0.7224347318683237 and parameters: {'age_weight': 0.6237319142682005, 'gender_weight': 0.9317199001713029, 'height_weight': 0.1494270357236248, 'weight_weight': 0.6787749421750625, 'ap_hi_weight': 0.11337154726009968, 'ap_lo_weight': 0.5528027985291721, 'cholesterol_weight': 0.9990771698093378, 'gluc_weight': 0.8767463233700307, 'smoke_weight': 0.4327227932578205, 'alco_weight': 0.966800852288809, 'active_weight': 0.2210541135407914}. Best is trial 9 with value: 0.7224347318683237.\n"
     ]
    },
    {
     "name": "stdout",
     "output_type": "stream",
     "text": [
      "Running Java anonymization for trial 10 with k=10...\n",
      "Running Java code with k=10...\n",
      "Anonymization successful for k = 10, l = 2\n",
      "Execution successful!\n",
      "Gesamte Ausführung hat 0 Stunden, 0 Minuten, und 32.64 Sekunden gedauert.\n",
      "Anonymization completed for k=10. Output saved to C:/Users/leesh/Desktop/BA/Notebooks/weight_optimization/anonymized_trial_10_k10.csv.\n",
      "Running Java anonymization for trial 10 with k=20...\n",
      "Running Java code with k=20...\n",
      "Anonymization successful for k = 20, l = 2\n",
      "Execution successful!\n",
      "Gesamte Ausführung hat 0 Stunden, 0 Minuten, und 32.78 Sekunden gedauert.\n",
      "Anonymization completed for k=20. Output saved to C:/Users/leesh/Desktop/BA/Notebooks/weight_optimization/anonymized_trial_10_k20.csv.\n",
      "All anonymization processes completed.\n"
     ]
    },
    {
     "name": "stderr",
     "output_type": "stream",
     "text": [
      "[I 2024-09-17 19:58:24,880] Trial 10 finished with value: 0.7268662132100591 and parameters: {'age_weight': 0.9720866425553862, 'gender_weight': 0.9393880165401506, 'height_weight': 0.27821029494510024, 'weight_weight': 0.9888125975366882, 'ap_hi_weight': 0.6774837895227784, 'ap_lo_weight': 0.6539956494601846, 'cholesterol_weight': 0.996991902213789, 'gluc_weight': 0.6852850397763611, 'smoke_weight': 0.022148947102330507, 'alco_weight': 0.9810212107424016, 'active_weight': 0.9358878981992285}. Best is trial 10 with value: 0.7268662132100591.\n"
     ]
    },
    {
     "name": "stdout",
     "output_type": "stream",
     "text": [
      "Running Java anonymization for trial 11 with k=10...\n",
      "Running Java code with k=10...\n",
      "Anonymization successful for k = 10, l = 2\n",
      "Execution successful!\n",
      "Gesamte Ausführung hat 0 Stunden, 0 Minuten, und 32.48 Sekunden gedauert.\n",
      "Anonymization completed for k=10. Output saved to C:/Users/leesh/Desktop/BA/Notebooks/weight_optimization/anonymized_trial_11_k10.csv.\n",
      "Running Java anonymization for trial 11 with k=20...\n",
      "Running Java code with k=20...\n",
      "Anonymization successful for k = 20, l = 2\n",
      "Execution successful!\n",
      "Gesamte Ausführung hat 0 Stunden, 0 Minuten, und 32.46 Sekunden gedauert.\n",
      "Anonymization completed for k=20. Output saved to C:/Users/leesh/Desktop/BA/Notebooks/weight_optimization/anonymized_trial_11_k20.csv.\n",
      "All anonymization processes completed.\n"
     ]
    },
    {
     "name": "stderr",
     "output_type": "stream",
     "text": [
      "[I 2024-09-17 19:59:41,182] Trial 11 finished with value: 0.7224164170653202 and parameters: {'age_weight': 0.9483455029175302, 'gender_weight': 0.9847872550276969, 'height_weight': 0.25918188079484594, 'weight_weight': 0.9413647654621261, 'ap_hi_weight': 0.7721785995546898, 'ap_lo_weight': 0.6280086445461021, 'cholesterol_weight': 0.99871830986476, 'gluc_weight': 0.7065626097421904, 'smoke_weight': 0.008789378911421508, 'alco_weight': 0.9969403109273474, 'active_weight': 0.9063951094962486}. Best is trial 10 with value: 0.7268662132100591.\n"
     ]
    },
    {
     "name": "stdout",
     "output_type": "stream",
     "text": [
      "Running Java anonymization for trial 12 with k=10...\n",
      "Running Java code with k=10...\n",
      "Anonymization successful for k = 10, l = 2\n",
      "Execution successful!\n",
      "Gesamte Ausführung hat 0 Stunden, 0 Minuten, und 32.35 Sekunden gedauert.\n",
      "Anonymization completed for k=10. Output saved to C:/Users/leesh/Desktop/BA/Notebooks/weight_optimization/anonymized_trial_12_k10.csv.\n",
      "Running Java anonymization for trial 12 with k=20...\n",
      "Running Java code with k=20...\n",
      "Anonymization successful for k = 20, l = 2\n",
      "Execution successful!\n",
      "Gesamte Ausführung hat 0 Stunden, 0 Minuten, und 32.80 Sekunden gedauert.\n",
      "Anonymization completed for k=20. Output saved to C:/Users/leesh/Desktop/BA/Notebooks/weight_optimization/anonymized_trial_12_k20.csv.\n",
      "All anonymization processes completed.\n"
     ]
    },
    {
     "name": "stderr",
     "output_type": "stream",
     "text": [
      "[I 2024-09-17 20:00:58,337] Trial 12 finished with value: 0.7162767871748732 and parameters: {'age_weight': 0.6333452201722052, 'gender_weight': 0.7499412232456334, 'height_weight': 0.5924866833578255, 'weight_weight': 0.6198561023800594, 'ap_hi_weight': 0.6395027113936456, 'ap_lo_weight': 0.6135673518652226, 'cholesterol_weight': 0.7898163754243802, 'gluc_weight': 0.6968275106973738, 'smoke_weight': 0.04891854628378992, 'alco_weight': 0.7895527426934823, 'active_weight': 0.7537823063373251}. Best is trial 10 with value: 0.7268662132100591.\n"
     ]
    },
    {
     "name": "stdout",
     "output_type": "stream",
     "text": [
      "Running Java anonymization for trial 13 with k=10...\n",
      "Running Java code with k=10...\n",
      "Anonymization successful for k = 10, l = 2\n",
      "Execution successful!\n",
      "Gesamte Ausführung hat 0 Stunden, 0 Minuten, und 32.76 Sekunden gedauert.\n",
      "Anonymization completed for k=10. Output saved to C:/Users/leesh/Desktop/BA/Notebooks/weight_optimization/anonymized_trial_13_k10.csv.\n",
      "Running Java anonymization for trial 13 with k=20...\n",
      "Running Java code with k=20...\n",
      "Anonymization successful for k = 20, l = 2\n",
      "Execution successful!\n",
      "Gesamte Ausführung hat 0 Stunden, 0 Minuten, und 32.50 Sekunden gedauert.\n",
      "Anonymization completed for k=20. Output saved to C:/Users/leesh/Desktop/BA/Notebooks/weight_optimization/anonymized_trial_13_k20.csv.\n",
      "All anonymization processes completed.\n"
     ]
    },
    {
     "name": "stderr",
     "output_type": "stream",
     "text": [
      "[I 2024-09-17 20:02:14,727] Trial 13 finished with value: 0.7228110896949296 and parameters: {'age_weight': 0.9911590898316377, 'gender_weight': 0.9998411880999604, 'height_weight': 0.2341067947325055, 'weight_weight': 0.9982149912983976, 'ap_hi_weight': 0.027299001589792926, 'ap_lo_weight': 0.6358415059346589, 'cholesterol_weight': 0.8023281944939231, 'gluc_weight': 0.9881857004852606, 'smoke_weight': 0.9989557061263092, 'alco_weight': 0.826490577387856, 'active_weight': 0.11440190147150842}. Best is trial 10 with value: 0.7268662132100591.\n"
     ]
    },
    {
     "name": "stdout",
     "output_type": "stream",
     "text": [
      "Running Java anonymization for trial 14 with k=10...\n",
      "Running Java code with k=10...\n",
      "Anonymization successful for k = 10, l = 2\n",
      "Execution successful!\n",
      "Gesamte Ausführung hat 0 Stunden, 0 Minuten, und 33.31 Sekunden gedauert.\n",
      "Anonymization completed for k=10. Output saved to C:/Users/leesh/Desktop/BA/Notebooks/weight_optimization/anonymized_trial_14_k10.csv.\n",
      "Running Java anonymization for trial 14 with k=20...\n",
      "Running Java code with k=20...\n",
      "Anonymization successful for k = 20, l = 2\n",
      "Execution successful!\n",
      "Gesamte Ausführung hat 0 Stunden, 0 Minuten, und 33.17 Sekunden gedauert.\n",
      "Anonymization completed for k=20. Output saved to C:/Users/leesh/Desktop/BA/Notebooks/weight_optimization/anonymized_trial_14_k20.csv.\n",
      "All anonymization processes completed.\n"
     ]
    },
    {
     "name": "stderr",
     "output_type": "stream",
     "text": [
      "[I 2024-09-17 20:03:34,189] Trial 14 finished with value: 0.7110798984712103 and parameters: {'age_weight': 0.9546293365936455, 'gender_weight': 0.014890389191592135, 'height_weight': 0.2878332855495517, 'weight_weight': 0.975902363409823, 'ap_hi_weight': 0.7938534531961543, 'ap_lo_weight': 0.7229687602320382, 'cholesterol_weight': 0.780006767361862, 'gluc_weight': 0.5225920981158467, 'smoke_weight': 0.9725716716979498, 'alco_weight': 0.7496500154766865, 'active_weight': 0.4306752467931986}. Best is trial 10 with value: 0.7268662132100591.\n"
     ]
    },
    {
     "name": "stdout",
     "output_type": "stream",
     "text": [
      "Running Java anonymization for trial 15 with k=10...\n",
      "Running Java code with k=10...\n",
      "Anonymization successful for k = 10, l = 2\n",
      "Execution successful!\n",
      "Gesamte Ausführung hat 0 Stunden, 0 Minuten, und 33.01 Sekunden gedauert.\n",
      "Anonymization completed for k=10. Output saved to C:/Users/leesh/Desktop/BA/Notebooks/weight_optimization/anonymized_trial_15_k10.csv.\n",
      "Running Java anonymization for trial 15 with k=20...\n",
      "Running Java code with k=20...\n",
      "Anonymization successful for k = 20, l = 2\n",
      "Execution successful!\n",
      "Gesamte Ausführung hat 0 Stunden, 0 Minuten, und 33.10 Sekunden gedauert.\n",
      "Anonymization completed for k=20. Output saved to C:/Users/leesh/Desktop/BA/Notebooks/weight_optimization/anonymized_trial_15_k20.csv.\n",
      "All anonymization processes completed.\n"
     ]
    },
    {
     "name": "stderr",
     "output_type": "stream",
     "text": [
      "[I 2024-09-17 20:04:52,801] Trial 15 finished with value: 0.7193957115452366 and parameters: {'age_weight': 0.8264405517558302, 'gender_weight': 0.6668428688336786, 'height_weight': 0.5687563295952662, 'weight_weight': 0.875937949558899, 'ap_hi_weight': 0.01284923829317075, 'ap_lo_weight': 0.7194296967381304, 'cholesterol_weight': 0.8060467348464568, 'gluc_weight': 0.5625604256300822, 'smoke_weight': 0.7710322099150366, 'alco_weight': 0.8237068619981304, 'active_weight': 0.7401825608277555}. Best is trial 10 with value: 0.7268662132100591.\n"
     ]
    },
    {
     "name": "stdout",
     "output_type": "stream",
     "text": [
      "Running Java anonymization for trial 16 with k=10...\n",
      "Running Java code with k=10...\n",
      "Anonymization successful for k = 10, l = 2\n",
      "Execution successful!\n",
      "Gesamte Ausführung hat 0 Stunden, 0 Minuten, und 33.54 Sekunden gedauert.\n",
      "Anonymization completed for k=10. Output saved to C:/Users/leesh/Desktop/BA/Notebooks/weight_optimization/anonymized_trial_16_k10.csv.\n",
      "Running Java anonymization for trial 16 with k=20...\n",
      "Running Java code with k=20...\n",
      "Anonymization successful for k = 20, l = 2\n",
      "Execution successful!\n",
      "Gesamte Ausführung hat 0 Stunden, 0 Minuten, und 33.33 Sekunden gedauert.\n",
      "Anonymization completed for k=20. Output saved to C:/Users/leesh/Desktop/BA/Notebooks/weight_optimization/anonymized_trial_16_k20.csv.\n",
      "All anonymization processes completed.\n"
     ]
    },
    {
     "name": "stderr",
     "output_type": "stream",
     "text": [
      "[I 2024-09-17 20:06:11,553] Trial 16 finished with value: 0.7197958004345094 and parameters: {'age_weight': 0.9731363037764046, 'gender_weight': 0.8844824708424706, 'height_weight': 0.2625466491802976, 'weight_weight': 0.849427587763366, 'ap_hi_weight': 0.5484136139637236, 'ap_lo_weight': 0.436858116972214, 'cholesterol_weight': 0.663933576005763, 'gluc_weight': 0.7889130512244839, 'smoke_weight': 0.18275185966051355, 'alco_weight': 0.6218531637436286, 'active_weight': 0.9860561434053094}. Best is trial 10 with value: 0.7268662132100591.\n"
     ]
    },
    {
     "name": "stdout",
     "output_type": "stream",
     "text": [
      "Running Java anonymization for trial 17 with k=10...\n",
      "Running Java code with k=10...\n",
      "Anonymization successful for k = 10, l = 2\n",
      "Execution successful!\n",
      "Gesamte Ausführung hat 0 Stunden, 0 Minuten, und 32.98 Sekunden gedauert.\n",
      "Anonymization completed for k=10. Output saved to C:/Users/leesh/Desktop/BA/Notebooks/weight_optimization/anonymized_trial_17_k10.csv.\n",
      "Running Java anonymization for trial 17 with k=20...\n",
      "Running Java code with k=20...\n",
      "Anonymization successful for k = 20, l = 2\n",
      "Execution successful!\n",
      "Gesamte Ausführung hat 0 Stunden, 0 Minuten, und 33.41 Sekunden gedauert.\n",
      "Anonymization completed for k=20. Output saved to C:/Users/leesh/Desktop/BA/Notebooks/weight_optimization/anonymized_trial_17_k20.csv.\n",
      "All anonymization processes completed.\n"
     ]
    },
    {
     "name": "stderr",
     "output_type": "stream",
     "text": [
      "[I 2024-09-17 20:07:28,963] Trial 17 finished with value: 0.6844966818581594 and parameters: {'age_weight': 0.028104654444695787, 'gender_weight': 0.787755996719435, 'height_weight': 0.4047385321385009, 'weight_weight': 0.5107333437457704, 'ap_hi_weight': 0.2747558518454113, 'ap_lo_weight': 0.2144589545148372, 'cholesterol_weight': 0.8620592527512594, 'gluc_weight': 0.963556599856762, 'smoke_weight': 0.9853965933432658, 'alco_weight': 0.860324866811276, 'active_weight': 0.15705698016789144}. Best is trial 10 with value: 0.7268662132100591.\n"
     ]
    },
    {
     "name": "stdout",
     "output_type": "stream",
     "text": [
      "Running Java anonymization for trial 18 with k=10...\n",
      "Running Java code with k=10...\n",
      "Anonymization successful for k = 10, l = 2\n",
      "Execution successful!\n",
      "Gesamte Ausführung hat 0 Stunden, 0 Minuten, und 33.11 Sekunden gedauert.\n",
      "Anonymization completed for k=10. Output saved to C:/Users/leesh/Desktop/BA/Notebooks/weight_optimization/anonymized_trial_18_k10.csv.\n",
      "Running Java anonymization for trial 18 with k=20...\n",
      "Running Java code with k=20...\n",
      "Anonymization successful for k = 20, l = 2\n",
      "Execution successful!\n",
      "Gesamte Ausführung hat 0 Stunden, 0 Minuten, und 33.36 Sekunden gedauert.\n",
      "Anonymization completed for k=20. Output saved to C:/Users/leesh/Desktop/BA/Notebooks/weight_optimization/anonymized_trial_18_k20.csv.\n",
      "All anonymization processes completed.\n"
     ]
    },
    {
     "name": "stderr",
     "output_type": "stream",
     "text": [
      "[I 2024-09-17 20:08:47,484] Trial 18 finished with value: 0.716164418552822 and parameters: {'age_weight': 0.85736285633416, 'gender_weight': 0.5691409669389726, 'height_weight': 0.6958785218319887, 'weight_weight': 0.8428784718162057, 'ap_hi_weight': 0.7555598067527989, 'ap_lo_weight': 0.6978517797772231, 'cholesterol_weight': 0.7074715396503837, 'gluc_weight': 0.9924047173294098, 'smoke_weight': 0.6657209402723626, 'alco_weight': 0.6628695395263228, 'active_weight': 0.009217212864357865}. Best is trial 10 with value: 0.7268662132100591.\n"
     ]
    },
    {
     "name": "stdout",
     "output_type": "stream",
     "text": [
      "Running Java anonymization for trial 19 with k=10...\n",
      "Running Java code with k=10...\n",
      "Anonymization successful for k = 10, l = 2\n",
      "Execution successful!\n",
      "Gesamte Ausführung hat 0 Stunden, 0 Minuten, und 33.11 Sekunden gedauert.\n",
      "Anonymization completed for k=10. Output saved to C:/Users/leesh/Desktop/BA/Notebooks/weight_optimization/anonymized_trial_19_k10.csv.\n",
      "Running Java anonymization for trial 19 with k=20...\n",
      "Running Java code with k=20...\n",
      "Anonymization successful for k = 20, l = 2\n",
      "Execution successful!\n",
      "Gesamte Ausführung hat 0 Stunden, 0 Minuten, und 33.29 Sekunden gedauert.\n",
      "Anonymization completed for k=20. Output saved to C:/Users/leesh/Desktop/BA/Notebooks/weight_optimization/anonymized_trial_19_k20.csv.\n",
      "All anonymization processes completed.\n"
     ]
    },
    {
     "name": "stderr",
     "output_type": "stream",
     "text": [
      "[I 2024-09-17 20:10:04,783] Trial 19 finished with value: 0.7228389444949954 and parameters: {'age_weight': 0.44737122742909885, 'gender_weight': 0.9976419180423782, 'height_weight': 0.17295507265667848, 'weight_weight': 0.2750292483462375, 'ap_hi_weight': 0.8630994500946563, 'ap_lo_weight': 0.5049725363545962, 'cholesterol_weight': 0.8603483302545029, 'gluc_weight': 0.7995318671836538, 'smoke_weight': 0.15489727438196998, 'alco_weight': 0.8943299964537731, 'active_weight': 0.4783644248813377}. Best is trial 10 with value: 0.7268662132100591.\n"
     ]
    },
    {
     "name": "stdout",
     "output_type": "stream",
     "text": [
      "Running Java anonymization for trial 20 with k=10...\n",
      "Running Java code with k=10...\n",
      "Anonymization successful for k = 10, l = 2\n",
      "Execution successful!\n",
      "Gesamte Ausführung hat 0 Stunden, 0 Minuten, und 33.27 Sekunden gedauert.\n",
      "Anonymization completed for k=10. Output saved to C:/Users/leesh/Desktop/BA/Notebooks/weight_optimization/anonymized_trial_20_k10.csv.\n",
      "Running Java anonymization for trial 20 with k=20...\n",
      "Running Java code with k=20...\n",
      "Anonymization successful for k = 20, l = 2\n",
      "Execution successful!\n",
      "Gesamte Ausführung hat 0 Stunden, 0 Minuten, und 33.29 Sekunden gedauert.\n",
      "Anonymization completed for k=20. Output saved to C:/Users/leesh/Desktop/BA/Notebooks/weight_optimization/anonymized_trial_20_k20.csv.\n",
      "All anonymization processes completed.\n"
     ]
    },
    {
     "name": "stderr",
     "output_type": "stream",
     "text": [
      "[I 2024-09-17 20:11:22,929] Trial 20 finished with value: 0.6870075881018337 and parameters: {'age_weight': 0.45061751810122397, 'gender_weight': 0.727398018042031, 'height_weight': 0.15766678500686104, 'weight_weight': 0.27099336229044063, 'ap_hi_weight': 0.8828517235750856, 'ap_lo_weight': 0.2458027199726791, 'cholesterol_weight': 0.8827294102500409, 'gluc_weight': 0.6109258481893629, 'smoke_weight': 0.10945950425319706, 'alco_weight': 0.9103181245675028, 'active_weight': 0.46268939308076873}. Best is trial 10 with value: 0.7268662132100591.\n"
     ]
    },
    {
     "name": "stdout",
     "output_type": "stream",
     "text": [
      "Running Java anonymization for trial 21 with k=10...\n",
      "Running Java code with k=10...\n",
      "Anonymization successful for k = 10, l = 2\n",
      "Execution successful!\n",
      "Gesamte Ausführung hat 0 Stunden, 0 Minuten, und 32.97 Sekunden gedauert.\n",
      "Anonymization completed for k=10. Output saved to C:/Users/leesh/Desktop/BA/Notebooks/weight_optimization/anonymized_trial_21_k10.csv.\n",
      "Running Java anonymization for trial 21 with k=20...\n",
      "Running Java code with k=20...\n",
      "Anonymization successful for k = 20, l = 2\n",
      "Execution successful!\n",
      "Gesamte Ausführung hat 0 Stunden, 0 Minuten, und 33.25 Sekunden gedauert.\n",
      "Anonymization completed for k=20. Output saved to C:/Users/leesh/Desktop/BA/Notebooks/weight_optimization/anonymized_trial_21_k20.csv.\n",
      "All anonymization processes completed.\n"
     ]
    },
    {
     "name": "stderr",
     "output_type": "stream",
     "text": [
      "[I 2024-09-17 20:12:40,430] Trial 21 finished with value: 0.7227632330152517 and parameters: {'age_weight': 0.4842603990345166, 'gender_weight': 0.9999377612747439, 'height_weight': 0.30819827646384623, 'weight_weight': 0.05629847709424676, 'ap_hi_weight': 0.6967912230583009, 'ap_lo_weight': 0.4784659473725692, 'cholesterol_weight': 0.8974079670616183, 'gluc_weight': 0.7661667754442287, 'smoke_weight': 0.15482978938859604, 'alco_weight': 0.8749957669796402, 'active_weight': 0.6902923443096872}. Best is trial 10 with value: 0.7268662132100591.\n"
     ]
    },
    {
     "name": "stdout",
     "output_type": "stream",
     "text": [
      "Running Java anonymization for trial 22 with k=10...\n",
      "Running Java code with k=10...\n",
      "Anonymization successful for k = 10, l = 2\n",
      "Execution successful!\n",
      "Gesamte Ausführung hat 0 Stunden, 0 Minuten, und 33.06 Sekunden gedauert.\n",
      "Anonymization completed for k=10. Output saved to C:/Users/leesh/Desktop/BA/Notebooks/weight_optimization/anonymized_trial_22_k10.csv.\n",
      "Running Java anonymization for trial 22 with k=20...\n",
      "Running Java code with k=20...\n",
      "Anonymization successful for k = 20, l = 2\n",
      "Execution successful!\n",
      "Gesamte Ausführung hat 0 Stunden, 0 Minuten, und 33.30 Sekunden gedauert.\n",
      "Anonymization completed for k=20. Output saved to C:/Users/leesh/Desktop/BA/Notebooks/weight_optimization/anonymized_trial_22_k20.csv.\n",
      "All anonymization processes completed.\n"
     ]
    },
    {
     "name": "stderr",
     "output_type": "stream",
     "text": [
      "[I 2024-09-17 20:13:59,643] Trial 22 finished with value: 0.721018794200528 and parameters: {'age_weight': 0.7840495886498464, 'gender_weight': 0.8854588884502267, 'height_weight': 0.0019350231031949328, 'weight_weight': 0.30140272469407176, 'ap_hi_weight': 0.8881622276527202, 'ap_lo_weight': 0.6118301844917409, 'cholesterol_weight': 0.6689815909404466, 'gluc_weight': 0.8034776946291362, 'smoke_weight': 0.2834832239360323, 'alco_weight': 0.05051510652751556, 'active_weight': 0.5586546934866933}. Best is trial 10 with value: 0.7268662132100591.\n"
     ]
    },
    {
     "name": "stdout",
     "output_type": "stream",
     "text": [
      "Running Java anonymization for trial 23 with k=10...\n",
      "Running Java code with k=10...\n",
      "Anonymization successful for k = 10, l = 2\n",
      "Execution successful!\n",
      "Gesamte Ausführung hat 0 Stunden, 0 Minuten, und 32.98 Sekunden gedauert.\n",
      "Anonymization completed for k=10. Output saved to C:/Users/leesh/Desktop/BA/Notebooks/weight_optimization/anonymized_trial_23_k10.csv.\n",
      "Running Java anonymization for trial 23 with k=20...\n",
      "Running Java code with k=20...\n",
      "Anonymization successful for k = 20, l = 2\n",
      "Execution successful!\n",
      "Gesamte Ausführung hat 0 Stunden, 0 Minuten, und 33.00 Sekunden gedauert.\n",
      "Anonymization completed for k=20. Output saved to C:/Users/leesh/Desktop/BA/Notebooks/weight_optimization/anonymized_trial_23_k20.csv.\n",
      "All anonymization processes completed.\n"
     ]
    },
    {
     "name": "stderr",
     "output_type": "stream",
     "text": [
      "[I 2024-09-17 20:15:18,212] Trial 23 finished with value: 0.7267947207081938 and parameters: {'age_weight': 0.9036224838102198, 'gender_weight': 0.8284846540170815, 'height_weight': 0.1929263920860732, 'weight_weight': 0.5231961520241649, 'ap_hi_weight': 0.5360398973916544, 'ap_lo_weight': 0.5344623681555313, 'cholesterol_weight': 0.9089162913876675, 'gluc_weight': 0.4405668567109024, 'smoke_weight': 0.0828674639115627, 'alco_weight': 0.882865237357399, 'active_weight': 0.8120288033408267}. Best is trial 10 with value: 0.7268662132100591.\n"
     ]
    },
    {
     "name": "stdout",
     "output_type": "stream",
     "text": [
      "Running Java anonymization for trial 24 with k=10...\n",
      "Running Java code with k=10...\n",
      "Anonymization successful for k = 10, l = 2\n",
      "Execution successful!\n",
      "Gesamte Ausführung hat 0 Stunden, 0 Minuten, und 33.26 Sekunden gedauert.\n",
      "Anonymization completed for k=10. Output saved to C:/Users/leesh/Desktop/BA/Notebooks/weight_optimization/anonymized_trial_24_k10.csv.\n",
      "Running Java anonymization for trial 24 with k=20...\n",
      "Running Java code with k=20...\n",
      "Anonymization successful for k = 20, l = 2\n",
      "Execution successful!\n",
      "Gesamte Ausführung hat 0 Stunden, 0 Minuten, und 32.74 Sekunden gedauert.\n",
      "Anonymization completed for k=20. Output saved to C:/Users/leesh/Desktop/BA/Notebooks/weight_optimization/anonymized_trial_24_k20.csv.\n",
      "All anonymization processes completed.\n"
     ]
    },
    {
     "name": "stderr",
     "output_type": "stream",
     "text": [
      "[I 2024-09-17 20:16:36,109] Trial 24 finished with value: 0.6952475874840626 and parameters: {'age_weight': 0.5778543107625154, 'gender_weight': 0.7896405638040779, 'height_weight': 0.1811538208176413, 'weight_weight': 0.4853196984140125, 'ap_hi_weight': 0.5369202397152003, 'ap_lo_weight': 0.33300135902321926, 'cholesterol_weight': 0.9077668365849368, 'gluc_weight': 0.6012942377082098, 'smoke_weight': 0.09068583348368797, 'alco_weight': 0.9108670890218689, 'active_weight': 0.814810263170642}. Best is trial 10 with value: 0.7268662132100591.\n"
     ]
    },
    {
     "name": "stdout",
     "output_type": "stream",
     "text": [
      "Running Java anonymization for trial 25 with k=10...\n",
      "Running Java code with k=10...\n",
      "Anonymization successful for k = 10, l = 2\n",
      "Execution successful!\n",
      "Gesamte Ausführung hat 0 Stunden, 0 Minuten, und 33.41 Sekunden gedauert.\n",
      "Anonymization completed for k=10. Output saved to C:/Users/leesh/Desktop/BA/Notebooks/weight_optimization/anonymized_trial_25_k10.csv.\n",
      "Running Java anonymization for trial 25 with k=20...\n",
      "Running Java code with k=20...\n",
      "Anonymization successful for k = 20, l = 2\n",
      "Execution successful!\n",
      "Gesamte Ausführung hat 0 Stunden, 0 Minuten, und 33.37 Sekunden gedauert.\n",
      "Anonymization completed for k=20. Output saved to C:/Users/leesh/Desktop/BA/Notebooks/weight_optimization/anonymized_trial_25_k20.csv.\n",
      "All anonymization processes completed.\n"
     ]
    },
    {
     "name": "stderr",
     "output_type": "stream",
     "text": [
      "[I 2024-09-17 20:17:55,038] Trial 25 finished with value: 0.7230794086759834 and parameters: {'age_weight': 0.42407359637537434, 'gender_weight': 0.8620895615657489, 'height_weight': 0.4822171129330338, 'weight_weight': 0.00517346435291427, 'ap_hi_weight': 0.6713960862007562, 'ap_lo_weight': 0.5334210128289675, 'cholesterol_weight': 0.7225952325287341, 'gluc_weight': 0.43550016945011005, 'smoke_weight': 0.19353479415618582, 'alco_weight': 0.6139109442614654, 'active_weight': 0.956830173011672}. Best is trial 10 with value: 0.7268662132100591.\n"
     ]
    },
    {
     "name": "stdout",
     "output_type": "stream",
     "text": [
      "Running Java anonymization for trial 26 with k=10...\n",
      "Running Java code with k=10...\n",
      "Anonymization successful for k = 10, l = 2\n",
      "Execution successful!\n",
      "Gesamte Ausführung hat 0 Stunden, 0 Minuten, und 34.07 Sekunden gedauert.\n",
      "Anonymization completed for k=10. Output saved to C:/Users/leesh/Desktop/BA/Notebooks/weight_optimization/anonymized_trial_26_k10.csv.\n",
      "Running Java anonymization for trial 26 with k=20...\n",
      "Running Java code with k=20...\n",
      "Anonymization successful for k = 20, l = 2\n",
      "Execution successful!\n",
      "Gesamte Ausführung hat 0 Stunden, 0 Minuten, und 33.50 Sekunden gedauert.\n",
      "Anonymization completed for k=20. Output saved to C:/Users/leesh/Desktop/BA/Notebooks/weight_optimization/anonymized_trial_26_k20.csv.\n",
      "All anonymization processes completed.\n"
     ]
    },
    {
     "name": "stderr",
     "output_type": "stream",
     "text": [
      "[I 2024-09-17 20:19:16,248] Trial 26 finished with value: 0.7208308914427899 and parameters: {'age_weight': 0.8812966381254108, 'gender_weight': 0.5166383999435537, 'height_weight': 0.4823110198197815, 'weight_weight': 0.14624335243069134, 'ap_hi_weight': 0.6523696887914481, 'ap_lo_weight': 0.5549432705842212, 'cholesterol_weight': 0.5631972723068808, 'gluc_weight': 0.4522697323172308, 'smoke_weight': 0.022760264930904085, 'alco_weight': 0.5026999822542795, 'active_weight': 0.96849969363428}. Best is trial 10 with value: 0.7268662132100591.\n"
     ]
    },
    {
     "name": "stdout",
     "output_type": "stream",
     "text": [
      "Running Java anonymization for trial 27 with k=10...\n",
      "Running Java code with k=10...\n",
      "Anonymization successful for k = 10, l = 2\n",
      "Execution successful!\n",
      "Gesamte Ausführung hat 0 Stunden, 0 Minuten, und 33.35 Sekunden gedauert.\n",
      "Anonymization completed for k=10. Output saved to C:/Users/leesh/Desktop/BA/Notebooks/weight_optimization/anonymized_trial_27_k10.csv.\n",
      "Running Java anonymization for trial 27 with k=20...\n",
      "Running Java code with k=20...\n",
      "Anonymization successful for k = 20, l = 2\n",
      "Execution successful!\n",
      "Gesamte Ausführung hat 0 Stunden, 0 Minuten, und 32.97 Sekunden gedauert.\n",
      "Anonymization completed for k=20. Output saved to C:/Users/leesh/Desktop/BA/Notebooks/weight_optimization/anonymized_trial_27_k20.csv.\n",
      "All anonymization processes completed.\n"
     ]
    },
    {
     "name": "stderr",
     "output_type": "stream",
     "text": [
      "[I 2024-09-17 20:20:34,920] Trial 27 finished with value: 0.7230955650698764 and parameters: {'age_weight': 0.7182158170220052, 'gender_weight': 0.8613226102028031, 'height_weight': 0.35033599127951837, 'weight_weight': 0.001693538572426012, 'ap_hi_weight': 0.46142970447583675, 'ap_lo_weight': 0.7835303423464923, 'cholesterol_weight': 0.7125495705439109, 'gluc_weight': 0.44190682801598685, 'smoke_weight': 0.21790734604883627, 'alco_weight': 0.6900605331637526, 'active_weight': 0.8826597969748026}. Best is trial 10 with value: 0.7268662132100591.\n"
     ]
    },
    {
     "name": "stdout",
     "output_type": "stream",
     "text": [
      "Running Java anonymization for trial 28 with k=10...\n",
      "Running Java code with k=10...\n",
      "Anonymization successful for k = 10, l = 2\n",
      "Execution successful!\n",
      "Gesamte Ausführung hat 0 Stunden, 0 Minuten, und 33.41 Sekunden gedauert.\n",
      "Anonymization completed for k=10. Output saved to C:/Users/leesh/Desktop/BA/Notebooks/weight_optimization/anonymized_trial_28_k10.csv.\n",
      "Running Java anonymization for trial 28 with k=20...\n",
      "Running Java code with k=20...\n",
      "Anonymization successful for k = 20, l = 2\n",
      "Execution successful!\n",
      "Gesamte Ausführung hat 0 Stunden, 0 Minuten, und 33.94 Sekunden gedauert.\n",
      "Anonymization completed for k=20. Output saved to C:/Users/leesh/Desktop/BA/Notebooks/weight_optimization/anonymized_trial_28_k20.csv.\n",
      "All anonymization processes completed.\n"
     ]
    },
    {
     "name": "stderr",
     "output_type": "stream",
     "text": [
      "[I 2024-09-17 20:21:56,498] Trial 28 finished with value: 0.7202266203264159 and parameters: {'age_weight': 0.7540802293376053, 'gender_weight': 0.6242759588621221, 'height_weight': 0.38995567127810843, 'weight_weight': 0.5422265452682474, 'ap_hi_weight': 0.4974803432191498, 'ap_lo_weight': 0.8021230640242953, 'cholesterol_weight': 0.9329559557795215, 'gluc_weight': 0.20609191569410468, 'smoke_weight': 0.07643000779781972, 'alco_weight': 0.7695875379527168, 'active_weight': 0.867261006430827}. Best is trial 10 with value: 0.7268662132100591.\n"
     ]
    },
    {
     "name": "stdout",
     "output_type": "stream",
     "text": [
      "Running Java anonymization for trial 29 with k=10...\n",
      "Running Java code with k=10...\n",
      "Anonymization successful for k = 10, l = 2\n",
      "Execution successful!\n",
      "Gesamte Ausführung hat 0 Stunden, 0 Minuten, und 33.27 Sekunden gedauert.\n",
      "Anonymization completed for k=10. Output saved to C:/Users/leesh/Desktop/BA/Notebooks/weight_optimization/anonymized_trial_29_k10.csv.\n",
      "Running Java anonymization for trial 29 with k=20...\n",
      "Running Java code with k=20...\n",
      "Anonymization successful for k = 20, l = 2\n",
      "Execution successful!\n",
      "Gesamte Ausführung hat 0 Stunden, 0 Minuten, und 33.28 Sekunden gedauert.\n",
      "Anonymization completed for k=20. Output saved to C:/Users/leesh/Desktop/BA/Notebooks/weight_optimization/anonymized_trial_29_k20.csv.\n",
      "All anonymization processes completed.\n"
     ]
    },
    {
     "name": "stderr",
     "output_type": "stream",
     "text": [
      "[I 2024-09-17 20:23:14,703] Trial 29 finished with value: 0.7247806862475066 and parameters: {'age_weight': 0.9051818509033942, 'gender_weight': 0.706069818596593, 'height_weight': 0.30847675846458095, 'weight_weight': 0.6768111687077849, 'ap_hi_weight': 0.3622365686016209, 'ap_lo_weight': 0.8933513667838703, 'cholesterol_weight': 0.05492646474380414, 'gluc_weight': 0.39717123139475535, 'smoke_weight': 0.311597097291201, 'alco_weight': 0.7076046100608423, 'active_weight': 0.7950554905043221}. Best is trial 10 with value: 0.7268662132100591.\n"
     ]
    },
    {
     "name": "stdout",
     "output_type": "stream",
     "text": [
      "Running Java anonymization for trial 30 with k=10...\n",
      "Running Java code with k=10...\n",
      "Anonymization successful for k = 10, l = 2\n",
      "Execution successful!\n",
      "Gesamte Ausführung hat 0 Stunden, 0 Minuten, und 33.39 Sekunden gedauert.\n",
      "Anonymization completed for k=10. Output saved to C:/Users/leesh/Desktop/BA/Notebooks/weight_optimization/anonymized_trial_30_k10.csv.\n",
      "Running Java anonymization for trial 30 with k=20...\n",
      "Running Java code with k=20...\n",
      "Anonymization successful for k = 20, l = 2\n",
      "Execution successful!\n",
      "Gesamte Ausführung hat 0 Stunden, 0 Minuten, und 33.91 Sekunden gedauert.\n",
      "Anonymization completed for k=20. Output saved to C:/Users/leesh/Desktop/BA/Notebooks/weight_optimization/anonymized_trial_30_k20.csv.\n",
      "All anonymization processes completed.\n"
     ]
    },
    {
     "name": "stderr",
     "output_type": "stream",
     "text": [
      "[I 2024-09-17 20:24:33,952] Trial 30 finished with value: 0.7241965215997436 and parameters: {'age_weight': 0.894736526699183, 'gender_weight': 0.7129215570029291, 'height_weight': 0.21539746416183558, 'weight_weight': 0.6763066542008226, 'ap_hi_weight': 0.31860627901263394, 'ap_lo_weight': 0.9202333823620952, 'cholesterol_weight': 0.0012574421949980152, 'gluc_weight': 0.16387088295927138, 'smoke_weight': 0.3331777140377564, 'alco_weight': 0.9952755810633304, 'active_weight': 0.754727052986906}. Best is trial 10 with value: 0.7268662132100591.\n"
     ]
    },
    {
     "name": "stdout",
     "output_type": "stream",
     "text": [
      "Running Java anonymization for trial 31 with k=10...\n",
      "Running Java code with k=10...\n",
      "Anonymization successful for k = 10, l = 2\n",
      "Execution successful!\n",
      "Gesamte Ausführung hat 0 Stunden, 0 Minuten, und 33.09 Sekunden gedauert.\n",
      "Anonymization completed for k=10. Output saved to C:/Users/leesh/Desktop/BA/Notebooks/weight_optimization/anonymized_trial_31_k10.csv.\n",
      "Running Java anonymization for trial 31 with k=20...\n",
      "Running Java code with k=20...\n",
      "Anonymization successful for k = 20, l = 2\n",
      "Execution successful!\n",
      "Gesamte Ausführung hat 0 Stunden, 0 Minuten, und 33.35 Sekunden gedauert.\n",
      "Anonymization completed for k=20. Output saved to C:/Users/leesh/Desktop/BA/Notebooks/weight_optimization/anonymized_trial_31_k20.csv.\n",
      "All anonymization processes completed.\n"
     ]
    },
    {
     "name": "stderr",
     "output_type": "stream",
     "text": [
      "[I 2024-09-17 20:25:52,953] Trial 31 finished with value: 0.7244842718520059 and parameters: {'age_weight': 0.9137214985303502, 'gender_weight': 0.7038780844716984, 'height_weight': 0.0924670621600622, 'weight_weight': 0.6745191420093316, 'ap_hi_weight': 0.33811563565345387, 'ap_lo_weight': 0.9077727549144204, 'cholesterol_weight': 0.01660525925212518, 'gluc_weight': 0.13498793197475603, 'smoke_weight': 0.34249877088723774, 'alco_weight': 0.936581760806745, 'active_weight': 0.7706395658909546}. Best is trial 10 with value: 0.7268662132100591.\n"
     ]
    },
    {
     "name": "stdout",
     "output_type": "stream",
     "text": [
      "Running Java anonymization for trial 32 with k=10...\n",
      "Running Java code with k=10...\n",
      "Anonymization successful for k = 10, l = 2\n",
      "Execution successful!\n",
      "Gesamte Ausführung hat 0 Stunden, 0 Minuten, und 33.07 Sekunden gedauert.\n",
      "Anonymization completed for k=10. Output saved to C:/Users/leesh/Desktop/BA/Notebooks/weight_optimization/anonymized_trial_32_k10.csv.\n",
      "Running Java anonymization for trial 32 with k=20...\n",
      "Running Java code with k=20...\n",
      "Anonymization successful for k = 20, l = 2\n",
      "Execution successful!\n",
      "Gesamte Ausführung hat 0 Stunden, 0 Minuten, und 33.15 Sekunden gedauert.\n",
      "Anonymization completed for k=20. Output saved to C:/Users/leesh/Desktop/BA/Notebooks/weight_optimization/anonymized_trial_32_k20.csv.\n",
      "All anonymization processes completed.\n"
     ]
    },
    {
     "name": "stderr",
     "output_type": "stream",
     "text": [
      "[I 2024-09-17 20:27:11,237] Trial 32 finished with value: 0.7249156652484023 and parameters: {'age_weight': 0.9059502482077646, 'gender_weight': 0.7767357002683073, 'height_weight': 0.08703185484745732, 'weight_weight': 0.5895522267122845, 'ap_hi_weight': 0.3688858548035305, 'ap_lo_weight': 0.8953781185216525, 'cholesterol_weight': 0.10262872409616076, 'gluc_weight': 0.3682332079547046, 'smoke_weight': 0.3997362041886987, 'alco_weight': 0.9236760673446034, 'active_weight': 0.7936799489207857}. Best is trial 10 with value: 0.7268662132100591.\n"
     ]
    },
    {
     "name": "stdout",
     "output_type": "stream",
     "text": [
      "Running Java anonymization for trial 33 with k=10...\n",
      "Running Java code with k=10...\n",
      "Anonymization successful for k = 10, l = 2\n",
      "Execution successful!\n",
      "Gesamte Ausführung hat 0 Stunden, 0 Minuten, und 32.98 Sekunden gedauert.\n",
      "Anonymization completed for k=10. Output saved to C:/Users/leesh/Desktop/BA/Notebooks/weight_optimization/anonymized_trial_33_k10.csv.\n",
      "Running Java anonymization for trial 33 with k=20...\n",
      "Running Java code with k=20...\n",
      "Anonymization successful for k = 20, l = 2\n",
      "Execution successful!\n",
      "Gesamte Ausführung hat 0 Stunden, 0 Minuten, und 33.07 Sekunden gedauert.\n",
      "Anonymization completed for k=20. Output saved to C:/Users/leesh/Desktop/BA/Notebooks/weight_optimization/anonymized_trial_33_k20.csv.\n",
      "All anonymization processes completed.\n"
     ]
    },
    {
     "name": "stderr",
     "output_type": "stream",
     "text": [
      "[I 2024-09-17 20:28:29,854] Trial 33 finished with value: 0.7229426803774484 and parameters: {'age_weight': 0.8013943724597344, 'gender_weight': 0.7988669812487783, 'height_weight': 0.09940947928013379, 'weight_weight': 0.4274592703724538, 'ap_hi_weight': 0.3563694817606037, 'ap_lo_weight': 0.9698149385023204, 'cholesterol_weight': 0.14411235576936965, 'gluc_weight': 0.40939774504455173, 'smoke_weight': 0.5423461362088913, 'alco_weight': 0.8140040173420345, 'active_weight': 0.6447894217235296}. Best is trial 10 with value: 0.7268662132100591.\n"
     ]
    },
    {
     "name": "stdout",
     "output_type": "stream",
     "text": [
      "Running Java anonymization for trial 34 with k=10...\n",
      "Running Java code with k=10...\n",
      "Anonymization successful for k = 10, l = 2\n",
      "Execution successful!\n",
      "Gesamte Ausführung hat 0 Stunden, 0 Minuten, und 33.81 Sekunden gedauert.\n",
      "Anonymization completed for k=10. Output saved to C:/Users/leesh/Desktop/BA/Notebooks/weight_optimization/anonymized_trial_34_k10.csv.\n",
      "Running Java anonymization for trial 34 with k=20...\n",
      "Running Java code with k=20...\n",
      "Anonymization successful for k = 20, l = 2\n",
      "Execution successful!\n",
      "Gesamte Ausführung hat 0 Stunden, 0 Minuten, und 33.52 Sekunden gedauert.\n",
      "Anonymization completed for k=20. Output saved to C:/Users/leesh/Desktop/BA/Notebooks/weight_optimization/anonymized_trial_34_k20.csv.\n",
      "All anonymization processes completed.\n"
     ]
    },
    {
     "name": "stderr",
     "output_type": "stream",
     "text": [
      "[I 2024-09-17 20:29:49,111] Trial 34 finished with value: 0.7248532407836548 and parameters: {'age_weight': 0.8298201028313514, 'gender_weight': 0.92159665080244, 'height_weight': 0.33464475159459794, 'weight_weight': 0.5742662018013737, 'ap_hi_weight': 0.22533876039045417, 'ap_lo_weight': 0.8830800690206961, 'cholesterol_weight': 0.10654935472986687, 'gluc_weight': 0.37257735858656676, 'smoke_weight': 0.4220131342826273, 'alco_weight': 0.741847332790804, 'active_weight': 0.9222372197462295}. Best is trial 10 with value: 0.7268662132100591.\n"
     ]
    },
    {
     "name": "stdout",
     "output_type": "stream",
     "text": [
      "Running Java anonymization for trial 35 with k=10...\n",
      "Running Java code with k=10...\n",
      "Anonymization successful for k = 10, l = 2\n",
      "Execution successful!\n",
      "Gesamte Ausführung hat 0 Stunden, 0 Minuten, und 33.30 Sekunden gedauert.\n",
      "Anonymization completed for k=10. Output saved to C:/Users/leesh/Desktop/BA/Notebooks/weight_optimization/anonymized_trial_35_k10.csv.\n",
      "Running Java anonymization for trial 35 with k=20...\n",
      "Running Java code with k=20...\n",
      "Anonymization successful for k = 20, l = 2\n",
      "Execution successful!\n",
      "Gesamte Ausführung hat 0 Stunden, 0 Minuten, und 33.16 Sekunden gedauert.\n",
      "Anonymization completed for k=20. Output saved to C:/Users/leesh/Desktop/BA/Notebooks/weight_optimization/anonymized_trial_35_k20.csv.\n",
      "All anonymization processes completed.\n"
     ]
    },
    {
     "name": "stderr",
     "output_type": "stream",
     "text": [
      "[I 2024-09-17 20:31:08,130] Trial 35 finished with value: 0.7247507920562554 and parameters: {'age_weight': 0.6789122104962216, 'gender_weight': 0.9326911749385911, 'height_weight': 0.0009023760143876403, 'weight_weight': 0.5943840485451497, 'ap_hi_weight': 0.19133702825021096, 'ap_lo_weight': 0.8665710634646172, 'cholesterol_weight': 0.16570605383773446, 'gluc_weight': 0.35599501240358683, 'smoke_weight': 0.388905722899703, 'alco_weight': 0.8579364231163379, 'active_weight': 0.9227834170166993}. Best is trial 10 with value: 0.7268662132100591.\n"
     ]
    },
    {
     "name": "stdout",
     "output_type": "stream",
     "text": [
      "Running Java anonymization for trial 36 with k=10...\n",
      "Running Java code with k=10...\n",
      "Anonymization successful for k = 10, l = 2\n",
      "Execution successful!\n",
      "Gesamte Ausführung hat 0 Stunden, 0 Minuten, und 33.01 Sekunden gedauert.\n",
      "Anonymization completed for k=10. Output saved to C:/Users/leesh/Desktop/BA/Notebooks/weight_optimization/anonymized_trial_36_k10.csv.\n",
      "Running Java anonymization for trial 36 with k=20...\n",
      "Running Java code with k=20...\n",
      "Anonymization successful for k = 20, l = 2\n",
      "Execution successful!\n",
      "Gesamte Ausführung hat 0 Stunden, 0 Minuten, und 32.96 Sekunden gedauert.\n",
      "Anonymization completed for k=20. Output saved to C:/Users/leesh/Desktop/BA/Notebooks/weight_optimization/anonymized_trial_36_k20.csv.\n",
      "All anonymization processes completed.\n"
     ]
    },
    {
     "name": "stderr",
     "output_type": "stream",
     "text": [
      "[I 2024-09-17 20:32:27,548] Trial 36 finished with value: 0.7264143457906848 and parameters: {'age_weight': 0.8375855270371855, 'gender_weight': 0.925492472591085, 'height_weight': 0.09257206295322525, 'weight_weight': 0.3519100095987767, 'ap_hi_weight': 0.5764246294440882, 'ap_lo_weight': 0.772201692310079, 'cholesterol_weight': 0.44319564584426924, 'gluc_weight': 0.5096920363055653, 'smoke_weight': 0.4383800110479654, 'alco_weight': 0.9303291123443606, 'active_weight': 0.9980325986354511}. Best is trial 10 with value: 0.7268662132100591.\n"
     ]
    },
    {
     "name": "stdout",
     "output_type": "stream",
     "text": [
      "Running Java anonymization for trial 37 with k=10...\n",
      "Running Java code with k=10...\n",
      "Anonymization successful for k = 10, l = 2\n",
      "Execution successful!\n",
      "Gesamte Ausführung hat 0 Stunden, 0 Minuten, und 33.39 Sekunden gedauert.\n",
      "Anonymization completed for k=10. Output saved to C:/Users/leesh/Desktop/BA/Notebooks/weight_optimization/anonymized_trial_37_k10.csv.\n",
      "Running Java anonymization for trial 37 with k=20...\n",
      "Running Java code with k=20...\n",
      "Anonymization successful for k = 20, l = 2\n",
      "Execution successful!\n",
      "Gesamte Ausführung hat 0 Stunden, 0 Minuten, und 33.14 Sekunden gedauert.\n",
      "Anonymization completed for k=20. Output saved to C:/Users/leesh/Desktop/BA/Notebooks/weight_optimization/anonymized_trial_37_k20.csv.\n",
      "All anonymization processes completed.\n"
     ]
    },
    {
     "name": "stderr",
     "output_type": "stream",
     "text": [
      "[I 2024-09-17 20:33:47,815] Trial 37 finished with value: 0.7267317305403476 and parameters: {'age_weight': 0.9960917593122107, 'gender_weight': 0.8182684788394115, 'height_weight': 0.07438487365051874, 'weight_weight': 0.366973539389703, 'ap_hi_weight': 0.5969400076566499, 'ap_lo_weight': 0.6862054629889127, 'cholesterol_weight': 0.43886837920409155, 'gluc_weight': 0.2550478645036762, 'smoke_weight': 0.596189654287937, 'alco_weight': 0.9341951623179183, 'active_weight': 0.8372973678460427}. Best is trial 10 with value: 0.7268662132100591.\n"
     ]
    },
    {
     "name": "stdout",
     "output_type": "stream",
     "text": [
      "Running Java anonymization for trial 38 with k=10...\n",
      "Running Java code with k=10...\n",
      "Anonymization successful for k = 10, l = 2\n",
      "Execution successful!\n",
      "Gesamte Ausführung hat 0 Stunden, 0 Minuten, und 33.10 Sekunden gedauert.\n",
      "Anonymization completed for k=10. Output saved to C:/Users/leesh/Desktop/BA/Notebooks/weight_optimization/anonymized_trial_38_k10.csv.\n",
      "Running Java anonymization for trial 38 with k=20...\n",
      "Running Java code with k=20...\n",
      "Anonymization successful for k = 20, l = 2\n",
      "Execution successful!\n",
      "Gesamte Ausführung hat 0 Stunden, 0 Minuten, und 33.23 Sekunden gedauert.\n",
      "Anonymization completed for k=20. Output saved to C:/Users/leesh/Desktop/BA/Notebooks/weight_optimization/anonymized_trial_38_k20.csv.\n",
      "All anonymization processes completed.\n"
     ]
    },
    {
     "name": "stderr",
     "output_type": "stream",
     "text": [
      "[I 2024-09-17 20:35:06,795] Trial 38 finished with value: 0.7232385017793213 and parameters: {'age_weight': 0.9840441789773404, 'gender_weight': 0.829974837591692, 'height_weight': 0.04326841943604616, 'weight_weight': 0.34286878833626644, 'ap_hi_weight': 0.5703399051386989, 'ap_lo_weight': 0.6905705622192105, 'cholesterol_weight': 0.4381374520954521, 'gluc_weight': 0.245229489847707, 'smoke_weight': 0.6305715760130175, 'alco_weight': 0.9456994133469846, 'active_weight': 0.8446809214422858}. Best is trial 10 with value: 0.7268662132100591.\n"
     ]
    },
    {
     "name": "stdout",
     "output_type": "stream",
     "text": [
      "Running Java anonymization for trial 39 with k=10...\n",
      "Running Java code with k=10...\n",
      "Anonymization successful for k = 10, l = 2\n",
      "Execution successful!\n",
      "Gesamte Ausführung hat 0 Stunden, 0 Minuten, und 32.99 Sekunden gedauert.\n",
      "Anonymization completed for k=10. Output saved to C:/Users/leesh/Desktop/BA/Notebooks/weight_optimization/anonymized_trial_39_k10.csv.\n",
      "Running Java anonymization for trial 39 with k=20...\n",
      "Running Java code with k=20...\n",
      "Anonymization successful for k = 20, l = 2\n",
      "Execution successful!\n",
      "Gesamte Ausführung hat 0 Stunden, 0 Minuten, und 32.85 Sekunden gedauert.\n",
      "Anonymization completed for k=20. Output saved to C:/Users/leesh/Desktop/BA/Notebooks/weight_optimization/anonymized_trial_39_k20.csv.\n",
      "All anonymization processes completed.\n"
     ]
    },
    {
     "name": "stderr",
     "output_type": "stream",
     "text": [
      "[I 2024-09-17 20:36:25,300] Trial 39 finished with value: 0.719411868263145 and parameters: {'age_weight': 0.9967983550473479, 'gender_weight': 0.6027191717137728, 'height_weight': 0.21403118519317213, 'weight_weight': 0.20141134551982762, 'ap_hi_weight': 0.5875574444266192, 'ap_lo_weight': 0.769129958999945, 'cholesterol_weight': 0.4116790494042324, 'gluc_weight': 0.5422164204710487, 'smoke_weight': 0.5785890515760823, 'alco_weight': 0.41556185409828955, 'active_weight': 0.9944958115601842}. Best is trial 10 with value: 0.7268662132100591.\n"
     ]
    },
    {
     "name": "stdout",
     "output_type": "stream",
     "text": [
      "Running Java anonymization for trial 40 with k=10...\n",
      "Running Java code with k=10...\n",
      "Anonymization successful for k = 10, l = 2\n",
      "Execution successful!\n",
      "Gesamte Ausführung hat 0 Stunden, 0 Minuten, und 32.79 Sekunden gedauert.\n",
      "Anonymization completed for k=10. Output saved to C:/Users/leesh/Desktop/BA/Notebooks/weight_optimization/anonymized_trial_40_k10.csv.\n",
      "Running Java anonymization for trial 40 with k=20...\n",
      "Running Java code with k=20...\n",
      "Anonymization successful for k = 20, l = 2\n",
      "Execution successful!\n",
      "Gesamte Ausführung hat 0 Stunden, 0 Minuten, und 32.89 Sekunden gedauert.\n",
      "Anonymization completed for k=20. Output saved to C:/Users/leesh/Desktop/BA/Notebooks/weight_optimization/anonymized_trial_40_k20.csv.\n",
      "All anonymization processes completed.\n"
     ]
    },
    {
     "name": "stderr",
     "output_type": "stream",
     "text": [
      "[I 2024-09-17 20:37:42,143] Trial 40 finished with value: 0.7146185566603889 and parameters: {'age_weight': 0.21111132199940075, 'gender_weight': 0.4240854213225972, 'height_weight': 0.11648799698476292, 'weight_weight': 0.4283252443742577, 'ap_hi_weight': 0.7188713786787009, 'ap_lo_weight': 0.3620733542790746, 'cholesterol_weight': 0.5365505973300393, 'gluc_weight': 0.49746353990178105, 'smoke_weight': 0.8399899439590841, 'alco_weight': 0.5787195465824354, 'active_weight': 0.6716560293938085}. Best is trial 10 with value: 0.7268662132100591.\n"
     ]
    },
    {
     "name": "stdout",
     "output_type": "stream",
     "text": [
      "Running Java anonymization for trial 41 with k=10...\n",
      "Running Java code with k=10...\n",
      "Anonymization successful for k = 10, l = 2\n",
      "Execution successful!\n",
      "Gesamte Ausführung hat 0 Stunden, 0 Minuten, und 32.73 Sekunden gedauert.\n",
      "Anonymization completed for k=10. Output saved to C:/Users/leesh/Desktop/BA/Notebooks/weight_optimization/anonymized_trial_41_k10.csv.\n",
      "Running Java anonymization for trial 41 with k=20...\n",
      "Running Java code with k=20...\n",
      "Anonymization successful for k = 20, l = 2\n",
      "Execution successful!\n",
      "Gesamte Ausführung hat 0 Stunden, 0 Minuten, und 32.72 Sekunden gedauert.\n",
      "Anonymization completed for k=20. Output saved to C:/Users/leesh/Desktop/BA/Notebooks/weight_optimization/anonymized_trial_41_k20.csv.\n",
      "All anonymization processes completed.\n"
     ]
    },
    {
     "name": "stderr",
     "output_type": "stream",
     "text": [
      "[I 2024-09-17 20:38:58,572] Trial 41 finished with value: 0.7249312719564396 and parameters: {'age_weight': 0.9259707735309053, 'gender_weight': 0.9356733131202248, 'height_weight': 0.0646428254543811, 'weight_weight': 0.35696473420245073, 'ap_hi_weight': 0.4612237912855783, 'ap_lo_weight': 0.6602623749845073, 'cholesterol_weight': 0.2573529714649107, 'gluc_weight': 0.28916817342068113, 'smoke_weight': 0.461611211699371, 'alco_weight': 0.9470142305947705, 'active_weight': 0.8313655571145917}. Best is trial 10 with value: 0.7268662132100591.\n"
     ]
    },
    {
     "name": "stdout",
     "output_type": "stream",
     "text": [
      "Running Java anonymization for trial 42 with k=10...\n",
      "Running Java code with k=10...\n",
      "Anonymization successful for k = 10, l = 2\n",
      "Execution successful!\n",
      "Gesamte Ausführung hat 0 Stunden, 0 Minuten, und 33.27 Sekunden gedauert.\n",
      "Anonymization completed for k=10. Output saved to C:/Users/leesh/Desktop/BA/Notebooks/weight_optimization/anonymized_trial_42_k10.csv.\n",
      "Running Java anonymization for trial 42 with k=20...\n",
      "Running Java code with k=20...\n",
      "Anonymization successful for k = 20, l = 2\n",
      "Execution successful!\n",
      "Gesamte Ausführung hat 0 Stunden, 0 Minuten, und 33.11 Sekunden gedauert.\n",
      "Anonymization completed for k=20. Output saved to C:/Users/leesh/Desktop/BA/Notebooks/weight_optimization/anonymized_trial_42_k20.csv.\n",
      "All anonymization processes completed.\n"
     ]
    },
    {
     "name": "stderr",
     "output_type": "stream",
     "text": [
      "[I 2024-09-17 20:40:17,081] Trial 42 finished with value: 0.7231593715783698 and parameters: {'age_weight': 0.8543192540660332, 'gender_weight': 0.932060207344797, 'height_weight': 0.0555429728942066, 'weight_weight': 0.3678149992729721, 'ap_hi_weight': 0.4388712901427722, 'ap_lo_weight': 0.5922136193827393, 'cholesterol_weight': 0.259300004022592, 'gluc_weight': 0.26387848666946534, 'smoke_weight': 0.4837759167319055, 'alco_weight': 0.9909601699008963, 'active_weight': 0.8360900476140504}. Best is trial 10 with value: 0.7268662132100591.\n"
     ]
    },
    {
     "name": "stdout",
     "output_type": "stream",
     "text": [
      "Running Java anonymization for trial 43 with k=10...\n",
      "Running Java code with k=10...\n",
      "Anonymization successful for k = 10, l = 2\n",
      "Execution successful!\n",
      "Gesamte Ausführung hat 0 Stunden, 0 Minuten, und 32.53 Sekunden gedauert.\n",
      "Anonymization completed for k=10. Output saved to C:/Users/leesh/Desktop/BA/Notebooks/weight_optimization/anonymized_trial_43_k10.csv.\n",
      "Running Java anonymization for trial 43 with k=20...\n",
      "Running Java code with k=20...\n",
      "Anonymization successful for k = 20, l = 2\n",
      "Execution successful!\n",
      "Gesamte Ausführung hat 0 Stunden, 0 Minuten, und 32.69 Sekunden gedauert.\n",
      "Anonymization completed for k=20. Output saved to C:/Users/leesh/Desktop/BA/Notebooks/weight_optimization/anonymized_trial_43_k20.csv.\n",
      "All anonymization processes completed.\n"
     ]
    },
    {
     "name": "stderr",
     "output_type": "stream",
     "text": [
      "[I 2024-09-17 20:41:33,280] Trial 43 finished with value: 0.7250317863954228 and parameters: {'age_weight': 0.9400626946087803, 'gender_weight': 0.937962826939323, 'height_weight': 0.13546750427076154, 'weight_weight': 0.4679018969617196, 'ap_hi_weight': 0.4861764940852505, 'ap_lo_weight': 0.6586874094303408, 'cholesterol_weight': 0.28046778291012353, 'gluc_weight': 0.31949018679896457, 'smoke_weight': 0.7241997752656972, 'alco_weight': 0.9409946729176086, 'active_weight': 0.91327093407597}. Best is trial 10 with value: 0.7268662132100591.\n"
     ]
    },
    {
     "name": "stdout",
     "output_type": "stream",
     "text": [
      "Running Java anonymization for trial 44 with k=10...\n",
      "Running Java code with k=10...\n",
      "Anonymization successful for k = 10, l = 2\n",
      "Execution successful!\n",
      "Gesamte Ausführung hat 0 Stunden, 0 Minuten, und 33.12 Sekunden gedauert.\n",
      "Anonymization completed for k=10. Output saved to C:/Users/leesh/Desktop/BA/Notebooks/weight_optimization/anonymized_trial_44_k10.csv.\n",
      "Running Java anonymization for trial 44 with k=20...\n",
      "Running Java code with k=20...\n",
      "Anonymization successful for k = 20, l = 2\n",
      "Execution successful!\n",
      "Gesamte Ausführung hat 0 Stunden, 0 Minuten, und 32.89 Sekunden gedauert.\n",
      "Anonymization completed for k=20. Output saved to C:/Users/leesh/Desktop/BA/Notebooks/weight_optimization/anonymized_trial_44_k20.csv.\n",
      "All anonymization processes completed.\n"
     ]
    },
    {
     "name": "stderr",
     "output_type": "stream",
     "text": [
      "[I 2024-09-17 20:42:50,835] Trial 44 finished with value: 0.7215435606060606 and parameters: {'age_weight': 0.9424624263515542, 'gender_weight': 0.8314995030760589, 'height_weight': 0.1402176804203917, 'weight_weight': 0.23424107487410994, 'ap_hi_weight': 0.4896351898872948, 'ap_lo_weight': 0.7650215878386423, 'cholesterol_weight': 0.3649939452732925, 'gluc_weight': 0.4849627233905427, 'smoke_weight': 0.7327941134169474, 'alco_weight': 0.8503379716692279, 'active_weight': 0.933436986276326}. Best is trial 10 with value: 0.7268662132100591.\n"
     ]
    },
    {
     "name": "stdout",
     "output_type": "stream",
     "text": [
      "Running Java anonymization for trial 45 with k=10...\n",
      "Running Java code with k=10...\n",
      "Anonymization successful for k = 10, l = 2\n",
      "Execution successful!\n",
      "Gesamte Ausführung hat 0 Stunden, 0 Minuten, und 33.14 Sekunden gedauert.\n",
      "Anonymization completed for k=10. Output saved to C:/Users/leesh/Desktop/BA/Notebooks/weight_optimization/anonymized_trial_45_k10.csv.\n",
      "Running Java anonymization for trial 45 with k=20...\n",
      "Running Java code with k=20...\n",
      "Anonymization successful for k = 20, l = 2\n",
      "Execution successful!\n",
      "Gesamte Ausführung hat 0 Stunden, 0 Minuten, und 32.60 Sekunden gedauert.\n",
      "Anonymization completed for k=20. Output saved to C:/Users/leesh/Desktop/BA/Notebooks/weight_optimization/anonymized_trial_45_k20.csv.\n",
      "All anonymization processes completed.\n"
     ]
    },
    {
     "name": "stderr",
     "output_type": "stream",
     "text": [
      "[I 2024-09-17 20:44:07,911] Trial 45 finished with value: 0.7223871121339577 and parameters: {'age_weight': 0.793844438543486, 'gender_weight': 0.8984297569277276, 'height_weight': 0.20271875724930735, 'weight_weight': 0.49453435030241677, 'ap_hi_weight': 0.6243046034171248, 'ap_lo_weight': 0.6598740365649594, 'cholesterol_weight': 0.46225508716114966, 'gluc_weight': 0.3396146164547714, 'smoke_weight': 0.8171064222396182, 'alco_weight': 0.8911097619095986, 'active_weight': 0.7105649262295728}. Best is trial 10 with value: 0.7268662132100591.\n"
     ]
    },
    {
     "name": "stdout",
     "output_type": "stream",
     "text": [
      "Running Java anonymization for trial 46 with k=10...\n",
      "Running Java code with k=10...\n",
      "Anonymization successful for k = 10, l = 2\n",
      "Execution successful!\n",
      "Gesamte Ausführung hat 0 Stunden, 0 Minuten, und 32.55 Sekunden gedauert.\n",
      "Anonymization completed for k=10. Output saved to C:/Users/leesh/Desktop/BA/Notebooks/weight_optimization/anonymized_trial_46_k10.csv.\n",
      "Running Java anonymization for trial 46 with k=20...\n",
      "Running Java code with k=20...\n",
      "Anonymization successful for k = 20, l = 2\n",
      "Execution successful!\n",
      "Gesamte Ausführung hat 0 Stunden, 0 Minuten, und 33.08 Sekunden gedauert.\n",
      "Anonymization completed for k=20. Output saved to C:/Users/leesh/Desktop/BA/Notebooks/weight_optimization/anonymized_trial_46_k20.csv.\n",
      "All anonymization processes completed.\n"
     ]
    },
    {
     "name": "stderr",
     "output_type": "stream",
     "text": [
      "[I 2024-09-17 20:45:25,448] Trial 46 finished with value: 0.7267317305403476 and parameters: {'age_weight': 0.8561210617089283, 'gender_weight': 0.8284012835787776, 'height_weight': 0.12144772263871403, 'weight_weight': 0.44745672985783813, 'ap_hi_weight': 0.5299601068218147, 'ap_lo_weight': 0.567205844903844, 'cholesterol_weight': 0.5310989282085548, 'gluc_weight': 0.648434766346585, 'smoke_weight': 0.6396619527928599, 'alco_weight': 0.7961858225591514, 'active_weight': 0.8849896502870129}. Best is trial 10 with value: 0.7268662132100591.\n"
     ]
    },
    {
     "name": "stdout",
     "output_type": "stream",
     "text": [
      "Running Java anonymization for trial 47 with k=10...\n",
      "Running Java code with k=10...\n",
      "Anonymization successful for k = 10, l = 2\n",
      "Execution successful!\n",
      "Gesamte Ausführung hat 0 Stunden, 0 Minuten, und 33.37 Sekunden gedauert.\n",
      "Anonymization completed for k=10. Output saved to C:/Users/leesh/Desktop/BA/Notebooks/weight_optimization/anonymized_trial_47_k10.csv.\n",
      "Running Java anonymization for trial 47 with k=20...\n",
      "Running Java code with k=20...\n",
      "Anonymization successful for k = 20, l = 2\n",
      "Execution successful!\n",
      "Gesamte Ausführung hat 0 Stunden, 0 Minuten, und 33.19 Sekunden gedauert.\n",
      "Anonymization completed for k=20. Output saved to C:/Users/leesh/Desktop/BA/Notebooks/weight_optimization/anonymized_trial_47_k20.csv.\n",
      "All anonymization processes completed.\n"
     ]
    },
    {
     "name": "stderr",
     "output_type": "stream",
     "text": [
      "[I 2024-09-17 20:46:43,463] Trial 47 finished with value: 0.7264143457906848 and parameters: {'age_weight': 0.6920249775720639, 'gender_weight': 0.8242565911529134, 'height_weight': 0.03887180435089593, 'weight_weight': 0.3970616602730711, 'ap_hi_weight': 0.528889858151438, 'ap_lo_weight': 0.47995621919641474, 'cholesterol_weight': 0.503993814457854, 'gluc_weight': 0.6360203088348924, 'smoke_weight': 0.5470700023260946, 'alco_weight': 0.8038616024857271, 'active_weight': 0.8852817485792205}. Best is trial 10 with value: 0.7268662132100591.\n"
     ]
    },
    {
     "name": "stdout",
     "output_type": "stream",
     "text": [
      "Running Java anonymization for trial 48 with k=10...\n",
      "Running Java code with k=10...\n",
      "Anonymization successful for k = 10, l = 2\n",
      "Execution successful!\n",
      "Gesamte Ausführung hat 0 Stunden, 0 Minuten, und 33.94 Sekunden gedauert.\n",
      "Anonymization completed for k=10. Output saved to C:/Users/leesh/Desktop/BA/Notebooks/weight_optimization/anonymized_trial_48_k10.csv.\n",
      "Running Java anonymization for trial 48 with k=20...\n",
      "Running Java code with k=20...\n",
      "Anonymization successful for k = 20, l = 2\n",
      "Execution successful!\n",
      "Gesamte Ausführung hat 0 Stunden, 0 Minuten, und 33.12 Sekunden gedauert.\n",
      "Anonymization completed for k=20. Output saved to C:/Users/leesh/Desktop/BA/Notebooks/weight_optimization/anonymized_trial_48_k20.csv.\n",
      "All anonymization processes completed.\n"
     ]
    },
    {
     "name": "stderr",
     "output_type": "stream",
     "text": [
      "[I 2024-09-17 20:48:01,647] Trial 48 finished with value: 0.7194027779535876 and parameters: {'age_weight': 0.7570016516438228, 'gender_weight': 0.6705342302416258, 'height_weight': 0.22882095262983748, 'weight_weight': 0.7378161661348768, 'ap_hi_weight': 0.5920558479961843, 'ap_lo_weight': 0.5712923142123085, 'cholesterol_weight': 0.618237513403183, 'gluc_weight': 0.739158940232696, 'smoke_weight': 0.6418497705693404, 'alco_weight': 0.2584490936510003, 'active_weight': 0.5877930210658823}. Best is trial 10 with value: 0.7268662132100591.\n"
     ]
    },
    {
     "name": "stdout",
     "output_type": "stream",
     "text": [
      "Running Java anonymization for trial 49 with k=10...\n",
      "Running Java code with k=10...\n",
      "Anonymization successful for k = 10, l = 2\n",
      "Execution successful!\n",
      "Gesamte Ausführung hat 0 Stunden, 0 Minuten, und 32.87 Sekunden gedauert.\n",
      "Anonymization completed for k=10. Output saved to C:/Users/leesh/Desktop/BA/Notebooks/weight_optimization/anonymized_trial_49_k10.csv.\n",
      "Running Java anonymization for trial 49 with k=20...\n",
      "Running Java code with k=20...\n",
      "Anonymization successful for k = 20, l = 2\n",
      "Execution successful!\n",
      "Gesamte Ausführung hat 0 Stunden, 0 Minuten, und 32.81 Sekunden gedauert.\n",
      "Anonymization completed for k=20. Output saved to C:/Users/leesh/Desktop/BA/Notebooks/weight_optimization/anonymized_trial_49_k20.csv.\n",
      "All anonymization processes completed.\n"
     ]
    },
    {
     "name": "stderr",
     "output_type": "stream",
     "text": [
      "[I 2024-09-17 20:49:19,311] Trial 49 finished with value: 0.7224446639947795 and parameters: {'age_weight': 0.8518661815036043, 'gender_weight': 0.7607537367967878, 'height_weight': 0.9243190525129089, 'weight_weight': 0.1484405527326167, 'ap_hi_weight': 0.7323204921510993, 'ap_lo_weight': 0.42817473150982627, 'cholesterol_weight': 0.39293883119889006, 'gluc_weight': 0.6714799243052579, 'smoke_weight': 0.9324516789249487, 'alco_weight': 0.779609233326825, 'active_weight': 0.3091742229293371}. Best is trial 10 with value: 0.7268662132100591.\n"
     ]
    },
    {
     "name": "stdout",
     "output_type": "stream",
     "text": [
      "Optimized weights for C:/Users/leesh/Desktop/BA/Notebooks/weight_optimization/cvd_k0_l0.csv: {'age_weight': 0.9720866425553862, 'gender_weight': 0.9393880165401506, 'height_weight': 0.27821029494510024, 'weight_weight': 0.9888125975366882, 'ap_hi_weight': 0.6774837895227784, 'ap_lo_weight': 0.6539956494601846, 'cholesterol_weight': 0.996991902213789, 'gluc_weight': 0.6852850397763611, 'smoke_weight': 0.022148947102330507, 'alco_weight': 0.9810212107424016, 'active_weight': 0.9358878981992285}\n",
      "Optimizing for C:/Users/leesh/Desktop/BA/Notebooks/weight_optimization/cvd_k10_l2.csv\n"
     ]
    },
    {
     "name": "stderr",
     "output_type": "stream",
     "text": [
      "[I 2024-09-17 20:49:19,549] A new study created in memory with name: no-name-d48d8b20-c848-4dfc-ac68-5970d9087119\n"
     ]
    },
    {
     "name": "stdout",
     "output_type": "stream",
     "text": [
      "Running Java anonymization for trial 0 with k=10...\n",
      "Running Java code with k=10...\n",
      "Solution space too large for k=10 and l=2: Attribute 'age': hierarchy does not contain a transformation rule for value '[40, 80['\n",
      "Execution successful!\n",
      "Gesamte Ausführung hat 0 Stunden, 0 Minuten, und 2.59 Sekunden gedauert.\n",
      "Anonymization completed for k=10. Output saved to C:/Users/leesh/Desktop/BA/Notebooks/weight_optimization/anonymized_trial_0_k10.csv.\n",
      "Running Java anonymization for trial 0 with k=20...\n",
      "Running Java code with k=20...\n",
      "Solution space too large for k=20 and l=2: Attribute 'age': hierarchy does not contain a transformation rule for value '[40, 80['\n",
      "Execution successful!\n",
      "Gesamte Ausführung hat 0 Stunden, 0 Minuten, und 2.46 Sekunden gedauert.\n",
      "Anonymization completed for k=20. Output saved to C:/Users/leesh/Desktop/BA/Notebooks/weight_optimization/anonymized_trial_0_k20.csv.\n",
      "All anonymization processes completed.\n"
     ]
    },
    {
     "name": "stderr",
     "output_type": "stream",
     "text": [
      "[I 2024-09-17 20:49:34,619] Trial 0 finished with value: 0.7197199752754722 and parameters: {'age_weight': 0.8410643202482216, 'gender_weight': 0.33721190820396785, 'height_weight': 0.8178079411821905, 'weight_weight': 0.1475476712935775, 'ap_hi_weight': 0.7278525913495159, 'ap_lo_weight': 0.315386568417241, 'cholesterol_weight': 0.11365625426795878, 'gluc_weight': 0.6882349648793119, 'smoke_weight': 0.01873981343591402, 'alco_weight': 0.20741419196416577, 'active_weight': 0.43458801194749863}. Best is trial 0 with value: 0.7197199752754722.\n"
     ]
    },
    {
     "name": "stdout",
     "output_type": "stream",
     "text": [
      "Running Java anonymization for trial 1 with k=10...\n",
      "Running Java code with k=10...\n",
      "Solution space too large for k=10 and l=2: Attribute 'age': hierarchy does not contain a transformation rule for value '[40, 80['\n",
      "Execution successful!\n",
      "Gesamte Ausführung hat 0 Stunden, 0 Minuten, und 2.39 Sekunden gedauert.\n",
      "Anonymization completed for k=10. Output saved to C:/Users/leesh/Desktop/BA/Notebooks/weight_optimization/anonymized_trial_1_k10.csv.\n",
      "Running Java anonymization for trial 1 with k=20...\n",
      "Running Java code with k=20...\n",
      "Solution space too large for k=20 and l=2: Attribute 'age': hierarchy does not contain a transformation rule for value '[40, 80['\n",
      "Execution successful!\n",
      "Gesamte Ausführung hat 0 Stunden, 0 Minuten, und 2.16 Sekunden gedauert.\n",
      "Anonymization completed for k=20. Output saved to C:/Users/leesh/Desktop/BA/Notebooks/weight_optimization/anonymized_trial_1_k20.csv.\n",
      "All anonymization processes completed.\n"
     ]
    },
    {
     "name": "stderr",
     "output_type": "stream",
     "text": [
      "[I 2024-09-17 20:49:49,938] Trial 1 finished with value: 0.7109603478197942 and parameters: {'age_weight': 0.2914389834610177, 'gender_weight': 0.6795103974857991, 'height_weight': 0.30372227538691066, 'weight_weight': 0.8770162132757342, 'ap_hi_weight': 0.2927248118504223, 'ap_lo_weight': 0.6433840732932428, 'cholesterol_weight': 0.9058168157580664, 'gluc_weight': 0.33738052617837355, 'smoke_weight': 0.035481290331827564, 'alco_weight': 0.6143098750826953, 'active_weight': 0.9737432030935489}. Best is trial 0 with value: 0.7197199752754722.\n"
     ]
    },
    {
     "name": "stdout",
     "output_type": "stream",
     "text": [
      "Running Java anonymization for trial 2 with k=10...\n",
      "Running Java code with k=10...\n",
      "Solution space too large for k=10 and l=2: Attribute 'age': hierarchy does not contain a transformation rule for value '[40, 80['\n",
      "Execution successful!\n",
      "Gesamte Ausführung hat 0 Stunden, 0 Minuten, und 2.25 Sekunden gedauert.\n",
      "Anonymization completed for k=10. Output saved to C:/Users/leesh/Desktop/BA/Notebooks/weight_optimization/anonymized_trial_2_k10.csv.\n",
      "Running Java anonymization for trial 2 with k=20...\n",
      "Running Java code with k=20...\n",
      "Solution space too large for k=20 and l=2: Attribute 'age': hierarchy does not contain a transformation rule for value '[40, 80['\n",
      "Execution successful!\n",
      "Gesamte Ausführung hat 0 Stunden, 0 Minuten, und 2.26 Sekunden gedauert.\n",
      "Anonymization completed for k=20. Output saved to C:/Users/leesh/Desktop/BA/Notebooks/weight_optimization/anonymized_trial_2_k20.csv.\n",
      "All anonymization processes completed.\n"
     ]
    },
    {
     "name": "stderr",
     "output_type": "stream",
     "text": [
      "[I 2024-09-17 20:50:06,461] Trial 2 finished with value: 0.6555833758125292 and parameters: {'age_weight': 0.10855535673312766, 'gender_weight': 0.5304016055531345, 'height_weight': 0.7785402734889054, 'weight_weight': 0.6595178496357956, 'ap_hi_weight': 0.7172478299173789, 'ap_lo_weight': 0.938552988885555, 'cholesterol_weight': 0.9553825514583718, 'gluc_weight': 0.3234119070222029, 'smoke_weight': 0.7860612362178545, 'alco_weight': 0.7627529176503699, 'active_weight': 0.15210218460835057}. Best is trial 0 with value: 0.7197199752754722.\n"
     ]
    },
    {
     "name": "stdout",
     "output_type": "stream",
     "text": [
      "Running Java anonymization for trial 3 with k=10...\n",
      "Running Java code with k=10...\n",
      "Solution space too large for k=10 and l=2: Attribute 'age': hierarchy does not contain a transformation rule for value '[40, 80['\n",
      "Execution successful!\n",
      "Gesamte Ausführung hat 0 Stunden, 0 Minuten, und 2.57 Sekunden gedauert.\n",
      "Anonymization completed for k=10. Output saved to C:/Users/leesh/Desktop/BA/Notebooks/weight_optimization/anonymized_trial_3_k10.csv.\n",
      "Running Java anonymization for trial 3 with k=20...\n",
      "Running Java code with k=20...\n",
      "Solution space too large for k=20 and l=2: Attribute 'age': hierarchy does not contain a transformation rule for value '[40, 80['\n",
      "Execution successful!\n",
      "Gesamte Ausführung hat 0 Stunden, 0 Minuten, und 2.43 Sekunden gedauert.\n",
      "Anonymization completed for k=20. Output saved to C:/Users/leesh/Desktop/BA/Notebooks/weight_optimization/anonymized_trial_3_k20.csv.\n",
      "All anonymization processes completed.\n"
     ]
    },
    {
     "name": "stderr",
     "output_type": "stream",
     "text": [
      "[I 2024-09-17 20:50:22,870] Trial 3 finished with value: 0.7149957551676259 and parameters: {'age_weight': 0.20904886128220979, 'gender_weight': 0.14747639296916126, 'height_weight': 0.32502710319071326, 'weight_weight': 0.11301771870133648, 'ap_hi_weight': 0.7755792022536735, 'ap_lo_weight': 0.23541032481792545, 'cholesterol_weight': 0.3194724391903955, 'gluc_weight': 0.33386732255697327, 'smoke_weight': 0.5423699037557843, 'alco_weight': 0.2579071728755097, 'active_weight': 0.9102467973103197}. Best is trial 0 with value: 0.7197199752754722.\n"
     ]
    },
    {
     "name": "stdout",
     "output_type": "stream",
     "text": [
      "Running Java anonymization for trial 4 with k=10...\n",
      "Running Java code with k=10...\n",
      "Solution space too large for k=10 and l=2: Attribute 'age': hierarchy does not contain a transformation rule for value '[40, 80['\n",
      "Execution successful!\n",
      "Gesamte Ausführung hat 0 Stunden, 0 Minuten, und 2.41 Sekunden gedauert.\n",
      "Anonymization completed for k=10. Output saved to C:/Users/leesh/Desktop/BA/Notebooks/weight_optimization/anonymized_trial_4_k10.csv.\n",
      "Running Java anonymization for trial 4 with k=20...\n",
      "Running Java code with k=20...\n",
      "Solution space too large for k=20 and l=2: Attribute 'age': hierarchy does not contain a transformation rule for value '[40, 80['\n",
      "Execution successful!\n",
      "Gesamte Ausführung hat 0 Stunden, 0 Minuten, und 2.66 Sekunden gedauert.\n",
      "Anonymization completed for k=20. Output saved to C:/Users/leesh/Desktop/BA/Notebooks/weight_optimization/anonymized_trial_4_k20.csv.\n",
      "All anonymization processes completed.\n"
     ]
    },
    {
     "name": "stderr",
     "output_type": "stream",
     "text": [
      "[I 2024-09-17 20:50:39,564] Trial 4 finished with value: 0.6915113534630097 and parameters: {'age_weight': 0.09271815458808963, 'gender_weight': 0.3663678203578943, 'height_weight': 0.6799376461461136, 'weight_weight': 0.5302983864993943, 'ap_hi_weight': 0.5207375376869925, 'ap_lo_weight': 0.028455202610272456, 'cholesterol_weight': 0.2534341675274614, 'gluc_weight': 0.21254861491020638, 'smoke_weight': 0.395116807109395, 'alco_weight': 0.40955427007001477, 'active_weight': 0.3346419888407087}. Best is trial 0 with value: 0.7197199752754722.\n"
     ]
    },
    {
     "name": "stdout",
     "output_type": "stream",
     "text": [
      "Running Java anonymization for trial 5 with k=10...\n",
      "Running Java code with k=10...\n",
      "Solution space too large for k=10 and l=2: Attribute 'age': hierarchy does not contain a transformation rule for value '[40, 80['\n",
      "Execution successful!\n",
      "Gesamte Ausführung hat 0 Stunden, 0 Minuten, und 2.05 Sekunden gedauert.\n",
      "Anonymization completed for k=10. Output saved to C:/Users/leesh/Desktop/BA/Notebooks/weight_optimization/anonymized_trial_5_k10.csv.\n",
      "Running Java anonymization for trial 5 with k=20...\n",
      "Running Java code with k=20...\n",
      "Solution space too large for k=20 and l=2: Attribute 'age': hierarchy does not contain a transformation rule for value '[40, 80['\n",
      "Execution successful!\n",
      "Gesamte Ausführung hat 0 Stunden, 0 Minuten, und 2.19 Sekunden gedauert.\n",
      "Anonymization completed for k=20. Output saved to C:/Users/leesh/Desktop/BA/Notebooks/weight_optimization/anonymized_trial_5_k20.csv.\n",
      "All anonymization processes completed.\n"
     ]
    },
    {
     "name": "stderr",
     "output_type": "stream",
     "text": [
      "[I 2024-09-17 20:50:53,893] Trial 5 finished with value: 0.6504570433119563 and parameters: {'age_weight': 0.5033415840745543, 'gender_weight': 0.18821947063367905, 'height_weight': 0.7266039429471568, 'weight_weight': 0.0961621185164645, 'ap_hi_weight': 0.8576169772871507, 'ap_lo_weight': 0.3884721385357569, 'cholesterol_weight': 0.478410644756207, 'gluc_weight': 0.7150576252391654, 'smoke_weight': 0.8046756126795334, 'alco_weight': 0.6360034881373972, 'active_weight': 0.3015085677018562}. Best is trial 0 with value: 0.7197199752754722.\n"
     ]
    },
    {
     "name": "stdout",
     "output_type": "stream",
     "text": [
      "Running Java anonymization for trial 6 with k=10...\n",
      "Running Java code with k=10...\n",
      "Solution space too large for k=10 and l=2: Attribute 'age': hierarchy does not contain a transformation rule for value '[40, 80['\n",
      "Execution successful!\n",
      "Gesamte Ausführung hat 0 Stunden, 0 Minuten, und 1.99 Sekunden gedauert.\n",
      "Anonymization completed for k=10. Output saved to C:/Users/leesh/Desktop/BA/Notebooks/weight_optimization/anonymized_trial_6_k10.csv.\n",
      "Running Java anonymization for trial 6 with k=20...\n",
      "Running Java code with k=20...\n",
      "Solution space too large for k=20 and l=2: Attribute 'age': hierarchy does not contain a transformation rule for value '[40, 80['\n",
      "Execution successful!\n",
      "Gesamte Ausführung hat 0 Stunden, 0 Minuten, und 2.11 Sekunden gedauert.\n",
      "Anonymization completed for k=20. Output saved to C:/Users/leesh/Desktop/BA/Notebooks/weight_optimization/anonymized_trial_6_k20.csv.\n",
      "All anonymization processes completed.\n"
     ]
    },
    {
     "name": "stderr",
     "output_type": "stream",
     "text": [
      "[I 2024-09-17 20:51:09,746] Trial 6 finished with value: 0.7147963621984974 and parameters: {'age_weight': 0.7354507094943155, 'gender_weight': 0.6544442357310208, 'height_weight': 0.39460182121355647, 'weight_weight': 0.11178017946857632, 'ap_hi_weight': 0.009806686367634487, 'ap_lo_weight': 0.8071877330055294, 'cholesterol_weight': 0.3325381353960707, 'gluc_weight': 0.856135208375308, 'smoke_weight': 0.884637240265873, 'alco_weight': 0.06974572630199705, 'active_weight': 0.19763679271434142}. Best is trial 0 with value: 0.7197199752754722.\n"
     ]
    },
    {
     "name": "stdout",
     "output_type": "stream",
     "text": [
      "Running Java anonymization for trial 7 with k=10...\n",
      "Running Java code with k=10...\n",
      "Solution space too large for k=10 and l=2: Attribute 'age': hierarchy does not contain a transformation rule for value '[40, 80['\n",
      "Execution successful!\n",
      "Gesamte Ausführung hat 0 Stunden, 0 Minuten, und 2.56 Sekunden gedauert.\n",
      "Anonymization completed for k=10. Output saved to C:/Users/leesh/Desktop/BA/Notebooks/weight_optimization/anonymized_trial_7_k10.csv.\n",
      "Running Java anonymization for trial 7 with k=20...\n",
      "Running Java code with k=20...\n",
      "Solution space too large for k=20 and l=2: Attribute 'age': hierarchy does not contain a transformation rule for value '[40, 80['\n",
      "Execution successful!\n",
      "Gesamte Ausführung hat 0 Stunden, 0 Minuten, und 2.63 Sekunden gedauert.\n",
      "Anonymization completed for k=20. Output saved to C:/Users/leesh/Desktop/BA/Notebooks/weight_optimization/anonymized_trial_7_k20.csv.\n",
      "All anonymization processes completed.\n"
     ]
    },
    {
     "name": "stderr",
     "output_type": "stream",
     "text": [
      "[I 2024-09-17 20:51:27,159] Trial 7 finished with value: 0.7142265827271064 and parameters: {'age_weight': 0.03945846032633149, 'gender_weight': 0.9607693871894462, 'height_weight': 0.8409581289527743, 'weight_weight': 0.8084387312122348, 'ap_hi_weight': 0.4538784582451246, 'ap_lo_weight': 0.7272479364180799, 'cholesterol_weight': 0.11780212998932027, 'gluc_weight': 0.3487005455279839, 'smoke_weight': 0.22180243807519595, 'alco_weight': 0.6072648818650356, 'active_weight': 0.662146226576362}. Best is trial 0 with value: 0.7197199752754722.\n"
     ]
    },
    {
     "name": "stdout",
     "output_type": "stream",
     "text": [
      "Running Java anonymization for trial 8 with k=10...\n",
      "Running Java code with k=10...\n",
      "Solution space too large for k=10 and l=2: Attribute 'age': hierarchy does not contain a transformation rule for value '[40, 80['\n",
      "Execution successful!\n",
      "Gesamte Ausführung hat 0 Stunden, 0 Minuten, und 2.45 Sekunden gedauert.\n",
      "Anonymization completed for k=10. Output saved to C:/Users/leesh/Desktop/BA/Notebooks/weight_optimization/anonymized_trial_8_k10.csv.\n",
      "Running Java anonymization for trial 8 with k=20...\n",
      "Running Java code with k=20...\n",
      "Solution space too large for k=20 and l=2: Attribute 'age': hierarchy does not contain a transformation rule for value '[40, 80['\n",
      "Execution successful!\n",
      "Gesamte Ausführung hat 0 Stunden, 0 Minuten, und 2.56 Sekunden gedauert.\n",
      "Anonymization completed for k=20. Output saved to C:/Users/leesh/Desktop/BA/Notebooks/weight_optimization/anonymized_trial_8_k20.csv.\n",
      "All anonymization processes completed.\n"
     ]
    },
    {
     "name": "stderr",
     "output_type": "stream",
     "text": [
      "[I 2024-09-17 20:51:43,561] Trial 8 finished with value: 0.7118085767316737 and parameters: {'age_weight': 0.5462059383885792, 'gender_weight': 0.9761596881558872, 'height_weight': 0.24915293855670706, 'weight_weight': 0.9021141815421972, 'ap_hi_weight': 0.3728490692288885, 'ap_lo_weight': 0.3395396396113812, 'cholesterol_weight': 0.6136052480182167, 'gluc_weight': 0.6255657710108689, 'smoke_weight': 0.013672606863893377, 'alco_weight': 0.5036942651530952, 'active_weight': 0.9434056617875379}. Best is trial 0 with value: 0.7197199752754722.\n"
     ]
    },
    {
     "name": "stdout",
     "output_type": "stream",
     "text": [
      "Running Java anonymization for trial 9 with k=10...\n",
      "Running Java code with k=10...\n",
      "Solution space too large for k=10 and l=2: Attribute 'age': hierarchy does not contain a transformation rule for value '[40, 80['\n",
      "Execution successful!\n",
      "Gesamte Ausführung hat 0 Stunden, 0 Minuten, und 2.71 Sekunden gedauert.\n",
      "Anonymization completed for k=10. Output saved to C:/Users/leesh/Desktop/BA/Notebooks/weight_optimization/anonymized_trial_9_k10.csv.\n",
      "Running Java anonymization for trial 9 with k=20...\n",
      "Running Java code with k=20...\n",
      "Solution space too large for k=20 and l=2: Attribute 'age': hierarchy does not contain a transformation rule for value '[40, 80['\n",
      "Execution successful!\n",
      "Gesamte Ausführung hat 0 Stunden, 0 Minuten, und 2.72 Sekunden gedauert.\n",
      "Anonymization completed for k=20. Output saved to C:/Users/leesh/Desktop/BA/Notebooks/weight_optimization/anonymized_trial_9_k20.csv.\n",
      "All anonymization processes completed.\n"
     ]
    },
    {
     "name": "stderr",
     "output_type": "stream",
     "text": [
      "[I 2024-09-17 20:51:59,346] Trial 9 finished with value: 0.7223526125328151 and parameters: {'age_weight': 0.7134598169862739, 'gender_weight': 0.9504186454706143, 'height_weight': 0.8788166793353276, 'weight_weight': 0.6505165527017928, 'ap_hi_weight': 0.21266680135236193, 'ap_lo_weight': 0.2260252685831441, 'cholesterol_weight': 0.4355629908900174, 'gluc_weight': 0.8488002408977978, 'smoke_weight': 0.20665091055649543, 'alco_weight': 0.2278803852033977, 'active_weight': 0.03295725310635156}. Best is trial 9 with value: 0.7223526125328151.\n"
     ]
    },
    {
     "name": "stdout",
     "output_type": "stream",
     "text": [
      "Running Java anonymization for trial 10 with k=10...\n",
      "Running Java code with k=10...\n",
      "Solution space too large for k=10 and l=2: Attribute 'age': hierarchy does not contain a transformation rule for value '[40, 80['\n",
      "Execution successful!\n",
      "Gesamte Ausführung hat 0 Stunden, 0 Minuten, und 2.84 Sekunden gedauert.\n",
      "Anonymization completed for k=10. Output saved to C:/Users/leesh/Desktop/BA/Notebooks/weight_optimization/anonymized_trial_10_k10.csv.\n",
      "Running Java anonymization for trial 10 with k=20...\n",
      "Running Java code with k=20...\n",
      "Solution space too large for k=20 and l=2: Attribute 'age': hierarchy does not contain a transformation rule for value '[40, 80['\n",
      "Execution successful!\n",
      "Gesamte Ausführung hat 0 Stunden, 0 Minuten, und 2.66 Sekunden gedauert.\n",
      "Anonymization completed for k=20. Output saved to C:/Users/leesh/Desktop/BA/Notebooks/weight_optimization/anonymized_trial_10_k20.csv.\n",
      "All anonymization processes completed.\n"
     ]
    },
    {
     "name": "stderr",
     "output_type": "stream",
     "text": [
      "[I 2024-09-17 20:52:16,906] Trial 10 finished with value: 0.7269137668390566 and parameters: {'age_weight': 0.9799067776663789, 'gender_weight': 0.787138414949826, 'height_weight': 0.01906614316333577, 'weight_weight': 0.34895387443852927, 'ap_hi_weight': 0.07997501003007079, 'ap_lo_weight': 0.03036719295615986, 'cholesterol_weight': 0.6409738692722737, 'gluc_weight': 0.9980818390224823, 'smoke_weight': 0.3416825950243684, 'alco_weight': 0.9082938642995604, 'active_weight': 0.010035965126660606}. Best is trial 10 with value: 0.7269137668390566.\n"
     ]
    },
    {
     "name": "stdout",
     "output_type": "stream",
     "text": [
      "Running Java anonymization for trial 11 with k=10...\n",
      "Running Java code with k=10...\n",
      "Solution space too large for k=10 and l=2: Attribute 'age': hierarchy does not contain a transformation rule for value '[40, 80['\n",
      "Execution successful!\n",
      "Gesamte Ausführung hat 0 Stunden, 0 Minuten, und 2.11 Sekunden gedauert.\n",
      "Anonymization completed for k=10. Output saved to C:/Users/leesh/Desktop/BA/Notebooks/weight_optimization/anonymized_trial_11_k10.csv.\n",
      "Running Java anonymization for trial 11 with k=20...\n",
      "Running Java code with k=20...\n",
      "Solution space too large for k=20 and l=2: Attribute 'age': hierarchy does not contain a transformation rule for value '[40, 80['\n",
      "Execution successful!\n",
      "Gesamte Ausführung hat 0 Stunden, 0 Minuten, und 2.40 Sekunden gedauert.\n",
      "Anonymization completed for k=20. Output saved to C:/Users/leesh/Desktop/BA/Notebooks/weight_optimization/anonymized_trial_11_k20.csv.\n",
      "All anonymization processes completed.\n"
     ]
    },
    {
     "name": "stderr",
     "output_type": "stream",
     "text": [
      "[I 2024-09-17 20:52:32,676] Trial 11 finished with value: 0.722480254909931 and parameters: {'age_weight': 0.882457020942702, 'gender_weight': 0.8051605194519095, 'height_weight': 0.012385401689275287, 'weight_weight': 0.3553054258384637, 'ap_hi_weight': 0.056224283937007465, 'ap_lo_weight': 0.003642544557281295, 'cholesterol_weight': 0.6979098454880466, 'gluc_weight': 0.9661019469993795, 'smoke_weight': 0.33202478418600984, 'alco_weight': 0.997830874982588, 'active_weight': 0.007474580297815578}. Best is trial 10 with value: 0.7269137668390566.\n"
     ]
    },
    {
     "name": "stdout",
     "output_type": "stream",
     "text": [
      "Running Java anonymization for trial 12 with k=10...\n",
      "Running Java code with k=10...\n",
      "Solution space too large for k=10 and l=2: Attribute 'age': hierarchy does not contain a transformation rule for value '[40, 80['\n",
      "Execution successful!\n",
      "Gesamte Ausführung hat 0 Stunden, 0 Minuten, und 2.62 Sekunden gedauert.\n",
      "Anonymization completed for k=10. Output saved to C:/Users/leesh/Desktop/BA/Notebooks/weight_optimization/anonymized_trial_12_k10.csv.\n",
      "Running Java anonymization for trial 12 with k=20...\n",
      "Running Java code with k=20...\n",
      "Solution space too large for k=20 and l=2: Attribute 'age': hierarchy does not contain a transformation rule for value '[40, 80['\n",
      "Execution successful!\n",
      "Gesamte Ausführung hat 0 Stunden, 0 Minuten, und 2.54 Sekunden gedauert.\n",
      "Anonymization completed for k=20. Output saved to C:/Users/leesh/Desktop/BA/Notebooks/weight_optimization/anonymized_trial_12_k20.csv.\n",
      "All anonymization processes completed.\n"
     ]
    },
    {
     "name": "stderr",
     "output_type": "stream",
     "text": [
      "[I 2024-09-17 20:52:50,207] Trial 12 finished with value: 0.7159659741534435 and parameters: {'age_weight': 0.9954015877520275, 'gender_weight': 0.7660999626586744, 'height_weight': 0.013020370745445079, 'weight_weight': 0.3213687312911548, 'ap_hi_weight': 0.06586822510283168, 'ap_lo_weight': 0.006701415058585014, 'cholesterol_weight': 0.7099988563659978, 'gluc_weight': 0.999493988961088, 'smoke_weight': 0.5254450587922068, 'alco_weight': 0.9738834329219905, 'active_weight': 0.00224259098230637}. Best is trial 10 with value: 0.7269137668390566.\n"
     ]
    },
    {
     "name": "stdout",
     "output_type": "stream",
     "text": [
      "Running Java anonymization for trial 13 with k=10...\n",
      "Running Java code with k=10...\n",
      "Solution space too large for k=10 and l=2: Attribute 'age': hierarchy does not contain a transformation rule for value '[40, 80['\n",
      "Execution successful!\n",
      "Gesamte Ausführung hat 0 Stunden, 0 Minuten, und 2.13 Sekunden gedauert.\n",
      "Anonymization completed for k=10. Output saved to C:/Users/leesh/Desktop/BA/Notebooks/weight_optimization/anonymized_trial_13_k10.csv.\n",
      "Running Java anonymization for trial 13 with k=20...\n",
      "Running Java code with k=20...\n",
      "Solution space too large for k=20 and l=2: Attribute 'age': hierarchy does not contain a transformation rule for value '[40, 80['\n",
      "Execution successful!\n",
      "Gesamte Ausführung hat 0 Stunden, 0 Minuten, und 3.27 Sekunden gedauert.\n",
      "Anonymization completed for k=20. Output saved to C:/Users/leesh/Desktop/BA/Notebooks/weight_optimization/anonymized_trial_13_k20.csv.\n",
      "All anonymization processes completed.\n"
     ]
    },
    {
     "name": "stderr",
     "output_type": "stream",
     "text": [
      "[I 2024-09-17 20:53:05,910] Trial 13 finished with value: 0.7230945964283881 and parameters: {'age_weight': 0.9811529876014295, 'gender_weight': 0.8184370851956773, 'height_weight': 0.031539781763737694, 'weight_weight': 0.3423782411369403, 'ap_hi_weight': 0.1727560296721965, 'ap_lo_weight': 0.12261263819048887, 'cholesterol_weight': 0.7353304749908357, 'gluc_weight': 0.986984350764125, 'smoke_weight': 0.36841607689076694, 'alco_weight': 0.9770183761871112, 'active_weight': 0.6390551196123156}. Best is trial 10 with value: 0.7269137668390566.\n"
     ]
    },
    {
     "name": "stdout",
     "output_type": "stream",
     "text": [
      "Running Java anonymization for trial 14 with k=10...\n",
      "Running Java code with k=10...\n",
      "Solution space too large for k=10 and l=2: Attribute 'age': hierarchy does not contain a transformation rule for value '[40, 80['\n",
      "Execution successful!\n",
      "Gesamte Ausführung hat 0 Stunden, 0 Minuten, und 2.46 Sekunden gedauert.\n",
      "Anonymization completed for k=10. Output saved to C:/Users/leesh/Desktop/BA/Notebooks/weight_optimization/anonymized_trial_14_k10.csv.\n",
      "Running Java anonymization for trial 14 with k=20...\n",
      "Running Java code with k=20...\n",
      "Solution space too large for k=20 and l=2: Attribute 'age': hierarchy does not contain a transformation rule for value '[40, 80['\n",
      "Execution successful!\n",
      "Gesamte Ausführung hat 0 Stunden, 0 Minuten, und 2.49 Sekunden gedauert.\n",
      "Anonymization completed for k=20. Output saved to C:/Users/leesh/Desktop/BA/Notebooks/weight_optimization/anonymized_trial_14_k20.csv.\n",
      "All anonymization processes completed.\n"
     ]
    },
    {
     "name": "stderr",
     "output_type": "stream",
     "text": [
      "[I 2024-09-17 20:53:22,346] Trial 14 finished with value: 0.7109221921521535 and parameters: {'age_weight': 0.9908817789706214, 'gender_weight': 0.8274598024635077, 'height_weight': 0.1577482341453293, 'weight_weight': 0.3414944439878388, 'ap_hi_weight': 0.20653866215202726, 'ap_lo_weight': 0.1547293633398834, 'cholesterol_weight': 0.8206650825887876, 'gluc_weight': 0.5079055030489597, 'smoke_weight': 0.609639932269465, 'alco_weight': 0.8320731870981883, 'active_weight': 0.6544298518869777}. Best is trial 10 with value: 0.7269137668390566.\n"
     ]
    },
    {
     "name": "stdout",
     "output_type": "stream",
     "text": [
      "Running Java anonymization for trial 15 with k=10...\n",
      "Running Java code with k=10...\n",
      "Solution space too large for k=10 and l=2: Attribute 'age': hierarchy does not contain a transformation rule for value '[40, 80['\n",
      "Execution successful!\n",
      "Gesamte Ausführung hat 0 Stunden, 0 Minuten, und 2.23 Sekunden gedauert.\n",
      "Anonymization completed for k=10. Output saved to C:/Users/leesh/Desktop/BA/Notebooks/weight_optimization/anonymized_trial_15_k10.csv.\n",
      "Running Java anonymization for trial 15 with k=20...\n",
      "Running Java code with k=20...\n",
      "Solution space too large for k=20 and l=2: Attribute 'age': hierarchy does not contain a transformation rule for value '[40, 80['\n",
      "Execution successful!\n",
      "Gesamte Ausführung hat 0 Stunden, 0 Minuten, und 2.66 Sekunden gedauert.\n",
      "Anonymization completed for k=20. Output saved to C:/Users/leesh/Desktop/BA/Notebooks/weight_optimization/anonymized_trial_15_k20.csv.\n",
      "All anonymization processes completed.\n"
     ]
    },
    {
     "name": "stderr",
     "output_type": "stream",
     "text": [
      "[I 2024-09-17 20:53:38,843] Trial 15 finished with value: 0.7193639466059387 and parameters: {'age_weight': 0.7086393493042513, 'gender_weight': 0.5271603993290779, 'height_weight': 0.516592971794773, 'weight_weight': 0.4607582939703424, 'ap_hi_weight': 0.18031062043468732, 'ap_lo_weight': 0.5150869413025412, 'cholesterol_weight': 0.5678863679811819, 'gluc_weight': 0.8526222058230599, 'smoke_weight': 0.35430720189841974, 'alco_weight': 0.8374912604139046, 'active_weight': 0.6510400807878273}. Best is trial 10 with value: 0.7269137668390566.\n"
     ]
    },
    {
     "name": "stdout",
     "output_type": "stream",
     "text": [
      "Running Java anonymization for trial 16 with k=10...\n",
      "Running Java code with k=10...\n",
      "Solution space too large for k=10 and l=2: Attribute 'age': hierarchy does not contain a transformation rule for value '[40, 80['\n",
      "Execution successful!\n",
      "Gesamte Ausführung hat 0 Stunden, 0 Minuten, und 2.90 Sekunden gedauert.\n",
      "Anonymization completed for k=10. Output saved to C:/Users/leesh/Desktop/BA/Notebooks/weight_optimization/anonymized_trial_16_k10.csv.\n",
      "Running Java anonymization for trial 16 with k=20...\n",
      "Running Java code with k=20...\n",
      "Solution space too large for k=20 and l=2: Attribute 'age': hierarchy does not contain a transformation rule for value '[40, 80['\n",
      "Execution successful!\n",
      "Gesamte Ausführung hat 0 Stunden, 0 Minuten, und 2.59 Sekunden gedauert.\n",
      "Anonymization completed for k=20. Output saved to C:/Users/leesh/Desktop/BA/Notebooks/weight_optimization/anonymized_trial_16_k20.csv.\n",
      "All anonymization processes completed.\n"
     ]
    },
    {
     "name": "stderr",
     "output_type": "stream",
     "text": [
      "[I 2024-09-17 20:53:55,831] Trial 16 finished with value: 0.7197958106720523 and parameters: {'age_weight': 0.824601775932791, 'gender_weight': 0.639125533018658, 'height_weight': 0.13746384745404108, 'weight_weight': 0.26997891019309517, 'ap_hi_weight': 0.9916298464191641, 'ap_lo_weight': 0.13950187645654427, 'cholesterol_weight': 0.7843607083340433, 'gluc_weight': 0.004395708207208582, 'smoke_weight': 0.6495490945802063, 'alco_weight': 0.8783607581605235, 'active_weight': 0.7887360656219408}. Best is trial 10 with value: 0.7269137668390566.\n"
     ]
    },
    {
     "name": "stdout",
     "output_type": "stream",
     "text": [
      "Running Java anonymization for trial 17 with k=10...\n",
      "Running Java code with k=10...\n",
      "Solution space too large for k=10 and l=2: Attribute 'age': hierarchy does not contain a transformation rule for value '[40, 80['\n",
      "Execution successful!\n",
      "Gesamte Ausführung hat 0 Stunden, 0 Minuten, und 2.21 Sekunden gedauert.\n",
      "Anonymization completed for k=10. Output saved to C:/Users/leesh/Desktop/BA/Notebooks/weight_optimization/anonymized_trial_17_k10.csv.\n",
      "Running Java anonymization for trial 17 with k=20...\n",
      "Running Java code with k=20...\n",
      "Solution space too large for k=20 and l=2: Attribute 'age': hierarchy does not contain a transformation rule for value '[40, 80['\n",
      "Execution successful!\n",
      "Gesamte Ausführung hat 0 Stunden, 0 Minuten, und 2.63 Sekunden gedauert.\n",
      "Anonymization completed for k=20. Output saved to C:/Users/leesh/Desktop/BA/Notebooks/weight_optimization/anonymized_trial_17_k20.csv.\n",
      "All anonymization processes completed.\n"
     ]
    },
    {
     "name": "stderr",
     "output_type": "stream",
     "text": [
      "[I 2024-09-17 20:54:10,586] Trial 17 finished with value: 0.6844966818581595 and parameters: {'age_weight': 0.6380301138822206, 'gender_weight': 0.8405386382606237, 'height_weight': 0.527463270949104, 'weight_weight': 0.4877978104430804, 'ap_hi_weight': 0.5609965101575325, 'ap_lo_weight': 0.4898307499586878, 'cholesterol_weight': 0.6528469373335507, 'gluc_weight': 0.7711583141127303, 'smoke_weight': 0.19298235180495532, 'alco_weight': 0.7227226220084644, 'active_weight': 0.5067679231368063}. Best is trial 10 with value: 0.7269137668390566.\n"
     ]
    },
    {
     "name": "stdout",
     "output_type": "stream",
     "text": [
      "Running Java anonymization for trial 18 with k=10...\n",
      "Running Java code with k=10...\n",
      "Solution space too large for k=10 and l=2: Attribute 'age': hierarchy does not contain a transformation rule for value '[40, 80['\n",
      "Execution successful!\n",
      "Gesamte Ausführung hat 0 Stunden, 0 Minuten, und 2.27 Sekunden gedauert.\n",
      "Anonymization completed for k=10. Output saved to C:/Users/leesh/Desktop/BA/Notebooks/weight_optimization/anonymized_trial_18_k10.csv.\n",
      "Running Java anonymization for trial 18 with k=20...\n",
      "Running Java code with k=20...\n",
      "Solution space too large for k=20 and l=2: Attribute 'age': hierarchy does not contain a transformation rule for value '[40, 80['\n",
      "Execution successful!\n",
      "Gesamte Ausführung hat 0 Stunden, 0 Minuten, und 2.72 Sekunden gedauert.\n",
      "Anonymization completed for k=20. Output saved to C:/Users/leesh/Desktop/BA/Notebooks/weight_optimization/anonymized_trial_18_k20.csv.\n",
      "All anonymization processes completed.\n"
     ]
    },
    {
     "name": "stderr",
     "output_type": "stream",
     "text": [
      "[I 2024-09-17 20:54:26,655] Trial 18 finished with value: 0.7158988765347026 and parameters: {'age_weight': 0.36441976288371647, 'gender_weight': 0.3966175688506649, 'height_weight': 0.12283536969779624, 'weight_weight': 0.21369039682084356, 'ap_hi_weight': 0.13190272680315107, 'ap_lo_weight': 0.12884418033979927, 'cholesterol_weight': 0.855450995020956, 'gluc_weight': 0.579633600798378, 'smoke_weight': 0.39867372818061614, 'alco_weight': 0.9066612063261649, 'active_weight': 0.5219806058673117}. Best is trial 10 with value: 0.7269137668390566.\n"
     ]
    },
    {
     "name": "stdout",
     "output_type": "stream",
     "text": [
      "Running Java anonymization for trial 19 with k=10...\n",
      "Running Java code with k=10...\n",
      "Solution space too large for k=10 and l=2: Attribute 'age': hierarchy does not contain a transformation rule for value '[40, 80['\n",
      "Execution successful!\n",
      "Gesamte Ausführung hat 0 Stunden, 0 Minuten, und 2.73 Sekunden gedauert.\n",
      "Anonymization completed for k=10. Output saved to C:/Users/leesh/Desktop/BA/Notebooks/weight_optimization/anonymized_trial_19_k10.csv.\n",
      "Running Java anonymization for trial 19 with k=20...\n",
      "Running Java code with k=20...\n",
      "Solution space too large for k=20 and l=2: Attribute 'age': hierarchy does not contain a transformation rule for value '[40, 80['\n",
      "Execution successful!\n",
      "Gesamte Ausführung hat 0 Stunden, 0 Minuten, und 3.11 Sekunden gedauert.\n",
      "Anonymization completed for k=20. Output saved to C:/Users/leesh/Desktop/BA/Notebooks/weight_optimization/anonymized_trial_19_k20.csv.\n",
      "All anonymization processes completed.\n"
     ]
    },
    {
     "name": "stderr",
     "output_type": "stream",
     "text": [
      "[I 2024-09-17 20:54:42,757] Trial 19 finished with value: 0.7226569608735214 and parameters: {'age_weight': 0.9143758258412729, 'gender_weight': 0.723930406737192, 'height_weight': 0.6162897420713704, 'weight_weight': 0.6086416247325843, 'ap_hi_weight': 0.3202114606555829, 'ap_lo_weight': 0.48225793228147185, 'cholesterol_weight': 0.5057172012027554, 'gluc_weight': 0.9205470634383704, 'smoke_weight': 0.2929668141673527, 'alco_weight': 0.46419665814266586, 'active_weight': 0.7714329140723895}. Best is trial 10 with value: 0.7269137668390566.\n"
     ]
    },
    {
     "name": "stdout",
     "output_type": "stream",
     "text": [
      "Running Java anonymization for trial 20 with k=10...\n",
      "Running Java code with k=10...\n",
      "Solution space too large for k=10 and l=2: Attribute 'age': hierarchy does not contain a transformation rule for value '[40, 80['\n",
      "Execution successful!\n",
      "Gesamte Ausführung hat 0 Stunden, 0 Minuten, und 2.58 Sekunden gedauert.\n",
      "Anonymization completed for k=10. Output saved to C:/Users/leesh/Desktop/BA/Notebooks/weight_optimization/anonymized_trial_20_k10.csv.\n",
      "Running Java anonymization for trial 20 with k=20...\n",
      "Running Java code with k=20...\n",
      "Solution space too large for k=20 and l=2: Attribute 'age': hierarchy does not contain a transformation rule for value '[40, 80['\n",
      "Execution successful!\n",
      "Gesamte Ausführung hat 0 Stunden, 0 Minuten, und 2.52 Sekunden gedauert.\n",
      "Anonymization completed for k=20. Output saved to C:/Users/leesh/Desktop/BA/Notebooks/weight_optimization/anonymized_trial_20_k20.csv.\n",
      "All anonymization processes completed.\n"
     ]
    },
    {
     "name": "stderr",
     "output_type": "stream",
     "text": [
      "[I 2024-09-17 20:54:58,597] Trial 20 finished with value: 0.6868106286629193 and parameters: {'age_weight': 0.3884659346277418, 'gender_weight': 0.576225038738686, 'height_weight': 0.21158331909943245, 'weight_weight': 0.011268831406147983, 'ap_hi_weight': 0.3797378481789614, 'ap_lo_weight': 0.0896482542277717, 'cholesterol_weight': 0.9984717118488609, 'gluc_weight': 0.7638225685636166, 'smoke_weight': 0.47387442013047165, 'alco_weight': 0.7216352433510581, 'active_weight': 0.3976918337239455}. Best is trial 10 with value: 0.7269137668390566.\n"
     ]
    },
    {
     "name": "stdout",
     "output_type": "stream",
     "text": [
      "Running Java anonymization for trial 21 with k=10...\n",
      "Running Java code with k=10...\n",
      "Solution space too large for k=10 and l=2: Attribute 'age': hierarchy does not contain a transformation rule for value '[40, 80['\n",
      "Execution successful!\n",
      "Gesamte Ausführung hat 0 Stunden, 0 Minuten, und 2.34 Sekunden gedauert.\n",
      "Anonymization completed for k=10. Output saved to C:/Users/leesh/Desktop/BA/Notebooks/weight_optimization/anonymized_trial_21_k10.csv.\n",
      "Running Java anonymization for trial 21 with k=20...\n",
      "Running Java code with k=20...\n",
      "Solution space too large for k=20 and l=2: Attribute 'age': hierarchy does not contain a transformation rule for value '[40, 80['\n",
      "Execution successful!\n",
      "Gesamte Ausführung hat 0 Stunden, 0 Minuten, und 2.51 Sekunden gedauert.\n",
      "Anonymization completed for k=20. Output saved to C:/Users/leesh/Desktop/BA/Notebooks/weight_optimization/anonymized_trial_21_k20.csv.\n",
      "All anonymization processes completed.\n"
     ]
    },
    {
     "name": "stderr",
     "output_type": "stream",
     "text": [
      "[I 2024-09-17 20:55:14,447] Trial 21 finished with value: 0.7230242231465623 and parameters: {'age_weight': 0.9200306473877746, 'gender_weight': 0.7666170857301637, 'height_weight': 0.9823776880018242, 'weight_weight': 0.6143402982313654, 'ap_hi_weight': 0.28008393841665746, 'ap_lo_weight': 0.48751521782506624, 'cholesterol_weight': 0.5629967293016611, 'gluc_weight': 0.9306609092182365, 'smoke_weight': 0.2853373352409516, 'alco_weight': 0.4364235456957515, 'active_weight': 0.7730043895665238}. Best is trial 10 with value: 0.7269137668390566.\n"
     ]
    },
    {
     "name": "stdout",
     "output_type": "stream",
     "text": [
      "Running Java anonymization for trial 22 with k=10...\n",
      "Running Java code with k=10...\n",
      "Solution space too large for k=10 and l=2: Attribute 'age': hierarchy does not contain a transformation rule for value '[40, 80['\n",
      "Execution successful!\n",
      "Gesamte Ausführung hat 0 Stunden, 0 Minuten, und 2.28 Sekunden gedauert.\n",
      "Anonymization completed for k=10. Output saved to C:/Users/leesh/Desktop/BA/Notebooks/weight_optimization/anonymized_trial_22_k10.csv.\n",
      "Running Java anonymization for trial 22 with k=20...\n",
      "Running Java code with k=20...\n",
      "Solution space too large for k=20 and l=2: Attribute 'age': hierarchy does not contain a transformation rule for value '[40, 80['\n",
      "Execution successful!\n",
      "Gesamte Ausführung hat 0 Stunden, 0 Minuten, und 2.60 Sekunden gedauert.\n",
      "Anonymization completed for k=20. Output saved to C:/Users/leesh/Desktop/BA/Notebooks/weight_optimization/anonymized_trial_22_k20.csv.\n",
      "All anonymization processes completed.\n"
     ]
    },
    {
     "name": "stderr",
     "output_type": "stream",
     "text": [
      "[I 2024-09-17 20:55:30,677] Trial 22 finished with value: 0.7208765866482966 and parameters: {'age_weight': 0.9269571488912611, 'gender_weight': 0.884888126782552, 'height_weight': 0.9370612353377187, 'weight_weight': 0.4239649590913693, 'ap_hi_weight': 0.11827721301520311, 'ap_lo_weight': 0.27222920087933467, 'cholesterol_weight': 0.7640865490880426, 'gluc_weight': 0.9142155695877822, 'smoke_weight': 0.24496035706644168, 'alco_weight': 0.3635588624443803, 'active_weight': 0.8265641373276079}. Best is trial 10 with value: 0.7269137668390566.\n"
     ]
    },
    {
     "name": "stdout",
     "output_type": "stream",
     "text": [
      "Running Java anonymization for trial 23 with k=10...\n",
      "Running Java code with k=10...\n",
      "Solution space too large for k=10 and l=2: Attribute 'age': hierarchy does not contain a transformation rule for value '[40, 80['\n",
      "Execution successful!\n",
      "Gesamte Ausführung hat 0 Stunden, 0 Minuten, und 2.62 Sekunden gedauert.\n",
      "Anonymization completed for k=10. Output saved to C:/Users/leesh/Desktop/BA/Notebooks/weight_optimization/anonymized_trial_23_k10.csv.\n",
      "Running Java anonymization for trial 23 with k=20...\n",
      "Running Java code with k=20...\n",
      "Solution space too large for k=20 and l=2: Attribute 'age': hierarchy does not contain a transformation rule for value '[40, 80['\n",
      "Execution successful!\n",
      "Gesamte Ausführung hat 0 Stunden, 0 Minuten, und 2.48 Sekunden gedauert.\n",
      "Anonymization completed for k=20. Output saved to C:/Users/leesh/Desktop/BA/Notebooks/weight_optimization/anonymized_trial_23_k20.csv.\n",
      "All anonymization processes completed.\n"
     ]
    },
    {
     "name": "stderr",
     "output_type": "stream",
     "text": [
      "[I 2024-09-17 20:55:46,874] Trial 23 finished with value: 0.7270731125857014 and parameters: {'age_weight': 0.7899265645905068, 'gender_weight': 0.7405668739862273, 'height_weight': 0.9841217432644438, 'weight_weight': 0.7381783063114771, 'ap_hi_weight': 0.27440286746470294, 'ap_lo_weight': 0.6221002065244686, 'cholesterol_weight': 0.5633449566607169, 'gluc_weight': 0.9978698811103572, 'smoke_weight': 0.11538069550169339, 'alco_weight': 0.5338710680421815, 'active_weight': 0.5945254144222608}. Best is trial 23 with value: 0.7270731125857014.\n"
     ]
    },
    {
     "name": "stdout",
     "output_type": "stream",
     "text": [
      "Running Java anonymization for trial 24 with k=10...\n",
      "Running Java code with k=10...\n",
      "Solution space too large for k=10 and l=2: Attribute 'age': hierarchy does not contain a transformation rule for value '[40, 80['\n",
      "Execution successful!\n",
      "Gesamte Ausführung hat 0 Stunden, 0 Minuten, und 2.71 Sekunden gedauert.\n",
      "Anonymization completed for k=10. Output saved to C:/Users/leesh/Desktop/BA/Notebooks/weight_optimization/anonymized_trial_24_k10.csv.\n",
      "Running Java anonymization for trial 24 with k=20...\n",
      "Running Java code with k=20...\n",
      "Solution space too large for k=20 and l=2: Attribute 'age': hierarchy does not contain a transformation rule for value '[40, 80['\n",
      "Execution successful!\n",
      "Gesamte Ausführung hat 0 Stunden, 0 Minuten, und 2.81 Sekunden gedauert.\n",
      "Anonymization completed for k=20. Output saved to C:/Users/leesh/Desktop/BA/Notebooks/weight_optimization/anonymized_trial_24_k20.csv.\n",
      "All anonymization processes completed.\n"
     ]
    },
    {
     "name": "stderr",
     "output_type": "stream",
     "text": [
      "[I 2024-09-17 20:56:03,344] Trial 24 finished with value: 0.6954111278051911 and parameters: {'age_weight': 0.7883017743653237, 'gender_weight': 0.029028688143666215, 'height_weight': 0.08392197200134106, 'weight_weight': 0.9990576535605817, 'ap_hi_weight': 0.23212766788272218, 'ap_lo_weight': 0.6150147549254978, 'cholesterol_weight': 0.41236808479312076, 'gluc_weight': 0.9847126605477632, 'smoke_weight': 0.12661046788884517, 'alco_weight': 0.9327172799963345, 'active_weight': 0.5844047035392677}. Best is trial 23 with value: 0.7270731125857014.\n"
     ]
    },
    {
     "name": "stdout",
     "output_type": "stream",
     "text": [
      "Running Java anonymization for trial 25 with k=10...\n",
      "Running Java code with k=10...\n",
      "Solution space too large for k=10 and l=2: Attribute 'age': hierarchy does not contain a transformation rule for value '[40, 80['\n",
      "Execution successful!\n",
      "Gesamte Ausführung hat 0 Stunden, 0 Minuten, und 3.01 Sekunden gedauert.\n",
      "Anonymization completed for k=10. Output saved to C:/Users/leesh/Desktop/BA/Notebooks/weight_optimization/anonymized_trial_25_k10.csv.\n",
      "Running Java anonymization for trial 25 with k=20...\n",
      "Running Java code with k=20...\n",
      "Solution space too large for k=20 and l=2: Attribute 'age': hierarchy does not contain a transformation rule for value '[40, 80['\n",
      "Execution successful!\n",
      "Gesamte Ausführung hat 0 Stunden, 0 Minuten, und 2.73 Sekunden gedauert.\n",
      "Anonymization completed for k=20. Output saved to C:/Users/leesh/Desktop/BA/Notebooks/weight_optimization/anonymized_trial_25_k20.csv.\n",
      "All anonymization processes completed.\n"
     ]
    },
    {
     "name": "stderr",
     "output_type": "stream",
     "text": [
      "[I 2024-09-17 20:56:20,672] Trial 25 finished with value: 0.7229824703126262 and parameters: {'age_weight': 0.6243663176473582, 'gender_weight': 0.9036395299435185, 'height_weight': 0.4212321377877949, 'weight_weight': 0.7744151552658423, 'ap_hi_weight': 0.12186028712990782, 'ap_lo_weight': 0.8393871627782332, 'cholesterol_weight': 0.7003143059700225, 'gluc_weight': 0.8304664582397802, 'smoke_weight': 0.12902141352044477, 'alco_weight': 0.7868859919945375, 'active_weight': 0.575284986447548}. Best is trial 23 with value: 0.7270731125857014.\n"
     ]
    },
    {
     "name": "stdout",
     "output_type": "stream",
     "text": [
      "Running Java anonymization for trial 26 with k=10...\n",
      "Running Java code with k=10...\n",
      "Solution space too large for k=10 and l=2: Attribute 'age': hierarchy does not contain a transformation rule for value '[40, 80['\n",
      "Execution successful!\n",
      "Gesamte Ausführung hat 0 Stunden, 0 Minuten, und 2.92 Sekunden gedauert.\n",
      "Anonymization completed for k=10. Output saved to C:/Users/leesh/Desktop/BA/Notebooks/weight_optimization/anonymized_trial_26_k10.csv.\n",
      "Running Java anonymization for trial 26 with k=20...\n",
      "Running Java code with k=20...\n",
      "Solution space too large for k=20 and l=2: Attribute 'age': hierarchy does not contain a transformation rule for value '[40, 80['\n",
      "Execution successful!\n",
      "Gesamte Ausführung hat 0 Stunden, 0 Minuten, und 2.62 Sekunden gedauert.\n",
      "Anonymization completed for k=20. Output saved to C:/Users/leesh/Desktop/BA/Notebooks/weight_optimization/anonymized_trial_26_k20.csv.\n",
      "All anonymization processes completed.\n"
     ]
    },
    {
     "name": "stderr",
     "output_type": "stream",
     "text": [
      "[I 2024-09-17 20:56:40,012] Trial 26 finished with value: 0.7207997011431154 and parameters: {'age_weight': 0.9935688218096778, 'gender_weight': 0.44146089811988054, 'height_weight': 0.5861940068294912, 'weight_weight': 0.22731602842906912, 'ap_hi_weight': 0.4301433083582372, 'ap_lo_weight': 0.5861490851939459, 'cholesterol_weight': 0.004581212374044186, 'gluc_weight': 0.7982032910870877, 'smoke_weight': 0.44470137826757794, 'alco_weight': 0.00778289917980135, 'active_weight': 0.7107122861533474}. Best is trial 23 with value: 0.7270731125857014.\n"
     ]
    },
    {
     "name": "stdout",
     "output_type": "stream",
     "text": [
      "Running Java anonymization for trial 27 with k=10...\n",
      "Running Java code with k=10...\n",
      "Solution space too large for k=10 and l=2: Attribute 'age': hierarchy does not contain a transformation rule for value '[40, 80['\n",
      "Execution successful!\n",
      "Gesamte Ausführung hat 0 Stunden, 0 Minuten, und 2.41 Sekunden gedauert.\n",
      "Anonymization completed for k=10. Output saved to C:/Users/leesh/Desktop/BA/Notebooks/weight_optimization/anonymized_trial_27_k10.csv.\n",
      "Running Java anonymization for trial 27 with k=20...\n",
      "Running Java code with k=20...\n",
      "Solution space too large for k=20 and l=2: Attribute 'age': hierarchy does not contain a transformation rule for value '[40, 80['\n",
      "Execution successful!\n",
      "Gesamte Ausführung hat 0 Stunden, 0 Minuten, und 2.33 Sekunden gedauert.\n",
      "Anonymization completed for k=20. Output saved to C:/Users/leesh/Desktop/BA/Notebooks/weight_optimization/anonymized_trial_27_k20.csv.\n",
      "All anonymization processes completed.\n"
     ]
    },
    {
     "name": "stderr",
     "output_type": "stream",
     "text": [
      "[I 2024-09-17 20:56:56,314] Trial 27 finished with value: 0.7229178447370547 and parameters: {'age_weight': 0.7993388095478247, 'gender_weight': 0.6086017233041526, 'height_weight': 0.06593296130925616, 'weight_weight': 0.5389598010625208, 'ap_hi_weight': 0.020165419811550817, 'ap_lo_weight': 0.4018839718860311, 'cholesterol_weight': 0.576234976833115, 'gluc_weight': 0.999884524214127, 'smoke_weight': 0.11172788246487231, 'alco_weight': 0.5626393231970743, 'active_weight': 0.4176280505778631}. Best is trial 23 with value: 0.7270731125857014.\n"
     ]
    },
    {
     "name": "stdout",
     "output_type": "stream",
     "text": [
      "Running Java anonymization for trial 28 with k=10...\n",
      "Running Java code with k=10...\n",
      "Solution space too large for k=10 and l=2: Attribute 'age': hierarchy does not contain a transformation rule for value '[40, 80['\n",
      "Execution successful!\n",
      "Gesamte Ausführung hat 0 Stunden, 0 Minuten, und 2.37 Sekunden gedauert.\n",
      "Anonymization completed for k=10. Output saved to C:/Users/leesh/Desktop/BA/Notebooks/weight_optimization/anonymized_trial_28_k10.csv.\n",
      "Running Java anonymization for trial 28 with k=20...\n",
      "Running Java code with k=20...\n",
      "Solution space too large for k=20 and l=2: Attribute 'age': hierarchy does not contain a transformation rule for value '[40, 80['\n",
      "Execution successful!\n",
      "Gesamte Ausführung hat 0 Stunden, 0 Minuten, und 2.18 Sekunden gedauert.\n",
      "Anonymization completed for k=20. Output saved to C:/Users/leesh/Desktop/BA/Notebooks/weight_optimization/anonymized_trial_28_k20.csv.\n",
      "All anonymization processes completed.\n"
     ]
    },
    {
     "name": "stderr",
     "output_type": "stream",
     "text": [
      "[I 2024-09-17 20:57:13,163] Trial 28 finished with value: 0.7203749040793757 and parameters: {'age_weight': 0.8808047991978059, 'gender_weight': 0.702731974109217, 'height_weight': 0.4180591795055695, 'weight_weight': 0.39566220033844246, 'ap_hi_weight': 0.6116466785118947, 'ap_lo_weight': 0.68959340304789, 'cholesterol_weight': 0.639755943164953, 'gluc_weight': 0.8842607495989712, 'smoke_weight': 0.6784250027140897, 'alco_weight': 0.686296549877444, 'active_weight': 0.23823256267256676}. Best is trial 23 with value: 0.7270731125857014.\n"
     ]
    },
    {
     "name": "stdout",
     "output_type": "stream",
     "text": [
      "Running Java anonymization for trial 29 with k=10...\n",
      "Running Java code with k=10...\n",
      "Solution space too large for k=10 and l=2: Attribute 'age': hierarchy does not contain a transformation rule for value '[40, 80['\n",
      "Execution successful!\n",
      "Gesamte Ausführung hat 0 Stunden, 0 Minuten, und 2.18 Sekunden gedauert.\n",
      "Anonymization completed for k=10. Output saved to C:/Users/leesh/Desktop/BA/Notebooks/weight_optimization/anonymized_trial_29_k10.csv.\n",
      "Running Java anonymization for trial 29 with k=20...\n",
      "Running Java code with k=20...\n",
      "Solution space too large for k=20 and l=2: Attribute 'age': hierarchy does not contain a transformation rule for value '[40, 80['\n",
      "Execution successful!\n",
      "Gesamte Ausführung hat 0 Stunden, 0 Minuten, und 2.10 Sekunden gedauert.\n",
      "Anonymization completed for k=20. Output saved to C:/Users/leesh/Desktop/BA/Notebooks/weight_optimization/anonymized_trial_29_k20.csv.\n",
      "All anonymization processes completed.\n"
     ]
    },
    {
     "name": "stderr",
     "output_type": "stream",
     "text": [
      "[I 2024-09-17 20:57:27,904] Trial 29 finished with value: 0.7244286363200303 and parameters: {'age_weight': 0.6182096710466842, 'gender_weight': 0.8760365394711318, 'height_weight': 0.1935787590627608, 'weight_weight': 0.7481771818740715, 'ap_hi_weight': 0.13880128052425297, 'ap_lo_weight': 0.19853278348938241, 'cholesterol_weight': 0.8723442003764837, 'gluc_weight': 0.6425742680568504, 'smoke_weight': 0.06753484435825657, 'alco_weight': 0.2806446439980822, 'active_weight': 0.565391776470299}. Best is trial 23 with value: 0.7270731125857014.\n"
     ]
    },
    {
     "name": "stdout",
     "output_type": "stream",
     "text": [
      "Running Java anonymization for trial 30 with k=10...\n",
      "Running Java code with k=10...\n",
      "Solution space too large for k=10 and l=2: Attribute 'age': hierarchy does not contain a transformation rule for value '[40, 80['\n",
      "Execution successful!\n",
      "Gesamte Ausführung hat 0 Stunden, 0 Minuten, und 3.01 Sekunden gedauert.\n",
      "Anonymization completed for k=10. Output saved to C:/Users/leesh/Desktop/BA/Notebooks/weight_optimization/anonymized_trial_30_k10.csv.\n",
      "Running Java anonymization for trial 30 with k=20...\n",
      "Running Java code with k=20...\n",
      "Solution space too large for k=20 and l=2: Attribute 'age': hierarchy does not contain a transformation rule for value '[40, 80['\n",
      "Execution successful!\n",
      "Gesamte Ausführung hat 0 Stunden, 0 Minuten, und 2.55 Sekunden gedauert.\n",
      "Anonymization completed for k=20. Output saved to C:/Users/leesh/Desktop/BA/Notebooks/weight_optimization/anonymized_trial_30_k20.csv.\n",
      "All anonymization processes completed.\n"
     ]
    },
    {
     "name": "stderr",
     "output_type": "stream",
     "text": [
      "[I 2024-09-17 20:57:44,584] Trial 30 finished with value: 0.724420934519516 and parameters: {'age_weight': 0.6136948426457214, 'gender_weight': 0.8902533838661562, 'height_weight': 0.19400754256171884, 'weight_weight': 0.714663413836366, 'ap_hi_weight': 0.08778462743418826, 'ap_lo_weight': 0.23154215965848132, 'cholesterol_weight': 0.8901219801506958, 'gluc_weight': 0.6692820072839114, 'smoke_weight': 0.09118191442255208, 'alco_weight': 0.3064087805427116, 'active_weight': 0.10695073062559435}. Best is trial 23 with value: 0.7270731125857014.\n"
     ]
    },
    {
     "name": "stdout",
     "output_type": "stream",
     "text": [
      "Running Java anonymization for trial 31 with k=10...\n",
      "Running Java code with k=10...\n",
      "Solution space too large for k=10 and l=2: Attribute 'age': hierarchy does not contain a transformation rule for value '[40, 80['\n",
      "Execution successful!\n",
      "Gesamte Ausführung hat 0 Stunden, 0 Minuten, und 2.12 Sekunden gedauert.\n",
      "Anonymization completed for k=10. Output saved to C:/Users/leesh/Desktop/BA/Notebooks/weight_optimization/anonymized_trial_31_k10.csv.\n",
      "Running Java anonymization for trial 31 with k=20...\n",
      "Running Java code with k=20...\n",
      "Solution space too large for k=20 and l=2: Attribute 'age': hierarchy does not contain a transformation rule for value '[40, 80['\n",
      "Execution successful!\n",
      "Gesamte Ausführung hat 0 Stunden, 0 Minuten, und 2.07 Sekunden gedauert.\n",
      "Anonymization completed for k=20. Output saved to C:/Users/leesh/Desktop/BA/Notebooks/weight_optimization/anonymized_trial_31_k20.csv.\n",
      "All anonymization processes completed.\n"
     ]
    },
    {
     "name": "stderr",
     "output_type": "stream",
     "text": [
      "[I 2024-09-17 20:58:00,693] Trial 31 finished with value: 0.7245939811224393 and parameters: {'age_weight': 0.565092482465469, 'gender_weight': 0.8797557983165119, 'height_weight': 0.233609776642769, 'weight_weight': 0.7344522441561755, 'ap_hi_weight': 0.10991206611049528, 'ap_lo_weight': 0.19696035450744456, 'cholesterol_weight': 0.8548291597747226, 'gluc_weight': 0.6555315045481138, 'smoke_weight': 0.07308735859902127, 'alco_weight': 0.31574882623985073, 'active_weight': 0.09788678235878119}. Best is trial 23 with value: 0.7270731125857014.\n"
     ]
    },
    {
     "name": "stdout",
     "output_type": "stream",
     "text": [
      "Running Java anonymization for trial 32 with k=10...\n",
      "Running Java code with k=10...\n",
      "Solution space too large for k=10 and l=2: Attribute 'age': hierarchy does not contain a transformation rule for value '[40, 80['\n",
      "Execution successful!\n",
      "Gesamte Ausführung hat 0 Stunden, 0 Minuten, und 2.57 Sekunden gedauert.\n",
      "Anonymization completed for k=10. Output saved to C:/Users/leesh/Desktop/BA/Notebooks/weight_optimization/anonymized_trial_32_k10.csv.\n",
      "Running Java anonymization for trial 32 with k=20...\n",
      "Running Java code with k=20...\n",
      "Solution space too large for k=20 and l=2: Attribute 'age': hierarchy does not contain a transformation rule for value '[40, 80['\n",
      "Execution successful!\n",
      "Gesamte Ausführung hat 0 Stunden, 0 Minuten, und 2.53 Sekunden gedauert.\n",
      "Anonymization completed for k=20. Output saved to C:/Users/leesh/Desktop/BA/Notebooks/weight_optimization/anonymized_trial_32_k20.csv.\n",
      "All anonymization processes completed.\n"
     ]
    },
    {
     "name": "stderr",
     "output_type": "stream",
     "text": [
      "[I 2024-09-17 20:58:17,572] Trial 32 finished with value: 0.7249312670892297 and parameters: {'age_weight': 0.4662572163614447, 'gender_weight': 0.9893646261459959, 'height_weight': 0.28608438792218593, 'weight_weight': 0.7309764847045708, 'ap_hi_weight': 0.2848465791631135, 'ap_lo_weight': 0.18667942225287404, 'cholesterol_weight': 0.925654949933232, 'gluc_weight': 0.5051353964910688, 'smoke_weight': 0.04616441778528848, 'alco_weight': 0.10170611338913649, 'active_weight': 0.1270973350773421}. Best is trial 23 with value: 0.7270731125857014.\n"
     ]
    },
    {
     "name": "stdout",
     "output_type": "stream",
     "text": [
      "Running Java anonymization for trial 33 with k=10...\n",
      "Running Java code with k=10...\n",
      "Solution space too large for k=10 and l=2: Attribute 'age': hierarchy does not contain a transformation rule for value '[40, 80['\n",
      "Execution successful!\n",
      "Gesamte Ausführung hat 0 Stunden, 0 Minuten, und 2.47 Sekunden gedauert.\n",
      "Anonymization completed for k=10. Output saved to C:/Users/leesh/Desktop/BA/Notebooks/weight_optimization/anonymized_trial_33_k10.csv.\n",
      "Running Java anonymization for trial 33 with k=20...\n",
      "Running Java code with k=20...\n",
      "Solution space too large for k=20 and l=2: Attribute 'age': hierarchy does not contain a transformation rule for value '[40, 80['\n",
      "Execution successful!\n",
      "Gesamte Ausführung hat 0 Stunden, 0 Minuten, und 2.06 Sekunden gedauert.\n",
      "Anonymization completed for k=20. Output saved to C:/Users/leesh/Desktop/BA/Notebooks/weight_optimization/anonymized_trial_33_k20.csv.\n",
      "All anonymization processes completed.\n"
     ]
    },
    {
     "name": "stderr",
     "output_type": "stream",
     "text": [
      "[I 2024-09-17 20:58:32,840] Trial 33 finished with value: 0.7229895590398439 and parameters: {'age_weight': 0.42270742389922183, 'gender_weight': 0.9858463086967073, 'height_weight': 0.31799312085231424, 'weight_weight': 0.8612223548291766, 'ap_hi_weight': 0.28147566044316585, 'ap_lo_weight': 0.06872454252905558, 'cholesterol_weight': 0.9397962127098541, 'gluc_weight': 0.4447143019303096, 'smoke_weight': 0.004021959714599774, 'alco_weight': 0.17973510353652639, 'active_weight': 0.08826386625444073}. Best is trial 23 with value: 0.7270731125857014.\n"
     ]
    },
    {
     "name": "stdout",
     "output_type": "stream",
     "text": [
      "Running Java anonymization for trial 34 with k=10...\n",
      "Running Java code with k=10...\n",
      "Solution space too large for k=10 and l=2: Attribute 'age': hierarchy does not contain a transformation rule for value '[40, 80['\n",
      "Execution successful!\n",
      "Gesamte Ausführung hat 0 Stunden, 0 Minuten, und 2.52 Sekunden gedauert.\n",
      "Anonymization completed for k=10. Output saved to C:/Users/leesh/Desktop/BA/Notebooks/weight_optimization/anonymized_trial_34_k10.csv.\n",
      "Running Java anonymization for trial 34 with k=20...\n",
      "Running Java code with k=20...\n",
      "Solution space too large for k=20 and l=2: Attribute 'age': hierarchy does not contain a transformation rule for value '[40, 80['\n",
      "Execution successful!\n",
      "Gesamte Ausführung hat 0 Stunden, 0 Minuten, und 2.15 Sekunden gedauert.\n",
      "Anonymization completed for k=20. Output saved to C:/Users/leesh/Desktop/BA/Notebooks/weight_optimization/anonymized_trial_34_k20.csv.\n",
      "All anonymization processes completed.\n"
     ]
    },
    {
     "name": "stderr",
     "output_type": "stream",
     "text": [
      "[I 2024-09-17 20:58:48,315] Trial 34 finished with value: 0.7248850575192577 and parameters: {'age_weight': 0.279381177569218, 'gender_weight': 0.7519175445704926, 'height_weight': 0.27840025249763584, 'weight_weight': 0.6935997436728518, 'ap_hi_weight': 0.3454494729471087, 'ap_lo_weight': 0.3249662586500273, 'cholesterol_weight': 0.9972546566810592, 'gluc_weight': 0.5346353234517729, 'smoke_weight': 0.1625701997498593, 'alco_weight': 0.14752333097849574, 'active_weight': 0.10186841794003154}. Best is trial 23 with value: 0.7270731125857014.\n"
     ]
    },
    {
     "name": "stdout",
     "output_type": "stream",
     "text": [
      "Running Java anonymization for trial 35 with k=10...\n",
      "Running Java code with k=10...\n",
      "Solution space too large for k=10 and l=2: Attribute 'age': hierarchy does not contain a transformation rule for value '[40, 80['\n",
      "Execution successful!\n",
      "Gesamte Ausführung hat 0 Stunden, 0 Minuten, und 2.42 Sekunden gedauert.\n",
      "Anonymization completed for k=10. Output saved to C:/Users/leesh/Desktop/BA/Notebooks/weight_optimization/anonymized_trial_35_k10.csv.\n",
      "Running Java anonymization for trial 35 with k=20...\n",
      "Running Java code with k=20...\n",
      "Solution space too large for k=20 and l=2: Attribute 'age': hierarchy does not contain a transformation rule for value '[40, 80['\n",
      "Execution successful!\n",
      "Gesamte Ausführung hat 0 Stunden, 0 Minuten, und 2.78 Sekunden gedauert.\n",
      "Anonymization completed for k=20. Output saved to C:/Users/leesh/Desktop/BA/Notebooks/weight_optimization/anonymized_trial_35_k20.csv.\n",
      "All anonymization processes completed.\n"
     ]
    },
    {
     "name": "stderr",
     "output_type": "stream",
     "text": [
      "[I 2024-09-17 20:59:05,110] Trial 35 finished with value: 0.72493624913067 and parameters: {'age_weight': 0.1927785672160477, 'gender_weight': 0.7315306506173974, 'height_weight': 0.3661478840553681, 'weight_weight': 0.5770920161883888, 'ap_hi_weight': 0.36233496675417354, 'ap_lo_weight': 0.31390277201938566, 'cholesterol_weight': 0.9385980241397269, 'gluc_weight': 0.18233420221918795, 'smoke_weight': 0.15378309671564602, 'alco_weight': 0.018942286530652552, 'active_weight': 0.1682089728260932}. Best is trial 23 with value: 0.7270731125857014.\n"
     ]
    },
    {
     "name": "stdout",
     "output_type": "stream",
     "text": [
      "Running Java anonymization for trial 36 with k=10...\n",
      "Running Java code with k=10...\n",
      "Solution space too large for k=10 and l=2: Attribute 'age': hierarchy does not contain a transformation rule for value '[40, 80['\n",
      "Execution successful!\n",
      "Gesamte Ausführung hat 0 Stunden, 0 Minuten, und 2.21 Sekunden gedauert.\n",
      "Anonymization completed for k=10. Output saved to C:/Users/leesh/Desktop/BA/Notebooks/weight_optimization/anonymized_trial_36_k10.csv.\n",
      "Running Java anonymization for trial 36 with k=20...\n",
      "Running Java code with k=20...\n",
      "Solution space too large for k=20 and l=2: Attribute 'age': hierarchy does not contain a transformation rule for value '[40, 80['\n",
      "Execution successful!\n",
      "Gesamte Ausführung hat 0 Stunden, 0 Minuten, und 2.38 Sekunden gedauert.\n",
      "Anonymization completed for k=20. Output saved to C:/Users/leesh/Desktop/BA/Notebooks/weight_optimization/anonymized_trial_36_k20.csv.\n",
      "All anonymization processes completed.\n"
     ]
    },
    {
     "name": "stderr",
     "output_type": "stream",
     "text": [
      "[I 2024-09-17 20:59:21,621] Trial 36 finished with value: 0.7265730381655162 and parameters: {'age_weight': 0.44174217613478234, 'gender_weight': 0.5728204799543601, 'height_weight': 0.37105260171863763, 'weight_weight': 0.5571384548248881, 'ap_hi_weight': 0.42361176287005736, 'ap_lo_weight': 0.3747332632402329, 'cholesterol_weight': 0.9275697937066617, 'gluc_weight': 0.10150677713556507, 'smoke_weight': 0.2847290750383395, 'alco_weight': 0.10257598217202862, 'active_weight': 0.18166428708504606}. Best is trial 23 with value: 0.7270731125857014.\n"
     ]
    },
    {
     "name": "stdout",
     "output_type": "stream",
     "text": [
      "Running Java anonymization for trial 37 with k=10...\n",
      "Running Java code with k=10...\n",
      "Solution space too large for k=10 and l=2: Attribute 'age': hierarchy does not contain a transformation rule for value '[40, 80['\n",
      "Execution successful!\n",
      "Gesamte Ausführung hat 0 Stunden, 0 Minuten, und 2.19 Sekunden gedauert.\n",
      "Anonymization completed for k=10. Output saved to C:/Users/leesh/Desktop/BA/Notebooks/weight_optimization/anonymized_trial_37_k10.csv.\n",
      "Running Java anonymization for trial 37 with k=20...\n",
      "Running Java code with k=20...\n",
      "Solution space too large for k=20 and l=2: Attribute 'age': hierarchy does not contain a transformation rule for value '[40, 80['\n",
      "Execution successful!\n",
      "Gesamte Ausführung hat 0 Stunden, 0 Minuten, und 2.01 Sekunden gedauert.\n",
      "Anonymization completed for k=20. Output saved to C:/Users/leesh/Desktop/BA/Notebooks/weight_optimization/anonymized_trial_37_k20.csv.\n",
      "All anonymization processes completed.\n"
     ]
    },
    {
     "name": "stderr",
     "output_type": "stream",
     "text": [
      "[I 2024-09-17 20:59:37,232] Trial 37 finished with value: 0.7266841228278981 and parameters: {'age_weight': 0.1573982581790594, 'gender_weight': 0.5824118974483576, 'height_weight': 0.34831334183270685, 'weight_weight': 0.5591846801361859, 'ap_hi_weight': 0.4727126578139226, 'ap_lo_weight': 0.39459127155764234, 'cholesterol_weight': 0.8097475219013546, 'gluc_weight': 0.11147044967976015, 'smoke_weight': 0.2757500964426069, 'alco_weight': 0.026858994860171584, 'active_weight': 0.24953968937524507}. Best is trial 23 with value: 0.7270731125857014.\n"
     ]
    },
    {
     "name": "stdout",
     "output_type": "stream",
     "text": [
      "Running Java anonymization for trial 38 with k=10...\n",
      "Running Java code with k=10...\n",
      "Solution space too large for k=10 and l=2: Attribute 'age': hierarchy does not contain a transformation rule for value '[40, 80['\n",
      "Execution successful!\n",
      "Gesamte Ausführung hat 0 Stunden, 0 Minuten, und 2.22 Sekunden gedauert.\n",
      "Anonymization completed for k=10. Output saved to C:/Users/leesh/Desktop/BA/Notebooks/weight_optimization/anonymized_trial_38_k10.csv.\n",
      "Running Java anonymization for trial 38 with k=20...\n",
      "Running Java code with k=20...\n",
      "Solution space too large for k=20 and l=2: Attribute 'age': hierarchy does not contain a transformation rule for value '[40, 80['\n",
      "Execution successful!\n",
      "Gesamte Ausführung hat 0 Stunden, 0 Minuten, und 2.05 Sekunden gedauert.\n",
      "Anonymization completed for k=20. Output saved to C:/Users/leesh/Desktop/BA/Notebooks/weight_optimization/anonymized_trial_38_k20.csv.\n",
      "All anonymization processes completed.\n"
     ]
    },
    {
     "name": "stderr",
     "output_type": "stream",
     "text": [
      "[I 2024-09-17 20:59:53,975] Trial 38 finished with value: 0.7229378075166253 and parameters: {'age_weight': 0.2918065753897539, 'gender_weight': 0.4713396504268022, 'height_weight': 0.464226053594478, 'weight_weight': 0.5589494416287977, 'ap_hi_weight': 0.6352418973554907, 'ap_lo_weight': 0.976810236703099, 'cholesterol_weight': 0.8040626537836697, 'gluc_weight': 0.016396572879961865, 'smoke_weight': 0.27840297978219253, 'alco_weight': 0.09937153459823089, 'active_weight': 0.3576609458779515}. Best is trial 23 with value: 0.7270731125857014.\n"
     ]
    },
    {
     "name": "stdout",
     "output_type": "stream",
     "text": [
      "Running Java anonymization for trial 39 with k=10...\n",
      "Running Java code with k=10...\n",
      "Solution space too large for k=10 and l=2: Attribute 'age': hierarchy does not contain a transformation rule for value '[40, 80['\n",
      "Execution successful!\n",
      "Gesamte Ausführung hat 0 Stunden, 0 Minuten, und 2.37 Sekunden gedauert.\n",
      "Anonymization completed for k=10. Output saved to C:/Users/leesh/Desktop/BA/Notebooks/weight_optimization/anonymized_trial_39_k10.csv.\n",
      "Running Java anonymization for trial 39 with k=20...\n",
      "Running Java code with k=20...\n",
      "Solution space too large for k=20 and l=2: Attribute 'age': hierarchy does not contain a transformation rule for value '[40, 80['\n",
      "Execution successful!\n",
      "Gesamte Ausführung hat 0 Stunden, 0 Minuten, und 2.68 Sekunden gedauert.\n",
      "Anonymization completed for k=20. Output saved to C:/Users/leesh/Desktop/BA/Notebooks/weight_optimization/anonymized_trial_39_k20.csv.\n",
      "All anonymization processes completed.\n"
     ]
    },
    {
     "name": "stderr",
     "output_type": "stream",
     "text": [
      "[I 2024-09-17 21:00:11,266] Trial 39 finished with value: 0.7196998221905165 and parameters: {'age_weight': 0.008254084682201623, 'gender_weight': 0.3118224575669383, 'height_weight': 0.7463165606330562, 'weight_weight': 0.4835312543451199, 'ap_hi_weight': 0.5157783349671877, 'ap_lo_weight': 0.4180784555905278, 'cholesterol_weight': 0.35111199132140597, 'gluc_weight': 0.12163802728417815, 'smoke_weight': 0.42907525513433786, 'alco_weight': 0.5339509123626784, 'active_weight': 0.2565931598576931}. Best is trial 23 with value: 0.7270731125857014.\n"
     ]
    },
    {
     "name": "stdout",
     "output_type": "stream",
     "text": [
      "Running Java anonymization for trial 40 with k=10...\n",
      "Running Java code with k=10...\n",
      "Solution space too large for k=10 and l=2: Attribute 'age': hierarchy does not contain a transformation rule for value '[40, 80['\n",
      "Execution successful!\n",
      "Gesamte Ausführung hat 0 Stunden, 0 Minuten, und 2.15 Sekunden gedauert.\n",
      "Anonymization completed for k=10. Output saved to C:/Users/leesh/Desktop/BA/Notebooks/weight_optimization/anonymized_trial_40_k10.csv.\n",
      "Running Java anonymization for trial 40 with k=20...\n",
      "Running Java code with k=20...\n",
      "Solution space too large for k=20 and l=2: Attribute 'age': hierarchy does not contain a transformation rule for value '[40, 80['\n",
      "Execution successful!\n",
      "Gesamte Ausführung hat 0 Stunden, 0 Minuten, und 2.12 Sekunden gedauert.\n",
      "Anonymization completed for k=20. Output saved to C:/Users/leesh/Desktop/BA/Notebooks/weight_optimization/anonymized_trial_40_k20.csv.\n",
      "All anonymization processes completed.\n"
     ]
    },
    {
     "name": "stderr",
     "output_type": "stream",
     "text": [
      "[I 2024-09-17 21:00:27,759] Trial 40 finished with value: 0.714744533472538 and parameters: {'age_weight': 0.1255881972753191, 'gender_weight': 0.5856407296571322, 'height_weight': 0.6639650905724144, 'weight_weight': 0.673194240553115, 'ap_hi_weight': 0.4511469335849295, 'ap_lo_weight': 0.5664795307159107, 'cholesterol_weight': 0.4864233273983273, 'gluc_weight': 0.2835634809760903, 'smoke_weight': 0.3191067273047886, 'alco_weight': 0.14952227723716194, 'active_weight': 0.21330116800915766}. Best is trial 23 with value: 0.7270731125857014.\n"
     ]
    },
    {
     "name": "stdout",
     "output_type": "stream",
     "text": [
      "Running Java anonymization for trial 41 with k=10...\n",
      "Running Java code with k=10...\n",
      "Solution space too large for k=10 and l=2: Attribute 'age': hierarchy does not contain a transformation rule for value '[40, 80['\n",
      "Execution successful!\n",
      "Gesamte Ausführung hat 0 Stunden, 0 Minuten, und 2.35 Sekunden gedauert.\n",
      "Anonymization completed for k=10. Output saved to C:/Users/leesh/Desktop/BA/Notebooks/weight_optimization/anonymized_trial_41_k10.csv.\n",
      "Running Java anonymization for trial 41 with k=20...\n",
      "Running Java code with k=20...\n",
      "Solution space too large for k=20 and l=2: Attribute 'age': hierarchy does not contain a transformation rule for value '[40, 80['\n",
      "Execution successful!\n",
      "Gesamte Ausführung hat 0 Stunden, 0 Minuten, und 2.05 Sekunden gedauert.\n",
      "Anonymization completed for k=20. Output saved to C:/Users/leesh/Desktop/BA/Notebooks/weight_optimization/anonymized_trial_41_k20.csv.\n",
      "All anonymization processes completed.\n"
     ]
    },
    {
     "name": "stderr",
     "output_type": "stream",
     "text": [
      "[I 2024-09-17 21:00:43,605] Trial 41 finished with value: 0.72493126222202 and parameters: {'age_weight': 0.20233540155750562, 'gender_weight': 0.6606911491888026, 'height_weight': 0.3860153116562642, 'weight_weight': 0.5769408658046524, 'ap_hi_weight': 0.40776767527598073, 'ap_lo_weight': 0.2786882481708779, 'cholesterol_weight': 0.9421883236297499, 'gluc_weight': 0.16242027629666578, 'smoke_weight': 0.24380981862456952, 'alco_weight': 0.0169270327452244, 'active_weight': 0.15835527685186246}. Best is trial 23 with value: 0.7270731125857014.\n"
     ]
    },
    {
     "name": "stdout",
     "output_type": "stream",
     "text": [
      "Running Java anonymization for trial 42 with k=10...\n",
      "Running Java code with k=10...\n",
      "Solution space too large for k=10 and l=2: Attribute 'age': hierarchy does not contain a transformation rule for value '[40, 80['\n",
      "Execution successful!\n",
      "Gesamte Ausführung hat 0 Stunden, 0 Minuten, und 2.48 Sekunden gedauert.\n",
      "Anonymization completed for k=10. Output saved to C:/Users/leesh/Desktop/BA/Notebooks/weight_optimization/anonymized_trial_42_k10.csv.\n",
      "Running Java anonymization for trial 42 with k=20...\n",
      "Running Java code with k=20...\n",
      "Solution space too large for k=20 and l=2: Attribute 'age': hierarchy does not contain a transformation rule for value '[40, 80['\n",
      "Execution successful!\n",
      "Gesamte Ausführung hat 0 Stunden, 0 Minuten, und 2.68 Sekunden gedauert.\n",
      "Anonymization completed for k=20. Output saved to C:/Users/leesh/Desktop/BA/Notebooks/weight_optimization/anonymized_trial_42_k20.csv.\n",
      "All anonymization processes completed.\n"
     ]
    },
    {
     "name": "stderr",
     "output_type": "stream",
     "text": [
      "[I 2024-09-17 21:01:00,495] Trial 42 finished with value: 0.7230011174379567 and parameters: {'age_weight': 0.2049888412817481, 'gender_weight': 0.5311724410558211, 'height_weight': 0.36379013158979573, 'weight_weight': 0.42239181564133, 'ap_hi_weight': 0.48519085059801814, 'ap_lo_weight': 0.4398854066807522, 'cholesterol_weight': 0.8186755070243619, 'gluc_weight': 0.09406703790264612, 'smoke_weight': 0.1835764910974241, 'alco_weight': 0.06969228531513758, 'active_weight': 0.29531451338683906}. Best is trial 23 with value: 0.7270731125857014.\n"
     ]
    },
    {
     "name": "stdout",
     "output_type": "stream",
     "text": [
      "Running Java anonymization for trial 43 with k=10...\n",
      "Running Java code with k=10...\n",
      "Solution space too large for k=10 and l=2: Attribute 'age': hierarchy does not contain a transformation rule for value '[40, 80['\n",
      "Execution successful!\n",
      "Gesamte Ausführung hat 0 Stunden, 0 Minuten, und 2.15 Sekunden gedauert.\n",
      "Anonymization completed for k=10. Output saved to C:/Users/leesh/Desktop/BA/Notebooks/weight_optimization/anonymized_trial_43_k10.csv.\n",
      "Running Java anonymization for trial 43 with k=20...\n",
      "Running Java code with k=20...\n",
      "Solution space too large for k=20 and l=2: Attribute 'age': hierarchy does not contain a transformation rule for value '[40, 80['\n",
      "Execution successful!\n",
      "Gesamte Ausführung hat 0 Stunden, 0 Minuten, und 2.15 Sekunden gedauert.\n",
      "Anonymization completed for k=20. Output saved to C:/Users/leesh/Desktop/BA/Notebooks/weight_optimization/anonymized_trial_43_k20.csv.\n",
      "All anonymization processes completed.\n"
     ]
    },
    {
     "name": "stderr",
     "output_type": "stream",
     "text": [
      "[I 2024-09-17 21:01:16,005] Trial 43 finished with value: 0.7251112523839798 and parameters: {'age_weight': 0.1423663932116645, 'gender_weight': 0.6923749675859602, 'height_weight': 0.3511159371926546, 'weight_weight': 0.6215998242086256, 'ap_hi_weight': 0.5859166379098022, 'ap_lo_weight': 0.35800688306726497, 'cholesterol_weight': 0.9017088050510149, 'gluc_weight': 0.2484559223492943, 'smoke_weight': 0.1657658436332691, 'alco_weight': 0.04135764021426199, 'active_weight': 0.05902073128994505}. Best is trial 23 with value: 0.7270731125857014.\n"
     ]
    },
    {
     "name": "stdout",
     "output_type": "stream",
     "text": [
      "Running Java anonymization for trial 44 with k=10...\n",
      "Running Java code with k=10...\n",
      "Solution space too large for k=10 and l=2: Attribute 'age': hierarchy does not contain a transformation rule for value '[40, 80['\n",
      "Execution successful!\n",
      "Gesamte Ausführung hat 0 Stunden, 0 Minuten, und 2.47 Sekunden gedauert.\n",
      "Anonymization completed for k=10. Output saved to C:/Users/leesh/Desktop/BA/Notebooks/weight_optimization/anonymized_trial_44_k10.csv.\n",
      "Running Java anonymization for trial 44 with k=20...\n",
      "Running Java code with k=20...\n",
      "Solution space too large for k=20 and l=2: Attribute 'age': hierarchy does not contain a transformation rule for value '[40, 80['\n",
      "Execution successful!\n",
      "Gesamte Ausführung hat 0 Stunden, 0 Minuten, und 2.90 Sekunden gedauert.\n",
      "Anonymization completed for k=20. Output saved to C:/Users/leesh/Desktop/BA/Notebooks/weight_optimization/anonymized_trial_44_k20.csv.\n",
      "All anonymization processes completed.\n"
     ]
    },
    {
     "name": "stderr",
     "output_type": "stream",
     "text": [
      "[I 2024-09-17 21:01:33,358] Trial 44 finished with value: 0.7214488636363636 and parameters: {'age_weight': 0.13526381584582742, 'gender_weight': 0.6814708496654753, 'height_weight': 0.4700576183127889, 'weight_weight': 0.6427320914634657, 'ap_hi_weight': 0.7526665973507176, 'ap_lo_weight': 0.3608269478128469, 'cholesterol_weight': 0.6703284727588769, 'gluc_weight': 0.07343480750261587, 'smoke_weight': 0.23358755589381686, 'alco_weight': 0.1962040420802124, 'active_weight': 0.060245884873292674}. Best is trial 23 with value: 0.7270731125857014.\n"
     ]
    },
    {
     "name": "stdout",
     "output_type": "stream",
     "text": [
      "Running Java anonymization for trial 45 with k=10...\n",
      "Running Java code with k=10...\n",
      "Solution space too large for k=10 and l=2: Attribute 'age': hierarchy does not contain a transformation rule for value '[40, 80['\n",
      "Execution successful!\n",
      "Gesamte Ausführung hat 0 Stunden, 0 Minuten, und 2.57 Sekunden gedauert.\n",
      "Anonymization completed for k=10. Output saved to C:/Users/leesh/Desktop/BA/Notebooks/weight_optimization/anonymized_trial_45_k10.csv.\n",
      "Running Java anonymization for trial 45 with k=20...\n",
      "Running Java code with k=20...\n",
      "Solution space too large for k=20 and l=2: Attribute 'age': hierarchy does not contain a transformation rule for value '[40, 80['\n",
      "Execution successful!\n",
      "Gesamte Ausführung hat 0 Stunden, 0 Minuten, und 2.05 Sekunden gedauert.\n",
      "Anonymization completed for k=20. Output saved to C:/Users/leesh/Desktop/BA/Notebooks/weight_optimization/anonymized_trial_45_k20.csv.\n",
      "All anonymization processes completed.\n"
     ]
    },
    {
     "name": "stderr",
     "output_type": "stream",
     "text": [
      "[I 2024-09-17 21:01:48,872] Trial 45 finished with value: 0.7225934449646854 and parameters: {'age_weight': 0.0688899420834435, 'gender_weight': 0.62667544850774, 'height_weight': 0.8079318347216184, 'weight_weight': 0.8215684354147477, 'ap_hi_weight': 0.5611331808832591, 'ap_lo_weight': 0.6896999440246493, 'cholesterol_weight': 0.7515831852442991, 'gluc_weight': 0.24998323453757254, 'smoke_weight': 0.33261649173577773, 'alco_weight': 0.23881765181160663, 'active_weight': 0.05509561191653878}. Best is trial 23 with value: 0.7270731125857014.\n"
     ]
    },
    {
     "name": "stdout",
     "output_type": "stream",
     "text": [
      "Running Java anonymization for trial 46 with k=10...\n",
      "Running Java code with k=10...\n",
      "Solution space too large for k=10 and l=2: Attribute 'age': hierarchy does not contain a transformation rule for value '[40, 80['\n",
      "Execution successful!\n",
      "Gesamte Ausführung hat 0 Stunden, 0 Minuten, und 2.03 Sekunden gedauert.\n",
      "Anonymization completed for k=10. Output saved to C:/Users/leesh/Desktop/BA/Notebooks/weight_optimization/anonymized_trial_46_k10.csv.\n",
      "Running Java anonymization for trial 46 with k=20...\n",
      "Running Java code with k=20...\n",
      "Solution space too large for k=20 and l=2: Attribute 'age': hierarchy does not contain a transformation rule for value '[40, 80['\n",
      "Execution successful!\n",
      "Gesamte Ausführung hat 0 Stunden, 0 Minuten, und 2.05 Sekunden gedauert.\n",
      "Anonymization completed for k=20. Output saved to C:/Users/leesh/Desktop/BA/Notebooks/weight_optimization/anonymized_trial_46_k20.csv.\n",
      "All anonymization processes completed.\n"
     ]
    },
    {
     "name": "stderr",
     "output_type": "stream",
     "text": [
      "[I 2024-09-17 21:02:05,702] Trial 46 finished with value: 0.7266365151154487 and parameters: {'age_weight': 0.27599121112719494, 'gender_weight': 0.5665531425941549, 'height_weight': 0.34438446155528707, 'weight_weight': 0.5219323104125814, 'ap_hi_weight': 0.6395996959077727, 'ap_lo_weight': 0.7656124314759623, 'cholesterol_weight': 0.8984857259173195, 'gluc_weight': 0.3763317246655704, 'smoke_weight': 0.38594143786445223, 'alco_weight': 0.09244364258992954, 'active_weight': 0.18495686144485696}. Best is trial 23 with value: 0.7270731125857014.\n"
     ]
    },
    {
     "name": "stdout",
     "output_type": "stream",
     "text": [
      "Running Java anonymization for trial 47 with k=10...\n",
      "Running Java code with k=10...\n",
      "Solution space too large for k=10 and l=2: Attribute 'age': hierarchy does not contain a transformation rule for value '[40, 80['\n",
      "Execution successful!\n",
      "Gesamte Ausführung hat 0 Stunden, 0 Minuten, und 2.85 Sekunden gedauert.\n",
      "Anonymization completed for k=10. Output saved to C:/Users/leesh/Desktop/BA/Notebooks/weight_optimization/anonymized_trial_47_k10.csv.\n",
      "Running Java anonymization for trial 47 with k=20...\n",
      "Running Java code with k=20...\n",
      "Solution space too large for k=20 and l=2: Attribute 'age': hierarchy does not contain a transformation rule for value '[40, 80['\n",
      "Execution successful!\n",
      "Gesamte Ausführung hat 0 Stunden, 0 Minuten, und 2.72 Sekunden gedauert.\n",
      "Anonymization completed for k=20. Output saved to C:/Users/leesh/Desktop/BA/Notebooks/weight_optimization/anonymized_trial_47_k20.csv.\n",
      "All anonymization processes completed.\n"
     ]
    },
    {
     "name": "stderr",
     "output_type": "stream",
     "text": [
      "[I 2024-09-17 21:02:22,807] Trial 47 finished with value: 0.7267793382527968 and parameters: {'age_weight': 0.30696349893189306, 'gender_weight': 0.5408160963433668, 'height_weight': 0.5538440184039116, 'weight_weight': 0.5219150879805887, 'ap_hi_weight': 0.6718255362984975, 'ap_lo_weight': 0.8482698446647045, 'cholesterol_weight': 0.6030657867993889, 'gluc_weight': 0.4442209487348127, 'smoke_weight': 0.5613760527305115, 'alco_weight': 0.13108327271172926, 'active_weight': 0.46439919255495693}. Best is trial 23 with value: 0.7270731125857014.\n"
     ]
    },
    {
     "name": "stdout",
     "output_type": "stream",
     "text": [
      "Running Java anonymization for trial 48 with k=10...\n",
      "Running Java code with k=10...\n",
      "Solution space too large for k=10 and l=2: Attribute 'age': hierarchy does not contain a transformation rule for value '[40, 80['\n",
      "Execution successful!\n",
      "Gesamte Ausführung hat 0 Stunden, 0 Minuten, und 2.88 Sekunden gedauert.\n",
      "Anonymization completed for k=10. Output saved to C:/Users/leesh/Desktop/BA/Notebooks/weight_optimization/anonymized_trial_48_k10.csv.\n",
      "Running Java anonymization for trial 48 with k=20...\n",
      "Running Java code with k=20...\n",
      "Solution space too large for k=20 and l=2: Attribute 'age': hierarchy does not contain a transformation rule for value '[40, 80['\n",
      "Execution successful!\n",
      "Gesamte Ausführung hat 0 Stunden, 0 Minuten, und 2.47 Sekunden gedauert.\n",
      "Anonymization completed for k=20. Output saved to C:/Users/leesh/Desktop/BA/Notebooks/weight_optimization/anonymized_trial_48_k20.csv.\n",
      "All anonymization processes completed.\n"
     ]
    },
    {
     "name": "stderr",
     "output_type": "stream",
     "text": [
      "[I 2024-09-17 21:02:39,610] Trial 48 finished with value: 0.7194971682839036 and parameters: {'age_weight': 0.30716994347921756, 'gender_weight': 0.303814460144312, 'height_weight': 0.8694819407686202, 'weight_weight': 0.2914058646661098, 'ap_hi_weight': 0.6702975814308755, 'ap_lo_weight': 0.8516771534078701, 'cholesterol_weight': 0.5305897359399452, 'gluc_weight': 0.3464283617165647, 'smoke_weight': 0.5542550878184493, 'alco_weight': 0.3825340667360605, 'active_weight': 0.4607498087265889}. Best is trial 23 with value: 0.7270731125857014.\n"
     ]
    },
    {
     "name": "stdout",
     "output_type": "stream",
     "text": [
      "Running Java anonymization for trial 49 with k=10...\n",
      "Running Java code with k=10...\n",
      "Solution space too large for k=10 and l=2: Attribute 'age': hierarchy does not contain a transformation rule for value '[40, 80['\n",
      "Execution successful!\n",
      "Gesamte Ausführung hat 0 Stunden, 0 Minuten, und 2.42 Sekunden gedauert.\n",
      "Anonymization completed for k=10. Output saved to C:/Users/leesh/Desktop/BA/Notebooks/weight_optimization/anonymized_trial_49_k10.csv.\n",
      "Running Java anonymization for trial 49 with k=20...\n",
      "Running Java code with k=20...\n",
      "Solution space too large for k=20 and l=2: Attribute 'age': hierarchy does not contain a transformation rule for value '[40, 80['\n",
      "Execution successful!\n",
      "Gesamte Ausführung hat 0 Stunden, 0 Minuten, und 2.45 Sekunden gedauert.\n",
      "Anonymization completed for k=20. Output saved to C:/Users/leesh/Desktop/BA/Notebooks/weight_optimization/anonymized_trial_49_k20.csv.\n",
      "All anonymization processes completed.\n"
     ]
    },
    {
     "name": "stderr",
     "output_type": "stream",
     "text": [
      "[I 2024-09-17 21:02:55,814] Trial 49 finished with value: 0.7225860005846931 and parameters: {'age_weight': 0.25061541730335907, 'gender_weight': 0.47973449766464205, 'height_weight': 0.6594155180590183, 'weight_weight': 0.5003750652273986, 'ap_hi_weight': 0.817213705799746, 'ap_lo_weight': 0.7820824883009497, 'cholesterol_weight': 0.609441646589175, 'gluc_weight': 0.43347713038721586, 'smoke_weight': 0.5122973652042138, 'alco_weight': 0.6250587242876555, 'active_weight': 0.34204666967777664}. Best is trial 23 with value: 0.7270731125857014.\n"
     ]
    },
    {
     "name": "stdout",
     "output_type": "stream",
     "text": [
      "Optimized weights for C:/Users/leesh/Desktop/BA/Notebooks/weight_optimization/cvd_k10_l2.csv: {'age_weight': 0.7899265645905068, 'gender_weight': 0.7405668739862273, 'height_weight': 0.9841217432644438, 'weight_weight': 0.7381783063114771, 'ap_hi_weight': 0.27440286746470294, 'ap_lo_weight': 0.6221002065244686, 'cholesterol_weight': 0.5633449566607169, 'gluc_weight': 0.9978698811103572, 'smoke_weight': 0.11538069550169339, 'alco_weight': 0.5338710680421815, 'active_weight': 0.5945254144222608}\n",
      "Optimizing for C:/Users/leesh/Desktop/BA/Notebooks/weight_optimization/cvd_k100_l2.csv\n"
     ]
    },
    {
     "name": "stderr",
     "output_type": "stream",
     "text": [
      "[I 2024-09-17 21:02:56,052] A new study created in memory with name: no-name-126cc46c-6433-4dbc-a8df-b594d008debc\n"
     ]
    },
    {
     "name": "stdout",
     "output_type": "stream",
     "text": [
      "Running Java anonymization for trial 0 with k=10...\n",
      "Running Java code with k=10...\n",
      "Solution space too large for k=10 and l=2: Attribute 'age': hierarchy does not contain a transformation rule for value '[40, 80['\n",
      "Execution successful!\n",
      "Gesamte Ausführung hat 0 Stunden, 0 Minuten, und 2.12 Sekunden gedauert.\n",
      "Anonymization completed for k=10. Output saved to C:/Users/leesh/Desktop/BA/Notebooks/weight_optimization/anonymized_trial_0_k10.csv.\n",
      "Running Java anonymization for trial 0 with k=20...\n",
      "Running Java code with k=20...\n",
      "Solution space too large for k=20 and l=2: Attribute 'age': hierarchy does not contain a transformation rule for value '[40, 80['\n",
      "Execution successful!\n",
      "Gesamte Ausführung hat 0 Stunden, 0 Minuten, und 2.37 Sekunden gedauert.\n",
      "Anonymization completed for k=20. Output saved to C:/Users/leesh/Desktop/BA/Notebooks/weight_optimization/anonymized_trial_0_k20.csv.\n",
      "All anonymization processes completed.\n"
     ]
    },
    {
     "name": "stderr",
     "output_type": "stream",
     "text": [
      "[I 2024-09-17 21:03:10,514] Trial 0 finished with value: 0.7198419392763148 and parameters: {'age_weight': 0.7604924443230018, 'gender_weight': 0.548873556076484, 'height_weight': 0.507308135503016, 'weight_weight': 0.8227248110198417, 'ap_hi_weight': 0.45877096053182453, 'ap_lo_weight': 0.2595320148930339, 'cholesterol_weight': 0.8829006054534709, 'gluc_weight': 0.9634326644933137, 'smoke_weight': 0.6067369453736138, 'alco_weight': 0.5481859031895373, 'active_weight': 0.10082512619130335}. Best is trial 0 with value: 0.7198419392763148.\n"
     ]
    },
    {
     "name": "stdout",
     "output_type": "stream",
     "text": [
      "Running Java anonymization for trial 1 with k=10...\n",
      "Running Java code with k=10...\n",
      "Solution space too large for k=10 and l=2: Attribute 'age': hierarchy does not contain a transformation rule for value '[40, 80['\n",
      "Execution successful!\n",
      "Gesamte Ausführung hat 0 Stunden, 0 Minuten, und 2.24 Sekunden gedauert.\n",
      "Anonymization completed for k=10. Output saved to C:/Users/leesh/Desktop/BA/Notebooks/weight_optimization/anonymized_trial_1_k10.csv.\n",
      "Running Java anonymization for trial 1 with k=20...\n",
      "Running Java code with k=20...\n",
      "Solution space too large for k=20 and l=2: Attribute 'age': hierarchy does not contain a transformation rule for value '[40, 80['\n",
      "Execution successful!\n",
      "Gesamte Ausführung hat 0 Stunden, 0 Minuten, und 2.14 Sekunden gedauert.\n",
      "Anonymization completed for k=20. Output saved to C:/Users/leesh/Desktop/BA/Notebooks/weight_optimization/anonymized_trial_1_k20.csv.\n",
      "All anonymization processes completed.\n"
     ]
    },
    {
     "name": "stderr",
     "output_type": "stream",
     "text": [
      "[I 2024-09-17 21:03:25,424] Trial 1 finished with value: 0.7109920385185742 and parameters: {'age_weight': 0.5545069352171259, 'gender_weight': 0.4628866625383318, 'height_weight': 0.4109086416039581, 'weight_weight': 0.6796055459435175, 'ap_hi_weight': 0.05995576256592461, 'ap_lo_weight': 0.2964703490994913, 'cholesterol_weight': 0.702190182817874, 'gluc_weight': 0.043656288607582305, 'smoke_weight': 0.7940263007265081, 'alco_weight': 0.3301903661382811, 'active_weight': 0.021476469217147298}. Best is trial 0 with value: 0.7198419392763148.\n"
     ]
    },
    {
     "name": "stdout",
     "output_type": "stream",
     "text": [
      "Running Java anonymization for trial 2 with k=10...\n",
      "Running Java code with k=10...\n",
      "Solution space too large for k=10 and l=2: Attribute 'age': hierarchy does not contain a transformation rule for value '[40, 80['\n",
      "Execution successful!\n",
      "Gesamte Ausführung hat 0 Stunden, 0 Minuten, und 2.23 Sekunden gedauert.\n",
      "Anonymization completed for k=10. Output saved to C:/Users/leesh/Desktop/BA/Notebooks/weight_optimization/anonymized_trial_2_k10.csv.\n",
      "Running Java anonymization for trial 2 with k=20...\n",
      "Running Java code with k=20...\n",
      "Solution space too large for k=20 and l=2: Attribute 'age': hierarchy does not contain a transformation rule for value '[40, 80['\n",
      "Execution successful!\n",
      "Gesamte Ausführung hat 0 Stunden, 0 Minuten, und 2.44 Sekunden gedauert.\n",
      "Anonymization completed for k=20. Output saved to C:/Users/leesh/Desktop/BA/Notebooks/weight_optimization/anonymized_trial_2_k20.csv.\n",
      "All anonymization processes completed.\n"
     ]
    },
    {
     "name": "stderr",
     "output_type": "stream",
     "text": [
      "[I 2024-09-17 21:03:41,577] Trial 2 finished with value: 0.6558829310440075 and parameters: {'age_weight': 0.04030850906207473, 'gender_weight': 0.7113875122564304, 'height_weight': 0.2027991188746321, 'weight_weight': 0.5701833639860383, 'ap_hi_weight': 0.8470935833931211, 'ap_lo_weight': 0.25272061240743726, 'cholesterol_weight': 0.16613180931882932, 'gluc_weight': 0.02970028245885059, 'smoke_weight': 0.5094637446789653, 'alco_weight': 0.19300043174379045, 'active_weight': 0.504919000723618}. Best is trial 0 with value: 0.7198419392763148.\n"
     ]
    },
    {
     "name": "stdout",
     "output_type": "stream",
     "text": [
      "Running Java anonymization for trial 3 with k=10...\n",
      "Running Java code with k=10...\n",
      "Solution space too large for k=10 and l=2: Attribute 'age': hierarchy does not contain a transformation rule for value '[40, 80['\n",
      "Execution successful!\n",
      "Gesamte Ausführung hat 0 Stunden, 0 Minuten, und 2.30 Sekunden gedauert.\n",
      "Anonymization completed for k=10. Output saved to C:/Users/leesh/Desktop/BA/Notebooks/weight_optimization/anonymized_trial_3_k10.csv.\n",
      "Running Java anonymization for trial 3 with k=20...\n",
      "Running Java code with k=20...\n",
      "Solution space too large for k=20 and l=2: Attribute 'age': hierarchy does not contain a transformation rule for value '[40, 80['\n",
      "Execution successful!\n",
      "Gesamte Ausführung hat 0 Stunden, 0 Minuten, und 2.13 Sekunden gedauert.\n",
      "Anonymization completed for k=20. Output saved to C:/Users/leesh/Desktop/BA/Notebooks/weight_optimization/anonymized_trial_3_k20.csv.\n",
      "All anonymization processes completed.\n"
     ]
    },
    {
     "name": "stderr",
     "output_type": "stream",
     "text": [
      "[I 2024-09-17 21:03:57,180] Trial 3 finished with value: 0.7144127436541433 and parameters: {'age_weight': 0.8292222820500009, 'gender_weight': 0.5902692163572185, 'height_weight': 0.4717687289225646, 'weight_weight': 0.07845289503833919, 'ap_hi_weight': 0.9293544567662101, 'ap_lo_weight': 0.13860447768128237, 'cholesterol_weight': 0.3117890300930405, 'gluc_weight': 0.7650064856774541, 'smoke_weight': 0.3687715377437505, 'alco_weight': 0.9933190281433864, 'active_weight': 0.04610199425504469}. Best is trial 0 with value: 0.7198419392763148.\n"
     ]
    },
    {
     "name": "stdout",
     "output_type": "stream",
     "text": [
      "Running Java anonymization for trial 4 with k=10...\n",
      "Running Java code with k=10...\n",
      "Solution space too large for k=10 and l=2: Attribute 'age': hierarchy does not contain a transformation rule for value '[40, 80['\n",
      "Execution successful!\n",
      "Gesamte Ausführung hat 0 Stunden, 0 Minuten, und 2.28 Sekunden gedauert.\n",
      "Anonymization completed for k=10. Output saved to C:/Users/leesh/Desktop/BA/Notebooks/weight_optimization/anonymized_trial_4_k10.csv.\n",
      "Running Java anonymization for trial 4 with k=20...\n",
      "Running Java code with k=20...\n",
      "Solution space too large for k=20 and l=2: Attribute 'age': hierarchy does not contain a transformation rule for value '[40, 80['\n",
      "Execution successful!\n",
      "Gesamte Ausführung hat 0 Stunden, 0 Minuten, und 2.39 Sekunden gedauert.\n",
      "Anonymization completed for k=20. Output saved to C:/Users/leesh/Desktop/BA/Notebooks/weight_optimization/anonymized_trial_4_k20.csv.\n",
      "All anonymization processes completed.\n"
     ]
    },
    {
     "name": "stderr",
     "output_type": "stream",
     "text": [
      "[I 2024-09-17 21:04:13,474] Trial 4 finished with value: 0.6917229592251973 and parameters: {'age_weight': 0.34040683524148596, 'gender_weight': 0.5693437806376539, 'height_weight': 0.24520487690800075, 'weight_weight': 0.613978506037612, 'ap_hi_weight': 0.08573801069254494, 'ap_lo_weight': 0.7521007141637265, 'cholesterol_weight': 0.13480160879225633, 'gluc_weight': 0.5310647614230838, 'smoke_weight': 0.6595909278378883, 'alco_weight': 0.508813398591763, 'active_weight': 0.24492785856131638}. Best is trial 0 with value: 0.7198419392763148.\n"
     ]
    },
    {
     "name": "stdout",
     "output_type": "stream",
     "text": [
      "Running Java anonymization for trial 5 with k=10...\n",
      "Running Java code with k=10...\n",
      "Solution space too large for k=10 and l=2: Attribute 'age': hierarchy does not contain a transformation rule for value '[40, 80['\n",
      "Execution successful!\n",
      "Gesamte Ausführung hat 0 Stunden, 0 Minuten, und 2.53 Sekunden gedauert.\n",
      "Anonymization completed for k=10. Output saved to C:/Users/leesh/Desktop/BA/Notebooks/weight_optimization/anonymized_trial_5_k10.csv.\n",
      "Running Java anonymization for trial 5 with k=20...\n",
      "Running Java code with k=20...\n",
      "Solution space too large for k=20 and l=2: Attribute 'age': hierarchy does not contain a transformation rule for value '[40, 80['\n",
      "Execution successful!\n",
      "Gesamte Ausführung hat 0 Stunden, 0 Minuten, und 2.14 Sekunden gedauert.\n",
      "Anonymization completed for k=20. Output saved to C:/Users/leesh/Desktop/BA/Notebooks/weight_optimization/anonymized_trial_5_k20.csv.\n",
      "All anonymization processes completed.\n"
     ]
    },
    {
     "name": "stderr",
     "output_type": "stream",
     "text": [
      "[I 2024-09-17 21:04:28,522] Trial 5 finished with value: 0.6511627362512064 and parameters: {'age_weight': 0.13742997522407818, 'gender_weight': 0.27679892845701637, 'height_weight': 0.15138290923457498, 'weight_weight': 0.07455807023418504, 'ap_hi_weight': 0.2418741504225831, 'ap_lo_weight': 0.7544420970236095, 'cholesterol_weight': 0.06696296466390406, 'gluc_weight': 0.940854175587962, 'smoke_weight': 0.328292029734363, 'alco_weight': 0.31611333779465334, 'active_weight': 0.5943162146016393}. Best is trial 0 with value: 0.7198419392763148.\n"
     ]
    },
    {
     "name": "stdout",
     "output_type": "stream",
     "text": [
      "Running Java anonymization for trial 6 with k=10...\n",
      "Running Java code with k=10...\n",
      "Solution space too large for k=10 and l=2: Attribute 'age': hierarchy does not contain a transformation rule for value '[40, 80['\n",
      "Execution successful!\n",
      "Gesamte Ausführung hat 0 Stunden, 0 Minuten, und 2.29 Sekunden gedauert.\n",
      "Anonymization completed for k=10. Output saved to C:/Users/leesh/Desktop/BA/Notebooks/weight_optimization/anonymized_trial_6_k10.csv.\n",
      "Running Java anonymization for trial 6 with k=20...\n",
      "Running Java code with k=20...\n",
      "Solution space too large for k=20 and l=2: Attribute 'age': hierarchy does not contain a transformation rule for value '[40, 80['\n",
      "Execution successful!\n",
      "Gesamte Ausführung hat 0 Stunden, 0 Minuten, und 2.04 Sekunden gedauert.\n",
      "Anonymization completed for k=20. Output saved to C:/Users/leesh/Desktop/BA/Notebooks/weight_optimization/anonymized_trial_6_k20.csv.\n",
      "All anonymization processes completed.\n"
     ]
    },
    {
     "name": "stderr",
     "output_type": "stream",
     "text": [
      "[I 2024-09-17 21:04:43,934] Trial 6 finished with value: 0.7149387109529458 and parameters: {'age_weight': 0.1286856320219354, 'gender_weight': 0.5032731728313536, 'height_weight': 0.01506481691076944, 'weight_weight': 0.33840197665953475, 'ap_hi_weight': 0.7467779889325716, 'ap_lo_weight': 0.9569778573286453, 'cholesterol_weight': 0.7675278974836096, 'gluc_weight': 0.011339913461864803, 'smoke_weight': 0.38170878105255845, 'alco_weight': 0.24107445768887092, 'active_weight': 0.42302181388769033}. Best is trial 0 with value: 0.7198419392763148.\n"
     ]
    },
    {
     "name": "stdout",
     "output_type": "stream",
     "text": [
      "Running Java anonymization for trial 7 with k=10...\n",
      "Running Java code with k=10...\n",
      "Solution space too large for k=10 and l=2: Attribute 'age': hierarchy does not contain a transformation rule for value '[40, 80['\n",
      "Execution successful!\n",
      "Gesamte Ausführung hat 0 Stunden, 0 Minuten, und 2.15 Sekunden gedauert.\n",
      "Anonymization completed for k=10. Output saved to C:/Users/leesh/Desktop/BA/Notebooks/weight_optimization/anonymized_trial_7_k10.csv.\n",
      "Running Java anonymization for trial 7 with k=20...\n",
      "Running Java code with k=20...\n",
      "Solution space too large for k=20 and l=2: Attribute 'age': hierarchy does not contain a transformation rule for value '[40, 80['\n",
      "Execution successful!\n",
      "Gesamte Ausführung hat 0 Stunden, 0 Minuten, und 1.98 Sekunden gedauert.\n",
      "Anonymization completed for k=20. Output saved to C:/Users/leesh/Desktop/BA/Notebooks/weight_optimization/anonymized_trial_7_k20.csv.\n",
      "All anonymization processes completed.\n"
     ]
    },
    {
     "name": "stderr",
     "output_type": "stream",
     "text": [
      "[I 2024-09-17 21:05:00,009] Trial 7 finished with value: 0.7135110426087907 and parameters: {'age_weight': 0.5265407019022439, 'gender_weight': 0.9314193766044481, 'height_weight': 0.19240830690454958, 'weight_weight': 0.6167777701342745, 'ap_hi_weight': 0.7250875342429192, 'ap_lo_weight': 0.8576675176451567, 'cholesterol_weight': 0.16107561335234932, 'gluc_weight': 0.9147470436996451, 'smoke_weight': 0.2741702133324726, 'alco_weight': 0.5158553984617184, 'active_weight': 0.15372206165223845}. Best is trial 0 with value: 0.7198419392763148.\n"
     ]
    },
    {
     "name": "stdout",
     "output_type": "stream",
     "text": [
      "Running Java anonymization for trial 8 with k=10...\n",
      "Running Java code with k=10...\n",
      "Solution space too large for k=10 and l=2: Attribute 'age': hierarchy does not contain a transformation rule for value '[40, 80['\n",
      "Execution successful!\n",
      "Gesamte Ausführung hat 0 Stunden, 0 Minuten, und 2.97 Sekunden gedauert.\n",
      "Anonymization completed for k=10. Output saved to C:/Users/leesh/Desktop/BA/Notebooks/weight_optimization/anonymized_trial_8_k10.csv.\n",
      "Running Java anonymization for trial 8 with k=20...\n",
      "Running Java code with k=20...\n",
      "Solution space too large for k=20 and l=2: Attribute 'age': hierarchy does not contain a transformation rule for value '[40, 80['\n",
      "Execution successful!\n",
      "Gesamte Ausführung hat 0 Stunden, 0 Minuten, und 2.87 Sekunden gedauert.\n",
      "Anonymization completed for k=20. Output saved to C:/Users/leesh/Desktop/BA/Notebooks/weight_optimization/anonymized_trial_8_k20.csv.\n",
      "All anonymization processes completed.\n"
     ]
    },
    {
     "name": "stderr",
     "output_type": "stream",
     "text": [
      "[I 2024-09-17 21:05:18,291] Trial 8 finished with value: 0.7121621297940409 and parameters: {'age_weight': 0.9654941819743993, 'gender_weight': 0.376426143088084, 'height_weight': 0.5109079227731157, 'weight_weight': 0.3180769947689751, 'ap_hi_weight': 0.28455282949765925, 'ap_lo_weight': 0.31102474392247503, 'cholesterol_weight': 0.5990211900895662, 'gluc_weight': 0.4369777610894038, 'smoke_weight': 0.18333240874045842, 'alco_weight': 0.402772014136079, 'active_weight': 0.8570777103648602}. Best is trial 0 with value: 0.7198419392763148.\n"
     ]
    },
    {
     "name": "stdout",
     "output_type": "stream",
     "text": [
      "Running Java anonymization for trial 9 with k=10...\n",
      "Running Java code with k=10...\n",
      "Solution space too large for k=10 and l=2: Attribute 'age': hierarchy does not contain a transformation rule for value '[40, 80['\n",
      "Execution successful!\n",
      "Gesamte Ausführung hat 0 Stunden, 0 Minuten, und 2.71 Sekunden gedauert.\n",
      "Anonymization completed for k=10. Output saved to C:/Users/leesh/Desktop/BA/Notebooks/weight_optimization/anonymized_trial_9_k10.csv.\n",
      "Running Java anonymization for trial 9 with k=20...\n",
      "Running Java code with k=20...\n",
      "Solution space too large for k=20 and l=2: Attribute 'age': hierarchy does not contain a transformation rule for value '[40, 80['\n",
      "Execution successful!\n",
      "Gesamte Ausführung hat 0 Stunden, 0 Minuten, und 2.36 Sekunden gedauert.\n",
      "Anonymization completed for k=20. Output saved to C:/Users/leesh/Desktop/BA/Notebooks/weight_optimization/anonymized_trial_9_k20.csv.\n",
      "All anonymization processes completed.\n"
     ]
    },
    {
     "name": "stderr",
     "output_type": "stream",
     "text": [
      "[I 2024-09-17 21:05:34,436] Trial 9 finished with value: 0.7227303752351028 and parameters: {'age_weight': 0.37765823298098333, 'gender_weight': 0.8069228602568845, 'height_weight': 0.041941951859263416, 'weight_weight': 0.06297575656280252, 'ap_hi_weight': 0.6369075013139907, 'ap_lo_weight': 0.6947687561199458, 'cholesterol_weight': 0.8932192087922126, 'gluc_weight': 0.5437282279861286, 'smoke_weight': 0.41604940569079507, 'alco_weight': 0.33491930805422265, 'active_weight': 0.8573540611878565}. Best is trial 9 with value: 0.7227303752351028.\n"
     ]
    },
    {
     "name": "stdout",
     "output_type": "stream",
     "text": [
      "Running Java anonymization for trial 10 with k=10...\n",
      "Running Java code with k=10...\n",
      "Solution space too large for k=10 and l=2: Attribute 'age': hierarchy does not contain a transformation rule for value '[40, 80['\n",
      "Execution successful!\n",
      "Gesamte Ausführung hat 0 Stunden, 0 Minuten, und 2.53 Sekunden gedauert.\n",
      "Anonymization completed for k=10. Output saved to C:/Users/leesh/Desktop/BA/Notebooks/weight_optimization/anonymized_trial_10_k10.csv.\n",
      "Running Java anonymization for trial 10 with k=20...\n",
      "Running Java code with k=20...\n",
      "Solution space too large for k=20 and l=2: Attribute 'age': hierarchy does not contain a transformation rule for value '[40, 80['\n",
      "Execution successful!\n",
      "Gesamte Ausführung hat 0 Stunden, 0 Minuten, und 2.60 Sekunden gedauert.\n",
      "Anonymization completed for k=20. Output saved to C:/Users/leesh/Desktop/BA/Notebooks/weight_optimization/anonymized_trial_10_k20.csv.\n",
      "All anonymization processes completed.\n"
     ]
    },
    {
     "name": "stderr",
     "output_type": "stream",
     "text": [
      "[I 2024-09-17 21:05:51,512] Trial 10 finished with value: 0.7267710858453528 and parameters: {'age_weight': 0.3643574730817157, 'gender_weight': 0.06533956677262209, 'height_weight': 0.8954435063363398, 'weight_weight': 0.9803590235241157, 'ap_hi_weight': 0.5192095679587647, 'ap_lo_weight': 0.5525538494030946, 'cholesterol_weight': 0.9888982018583827, 'gluc_weight': 0.3624022746204336, 'smoke_weight': 0.8527331844161119, 'alco_weight': 0.0034644868334184897, 'active_weight': 0.9832087393966598}. Best is trial 10 with value: 0.7267710858453528.\n"
     ]
    },
    {
     "name": "stdout",
     "output_type": "stream",
     "text": [
      "Running Java anonymization for trial 11 with k=10...\n",
      "Running Java code with k=10...\n",
      "Solution space too large for k=10 and l=2: Attribute 'age': hierarchy does not contain a transformation rule for value '[40, 80['\n",
      "Execution successful!\n",
      "Gesamte Ausführung hat 0 Stunden, 0 Minuten, und 2.31 Sekunden gedauert.\n",
      "Anonymization completed for k=10. Output saved to C:/Users/leesh/Desktop/BA/Notebooks/weight_optimization/anonymized_trial_11_k10.csv.\n",
      "Running Java anonymization for trial 11 with k=20...\n",
      "Running Java code with k=20...\n",
      "Solution space too large for k=20 and l=2: Attribute 'age': hierarchy does not contain a transformation rule for value '[40, 80['\n",
      "Execution successful!\n",
      "Gesamte Ausführung hat 0 Stunden, 0 Minuten, und 2.39 Sekunden gedauert.\n",
      "Anonymization completed for k=20. Output saved to C:/Users/leesh/Desktop/BA/Notebooks/weight_optimization/anonymized_trial_11_k20.csv.\n",
      "All anonymization processes completed.\n"
     ]
    },
    {
     "name": "stderr",
     "output_type": "stream",
     "text": [
      "[I 2024-09-17 21:06:07,631] Trial 11 finished with value: 0.7225441207910455 and parameters: {'age_weight': 0.3153994764275396, 'gender_weight': 0.16882133695595103, 'height_weight': 0.9909649128844712, 'weight_weight': 0.8639329483688443, 'ap_hi_weight': 0.5900674990051493, 'ap_lo_weight': 0.561222839146801, 'cholesterol_weight': 0.9829976968555015, 'gluc_weight': 0.3727645260050943, 'smoke_weight': 0.9918186387497321, 'alco_weight': 0.021795382793693436, 'active_weight': 0.983931310458484}. Best is trial 10 with value: 0.7267710858453528.\n"
     ]
    },
    {
     "name": "stdout",
     "output_type": "stream",
     "text": [
      "Running Java anonymization for trial 12 with k=10...\n",
      "Running Java code with k=10...\n",
      "Solution space too large for k=10 and l=2: Attribute 'age': hierarchy does not contain a transformation rule for value '[40, 80['\n",
      "Execution successful!\n",
      "Gesamte Ausführung hat 0 Stunden, 0 Minuten, und 2.22 Sekunden gedauert.\n",
      "Anonymization completed for k=10. Output saved to C:/Users/leesh/Desktop/BA/Notebooks/weight_optimization/anonymized_trial_12_k10.csv.\n",
      "Running Java anonymization for trial 12 with k=20...\n",
      "Running Java code with k=20...\n",
      "Solution space too large for k=20 and l=2: Attribute 'age': hierarchy does not contain a transformation rule for value '[40, 80['\n",
      "Execution successful!\n",
      "Gesamte Ausführung hat 0 Stunden, 0 Minuten, und 2.24 Sekunden gedauert.\n",
      "Anonymization completed for k=20. Output saved to C:/Users/leesh/Desktop/BA/Notebooks/weight_optimization/anonymized_trial_12_k20.csv.\n",
      "All anonymization processes completed.\n"
     ]
    },
    {
     "name": "stderr",
     "output_type": "stream",
     "text": [
      "[I 2024-09-17 21:06:23,790] Trial 12 finished with value: 0.7157205954523148 and parameters: {'age_weight': 0.3511063967236106, 'gender_weight': 0.05126888794079249, 'height_weight': 0.8478065465702107, 'weight_weight': 0.37668159772027904, 'ap_hi_weight': 0.4732748426847494, 'ap_lo_weight': 0.525490249591198, 'cholesterol_weight': 0.9696274445093075, 'gluc_weight': 0.2671511133975076, 'smoke_weight': 0.013709177915829596, 'alco_weight': 0.01244650650594056, 'active_weight': 0.76605562326862}. Best is trial 10 with value: 0.7267710858453528.\n"
     ]
    },
    {
     "name": "stdout",
     "output_type": "stream",
     "text": [
      "Running Java anonymization for trial 13 with k=10...\n",
      "Running Java code with k=10...\n",
      "Solution space too large for k=10 and l=2: Attribute 'age': hierarchy does not contain a transformation rule for value '[40, 80['\n",
      "Execution successful!\n",
      "Gesamte Ausführung hat 0 Stunden, 0 Minuten, und 2.11 Sekunden gedauert.\n",
      "Anonymization completed for k=10. Output saved to C:/Users/leesh/Desktop/BA/Notebooks/weight_optimization/anonymized_trial_13_k10.csv.\n",
      "Running Java anonymization for trial 13 with k=20...\n",
      "Running Java code with k=20...\n",
      "Solution space too large for k=20 and l=2: Attribute 'age': hierarchy does not contain a transformation rule for value '[40, 80['\n",
      "Execution successful!\n",
      "Gesamte Ausführung hat 0 Stunden, 0 Minuten, und 2.19 Sekunden gedauert.\n",
      "Anonymization completed for k=20. Output saved to C:/Users/leesh/Desktop/BA/Notebooks/weight_optimization/anonymized_trial_13_k20.csv.\n",
      "All anonymization processes completed.\n"
     ]
    },
    {
     "name": "stderr",
     "output_type": "stream",
     "text": [
      "[I 2024-09-17 21:06:37,474] Trial 13 finished with value: 0.7229370937900627 and parameters: {'age_weight': 0.6273769352462699, 'gender_weight': 0.9934929253757907, 'height_weight': 0.7203907309704939, 'weight_weight': 0.9546736366159982, 'ap_hi_weight': 0.6159712441856886, 'ap_lo_weight': 0.6588231511960668, 'cholesterol_weight': 0.4232551452997721, 'gluc_weight': 0.6101311339697962, 'smoke_weight': 0.9684426074673101, 'alco_weight': 0.7113586108782839, 'active_weight': 0.9981231551450478}. Best is trial 10 with value: 0.7267710858453528.\n"
     ]
    },
    {
     "name": "stdout",
     "output_type": "stream",
     "text": [
      "Running Java anonymization for trial 14 with k=10...\n",
      "Running Java code with k=10...\n",
      "Solution space too large for k=10 and l=2: Attribute 'age': hierarchy does not contain a transformation rule for value '[40, 80['\n",
      "Execution successful!\n",
      "Gesamte Ausführung hat 0 Stunden, 0 Minuten, und 2.19 Sekunden gedauert.\n",
      "Anonymization completed for k=10. Output saved to C:/Users/leesh/Desktop/BA/Notebooks/weight_optimization/anonymized_trial_14_k10.csv.\n",
      "Running Java anonymization for trial 14 with k=20...\n",
      "Running Java code with k=20...\n",
      "Solution space too large for k=20 and l=2: Attribute 'age': hierarchy does not contain a transformation rule for value '[40, 80['\n",
      "Execution successful!\n",
      "Gesamte Ausführung hat 0 Stunden, 0 Minuten, und 2.43 Sekunden gedauert.\n",
      "Anonymization completed for k=20. Output saved to C:/Users/leesh/Desktop/BA/Notebooks/weight_optimization/anonymized_trial_14_k20.csv.\n",
      "All anonymization processes completed.\n"
     ]
    },
    {
     "name": "stderr",
     "output_type": "stream",
     "text": [
      "[I 2024-09-17 21:06:53,305] Trial 14 finished with value: 0.7107960440075136 and parameters: {'age_weight': 0.6294646751019655, 'gender_weight': 0.9763498603338382, 'height_weight': 0.7324794847724738, 'weight_weight': 0.9751204219165037, 'ap_hi_weight': 0.3577753312555324, 'ap_lo_weight': 0.603237455345671, 'cholesterol_weight': 0.4544500478158995, 'gluc_weight': 0.6747068348143808, 'smoke_weight': 0.9718459909040041, 'alco_weight': 0.7143714895005109, 'active_weight': 0.9906762964112976}. Best is trial 10 with value: 0.7267710858453528.\n"
     ]
    },
    {
     "name": "stdout",
     "output_type": "stream",
     "text": [
      "Running Java anonymization for trial 15 with k=10...\n",
      "Running Java code with k=10...\n",
      "Solution space too large for k=10 and l=2: Attribute 'age': hierarchy does not contain a transformation rule for value '[40, 80['\n",
      "Execution successful!\n",
      "Gesamte Ausführung hat 0 Stunden, 0 Minuten, und 2.56 Sekunden gedauert.\n",
      "Anonymization completed for k=10. Output saved to C:/Users/leesh/Desktop/BA/Notebooks/weight_optimization/anonymized_trial_15_k10.csv.\n",
      "Running Java anonymization for trial 15 with k=20...\n",
      "Running Java code with k=20...\n",
      "Solution space too large for k=20 and l=2: Attribute 'age': hierarchy does not contain a transformation rule for value '[40, 80['\n",
      "Execution successful!\n",
      "Gesamte Ausführung hat 0 Stunden, 0 Minuten, und 2.71 Sekunden gedauert.\n",
      "Anonymization completed for k=20. Output saved to C:/Users/leesh/Desktop/BA/Notebooks/weight_optimization/anonymized_trial_15_k20.csv.\n",
      "All anonymization processes completed.\n"
     ]
    },
    {
     "name": "stderr",
     "output_type": "stream",
     "text": [
      "[I 2024-09-17 21:07:09,994] Trial 15 finished with value: 0.719554558948088 and parameters: {'age_weight': 0.7197179162880576, 'gender_weight': 0.03974662430105114, 'height_weight': 0.7088756283433384, 'weight_weight': 0.9767077049180554, 'ap_hi_weight': 0.5782865517628362, 'ap_lo_weight': 0.41698882609583837, 'cholesterol_weight': 0.3830539526029262, 'gluc_weight': 0.20738757971596444, 'smoke_weight': 0.8435633607503469, 'alco_weight': 0.7541658746407011, 'active_weight': 0.6737090031584494}. Best is trial 10 with value: 0.7267710858453528.\n"
     ]
    },
    {
     "name": "stdout",
     "output_type": "stream",
     "text": [
      "Running Java anonymization for trial 16 with k=10...\n",
      "Running Java code with k=10...\n",
      "Solution space too large for k=10 and l=2: Attribute 'age': hierarchy does not contain a transformation rule for value '[40, 80['\n",
      "Execution successful!\n",
      "Gesamte Ausführung hat 0 Stunden, 0 Minuten, und 1.91 Sekunden gedauert.\n",
      "Anonymization completed for k=10. Output saved to C:/Users/leesh/Desktop/BA/Notebooks/weight_optimization/anonymized_trial_16_k10.csv.\n",
      "Running Java anonymization for trial 16 with k=20...\n",
      "Running Java code with k=20...\n",
      "Solution space too large for k=20 and l=2: Attribute 'age': hierarchy does not contain a transformation rule for value '[40, 80['\n",
      "Execution successful!\n",
      "Gesamte Ausführung hat 0 Stunden, 0 Minuten, und 2.13 Sekunden gedauert.\n",
      "Anonymization completed for k=20. Output saved to C:/Users/leesh/Desktop/BA/Notebooks/weight_optimization/anonymized_trial_16_k20.csv.\n",
      "All anonymization processes completed.\n"
     ]
    },
    {
     "name": "stderr",
     "output_type": "stream",
     "text": [
      "[I 2024-09-17 21:07:25,710] Trial 16 finished with value: 0.7199077978736905 and parameters: {'age_weight': 0.42511159914182167, 'gender_weight': 0.7705360911536245, 'height_weight': 0.9295851946329543, 'weight_weight': 0.7826780911792792, 'ap_hi_weight': 0.42396777719620965, 'ap_lo_weight': 0.0036220381390544842, 'cholesterol_weight': 0.5605868324495383, 'gluc_weight': 0.659440293391318, 'smoke_weight': 0.8245036878215672, 'alco_weight': 0.7176227372126656, 'active_weight': 0.8603843182056033}. Best is trial 10 with value: 0.7267710858453528.\n"
     ]
    },
    {
     "name": "stdout",
     "output_type": "stream",
     "text": [
      "Running Java anonymization for trial 17 with k=10...\n",
      "Running Java code with k=10...\n",
      "Solution space too large for k=10 and l=2: Attribute 'age': hierarchy does not contain a transformation rule for value '[40, 80['\n",
      "Execution successful!\n",
      "Gesamte Ausführung hat 0 Stunden, 0 Minuten, und 2.47 Sekunden gedauert.\n",
      "Anonymization completed for k=10. Output saved to C:/Users/leesh/Desktop/BA/Notebooks/weight_optimization/anonymized_trial_17_k10.csv.\n",
      "Running Java anonymization for trial 17 with k=20...\n",
      "Running Java code with k=20...\n",
      "Solution space too large for k=20 and l=2: Attribute 'age': hierarchy does not contain a transformation rule for value '[40, 80['\n",
      "Execution successful!\n",
      "Gesamte Ausführung hat 0 Stunden, 0 Minuten, und 2.37 Sekunden gedauert.\n",
      "Anonymization completed for k=20. Output saved to C:/Users/leesh/Desktop/BA/Notebooks/weight_optimization/anonymized_trial_17_k20.csv.\n",
      "All anonymization processes completed.\n"
     ]
    },
    {
     "name": "stderr",
     "output_type": "stream",
     "text": [
      "[I 2024-09-17 21:07:40,794] Trial 17 finished with value: 0.684448708723115 and parameters: {'age_weight': 0.24182205628395628, 'gender_weight': 0.23362385013360004, 'height_weight': 0.6845580941497088, 'weight_weight': 0.7467614643538687, 'ap_hi_weight': 0.6779423899140997, 'ap_lo_weight': 0.4477659239154262, 'cholesterol_weight': 0.3127251218806196, 'gluc_weight': 0.2763116096242061, 'smoke_weight': 0.7027450074336284, 'alco_weight': 0.8544175297703219, 'active_weight': 0.3789125142167913}. Best is trial 10 with value: 0.7267710858453528.\n"
     ]
    },
    {
     "name": "stdout",
     "output_type": "stream",
     "text": [
      "Running Java anonymization for trial 18 with k=10...\n",
      "Running Java code with k=10...\n",
      "Solution space too large for k=10 and l=2: Attribute 'age': hierarchy does not contain a transformation rule for value '[40, 80['\n",
      "Execution successful!\n",
      "Gesamte Ausführung hat 0 Stunden, 0 Minuten, und 2.18 Sekunden gedauert.\n",
      "Anonymization completed for k=10. Output saved to C:/Users/leesh/Desktop/BA/Notebooks/weight_optimization/anonymized_trial_18_k10.csv.\n",
      "Running Java anonymization for trial 18 with k=20...\n",
      "Running Java code with k=20...\n",
      "Solution space too large for k=20 and l=2: Attribute 'age': hierarchy does not contain a transformation rule for value '[40, 80['\n",
      "Execution successful!\n",
      "Gesamte Ausführung hat 0 Stunden, 0 Minuten, und 2.30 Sekunden gedauert.\n",
      "Anonymization completed for k=20. Output saved to C:/Users/leesh/Desktop/BA/Notebooks/weight_optimization/anonymized_trial_18_k20.csv.\n",
      "All anonymization processes completed.\n"
     ]
    },
    {
     "name": "stderr",
     "output_type": "stream",
     "text": [
      "[I 2024-09-17 21:07:56,482] Trial 18 finished with value: 0.7159926021263611 and parameters: {'age_weight': 0.6147009274140715, 'gender_weight': 0.393364998461568, 'height_weight': 0.8298743821591926, 'weight_weight': 0.9236120881525213, 'ap_hi_weight': 0.8167042002465479, 'ap_lo_weight': 0.6491251078905729, 'cholesterol_weight': 0.6853695746606692, 'gluc_weight': 0.7725963546047876, 'smoke_weight': 0.8906011492069292, 'alco_weight': 0.6106283904196729, 'active_weight': 0.7346381561692632}. Best is trial 10 with value: 0.7267710858453528.\n"
     ]
    },
    {
     "name": "stdout",
     "output_type": "stream",
     "text": [
      "Running Java anonymization for trial 19 with k=10...\n",
      "Running Java code with k=10...\n",
      "Solution space too large for k=10 and l=2: Attribute 'age': hierarchy does not contain a transformation rule for value '[40, 80['\n",
      "Execution successful!\n",
      "Gesamte Ausführung hat 0 Stunden, 0 Minuten, und 2.93 Sekunden gedauert.\n",
      "Anonymization completed for k=10. Output saved to C:/Users/leesh/Desktop/BA/Notebooks/weight_optimization/anonymized_trial_19_k10.csv.\n",
      "Running Java anonymization for trial 19 with k=20...\n",
      "Running Java code with k=20...\n",
      "Solution space too large for k=20 and l=2: Attribute 'age': hierarchy does not contain a transformation rule for value '[40, 80['\n",
      "Execution successful!\n",
      "Gesamte Ausführung hat 0 Stunden, 0 Minuten, und 2.77 Sekunden gedauert.\n",
      "Anonymization completed for k=20. Output saved to C:/Users/leesh/Desktop/BA/Notebooks/weight_optimization/anonymized_trial_19_k20.csv.\n",
      "All anonymization processes completed.\n"
     ]
    },
    {
     "name": "stderr",
     "output_type": "stream",
     "text": [
      "[I 2024-09-17 21:08:14,452] Trial 19 finished with value: 0.7227893125982299 and parameters: {'age_weight': 0.4528414345009487, 'gender_weight': 0.6674714678079381, 'height_weight': 0.586855225852677, 'weight_weight': 0.45812195775272446, 'ap_hi_weight': 0.5367538880974971, 'ap_lo_weight': 0.8870004301065086, 'cholesterol_weight': 0.45942006429258225, 'gluc_weight': 0.3910063325249411, 'smoke_weight': 0.736385600138665, 'alco_weight': 0.13703947055313281, 'active_weight': 0.9994113589351585}. Best is trial 10 with value: 0.7267710858453528.\n"
     ]
    },
    {
     "name": "stdout",
     "output_type": "stream",
     "text": [
      "Running Java anonymization for trial 20 with k=10...\n",
      "Running Java code with k=10...\n",
      "Solution space too large for k=10 and l=2: Attribute 'age': hierarchy does not contain a transformation rule for value '[40, 80['\n",
      "Execution successful!\n",
      "Gesamte Ausführung hat 0 Stunden, 0 Minuten, und 2.32 Sekunden gedauert.\n",
      "Anonymization completed for k=10. Output saved to C:/Users/leesh/Desktop/BA/Notebooks/weight_optimization/anonymized_trial_20_k10.csv.\n",
      "Running Java anonymization for trial 20 with k=20...\n",
      "Running Java code with k=20...\n",
      "Solution space too large for k=20 and l=2: Attribute 'age': hierarchy does not contain a transformation rule for value '[40, 80['\n",
      "Execution successful!\n",
      "Gesamte Ausführung hat 0 Stunden, 0 Minuten, und 2.38 Sekunden gedauert.\n",
      "Anonymization completed for k=20. Output saved to C:/Users/leesh/Desktop/BA/Notebooks/weight_optimization/anonymized_trial_20_k20.csv.\n",
      "All anonymization processes completed.\n"
     ]
    },
    {
     "name": "stderr",
     "output_type": "stream",
     "text": [
      "[I 2024-09-17 21:08:30,122] Trial 20 finished with value: 0.6867449795573884 and parameters: {'age_weight': 0.9220812309671292, 'gender_weight': 0.9034293841122439, 'height_weight': 0.8293465892770165, 'weight_weight': 0.8806678100293068, 'ap_hi_weight': 0.9583218402637903, 'ap_lo_weight': 0.39188451017220904, 'cholesterol_weight': 0.27101218716815134, 'gluc_weight': 0.6083781089824883, 'smoke_weight': 0.5734433883235832, 'alco_weight': 0.8902522130731207, 'active_weight': 0.8851758850579098}. Best is trial 10 with value: 0.7267710858453528.\n"
     ]
    },
    {
     "name": "stdout",
     "output_type": "stream",
     "text": [
      "Running Java anonymization for trial 21 with k=10...\n",
      "Running Java code with k=10...\n",
      "Solution space too large for k=10 and l=2: Attribute 'age': hierarchy does not contain a transformation rule for value '[40, 80['\n",
      "Execution successful!\n",
      "Gesamte Ausführung hat 0 Stunden, 0 Minuten, und 2.46 Sekunden gedauert.\n",
      "Anonymization completed for k=10. Output saved to C:/Users/leesh/Desktop/BA/Notebooks/weight_optimization/anonymized_trial_21_k10.csv.\n",
      "Running Java anonymization for trial 21 with k=20...\n",
      "Running Java code with k=20...\n",
      "Solution space too large for k=20 and l=2: Attribute 'age': hierarchy does not contain a transformation rule for value '[40, 80['\n",
      "Execution successful!\n",
      "Gesamte Ausführung hat 0 Stunden, 0 Minuten, und 3.43 Sekunden gedauert.\n",
      "Anonymization completed for k=20. Output saved to C:/Users/leesh/Desktop/BA/Notebooks/weight_optimization/anonymized_trial_21_k20.csv.\n",
      "All anonymization processes completed.\n"
     ]
    },
    {
     "name": "stderr",
     "output_type": "stream",
     "text": [
      "[I 2024-09-17 21:08:47,317] Trial 21 finished with value: 0.7230079112633554 and parameters: {'age_weight': 0.45620940517248637, 'gender_weight': 0.682978332942564, 'height_weight': 0.6094806438066026, 'weight_weight': 0.45107603723994316, 'ap_hi_weight': 0.6005495002086375, 'ap_lo_weight': 0.8989191009577677, 'cholesterol_weight': 0.4829007928797507, 'gluc_weight': 0.3972120448642308, 'smoke_weight': 0.7516607249944084, 'alco_weight': 0.15704478564187507, 'active_weight': 0.9852635548142163}. Best is trial 10 with value: 0.7267710858453528.\n"
     ]
    },
    {
     "name": "stdout",
     "output_type": "stream",
     "text": [
      "Running Java anonymization for trial 22 with k=10...\n",
      "Running Java code with k=10...\n",
      "Solution space too large for k=10 and l=2: Attribute 'age': hierarchy does not contain a transformation rule for value '[40, 80['\n",
      "Execution successful!\n",
      "Gesamte Ausführung hat 0 Stunden, 0 Minuten, und 2.15 Sekunden gedauert.\n",
      "Anonymization completed for k=10. Output saved to C:/Users/leesh/Desktop/BA/Notebooks/weight_optimization/anonymized_trial_22_k10.csv.\n",
      "Running Java anonymization for trial 22 with k=20...\n",
      "Running Java code with k=20...\n",
      "Solution space too large for k=20 and l=2: Attribute 'age': hierarchy does not contain a transformation rule for value '[40, 80['\n",
      "Execution successful!\n",
      "Gesamte Ausführung hat 0 Stunden, 0 Minuten, und 2.18 Sekunden gedauert.\n",
      "Anonymization completed for k=20. Output saved to C:/Users/leesh/Desktop/BA/Notebooks/weight_optimization/anonymized_trial_22_k20.csv.\n",
      "All anonymization processes completed.\n"
     ]
    },
    {
     "name": "stderr",
     "output_type": "stream",
     "text": [
      "[I 2024-09-17 21:09:03,619] Trial 22 finished with value: 0.7211609880231497 and parameters: {'age_weight': 0.24738187235246822, 'gender_weight': 0.8588154811862846, 'height_weight': 0.6500213653296705, 'weight_weight': 0.2640745621120507, 'ap_hi_weight': 0.35322275590872104, 'ap_lo_weight': 0.9940701090534027, 'cholesterol_weight': 0.5462353395066237, 'gluc_weight': 0.46086928537979444, 'smoke_weight': 0.891729524529794, 'alco_weight': 0.1577984691964064, 'active_weight': 0.9088718566112556}. Best is trial 10 with value: 0.7267710858453528.\n"
     ]
    },
    {
     "name": "stdout",
     "output_type": "stream",
     "text": [
      "Running Java anonymization for trial 23 with k=10...\n",
      "Running Java code with k=10...\n",
      "Solution space too large for k=10 and l=2: Attribute 'age': hierarchy does not contain a transformation rule for value '[40, 80['\n",
      "Execution successful!\n",
      "Gesamte Ausführung hat 0 Stunden, 0 Minuten, und 2.44 Sekunden gedauert.\n",
      "Anonymization completed for k=10. Output saved to C:/Users/leesh/Desktop/BA/Notebooks/weight_optimization/anonymized_trial_23_k10.csv.\n",
      "Running Java anonymization for trial 23 with k=20...\n",
      "Running Java code with k=20...\n",
      "Solution space too large for k=20 and l=2: Attribute 'age': hierarchy does not contain a transformation rule for value '[40, 80['\n",
      "Execution successful!\n",
      "Gesamte Ausführung hat 0 Stunden, 0 Minuten, und 2.64 Sekunden gedauert.\n",
      "Anonymization completed for k=20. Output saved to C:/Users/leesh/Desktop/BA/Notebooks/weight_optimization/anonymized_trial_23_k20.csv.\n",
      "All anonymization processes completed.\n"
     ]
    },
    {
     "name": "stderr",
     "output_type": "stream",
     "text": [
      "[I 2024-09-17 21:09:20,898] Trial 23 finished with value: 0.7268110940190374 and parameters: {'age_weight': 0.6227821665562709, 'gender_weight': 0.6565833589596448, 'height_weight': 0.7739693197446442, 'weight_weight': 0.48465479484497637, 'ap_hi_weight': 0.5545491387351201, 'ap_lo_weight': 0.8144958353295672, 'cholesterol_weight': 0.4070353341865159, 'gluc_weight': 0.17350325549583892, 'smoke_weight': 0.9427789374751246, 'alco_weight': 0.08562023269772562, 'active_weight': 0.7666846044918856}. Best is trial 23 with value: 0.7268110940190374.\n"
     ]
    },
    {
     "name": "stdout",
     "output_type": "stream",
     "text": [
      "Running Java anonymization for trial 24 with k=10...\n",
      "Running Java code with k=10...\n",
      "Solution space too large for k=10 and l=2: Attribute 'age': hierarchy does not contain a transformation rule for value '[40, 80['\n",
      "Execution successful!\n",
      "Gesamte Ausführung hat 0 Stunden, 0 Minuten, und 2.46 Sekunden gedauert.\n",
      "Anonymization completed for k=10. Output saved to C:/Users/leesh/Desktop/BA/Notebooks/weight_optimization/anonymized_trial_24_k10.csv.\n",
      "Running Java anonymization for trial 24 with k=20...\n",
      "Running Java code with k=20...\n",
      "Solution space too large for k=20 and l=2: Attribute 'age': hierarchy does not contain a transformation rule for value '[40, 80['\n",
      "Execution successful!\n",
      "Gesamte Ausführung hat 0 Stunden, 0 Minuten, und 2.80 Sekunden gedauert.\n",
      "Anonymization completed for k=20. Output saved to C:/Users/leesh/Desktop/BA/Notebooks/weight_optimization/anonymized_trial_24_k20.csv.\n",
      "All anonymization processes completed.\n"
     ]
    },
    {
     "name": "stderr",
     "output_type": "stream",
     "text": [
      "[I 2024-09-17 21:09:37,481] Trial 24 finished with value: 0.6955255990762812 and parameters: {'age_weight': 0.49367914326347406, 'gender_weight': 0.6638388568798596, 'height_weight': 0.9190997281290323, 'weight_weight': 0.497675043392349, 'ap_hi_weight': 0.5261020011122978, 'ap_lo_weight': 0.8427111057830933, 'cholesterol_weight': 0.6365498201490551, 'gluc_weight': 0.16270749062655646, 'smoke_weight': 0.756160522329542, 'alco_weight': 0.05078568073207831, 'active_weight': 0.7472480292713884}. Best is trial 23 with value: 0.7268110940190374.\n"
     ]
    },
    {
     "name": "stdout",
     "output_type": "stream",
     "text": [
      "Running Java anonymization for trial 25 with k=10...\n",
      "Running Java code with k=10...\n",
      "Solution space too large for k=10 and l=2: Attribute 'age': hierarchy does not contain a transformation rule for value '[40, 80['\n",
      "Execution successful!\n",
      "Gesamte Ausführung hat 0 Stunden, 0 Minuten, und 2.14 Sekunden gedauert.\n",
      "Anonymization completed for k=10. Output saved to C:/Users/leesh/Desktop/BA/Notebooks/weight_optimization/anonymized_trial_25_k10.csv.\n",
      "Running Java anonymization for trial 25 with k=20...\n",
      "Running Java code with k=20...\n",
      "Solution space too large for k=20 and l=2: Attribute 'age': hierarchy does not contain a transformation rule for value '[40, 80['\n",
      "Execution successful!\n",
      "Gesamte Ausführung hat 0 Stunden, 0 Minuten, und 2.65 Sekunden gedauert.\n",
      "Anonymization completed for k=20. Output saved to C:/Users/leesh/Desktop/BA/Notebooks/weight_optimization/anonymized_trial_25_k20.csv.\n",
      "All anonymization processes completed.\n"
     ]
    },
    {
     "name": "stderr",
     "output_type": "stream",
     "text": [
      "[I 2024-09-17 21:09:54,185] Trial 25 finished with value: 0.7230309394943049 and parameters: {'age_weight': 0.70474624336053, 'gender_weight': 0.732517570133248, 'height_weight': 0.7843153853504217, 'weight_weight': 0.4222058302135593, 'ap_hi_weight': 0.2056152177965359, 'ap_lo_weight': 0.7982618151204073, 'cholesterol_weight': 0.7967444687853407, 'gluc_weight': 0.3208756000378226, 'smoke_weight': 0.8947149084462747, 'alco_weight': 0.08507179087972279, 'active_weight': 0.6175015193362545}. Best is trial 23 with value: 0.7268110940190374.\n"
     ]
    },
    {
     "name": "stdout",
     "output_type": "stream",
     "text": [
      "Running Java anonymization for trial 26 with k=10...\n",
      "Running Java code with k=10...\n",
      "Solution space too large for k=10 and l=2: Attribute 'age': hierarchy does not contain a transformation rule for value '[40, 80['\n",
      "Execution successful!\n",
      "Gesamte Ausführung hat 0 Stunden, 0 Minuten, und 2.64 Sekunden gedauert.\n",
      "Anonymization completed for k=10. Output saved to C:/Users/leesh/Desktop/BA/Notebooks/weight_optimization/anonymized_trial_26_k10.csv.\n",
      "Running Java anonymization for trial 26 with k=20...\n",
      "Running Java code with k=20...\n",
      "Solution space too large for k=20 and l=2: Attribute 'age': hierarchy does not contain a transformation rule for value '[40, 80['\n",
      "Execution successful!\n",
      "Gesamte Ausführung hat 0 Stunden, 0 Minuten, und 3.16 Sekunden gedauert.\n",
      "Anonymization completed for k=20. Output saved to C:/Users/leesh/Desktop/BA/Notebooks/weight_optimization/anonymized_trial_26_k20.csv.\n",
      "All anonymization processes completed.\n"
     ]
    },
    {
     "name": "stderr",
     "output_type": "stream",
     "text": [
      "[I 2024-09-17 21:10:13,218] Trial 26 finished with value: 0.7206125678560452 and parameters: {'age_weight': 0.6967700681735394, 'gender_weight': 0.8003031674718315, 'height_weight': 0.8104774730838976, 'weight_weight': 0.22257202265869336, 'ap_hi_weight': 0.16142046214624656, 'ap_lo_weight': 0.7548604417122587, 'cholesterol_weight': 0.7963376211330752, 'gluc_weight': 0.30221844930313985, 'smoke_weight': 0.9046345958238213, 'alco_weight': 0.09104875119373348, 'active_weight': 0.6049908838387653}. Best is trial 23 with value: 0.7268110940190374.\n"
     ]
    },
    {
     "name": "stdout",
     "output_type": "stream",
     "text": [
      "Running Java anonymization for trial 27 with k=10...\n",
      "Running Java code with k=10...\n",
      "Solution space too large for k=10 and l=2: Attribute 'age': hierarchy does not contain a transformation rule for value '[40, 80['\n",
      "Execution successful!\n",
      "Gesamte Ausführung hat 0 Stunden, 0 Minuten, und 2.63 Sekunden gedauert.\n",
      "Anonymization completed for k=10. Output saved to C:/Users/leesh/Desktop/BA/Notebooks/weight_optimization/anonymized_trial_27_k10.csv.\n",
      "Running Java anonymization for trial 27 with k=20...\n",
      "Running Java code with k=20...\n",
      "Solution space too large for k=20 and l=2: Attribute 'age': hierarchy does not contain a transformation rule for value '[40, 80['\n",
      "Execution successful!\n",
      "Gesamte Ausführung hat 0 Stunden, 0 Minuten, und 2.67 Sekunden gedauert.\n",
      "Anonymization completed for k=20. Output saved to C:/Users/leesh/Desktop/BA/Notebooks/weight_optimization/anonymized_trial_27_k20.csv.\n",
      "All anonymization processes completed.\n"
     ]
    },
    {
     "name": "stderr",
     "output_type": "stream",
     "text": [
      "[I 2024-09-17 21:10:30,026] Trial 27 finished with value: 0.7230470958881977 and parameters: {'age_weight': 0.8321558531986346, 'gender_weight': 0.4182616035172835, 'height_weight': 0.9962534539351322, 'weight_weight': 0.3988412403932454, 'ap_hi_weight': 0.38612614396480327, 'ap_lo_weight': 0.8363981262035369, 'cholesterol_weight': 0.869229502529557, 'gluc_weight': 0.14873710000500345, 'smoke_weight': 0.9071212003030802, 'alco_weight': 0.257267289396554, 'active_weight': 0.639696581000966}. Best is trial 23 with value: 0.7268110940190374.\n"
     ]
    },
    {
     "name": "stdout",
     "output_type": "stream",
     "text": [
      "Running Java anonymization for trial 28 with k=10...\n",
      "Running Java code with k=10...\n",
      "Solution space too large for k=10 and l=2: Attribute 'age': hierarchy does not contain a transformation rule for value '[40, 80['\n",
      "Execution successful!\n",
      "Gesamte Ausführung hat 0 Stunden, 0 Minuten, und 2.25 Sekunden gedauert.\n",
      "Anonymization completed for k=10. Output saved to C:/Users/leesh/Desktop/BA/Notebooks/weight_optimization/anonymized_trial_28_k10.csv.\n",
      "Running Java anonymization for trial 28 with k=20...\n",
      "Running Java code with k=20...\n",
      "Solution space too large for k=20 and l=2: Attribute 'age': hierarchy does not contain a transformation rule for value '[40, 80['\n",
      "Execution successful!\n",
      "Gesamte Ausführung hat 0 Stunden, 0 Minuten, und 2.31 Sekunden gedauert.\n",
      "Anonymization completed for k=20. Output saved to C:/Users/leesh/Desktop/BA/Notebooks/weight_optimization/anonymized_trial_28_k20.csv.\n",
      "All anonymization processes completed.\n"
     ]
    },
    {
     "name": "stderr",
     "output_type": "stream",
     "text": [
      "[I 2024-09-17 21:10:46,288] Trial 28 finished with value: 0.7200124278570283 and parameters: {'age_weight': 0.5631368348675094, 'gender_weight': 0.1411351494337344, 'height_weight': 0.9986871636594955, 'weight_weight': 0.5602123215685172, 'ap_hi_weight': 0.35433402509647527, 'ap_lo_weight': 0.9416769220997414, 'cholesterol_weight': 0.8645235904942212, 'gluc_weight': 0.12401949665550821, 'smoke_weight': 0.6490898519745496, 'alco_weight': 0.2408241241022589, 'active_weight': 0.5201448127578184}. Best is trial 23 with value: 0.7268110940190374.\n"
     ]
    },
    {
     "name": "stdout",
     "output_type": "stream",
     "text": [
      "Running Java anonymization for trial 29 with k=10...\n",
      "Running Java code with k=10...\n",
      "Solution space too large for k=10 and l=2: Attribute 'age': hierarchy does not contain a transformation rule for value '[40, 80['\n",
      "Execution successful!\n",
      "Gesamte Ausführung hat 0 Stunden, 0 Minuten, und 2.23 Sekunden gedauert.\n",
      "Anonymization completed for k=10. Output saved to C:/Users/leesh/Desktop/BA/Notebooks/weight_optimization/anonymized_trial_29_k10.csv.\n",
      "Running Java anonymization for trial 29 with k=20...\n",
      "Running Java code with k=20...\n",
      "Solution space too large for k=20 and l=2: Attribute 'age': hierarchy does not contain a transformation rule for value '[40, 80['\n",
      "Execution successful!\n",
      "Gesamte Ausführung hat 0 Stunden, 0 Minuten, und 2.32 Sekunden gedauert.\n",
      "Anonymization completed for k=20. Output saved to C:/Users/leesh/Desktop/BA/Notebooks/weight_optimization/anonymized_trial_29_k20.csv.\n",
      "All anonymization processes completed.\n"
     ]
    },
    {
     "name": "stderr",
     "output_type": "stream",
     "text": [
      "[I 2024-09-17 21:11:02,518] Trial 29 finished with value: 0.7243966299189036 and parameters: {'age_weight': 0.8244518556984819, 'gender_weight': 0.34136532820998405, 'height_weight': 0.9013796854390399, 'weight_weight': 0.17563981990059874, 'ap_hi_weight': 0.42767090874359126, 'ap_lo_weight': 0.49434590378588233, 'cholesterol_weight': 0.9191389922214777, 'gluc_weight': 0.10936658865068936, 'smoke_weight': 0.9995912237295649, 'alco_weight': 0.2472773081344186, 'active_weight': 0.7976864640786152}. Best is trial 23 with value: 0.7268110940190374.\n"
     ]
    },
    {
     "name": "stdout",
     "output_type": "stream",
     "text": [
      "Running Java anonymization for trial 30 with k=10...\n",
      "Running Java code with k=10...\n",
      "Solution space too large for k=10 and l=2: Attribute 'age': hierarchy does not contain a transformation rule for value '[40, 80['\n",
      "Execution successful!\n",
      "Gesamte Ausführung hat 0 Stunden, 0 Minuten, und 2.37 Sekunden gedauert.\n",
      "Anonymization completed for k=10. Output saved to C:/Users/leesh/Desktop/BA/Notebooks/weight_optimization/anonymized_trial_30_k10.csv.\n",
      "Running Java anonymization for trial 30 with k=20...\n",
      "Running Java code with k=20...\n",
      "Solution space too large for k=20 and l=2: Attribute 'age': hierarchy does not contain a transformation rule for value '[40, 80['\n",
      "Execution successful!\n",
      "Gesamte Ausführung hat 0 Stunden, 0 Minuten, und 2.18 Sekunden gedauert.\n",
      "Anonymization completed for k=20. Output saved to C:/Users/leesh/Desktop/BA/Notebooks/weight_optimization/anonymized_trial_30_k20.csv.\n",
      "All anonymization processes completed.\n"
     ]
    },
    {
     "name": "stderr",
     "output_type": "stream",
     "text": [
      "[I 2024-09-17 21:11:18,146] Trial 30 finished with value: 0.7245171114851326 and parameters: {'age_weight': 0.8027714951334992, 'gender_weight': 0.3124823048670576, 'height_weight': 0.899921814088502, 'weight_weight': 0.1742062389132428, 'ap_hi_weight': 0.45635077858040135, 'ap_lo_weight': 0.48320027981155445, 'cholesterol_weight': 0.9484928536372803, 'gluc_weight': 0.0868831553236612, 'smoke_weight': 0.9973087424921134, 'alco_weight': 0.40784076284778625, 'active_weight': 0.7759270799717519}. Best is trial 23 with value: 0.7268110940190374.\n"
     ]
    },
    {
     "name": "stdout",
     "output_type": "stream",
     "text": [
      "Running Java anonymization for trial 31 with k=10...\n",
      "Running Java code with k=10...\n",
      "Solution space too large for k=10 and l=2: Attribute 'age': hierarchy does not contain a transformation rule for value '[40, 80['\n",
      "Execution successful!\n",
      "Gesamte Ausführung hat 0 Stunden, 0 Minuten, und 2.71 Sekunden gedauert.\n",
      "Anonymization completed for k=10. Output saved to C:/Users/leesh/Desktop/BA/Notebooks/weight_optimization/anonymized_trial_31_k10.csv.\n",
      "Running Java anonymization for trial 31 with k=20...\n",
      "Running Java code with k=20...\n",
      "Solution space too large for k=20 and l=2: Attribute 'age': hierarchy does not contain a transformation rule for value '[40, 80['\n",
      "Execution successful!\n",
      "Gesamte Ausführung hat 0 Stunden, 0 Minuten, und 3.10 Sekunden gedauert.\n",
      "Anonymization completed for k=20. Output saved to C:/Users/leesh/Desktop/BA/Notebooks/weight_optimization/anonymized_trial_31_k20.csv.\n",
      "All anonymization processes completed.\n"
     ]
    },
    {
     "name": "stderr",
     "output_type": "stream",
     "text": [
      "[I 2024-09-17 21:11:36,577] Trial 31 finished with value: 0.7245783083695203 and parameters: {'age_weight': 0.8145591398855353, 'gender_weight': 0.31846431678804343, 'height_weight': 0.8892088831539449, 'weight_weight': 0.1607055946970558, 'ap_hi_weight': 0.4923068709081849, 'ap_lo_weight': 0.4989022301031055, 'cholesterol_weight': 0.9330029301887527, 'gluc_weight': 0.10202098653387771, 'smoke_weight': 0.9928090941578867, 'alco_weight': 0.4318510197250651, 'active_weight': 0.8058585380322307}. Best is trial 23 with value: 0.7268110940190374.\n"
     ]
    },
    {
     "name": "stdout",
     "output_type": "stream",
     "text": [
      "Running Java anonymization for trial 32 with k=10...\n",
      "Running Java code with k=10...\n",
      "Solution space too large for k=10 and l=2: Attribute 'age': hierarchy does not contain a transformation rule for value '[40, 80['\n",
      "Execution successful!\n",
      "Gesamte Ausführung hat 0 Stunden, 0 Minuten, und 2.33 Sekunden gedauert.\n",
      "Anonymization completed for k=10. Output saved to C:/Users/leesh/Desktop/BA/Notebooks/weight_optimization/anonymized_trial_32_k10.csv.\n",
      "Running Java anonymization for trial 32 with k=20...\n",
      "Running Java code with k=20...\n",
      "Solution space too large for k=20 and l=2: Attribute 'age': hierarchy does not contain a transformation rule for value '[40, 80['\n",
      "Execution successful!\n",
      "Gesamte Ausführung hat 0 Stunden, 0 Minuten, und 2.18 Sekunden gedauert.\n",
      "Anonymization completed for k=20. Output saved to C:/Users/leesh/Desktop/BA/Notebooks/weight_optimization/anonymized_trial_32_k20.csv.\n",
      "All anonymization processes completed.\n"
     ]
    },
    {
     "name": "stderr",
     "output_type": "stream",
     "text": [
      "[I 2024-09-17 21:11:52,613] Trial 32 finished with value: 0.725024872050182 and parameters: {'age_weight': 0.8968160155575456, 'gender_weight': 0.12414297273018567, 'height_weight': 0.8907828155190523, 'weight_weight': 0.14651827946499396, 'ap_hi_weight': 0.5494151027628924, 'ap_lo_weight': 0.36829745190374663, 'cholesterol_weight': 0.9931948998837825, 'gluc_weight': 0.21552492209627985, 'smoke_weight': 0.8387985379089847, 'alco_weight': 0.4340919185365819, 'active_weight': 0.6929088377596527}. Best is trial 23 with value: 0.7268110940190374.\n"
     ]
    },
    {
     "name": "stdout",
     "output_type": "stream",
     "text": [
      "Running Java anonymization for trial 33 with k=10...\n",
      "Running Java code with k=10...\n",
      "Solution space too large for k=10 and l=2: Attribute 'age': hierarchy does not contain a transformation rule for value '[40, 80['\n",
      "Execution successful!\n",
      "Gesamte Ausführung hat 0 Stunden, 0 Minuten, und 2.41 Sekunden gedauert.\n",
      "Anonymization completed for k=10. Output saved to C:/Users/leesh/Desktop/BA/Notebooks/weight_optimization/anonymized_trial_33_k10.csv.\n",
      "Running Java anonymization for trial 33 with k=20...\n",
      "Running Java code with k=20...\n",
      "Solution space too large for k=20 and l=2: Attribute 'age': hierarchy does not contain a transformation rule for value '[40, 80['\n",
      "Execution successful!\n",
      "Gesamte Ausführung hat 0 Stunden, 0 Minuten, und 2.71 Sekunden gedauert.\n",
      "Anonymization completed for k=20. Output saved to C:/Users/leesh/Desktop/BA/Notebooks/weight_optimization/anonymized_trial_33_k20.csv.\n",
      "All anonymization processes completed.\n"
     ]
    },
    {
     "name": "stderr",
     "output_type": "stream",
     "text": [
      "[I 2024-09-17 21:12:08,410] Trial 33 finished with value: 0.7229114279358514 and parameters: {'age_weight': 0.9044172048260767, 'gender_weight': 0.0941604106348071, 'height_weight': 0.7673860713398656, 'weight_weight': 0.02242707672184574, 'ap_hi_weight': 0.5297382774697434, 'ap_lo_weight': 0.374829056301872, 'cholesterol_weight': 0.9964629044836572, 'gluc_weight': 0.2093043702924288, 'smoke_weight': 0.8165991372735069, 'alco_weight': 0.6176911331919325, 'active_weight': 0.7123696600158449}. Best is trial 23 with value: 0.7268110940190374.\n"
     ]
    },
    {
     "name": "stdout",
     "output_type": "stream",
     "text": [
      "Running Java anonymization for trial 34 with k=10...\n",
      "Running Java code with k=10...\n",
      "Solution space too large for k=10 and l=2: Attribute 'age': hierarchy does not contain a transformation rule for value '[40, 80['\n",
      "Execution successful!\n",
      "Gesamte Ausführung hat 0 Stunden, 0 Minuten, und 2.47 Sekunden gedauert.\n",
      "Anonymization completed for k=10. Output saved to C:/Users/leesh/Desktop/BA/Notebooks/weight_optimization/anonymized_trial_34_k10.csv.\n",
      "Running Java anonymization for trial 34 with k=20...\n",
      "Running Java code with k=20...\n",
      "Solution space too large for k=20 and l=2: Attribute 'age': hierarchy does not contain a transformation rule for value '[40, 80['\n",
      "Execution successful!\n",
      "Gesamte Ausführung hat 0 Stunden, 0 Minuten, und 2.74 Sekunden gedauert.\n",
      "Anonymization completed for k=20. Output saved to C:/Users/leesh/Desktop/BA/Notebooks/weight_optimization/anonymized_trial_34_k20.csv.\n",
      "All anonymization processes completed.\n"
     ]
    },
    {
     "name": "stderr",
     "output_type": "stream",
     "text": [
      "[I 2024-09-17 21:12:25,541] Trial 34 finished with value: 0.7247100654734415 and parameters: {'age_weight': 0.9028567416811312, 'gender_weight': 0.00018917930859106702, 'height_weight': 0.866183845201818, 'weight_weight': 0.1250812842563176, 'ap_hi_weight': 0.6857735103218419, 'ap_lo_weight': 0.2526525098039133, 'cholesterol_weight': 0.7433507124132885, 'gluc_weight': 0.21589720266787735, 'smoke_weight': 0.5283975759519763, 'alco_weight': 0.39843822296824943, 'active_weight': 0.9263980926824841}. Best is trial 23 with value: 0.7268110940190374.\n"
     ]
    },
    {
     "name": "stdout",
     "output_type": "stream",
     "text": [
      "Running Java anonymization for trial 35 with k=10...\n",
      "Running Java code with k=10...\n",
      "Solution space too large for k=10 and l=2: Attribute 'age': hierarchy does not contain a transformation rule for value '[40, 80['\n",
      "Execution successful!\n",
      "Gesamte Ausführung hat 0 Stunden, 0 Minuten, und 2.70 Sekunden gedauert.\n",
      "Anonymization completed for k=10. Output saved to C:/Users/leesh/Desktop/BA/Notebooks/weight_optimization/anonymized_trial_35_k10.csv.\n",
      "Running Java anonymization for trial 35 with k=20...\n",
      "Running Java code with k=20...\n",
      "Solution space too large for k=20 and l=2: Attribute 'age': hierarchy does not contain a transformation rule for value '[40, 80['\n",
      "Execution successful!\n",
      "Gesamte Ausführung hat 0 Stunden, 0 Minuten, und 2.63 Sekunden gedauert.\n",
      "Anonymization completed for k=20. Output saved to C:/Users/leesh/Desktop/BA/Notebooks/weight_optimization/anonymized_trial_35_k20.csv.\n",
      "All anonymization processes completed.\n"
     ]
    },
    {
     "name": "stderr",
     "output_type": "stream",
     "text": [
      "[I 2024-09-17 21:12:42,795] Trial 35 finished with value: 0.7246735182752493 and parameters: {'age_weight': 0.8951694636312182, 'gender_weight': 0.0008620683414471578, 'height_weight': 0.34926721861807397, 'weight_weight': 0.700346508959891, 'ap_hi_weight': 0.80643950131991, 'ap_lo_weight': 0.22970515827280588, 'cholesterol_weight': 0.7483683037811609, 'gluc_weight': 0.20235742818956462, 'smoke_weight': 0.5042552097322375, 'alco_weight': 0.5890123573883015, 'active_weight': 0.9193145732650481}. Best is trial 23 with value: 0.7268110940190374.\n"
     ]
    },
    {
     "name": "stdout",
     "output_type": "stream",
     "text": [
      "Running Java anonymization for trial 36 with k=10...\n",
      "Running Java code with k=10...\n",
      "Solution space too large for k=10 and l=2: Attribute 'age': hierarchy does not contain a transformation rule for value '[40, 80['\n",
      "Execution successful!\n",
      "Gesamte Ausführung hat 0 Stunden, 0 Minuten, und 2.17 Sekunden gedauert.\n",
      "Anonymization completed for k=10. Output saved to C:/Users/leesh/Desktop/BA/Notebooks/weight_optimization/anonymized_trial_36_k10.csv.\n",
      "Running Java anonymization for trial 36 with k=20...\n",
      "Running Java code with k=20...\n",
      "Solution space too large for k=20 and l=2: Attribute 'age': hierarchy does not contain a transformation rule for value '[40, 80['\n",
      "Execution successful!\n",
      "Gesamte Ausführung hat 0 Stunden, 0 Minuten, und 1.93 Sekunden gedauert.\n",
      "Anonymization completed for k=20. Output saved to C:/Users/leesh/Desktop/BA/Notebooks/weight_optimization/anonymized_trial_36_k20.csv.\n",
      "All anonymization processes completed.\n"
     ]
    },
    {
     "name": "stderr",
     "output_type": "stream",
     "text": [
      "[I 2024-09-17 21:12:58,518] Trial 36 finished with value: 0.7267158613028644 and parameters: {'age_weight': 0.9949360290067473, 'gender_weight': 0.20097769849638816, 'height_weight': 0.949496802125978, 'weight_weight': 0.27980884981061954, 'ap_hi_weight': 0.8897156686166448, 'ap_lo_weight': 0.1632325179695267, 'cholesterol_weight': 0.8257078845772103, 'gluc_weight': 0.3259950013427492, 'smoke_weight': 0.5842914331981708, 'alco_weight': 0.45433269066267973, 'active_weight': 0.8205512305998398}. Best is trial 23 with value: 0.7268110940190374.\n"
     ]
    },
    {
     "name": "stdout",
     "output_type": "stream",
     "text": [
      "Running Java anonymization for trial 37 with k=10...\n",
      "Running Java code with k=10...\n",
      "Solution space too large for k=10 and l=2: Attribute 'age': hierarchy does not contain a transformation rule for value '[40, 80['\n",
      "Execution successful!\n",
      "Gesamte Ausführung hat 0 Stunden, 0 Minuten, und 2.55 Sekunden gedauert.\n",
      "Anonymization completed for k=10. Output saved to C:/Users/leesh/Desktop/BA/Notebooks/weight_optimization/anonymized_trial_37_k10.csv.\n",
      "Running Java anonymization for trial 37 with k=20...\n",
      "Running Java code with k=20...\n",
      "Solution space too large for k=20 and l=2: Attribute 'age': hierarchy does not contain a transformation rule for value '[40, 80['\n",
      "Execution successful!\n",
      "Gesamte Ausführung hat 0 Stunden, 0 Minuten, und 2.17 Sekunden gedauert.\n",
      "Anonymization completed for k=20. Output saved to C:/Users/leesh/Desktop/BA/Notebooks/weight_optimization/anonymized_trial_37_k20.csv.\n",
      "All anonymization processes completed.\n"
     ]
    },
    {
     "name": "stderr",
     "output_type": "stream",
     "text": [
      "[I 2024-09-17 21:13:15,138] Trial 37 finished with value: 0.7266206458779656 and parameters: {'age_weight': 0.9972371665390654, 'gender_weight': 0.21361545016487765, 'height_weight': 0.955720505276514, 'weight_weight': 0.2705455243924082, 'ap_hi_weight': 0.8687791759323034, 'ap_lo_weight': 0.11437990681757762, 'cholesterol_weight': 0.8616213926504885, 'gluc_weight': 0.3487693300427568, 'smoke_weight': 0.6711517056508269, 'alco_weight': 0.45982417403920317, 'active_weight': 0.6901435428868934}. Best is trial 23 with value: 0.7268110940190374.\n"
     ]
    },
    {
     "name": "stdout",
     "output_type": "stream",
     "text": [
      "Running Java anonymization for trial 38 with k=10...\n",
      "Running Java code with k=10...\n",
      "Solution space too large for k=10 and l=2: Attribute 'age': hierarchy does not contain a transformation rule for value '[40, 80['\n",
      "Execution successful!\n",
      "Gesamte Ausführung hat 0 Stunden, 0 Minuten, und 2.28 Sekunden gedauert.\n",
      "Anonymization completed for k=10. Output saved to C:/Users/leesh/Desktop/BA/Notebooks/weight_optimization/anonymized_trial_38_k10.csv.\n",
      "Running Java anonymization for trial 38 with k=20...\n",
      "Running Java code with k=20...\n",
      "Solution space too large for k=20 and l=2: Attribute 'age': hierarchy does not contain a transformation rule for value '[40, 80['\n",
      "Execution successful!\n",
      "Gesamte Ausführung hat 0 Stunden, 0 Minuten, und 2.54 Sekunden gedauert.\n",
      "Anonymization completed for k=20. Output saved to C:/Users/leesh/Desktop/BA/Notebooks/weight_optimization/anonymized_trial_38_k20.csv.\n",
      "All anonymization processes completed.\n"
     ]
    },
    {
     "name": "stderr",
     "output_type": "stream",
     "text": [
      "[I 2024-09-17 21:13:32,435] Trial 38 finished with value: 0.7229694631034399 and parameters: {'age_weight': 0.961199187581598, 'gender_weight': 0.20474681529436375, 'height_weight': 0.9459257782520103, 'weight_weight': 0.5542949129302911, 'ap_hi_weight': 0.9742417696805097, 'ap_lo_weight': 0.112506692787116, 'cholesterol_weight': 0.8294919575833026, 'gluc_weight': 0.3304248032028405, 'smoke_weight': 0.608265007865759, 'alco_weight': 0.4691466460631175, 'active_weight': 0.5078258288849786}. Best is trial 23 with value: 0.7268110940190374.\n"
     ]
    },
    {
     "name": "stdout",
     "output_type": "stream",
     "text": [
      "Running Java anonymization for trial 39 with k=10...\n",
      "Running Java code with k=10...\n",
      "Solution space too large for k=10 and l=2: Attribute 'age': hierarchy does not contain a transformation rule for value '[40, 80['\n",
      "Execution successful!\n",
      "Gesamte Ausführung hat 0 Stunden, 0 Minuten, und 2.41 Sekunden gedauert.\n",
      "Anonymization completed for k=10. Output saved to C:/Users/leesh/Desktop/BA/Notebooks/weight_optimization/anonymized_trial_39_k10.csv.\n",
      "Running Java anonymization for trial 39 with k=20...\n",
      "Running Java code with k=20...\n",
      "Solution space too large for k=20 and l=2: Attribute 'age': hierarchy does not contain a transformation rule for value '[40, 80['\n",
      "Execution successful!\n",
      "Gesamte Ausführung hat 0 Stunden, 0 Minuten, und 2.51 Sekunden gedauert.\n",
      "Anonymization completed for k=20. Output saved to C:/Users/leesh/Desktop/BA/Notebooks/weight_optimization/anonymized_trial_39_k20.csv.\n",
      "All anonymization processes completed.\n"
     ]
    },
    {
     "name": "stderr",
     "output_type": "stream",
     "text": [
      "[I 2024-09-17 21:13:49,653] Trial 39 finished with value: 0.7197958068329738 and parameters: {'age_weight': 0.9965118656593073, 'gender_weight': 0.5027763755897133, 'height_weight': 0.9554106443285733, 'weight_weight': 0.28922503446270237, 'ap_hi_weight': 0.8734202646298349, 'ap_lo_weight': 0.17077445343743936, 'cholesterol_weight': 0.7009165147457072, 'gluc_weight': 0.4881003064977962, 'smoke_weight': 0.453115918060248, 'alco_weight': 0.34949097210368607, 'active_weight': 0.5621404470130292}. Best is trial 23 with value: 0.7268110940190374.\n"
     ]
    },
    {
     "name": "stdout",
     "output_type": "stream",
     "text": [
      "Running Java anonymization for trial 40 with k=10...\n",
      "Running Java code with k=10...\n",
      "Solution space too large for k=10 and l=2: Attribute 'age': hierarchy does not contain a transformation rule for value '[40, 80['\n",
      "Execution successful!\n",
      "Gesamte Ausführung hat 0 Stunden, 0 Minuten, und 3.06 Sekunden gedauert.\n",
      "Anonymization completed for k=10. Output saved to C:/Users/leesh/Desktop/BA/Notebooks/weight_optimization/anonymized_trial_40_k10.csv.\n",
      "Running Java anonymization for trial 40 with k=20...\n",
      "Running Java code with k=20...\n",
      "Solution space too large for k=20 and l=2: Attribute 'age': hierarchy does not contain a transformation rule for value '[40, 80['\n",
      "Execution successful!\n",
      "Gesamte Ausführung hat 0 Stunden, 0 Minuten, und 2.48 Sekunden gedauert.\n",
      "Anonymization completed for k=20. Output saved to C:/Users/leesh/Desktop/BA/Notebooks/weight_optimization/anonymized_trial_40_k20.csv.\n",
      "All anonymization processes completed.\n"
     ]
    },
    {
     "name": "stderr",
     "output_type": "stream",
     "text": [
      "[I 2024-09-17 21:14:06,804] Trial 40 finished with value: 0.715185426281157 and parameters: {'age_weight': 0.0884580095366373, 'gender_weight': 0.6180501090659459, 'height_weight': 0.7672574407966957, 'weight_weight': 0.23132069141432732, 'ap_hi_weight': 0.8877650831125364, 'ap_lo_weight': 0.08887106818354991, 'cholesterol_weight': 0.24597082122975045, 'gluc_weight': 0.36685559316731214, 'smoke_weight': 0.674828236217535, 'alco_weight': 0.08504323913777034, 'active_weight': 0.447578060949619}. Best is trial 23 with value: 0.7268110940190374.\n"
     ]
    },
    {
     "name": "stdout",
     "output_type": "stream",
     "text": [
      "Running Java anonymization for trial 41 with k=10...\n",
      "Running Java code with k=10...\n",
      "Solution space too large for k=10 and l=2: Attribute 'age': hierarchy does not contain a transformation rule for value '[40, 80['\n",
      "Execution successful!\n",
      "Gesamte Ausführung hat 0 Stunden, 0 Minuten, und 2.90 Sekunden gedauert.\n",
      "Anonymization completed for k=10. Output saved to C:/Users/leesh/Desktop/BA/Notebooks/weight_optimization/anonymized_trial_41_k10.csv.\n",
      "Running Java anonymization for trial 41 with k=20...\n",
      "Running Java code with k=20...\n",
      "Solution space too large for k=20 and l=2: Attribute 'age': hierarchy does not contain a transformation rule for value '[40, 80['\n",
      "Execution successful!\n",
      "Gesamte Ausführung hat 0 Stunden, 0 Minuten, und 2.56 Sekunden gedauert.\n",
      "Anonymization completed for k=20. Output saved to C:/Users/leesh/Desktop/BA/Notebooks/weight_optimization/anonymized_trial_41_k20.csv.\n",
      "All anonymization processes completed.\n"
     ]
    },
    {
     "name": "stderr",
     "output_type": "stream",
     "text": [
      "[I 2024-09-17 21:14:23,843] Trial 41 finished with value: 0.7248220761058818 and parameters: {'age_weight': 0.9824385375779005, 'gender_weight': 0.11802490674075207, 'height_weight': 0.8734338953337627, 'weight_weight': 0.3416558700765095, 'ap_hi_weight': 0.7674193166427332, 'ap_lo_weight': 0.17533449194016548, 'cholesterol_weight': 0.8477310706696234, 'gluc_weight': 0.25644977448121054, 'smoke_weight': 0.592213136666482, 'alco_weight': 0.5610033439034493, 'active_weight': 0.6782345445911111}. Best is trial 23 with value: 0.7268110940190374.\n"
     ]
    },
    {
     "name": "stdout",
     "output_type": "stream",
     "text": [
      "Running Java anonymization for trial 42 with k=10...\n",
      "Running Java code with k=10...\n",
      "Solution space too large for k=10 and l=2: Attribute 'age': hierarchy does not contain a transformation rule for value '[40, 80['\n",
      "Execution successful!\n",
      "Gesamte Ausführung hat 0 Stunden, 0 Minuten, und 2.17 Sekunden gedauert.\n",
      "Anonymization completed for k=10. Output saved to C:/Users/leesh/Desktop/BA/Notebooks/weight_optimization/anonymized_trial_42_k10.csv.\n",
      "Running Java anonymization for trial 42 with k=20...\n",
      "Running Java code with k=20...\n",
      "Solution space too large for k=20 and l=2: Attribute 'age': hierarchy does not contain a transformation rule for value '[40, 80['\n",
      "Execution successful!\n",
      "Gesamte Ausführung hat 0 Stunden, 0 Minuten, und 2.03 Sekunden gedauert.\n",
      "Anonymization completed for k=20. Output saved to C:/Users/leesh/Desktop/BA/Notebooks/weight_optimization/anonymized_trial_42_k20.csv.\n",
      "All anonymization processes completed.\n"
     ]
    },
    {
     "name": "stderr",
     "output_type": "stream",
     "text": [
      "[I 2024-09-17 21:14:39,615] Trial 42 finished with value: 0.7230169264468953 and parameters: {'age_weight': 0.8728343764143043, 'gender_weight': 0.26610346201341845, 'height_weight': 0.955905907951985, 'weight_weight': 0.12824568777020773, 'ap_hi_weight': 0.9985076371083756, 'ap_lo_weight': 0.03666218511157761, 'cholesterol_weight': 0.901434212069594, 'gluc_weight': 0.41903284130507357, 'smoke_weight': 0.7831944213058302, 'alco_weight': 0.48131428287594324, 'active_weight': 0.8162115133931358}. Best is trial 23 with value: 0.7268110940190374.\n"
     ]
    },
    {
     "name": "stdout",
     "output_type": "stream",
     "text": [
      "Running Java anonymization for trial 43 with k=10...\n",
      "Running Java code with k=10...\n",
      "Solution space too large for k=10 and l=2: Attribute 'age': hierarchy does not contain a transformation rule for value '[40, 80['\n",
      "Execution successful!\n",
      "Gesamte Ausführung hat 0 Stunden, 0 Minuten, und 2.69 Sekunden gedauert.\n",
      "Anonymization completed for k=10. Output saved to C:/Users/leesh/Desktop/BA/Notebooks/weight_optimization/anonymized_trial_43_k10.csv.\n",
      "Running Java anonymization for trial 43 with k=20...\n",
      "Running Java code with k=20...\n",
      "Solution space too large for k=20 and l=2: Attribute 'age': hierarchy does not contain a transformation rule for value '[40, 80['\n",
      "Execution successful!\n",
      "Gesamte Ausführung hat 0 Stunden, 0 Minuten, und 2.58 Sekunden gedauert.\n",
      "Anonymization completed for k=20. Output saved to C:/Users/leesh/Desktop/BA/Notebooks/weight_optimization/anonymized_trial_43_k20.csv.\n",
      "All anonymization processes completed.\n"
     ]
    },
    {
     "name": "stderr",
     "output_type": "stream",
     "text": [
      "[I 2024-09-17 21:14:55,730] Trial 43 finished with value: 0.7252225047679594 and parameters: {'age_weight': 0.7678108217944126, 'gender_weight': 0.18988565163013385, 'height_weight': 0.8075998010727468, 'weight_weight': 0.6506022909203371, 'ap_hi_weight': 0.6925887940304125, 'ap_lo_weight': 0.32358939723009844, 'cholesterol_weight': 0.02790621911956037, 'gluc_weight': 0.34442637388886105, 'smoke_weight': 0.718540031860075, 'alco_weight': 0.3008629800333626, 'active_weight': 0.6769766925340884}. Best is trial 23 with value: 0.7268110940190374.\n"
     ]
    },
    {
     "name": "stdout",
     "output_type": "stream",
     "text": [
      "Running Java anonymization for trial 44 with k=10...\n",
      "Running Java code with k=10...\n",
      "Solution space too large for k=10 and l=2: Attribute 'age': hierarchy does not contain a transformation rule for value '[40, 80['\n",
      "Execution successful!\n",
      "Gesamte Ausführung hat 0 Stunden, 0 Minuten, und 2.39 Sekunden gedauert.\n",
      "Anonymization completed for k=10. Output saved to C:/Users/leesh/Desktop/BA/Notebooks/weight_optimization/anonymized_trial_44_k10.csv.\n",
      "Running Java anonymization for trial 44 with k=20...\n",
      "Running Java code with k=20...\n",
      "Solution space too large for k=20 and l=2: Attribute 'age': hierarchy does not contain a transformation rule for value '[40, 80['\n",
      "Execution successful!\n",
      "Gesamte Ausführung hat 0 Stunden, 0 Minuten, und 2.78 Sekunden gedauert.\n",
      "Anonymization completed for k=20. Output saved to C:/Users/leesh/Desktop/BA/Notebooks/weight_optimization/anonymized_trial_44_k20.csv.\n",
      "All anonymization processes completed.\n"
     ]
    },
    {
     "name": "stderr",
     "output_type": "stream",
     "text": [
      "[I 2024-09-17 21:15:13,241] Trial 44 finished with value: 0.7214804292929294 and parameters: {'age_weight': 0.7551140064135847, 'gender_weight': 0.2230619939338954, 'height_weight': 0.4943712933663185, 'weight_weight': 0.6617791238896618, 'ap_hi_weight': 0.9181409941921534, 'ap_lo_weight': 0.30130767902974853, 'cholesterol_weight': 0.04632982153754572, 'gluc_weight': 0.5046819860504371, 'smoke_weight': 0.6356478222827977, 'alco_weight': 0.27720759605847295, 'active_weight': 0.827277851977879}. Best is trial 23 with value: 0.7268110940190374.\n"
     ]
    },
    {
     "name": "stdout",
     "output_type": "stream",
     "text": [
      "Running Java anonymization for trial 45 with k=10...\n",
      "Running Java code with k=10...\n",
      "Solution space too large for k=10 and l=2: Attribute 'age': hierarchy does not contain a transformation rule for value '[40, 80['\n",
      "Execution successful!\n",
      "Gesamte Ausführung hat 0 Stunden, 0 Minuten, und 2.40 Sekunden gedauert.\n",
      "Anonymization completed for k=10. Output saved to C:/Users/leesh/Desktop/BA/Notebooks/weight_optimization/anonymized_trial_45_k10.csv.\n",
      "Running Java anonymization for trial 45 with k=20...\n",
      "Running Java code with k=20...\n",
      "Solution space too large for k=20 and l=2: Attribute 'age': hierarchy does not contain a transformation rule for value '[40, 80['\n",
      "Execution successful!\n",
      "Gesamte Ausführung hat 0 Stunden, 0 Minuten, und 2.94 Sekunden gedauert.\n",
      "Anonymization completed for k=20. Output saved to C:/Users/leesh/Desktop/BA/Notebooks/weight_optimization/anonymized_trial_45_k20.csv.\n",
      "All anonymization processes completed.\n"
     ]
    },
    {
     "name": "stderr",
     "output_type": "stream",
     "text": [
      "[I 2024-09-17 21:15:29,537] Trial 45 finished with value: 0.7224982144274263 and parameters: {'age_weight': 0.6573453941440988, 'gender_weight': 0.07050846338492532, 'height_weight': 0.4011163405467356, 'weight_weight': 0.6235052631345606, 'ap_hi_weight': 0.7107766890561019, 'ap_lo_weight': 0.0632670679294559, 'cholesterol_weight': 0.20934104330526015, 'gluc_weight': 0.3496509912127429, 'smoke_weight': 0.7042624992568374, 'alco_weight': 0.2045931085764885, 'active_weight': 0.6570541175084594}. Best is trial 23 with value: 0.7268110940190374.\n"
     ]
    },
    {
     "name": "stdout",
     "output_type": "stream",
     "text": [
      "Running Java anonymization for trial 46 with k=10...\n",
      "Running Java code with k=10...\n",
      "Solution space too large for k=10 and l=2: Attribute 'age': hierarchy does not contain a transformation rule for value '[40, 80['\n",
      "Execution successful!\n",
      "Gesamte Ausführung hat 0 Stunden, 0 Minuten, und 2.29 Sekunden gedauert.\n",
      "Anonymization completed for k=10. Output saved to C:/Users/leesh/Desktop/BA/Notebooks/weight_optimization/anonymized_trial_46_k10.csv.\n",
      "Running Java anonymization for trial 46 with k=20...\n",
      "Running Java code with k=20...\n",
      "Solution space too large for k=20 and l=2: Attribute 'age': hierarchy does not contain a transformation rule for value '[40, 80['\n",
      "Execution successful!\n",
      "Gesamte Ausführung hat 0 Stunden, 0 Minuten, und 2.82 Sekunden gedauert.\n",
      "Anonymization completed for k=20. Output saved to C:/Users/leesh/Desktop/BA/Notebooks/weight_optimization/anonymized_trial_46_k20.csv.\n",
      "All anonymization processes completed.\n"
     ]
    },
    {
     "name": "stderr",
     "output_type": "stream",
     "text": [
      "[I 2024-09-17 21:15:46,563] Trial 46 finished with value: 0.7267158613028644 and parameters: {'age_weight': 0.5809519093148637, 'gender_weight': 0.1687924611646031, 'height_weight': 0.5595446601760898, 'weight_weight': 0.3551807622679699, 'ap_hi_weight': 0.7846246228058462, 'ap_lo_weight': 0.19366586787205803, 'cholesterol_weight': 0.1017896430424341, 'gluc_weight': 0.06199883165599929, 'smoke_weight': 0.6972675701747993, 'alco_weight': 0.019406368573350177, 'active_weight': 0.9353724819838757}. Best is trial 23 with value: 0.7268110940190374.\n"
     ]
    },
    {
     "name": "stdout",
     "output_type": "stream",
     "text": [
      "Running Java anonymization for trial 47 with k=10...\n",
      "Running Java code with k=10...\n",
      "Solution space too large for k=10 and l=2: Attribute 'age': hierarchy does not contain a transformation rule for value '[40, 80['\n",
      "Execution successful!\n",
      "Gesamte Ausführung hat 0 Stunden, 0 Minuten, und 2.48 Sekunden gedauert.\n",
      "Anonymization completed for k=10. Output saved to C:/Users/leesh/Desktop/BA/Notebooks/weight_optimization/anonymized_trial_47_k10.csv.\n",
      "Running Java anonymization for trial 47 with k=20...\n",
      "Running Java code with k=20...\n",
      "Solution space too large for k=20 and l=2: Attribute 'age': hierarchy does not contain a transformation rule for value '[40, 80['\n",
      "Execution successful!\n",
      "Gesamte Ausführung hat 0 Stunden, 0 Minuten, und 2.94 Sekunden gedauert.\n",
      "Anonymization completed for k=20. Output saved to C:/Users/leesh/Desktop/BA/Notebooks/weight_optimization/anonymized_trial_47_k20.csv.\n",
      "All anonymization processes completed.\n"
     ]
    },
    {
     "name": "stderr",
     "output_type": "stream",
     "text": [
      "[I 2024-09-17 21:16:03,922] Trial 47 finished with value: 0.7263984765532017 and parameters: {'age_weight': 0.2890967682127924, 'gender_weight': 0.4409611379595644, 'height_weight': 0.6068223736537633, 'weight_weight': 0.3435966228274815, 'ap_hi_weight': 0.8274934133058772, 'ap_lo_weight': 0.18129278651871927, 'cholesterol_weight': 0.36314482217862326, 'gluc_weight': 0.05601802725585059, 'smoke_weight': 0.5442443068414011, 'alco_weight': 0.024061392589196543, 'active_weight': 0.9412837130822567}. Best is trial 23 with value: 0.7268110940190374.\n"
     ]
    },
    {
     "name": "stdout",
     "output_type": "stream",
     "text": [
      "Running Java anonymization for trial 48 with k=10...\n",
      "Running Java code with k=10...\n",
      "Solution space too large for k=10 and l=2: Attribute 'age': hierarchy does not contain a transformation rule for value '[40, 80['\n",
      "Execution successful!\n",
      "Gesamte Ausführung hat 0 Stunden, 0 Minuten, und 3.14 Sekunden gedauert.\n",
      "Anonymization completed for k=10. Output saved to C:/Users/leesh/Desktop/BA/Notebooks/weight_optimization/anonymized_trial_48_k10.csv.\n",
      "Running Java anonymization for trial 48 with k=20...\n",
      "Running Java code with k=20...\n",
      "Solution space too large for k=20 and l=2: Attribute 'age': hierarchy does not contain a transformation rule for value '[40, 80['\n",
      "Execution successful!\n",
      "Gesamte Ausführung hat 0 Stunden, 0 Minuten, und 2.78 Sekunden gedauert.\n",
      "Anonymization completed for k=20. Output saved to C:/Users/leesh/Desktop/BA/Notebooks/weight_optimization/anonymized_trial_48_k20.csv.\n",
      "All anonymization processes completed.\n"
     ]
    },
    {
     "name": "stderr",
     "output_type": "stream",
     "text": [
      "[I 2024-09-17 21:16:21,436] Trial 48 finished with value: 0.718993771336984 and parameters: {'age_weight': 0.5655142449699679, 'gender_weight': 0.15327569955371984, 'height_weight': 0.5360174940176494, 'weight_weight': 0.4943367967442757, 'ap_hi_weight': 0.7806009204964587, 'ap_lo_weight': 0.2228586982073443, 'cholesterol_weight': 0.11033772202717224, 'gluc_weight': 0.018370244913481083, 'smoke_weight': 0.4721870202705744, 'alco_weight': 0.056443536036063585, 'active_weight': 0.8568845303014789}. Best is trial 23 with value: 0.7268110940190374.\n"
     ]
    },
    {
     "name": "stdout",
     "output_type": "stream",
     "text": [
      "Running Java anonymization for trial 49 with k=10...\n",
      "Running Java code with k=10...\n",
      "Solution space too large for k=10 and l=2: Attribute 'age': hierarchy does not contain a transformation rule for value '[40, 80['\n",
      "Execution successful!\n",
      "Gesamte Ausführung hat 0 Stunden, 0 Minuten, und 2.60 Sekunden gedauert.\n",
      "Anonymization completed for k=10. Output saved to C:/Users/leesh/Desktop/BA/Notebooks/weight_optimization/anonymized_trial_49_k10.csv.\n",
      "Running Java anonymization for trial 49 with k=20...\n",
      "Running Java code with k=20...\n",
      "Solution space too large for k=20 and l=2: Attribute 'age': hierarchy does not contain a transformation rule for value '[40, 80['\n",
      "Execution successful!\n",
      "Gesamte Ausführung hat 0 Stunden, 0 Minuten, und 2.56 Sekunden gedauert.\n",
      "Anonymization completed for k=20. Output saved to C:/Users/leesh/Desktop/BA/Notebooks/weight_optimization/anonymized_trial_49_k20.csv.\n",
      "All anonymization processes completed.\n"
     ]
    },
    {
     "name": "stderr",
     "output_type": "stream",
     "text": [
      "[I 2024-09-17 21:16:37,984] Trial 49 finished with value: 0.7224603724439895 and parameters: {'age_weight': 0.38434232075770397, 'gender_weight': 0.5885867470755578, 'height_weight': 0.34154287547263873, 'weight_weight': 0.3001410992518895, 'ap_hi_weight': 0.6482597717061951, 'ap_lo_weight': 0.14031151775016987, 'cholesterol_weight': 0.09910808431118379, 'gluc_weight': 0.06121741012578212, 'smoke_weight': 0.7899605095609569, 'alco_weight': 0.0012841472784047292, 'active_weight': 0.1583950070399227}. Best is trial 23 with value: 0.7268110940190374.\n"
     ]
    },
    {
     "name": "stdout",
     "output_type": "stream",
     "text": [
      "Optimized weights for C:/Users/leesh/Desktop/BA/Notebooks/weight_optimization/cvd_k100_l2.csv: {'age_weight': 0.6227821665562709, 'gender_weight': 0.6565833589596448, 'height_weight': 0.7739693197446442, 'weight_weight': 0.48465479484497637, 'ap_hi_weight': 0.5545491387351201, 'ap_lo_weight': 0.8144958353295672, 'cholesterol_weight': 0.4070353341865159, 'gluc_weight': 0.17350325549583892, 'smoke_weight': 0.9427789374751246, 'alco_weight': 0.08562023269772562, 'active_weight': 0.7666846044918856}\n",
      "Optimizing for C:/Users/leesh/Desktop/BA/Notebooks/weight_optimization/cvd_k1000_l2.csv\n"
     ]
    },
    {
     "name": "stderr",
     "output_type": "stream",
     "text": [
      "[I 2024-09-17 21:16:38,243] A new study created in memory with name: no-name-275e7be8-f1e2-4cb4-b851-76a2807b867a\n"
     ]
    },
    {
     "name": "stdout",
     "output_type": "stream",
     "text": [
      "Running Java anonymization for trial 0 with k=10...\n",
      "Running Java code with k=10...\n",
      "Solution space too large for k=10 and l=2: Attribute 'age': hierarchy does not contain a transformation rule for value '[0, 80['\n",
      "Execution successful!\n",
      "Gesamte Ausführung hat 0 Stunden, 0 Minuten, und 2.17 Sekunden gedauert.\n",
      "Anonymization completed for k=10. Output saved to C:/Users/leesh/Desktop/BA/Notebooks/weight_optimization/anonymized_trial_0_k10.csv.\n",
      "Running Java anonymization for trial 0 with k=20...\n",
      "Running Java code with k=20...\n",
      "Solution space too large for k=20 and l=2: Attribute 'age': hierarchy does not contain a transformation rule for value '[0, 80['\n",
      "Execution successful!\n",
      "Gesamte Ausführung hat 0 Stunden, 0 Minuten, und 2.73 Sekunden gedauert.\n",
      "Anonymization completed for k=20. Output saved to C:/Users/leesh/Desktop/BA/Notebooks/weight_optimization/anonymized_trial_0_k20.csv.\n",
      "All anonymization processes completed.\n"
     ]
    },
    {
     "name": "stderr",
     "output_type": "stream",
     "text": [
      "[I 2024-09-17 21:16:59,091] Trial 0 finished with value: 0.7198724352164099 and parameters: {'age_weight': 0.24001217115679052, 'gender_weight': 0.15063058372644322, 'height_weight': 0.4747185362062061, 'weight_weight': 0.3635069544184931, 'ap_hi_weight': 0.0019906081284900567, 'ap_lo_weight': 0.2379637739163445, 'cholesterol_weight': 0.3209263841046961, 'gluc_weight': 0.0375752480588355, 'smoke_weight': 0.23513521812011362, 'alco_weight': 0.6159452476187464, 'active_weight': 0.8303960326218411}. Best is trial 0 with value: 0.7198724352164099.\n"
     ]
    },
    {
     "name": "stdout",
     "output_type": "stream",
     "text": [
      "Running Java anonymization for trial 1 with k=10...\n",
      "Running Java code with k=10...\n",
      "Solution space too large for k=10 and l=2: Attribute 'age': hierarchy does not contain a transformation rule for value '[0, 80['\n",
      "Execution successful!\n",
      "Gesamte Ausführung hat 0 Stunden, 0 Minuten, und 2.34 Sekunden gedauert.\n",
      "Anonymization completed for k=10. Output saved to C:/Users/leesh/Desktop/BA/Notebooks/weight_optimization/anonymized_trial_1_k10.csv.\n",
      "Running Java anonymization for trial 1 with k=20...\n",
      "Running Java code with k=20...\n",
      "Solution space too large for k=20 and l=2: Attribute 'age': hierarchy does not contain a transformation rule for value '[0, 80['\n",
      "Execution successful!\n",
      "Gesamte Ausführung hat 0 Stunden, 0 Minuten, und 2.49 Sekunden gedauert.\n",
      "Anonymization completed for k=20. Output saved to C:/Users/leesh/Desktop/BA/Notebooks/weight_optimization/anonymized_trial_1_k20.csv.\n",
      "All anonymization processes completed.\n"
     ]
    },
    {
     "name": "stderr",
     "output_type": "stream",
     "text": [
      "[I 2024-09-17 21:17:16,441] Trial 1 finished with value: 0.7105958909736009 and parameters: {'age_weight': 0.9055731016271336, 'gender_weight': 0.058703365677622577, 'height_weight': 0.7774074293288417, 'weight_weight': 0.472769665838468, 'ap_hi_weight': 0.4365388851537172, 'ap_lo_weight': 0.026696923525801552, 'cholesterol_weight': 0.5512763831734961, 'gluc_weight': 0.8988615723631185, 'smoke_weight': 0.3747442934096784, 'alco_weight': 0.4540901989712446, 'active_weight': 0.6917764107881464}. Best is trial 0 with value: 0.7198724352164099.\n"
     ]
    },
    {
     "name": "stdout",
     "output_type": "stream",
     "text": [
      "Running Java anonymization for trial 2 with k=10...\n",
      "Running Java code with k=10...\n",
      "Solution space too large for k=10 and l=2: Attribute 'age': hierarchy does not contain a transformation rule for value '[0, 80['\n",
      "Execution successful!\n",
      "Gesamte Ausführung hat 0 Stunden, 0 Minuten, und 2.75 Sekunden gedauert.\n",
      "Anonymization completed for k=10. Output saved to C:/Users/leesh/Desktop/BA/Notebooks/weight_optimization/anonymized_trial_2_k10.csv.\n",
      "Running Java anonymization for trial 2 with k=20...\n",
      "Running Java code with k=20...\n",
      "Solution space too large for k=20 and l=2: Attribute 'age': hierarchy does not contain a transformation rule for value '[0, 80['\n",
      "Execution successful!\n",
      "Gesamte Ausführung hat 0 Stunden, 0 Minuten, und 3.06 Sekunden gedauert.\n",
      "Anonymization completed for k=20. Output saved to C:/Users/leesh/Desktop/BA/Notebooks/weight_optimization/anonymized_trial_2_k20.csv.\n",
      "All anonymization processes completed.\n"
     ]
    },
    {
     "name": "stderr",
     "output_type": "stream",
     "text": [
      "[I 2024-09-17 21:17:34,940] Trial 2 finished with value: 0.655677983190729 and parameters: {'age_weight': 0.20483468375148306, 'gender_weight': 0.40957888244472584, 'height_weight': 0.3512060760776875, 'weight_weight': 0.686773455561154, 'ap_hi_weight': 0.8649602886943341, 'ap_lo_weight': 0.5809175798160973, 'cholesterol_weight': 0.17811000951103761, 'gluc_weight': 0.07239817861410935, 'smoke_weight': 0.2835755620140207, 'alco_weight': 0.5938059066658646, 'active_weight': 0.9103861218236708}. Best is trial 0 with value: 0.7198724352164099.\n"
     ]
    },
    {
     "name": "stdout",
     "output_type": "stream",
     "text": [
      "Running Java anonymization for trial 3 with k=10...\n",
      "Running Java code with k=10...\n",
      "Solution space too large for k=10 and l=2: Attribute 'age': hierarchy does not contain a transformation rule for value '[0, 80['\n",
      "Execution successful!\n",
      "Gesamte Ausführung hat 0 Stunden, 0 Minuten, und 2.53 Sekunden gedauert.\n",
      "Anonymization completed for k=10. Output saved to C:/Users/leesh/Desktop/BA/Notebooks/weight_optimization/anonymized_trial_3_k10.csv.\n",
      "Running Java anonymization for trial 3 with k=20...\n",
      "Running Java code with k=20...\n",
      "Solution space too large for k=20 and l=2: Attribute 'age': hierarchy does not contain a transformation rule for value '[0, 80['\n",
      "Execution successful!\n",
      "Gesamte Ausführung hat 0 Stunden, 0 Minuten, und 2.61 Sekunden gedauert.\n",
      "Anonymization completed for k=20. Output saved to C:/Users/leesh/Desktop/BA/Notebooks/weight_optimization/anonymized_trial_3_k20.csv.\n",
      "All anonymization processes completed.\n"
     ]
    },
    {
     "name": "stderr",
     "output_type": "stream",
     "text": [
      "[I 2024-09-17 21:17:51,213] Trial 3 finished with value: 0.7145201491535111 and parameters: {'age_weight': 0.09972745436886099, 'gender_weight': 0.6400765909070165, 'height_weight': 0.4307668283281675, 'weight_weight': 0.49357341532327104, 'ap_hi_weight': 0.05070599238049189, 'ap_lo_weight': 0.8218883937488493, 'cholesterol_weight': 0.7488798139811707, 'gluc_weight': 0.18823476208925538, 'smoke_weight': 0.8002658942911208, 'alco_weight': 0.3109678303687694, 'active_weight': 0.5332555098831963}. Best is trial 0 with value: 0.7198724352164099.\n"
     ]
    },
    {
     "name": "stdout",
     "output_type": "stream",
     "text": [
      "Running Java anonymization for trial 4 with k=10...\n",
      "Running Java code with k=10...\n",
      "Solution space too large for k=10 and l=2: Attribute 'age': hierarchy does not contain a transformation rule for value '[0, 80['\n",
      "Execution successful!\n",
      "Gesamte Ausführung hat 0 Stunden, 0 Minuten, und 2.29 Sekunden gedauert.\n",
      "Anonymization completed for k=10. Output saved to C:/Users/leesh/Desktop/BA/Notebooks/weight_optimization/anonymized_trial_4_k10.csv.\n",
      "Running Java anonymization for trial 4 with k=20...\n",
      "Running Java code with k=20...\n",
      "Solution space too large for k=20 and l=2: Attribute 'age': hierarchy does not contain a transformation rule for value '[0, 80['\n",
      "Execution successful!\n",
      "Gesamte Ausführung hat 0 Stunden, 0 Minuten, und 2.18 Sekunden gedauert.\n",
      "Anonymization completed for k=20. Output saved to C:/Users/leesh/Desktop/BA/Notebooks/weight_optimization/anonymized_trial_4_k20.csv.\n",
      "All anonymization processes completed.\n"
     ]
    },
    {
     "name": "stderr",
     "output_type": "stream",
     "text": [
      "[I 2024-09-17 21:18:07,549] Trial 4 finished with value: 0.6917717913241638 and parameters: {'age_weight': 0.685835959677419, 'gender_weight': 0.6340139052140323, 'height_weight': 0.14929618561911684, 'weight_weight': 0.7522571424076496, 'ap_hi_weight': 0.094194268408887, 'ap_lo_weight': 0.3504249045005742, 'cholesterol_weight': 0.3205109003154619, 'gluc_weight': 0.5659612329617196, 'smoke_weight': 0.20032119162999662, 'alco_weight': 0.652746034548226, 'active_weight': 0.6547151122265593}. Best is trial 0 with value: 0.7198724352164099.\n"
     ]
    },
    {
     "name": "stdout",
     "output_type": "stream",
     "text": [
      "Running Java anonymization for trial 5 with k=10...\n",
      "Running Java code with k=10...\n",
      "Solution space too large for k=10 and l=2: Attribute 'age': hierarchy does not contain a transformation rule for value '[0, 80['\n",
      "Execution successful!\n",
      "Gesamte Ausführung hat 0 Stunden, 0 Minuten, und 2.86 Sekunden gedauert.\n",
      "Anonymization completed for k=10. Output saved to C:/Users/leesh/Desktop/BA/Notebooks/weight_optimization/anonymized_trial_5_k10.csv.\n",
      "Running Java anonymization for trial 5 with k=20...\n",
      "Running Java code with k=20...\n",
      "Solution space too large for k=20 and l=2: Attribute 'age': hierarchy does not contain a transformation rule for value '[0, 80['\n",
      "Execution successful!\n",
      "Gesamte Ausführung hat 0 Stunden, 0 Minuten, und 2.52 Sekunden gedauert.\n",
      "Anonymization completed for k=20. Output saved to C:/Users/leesh/Desktop/BA/Notebooks/weight_optimization/anonymized_trial_5_k20.csv.\n",
      "All anonymization processes completed.\n"
     ]
    },
    {
     "name": "stderr",
     "output_type": "stream",
     "text": [
      "[I 2024-09-17 21:18:24,383] Trial 5 finished with value: 0.6509431948237978 and parameters: {'age_weight': 0.78716777057672, 'gender_weight': 0.3479649238123719, 'height_weight': 0.3889033705437075, 'weight_weight': 0.5226909808199374, 'ap_hi_weight': 0.0756659814589542, 'ap_lo_weight': 0.7861981193237676, 'cholesterol_weight': 0.3064078470563999, 'gluc_weight': 0.0948146302195918, 'smoke_weight': 0.41150821474024113, 'alco_weight': 0.5653850052005052, 'active_weight': 0.18482121626143022}. Best is trial 0 with value: 0.7198724352164099.\n"
     ]
    },
    {
     "name": "stdout",
     "output_type": "stream",
     "text": [
      "Running Java anonymization for trial 6 with k=10...\n",
      "Running Java code with k=10...\n",
      "Solution space too large for k=10 and l=2: Attribute 'age': hierarchy does not contain a transformation rule for value '[0, 80['\n",
      "Execution successful!\n",
      "Gesamte Ausführung hat 0 Stunden, 0 Minuten, und 2.61 Sekunden gedauert.\n",
      "Anonymization completed for k=10. Output saved to C:/Users/leesh/Desktop/BA/Notebooks/weight_optimization/anonymized_trial_6_k10.csv.\n",
      "Running Java anonymization for trial 6 with k=20...\n",
      "Running Java code with k=20...\n",
      "Solution space too large for k=20 and l=2: Attribute 'age': hierarchy does not contain a transformation rule for value '[0, 80['\n",
      "Execution successful!\n",
      "Gesamte Ausführung hat 0 Stunden, 0 Minuten, und 2.74 Sekunden gedauert.\n",
      "Anonymization completed for k=20. Output saved to C:/Users/leesh/Desktop/BA/Notebooks/weight_optimization/anonymized_trial_6_k20.csv.\n",
      "All anonymization processes completed.\n"
     ]
    },
    {
     "name": "stderr",
     "output_type": "stream",
     "text": [
      "[I 2024-09-17 21:18:42,462] Trial 6 finished with value: 0.7148912613681296 and parameters: {'age_weight': 0.9742404344743683, 'gender_weight': 0.9769723097767143, 'height_weight': 0.18825285367439948, 'weight_weight': 0.6778924234919171, 'ap_hi_weight': 0.8893257867717803, 'ap_lo_weight': 0.35984832957172164, 'cholesterol_weight': 0.898293745190906, 'gluc_weight': 0.579647815586306, 'smoke_weight': 0.2631584003304396, 'alco_weight': 0.036895113083158515, 'active_weight': 0.5568192543667363}. Best is trial 0 with value: 0.7198724352164099.\n"
     ]
    },
    {
     "name": "stdout",
     "output_type": "stream",
     "text": [
      "Running Java anonymization for trial 7 with k=10...\n",
      "Running Java code with k=10...\n",
      "Solution space too large for k=10 and l=2: Attribute 'age': hierarchy does not contain a transformation rule for value '[0, 80['\n",
      "Execution successful!\n",
      "Gesamte Ausführung hat 0 Stunden, 0 Minuten, und 2.34 Sekunden gedauert.\n",
      "Anonymization completed for k=10. Output saved to C:/Users/leesh/Desktop/BA/Notebooks/weight_optimization/anonymized_trial_7_k10.csv.\n",
      "Running Java anonymization for trial 7 with k=20...\n",
      "Running Java code with k=20...\n",
      "Solution space too large for k=20 and l=2: Attribute 'age': hierarchy does not contain a transformation rule for value '[0, 80['\n",
      "Execution successful!\n",
      "Gesamte Ausführung hat 0 Stunden, 0 Minuten, und 3.06 Sekunden gedauert.\n",
      "Anonymization completed for k=20. Output saved to C:/Users/leesh/Desktop/BA/Notebooks/weight_optimization/anonymized_trial_7_k20.csv.\n",
      "All anonymization processes completed.\n"
     ]
    },
    {
     "name": "stderr",
     "output_type": "stream",
     "text": [
      "[I 2024-09-17 21:19:00,209] Trial 7 finished with value: 0.7136064472836198 and parameters: {'age_weight': 0.8313409271625792, 'gender_weight': 0.18540950981613025, 'height_weight': 0.6938506047815557, 'weight_weight': 0.9198657781333105, 'ap_hi_weight': 0.6370625130461818, 'ap_lo_weight': 0.8301101954710092, 'cholesterol_weight': 0.31224356174630974, 'gluc_weight': 0.4759187754397196, 'smoke_weight': 0.7738570090901673, 'alco_weight': 0.04112462134738992, 'active_weight': 0.5105680334775742}. Best is trial 0 with value: 0.7198724352164099.\n"
     ]
    },
    {
     "name": "stdout",
     "output_type": "stream",
     "text": [
      "Running Java anonymization for trial 8 with k=10...\n",
      "Running Java code with k=10...\n",
      "Solution space too large for k=10 and l=2: Attribute 'age': hierarchy does not contain a transformation rule for value '[0, 80['\n",
      "Execution successful!\n",
      "Gesamte Ausführung hat 0 Stunden, 0 Minuten, und 2.31 Sekunden gedauert.\n",
      "Anonymization completed for k=10. Output saved to C:/Users/leesh/Desktop/BA/Notebooks/weight_optimization/anonymized_trial_8_k10.csv.\n",
      "Running Java anonymization for trial 8 with k=20...\n",
      "Running Java code with k=20...\n",
      "Solution space too large for k=20 and l=2: Attribute 'age': hierarchy does not contain a transformation rule for value '[0, 80['\n",
      "Execution successful!\n",
      "Gesamte Ausführung hat 0 Stunden, 0 Minuten, und 2.42 Sekunden gedauert.\n",
      "Anonymization completed for k=20. Output saved to C:/Users/leesh/Desktop/BA/Notebooks/weight_optimization/anonymized_trial_8_k20.csv.\n",
      "All anonymization processes completed.\n"
     ]
    },
    {
     "name": "stderr",
     "output_type": "stream",
     "text": [
      "[I 2024-09-17 21:19:15,890] Trial 8 finished with value: 0.7120335511926589 and parameters: {'age_weight': 0.1302100756988832, 'gender_weight': 0.4663516895053329, 'height_weight': 0.6896747713357659, 'weight_weight': 0.6421888038463441, 'ap_hi_weight': 0.12461915276611091, 'ap_lo_weight': 0.2661129899923135, 'cholesterol_weight': 0.7964086417640488, 'gluc_weight': 0.5620730126026777, 'smoke_weight': 0.522024636759267, 'alco_weight': 0.6567690918667579, 'active_weight': 0.19579715156218735}. Best is trial 0 with value: 0.7198724352164099.\n"
     ]
    },
    {
     "name": "stdout",
     "output_type": "stream",
     "text": [
      "Running Java anonymization for trial 9 with k=10...\n",
      "Running Java code with k=10...\n",
      "Solution space too large for k=10 and l=2: Attribute 'age': hierarchy does not contain a transformation rule for value '[0, 80['\n",
      "Execution successful!\n",
      "Gesamte Ausführung hat 0 Stunden, 0 Minuten, und 2.44 Sekunden gedauert.\n",
      "Anonymization completed for k=10. Output saved to C:/Users/leesh/Desktop/BA/Notebooks/weight_optimization/anonymized_trial_9_k10.csv.\n",
      "Running Java anonymization for trial 9 with k=20...\n",
      "Running Java code with k=20...\n",
      "Solution space too large for k=20 and l=2: Attribute 'age': hierarchy does not contain a transformation rule for value '[0, 80['\n",
      "Execution successful!\n",
      "Gesamte Ausführung hat 0 Stunden, 0 Minuten, und 2.62 Sekunden gedauert.\n",
      "Anonymization completed for k=20. Output saved to C:/Users/leesh/Desktop/BA/Notebooks/weight_optimization/anonymized_trial_9_k20.csv.\n",
      "All anonymization processes completed.\n"
     ]
    },
    {
     "name": "stderr",
     "output_type": "stream",
     "text": [
      "[I 2024-09-17 21:19:31,354] Trial 9 finished with value: 0.7223854546015696 and parameters: {'age_weight': 0.458550434616506, 'gender_weight': 0.7563445825454607, 'height_weight': 0.7401656048857228, 'weight_weight': 0.2930388981332914, 'ap_hi_weight': 0.14205969153727138, 'ap_lo_weight': 0.41000835266223645, 'cholesterol_weight': 0.5567965883483311, 'gluc_weight': 0.09272639905221203, 'smoke_weight': 0.68065068055485, 'alco_weight': 0.895243811965105, 'active_weight': 0.8777599571388855}. Best is trial 9 with value: 0.7223854546015696.\n"
     ]
    },
    {
     "name": "stdout",
     "output_type": "stream",
     "text": [
      "Running Java anonymization for trial 10 with k=10...\n",
      "Running Java code with k=10...\n",
      "Solution space too large for k=10 and l=2: Attribute 'age': hierarchy does not contain a transformation rule for value '[0, 80['\n",
      "Execution successful!\n",
      "Gesamte Ausführung hat 0 Stunden, 0 Minuten, und 2.35 Sekunden gedauert.\n",
      "Anonymization completed for k=10. Output saved to C:/Users/leesh/Desktop/BA/Notebooks/weight_optimization/anonymized_trial_10_k10.csv.\n",
      "Running Java anonymization for trial 10 with k=20...\n",
      "Running Java code with k=20...\n",
      "Solution space too large for k=20 and l=2: Attribute 'age': hierarchy does not contain a transformation rule for value '[0, 80['\n",
      "Execution successful!\n",
      "Gesamte Ausführung hat 0 Stunden, 0 Minuten, und 2.38 Sekunden gedauert.\n",
      "Anonymization completed for k=20. Output saved to C:/Users/leesh/Desktop/BA/Notebooks/weight_optimization/anonymized_trial_10_k20.csv.\n",
      "All anonymization processes completed.\n"
     ]
    },
    {
     "name": "stderr",
     "output_type": "stream",
     "text": [
      "[I 2024-09-17 21:19:47,463] Trial 10 finished with value: 0.7268503515281477 and parameters: {'age_weight': 0.4417194843109914, 'gender_weight': 0.9993626154243063, 'height_weight': 0.881040867694267, 'weight_weight': 0.058942964812388116, 'ap_hi_weight': 0.31156771428233454, 'ap_lo_weight': 0.5843905700190671, 'cholesterol_weight': 0.5814446569348688, 'gluc_weight': 0.3180476310226602, 'smoke_weight': 0.9514964164590098, 'alco_weight': 0.9714842983086067, 'active_weight': 0.3127374308669667}. Best is trial 10 with value: 0.7268503515281477.\n"
     ]
    },
    {
     "name": "stdout",
     "output_type": "stream",
     "text": [
      "Running Java anonymization for trial 11 with k=10...\n",
      "Running Java code with k=10...\n",
      "Solution space too large for k=10 and l=2: Attribute 'age': hierarchy does not contain a transformation rule for value '[0, 80['\n",
      "Execution successful!\n",
      "Gesamte Ausführung hat 0 Stunden, 0 Minuten, und 3.02 Sekunden gedauert.\n",
      "Anonymization completed for k=10. Output saved to C:/Users/leesh/Desktop/BA/Notebooks/weight_optimization/anonymized_trial_11_k10.csv.\n",
      "Running Java anonymization for trial 11 with k=20...\n",
      "Running Java code with k=20...\n",
      "Solution space too large for k=20 and l=2: Attribute 'age': hierarchy does not contain a transformation rule for value '[0, 80['\n",
      "Execution successful!\n",
      "Gesamte Ausführung hat 0 Stunden, 0 Minuten, und 2.75 Sekunden gedauert.\n",
      "Anonymization completed for k=20. Output saved to C:/Users/leesh/Desktop/BA/Notebooks/weight_optimization/anonymized_trial_11_k20.csv.\n",
      "All anonymization processes completed.\n"
     ]
    },
    {
     "name": "stderr",
     "output_type": "stream",
     "text": [
      "[I 2024-09-17 21:20:04,831] Trial 11 finished with value: 0.7226239432659428 and parameters: {'age_weight': 0.4498314754014878, 'gender_weight': 0.9916041306314067, 'height_weight': 0.9705137264490048, 'weight_weight': 0.017351221886163448, 'ap_hi_weight': 0.3238429762131543, 'ap_lo_weight': 0.5797275876632318, 'cholesterol_weight': 0.5751001024541131, 'gluc_weight': 0.31017877608735256, 'smoke_weight': 0.9909434608670947, 'alco_weight': 0.9385429678011885, 'active_weight': 0.31524269555806245}. Best is trial 10 with value: 0.7268503515281477.\n"
     ]
    },
    {
     "name": "stdout",
     "output_type": "stream",
     "text": [
      "Running Java anonymization for trial 12 with k=10...\n",
      "Running Java code with k=10...\n",
      "Solution space too large for k=10 and l=2: Attribute 'age': hierarchy does not contain a transformation rule for value '[0, 80['\n",
      "Execution successful!\n",
      "Gesamte Ausführung hat 0 Stunden, 0 Minuten, und 2.62 Sekunden gedauert.\n",
      "Anonymization completed for k=10. Output saved to C:/Users/leesh/Desktop/BA/Notebooks/weight_optimization/anonymized_trial_12_k10.csv.\n",
      "Running Java anonymization for trial 12 with k=20...\n",
      "Running Java code with k=20...\n",
      "Solution space too large for k=20 and l=2: Attribute 'age': hierarchy does not contain a transformation rule for value '[0, 80['\n",
      "Execution successful!\n",
      "Gesamte Ausführung hat 0 Stunden, 0 Minuten, und 2.40 Sekunden gedauert.\n",
      "Anonymization completed for k=20. Output saved to C:/Users/leesh/Desktop/BA/Notebooks/weight_optimization/anonymized_trial_12_k20.csv.\n",
      "All anonymization processes completed.\n"
     ]
    },
    {
     "name": "stderr",
     "output_type": "stream",
     "text": [
      "[I 2024-09-17 21:20:21,670] Trial 12 finished with value: 0.7159823327335187 and parameters: {'age_weight': 0.45870803036460117, 'gender_weight': 0.9213780222414277, 'height_weight': 0.9959435708356494, 'weight_weight': 0.03679826445443006, 'ap_hi_weight': 0.34267211619710974, 'ap_lo_weight': 0.6100045827713865, 'cholesterol_weight': 0.6601584724209534, 'gluc_weight': 0.32234228892137795, 'smoke_weight': 0.9974212416963774, 'alco_weight': 0.996444303699548, 'active_weight': 0.34551294694572454}. Best is trial 10 with value: 0.7268503515281477.\n"
     ]
    },
    {
     "name": "stdout",
     "output_type": "stream",
     "text": [
      "Running Java anonymization for trial 13 with k=10...\n",
      "Running Java code with k=10...\n",
      "Solution space too large for k=10 and l=2: Attribute 'age': hierarchy does not contain a transformation rule for value '[0, 80['\n",
      "Execution successful!\n",
      "Gesamte Ausführung hat 0 Stunden, 0 Minuten, und 2.75 Sekunden gedauert.\n",
      "Anonymization completed for k=10. Output saved to C:/Users/leesh/Desktop/BA/Notebooks/weight_optimization/anonymized_trial_13_k10.csv.\n",
      "Running Java anonymization for trial 13 with k=20...\n",
      "Running Java code with k=20...\n",
      "Solution space too large for k=20 and l=2: Attribute 'age': hierarchy does not contain a transformation rule for value '[0, 80['\n",
      "Execution successful!\n",
      "Gesamte Ausführung hat 0 Stunden, 0 Minuten, und 2.41 Sekunden gedauert.\n",
      "Anonymization completed for k=20. Output saved to C:/Users/leesh/Desktop/BA/Notebooks/weight_optimization/anonymized_trial_13_k20.csv.\n",
      "All anonymization processes completed.\n"
     ]
    },
    {
     "name": "stderr",
     "output_type": "stream",
     "text": [
      "[I 2024-09-17 21:20:36,360] Trial 13 finished with value: 0.7227638344383683 and parameters: {'age_weight': 0.5978107678094774, 'gender_weight': 0.8370421398561094, 'height_weight': 0.975900517405631, 'weight_weight': 0.005978476875209686, 'ap_hi_weight': 0.2855489555160321, 'ap_lo_weight': 0.6641753324901969, 'cholesterol_weight': 0.9805804929594547, 'gluc_weight': 0.337290740228955, 'smoke_weight': 0.9659885568524694, 'alco_weight': 0.830855125126156, 'active_weight': 0.019221163868748004}. Best is trial 10 with value: 0.7268503515281477.\n"
     ]
    },
    {
     "name": "stdout",
     "output_type": "stream",
     "text": [
      "Running Java anonymization for trial 14 with k=10...\n",
      "Running Java code with k=10...\n",
      "Solution space too large for k=10 and l=2: Attribute 'age': hierarchy does not contain a transformation rule for value '[0, 80['\n",
      "Execution successful!\n",
      "Gesamte Ausführung hat 0 Stunden, 0 Minuten, und 2.46 Sekunden gedauert.\n",
      "Anonymization completed for k=10. Output saved to C:/Users/leesh/Desktop/BA/Notebooks/weight_optimization/anonymized_trial_14_k10.csv.\n",
      "Running Java anonymization for trial 14 with k=20...\n",
      "Running Java code with k=20...\n",
      "Solution space too large for k=20 and l=2: Attribute 'age': hierarchy does not contain a transformation rule for value '[0, 80['\n",
      "Execution successful!\n",
      "Gesamte Ausführung hat 0 Stunden, 0 Minuten, und 2.26 Sekunden gedauert.\n",
      "Anonymization completed for k=20. Output saved to C:/Users/leesh/Desktop/BA/Notebooks/weight_optimization/anonymized_trial_14_k20.csv.\n",
      "All anonymization processes completed.\n"
     ]
    },
    {
     "name": "stderr",
     "output_type": "stream",
     "text": [
      "[I 2024-09-17 21:20:52,366] Trial 14 finished with value: 0.7108433427229057 and parameters: {'age_weight': 0.5865163175575145, 'gender_weight': 0.8216292796396925, 'height_weight': 0.8686093258148211, 'weight_weight': 0.13583218305840045, 'ap_hi_weight': 0.6035317453509468, 'ap_lo_weight': 0.9510731803551109, 'cholesterol_weight': 0.992865626941854, 'gluc_weight': 0.40415387906062716, 'smoke_weight': 0.06389428988553647, 'alco_weight': 0.8026015935928288, 'active_weight': 0.02776114253960539}. Best is trial 10 with value: 0.7268503515281477.\n"
     ]
    },
    {
     "name": "stdout",
     "output_type": "stream",
     "text": [
      "Running Java anonymization for trial 15 with k=10...\n",
      "Running Java code with k=10...\n",
      "Solution space too large for k=10 and l=2: Attribute 'age': hierarchy does not contain a transformation rule for value '[0, 80['\n",
      "Execution successful!\n",
      "Gesamte Ausführung hat 0 Stunden, 0 Minuten, und 2.69 Sekunden gedauert.\n",
      "Anonymization completed for k=10. Output saved to C:/Users/leesh/Desktop/BA/Notebooks/weight_optimization/anonymized_trial_15_k10.csv.\n",
      "Running Java anonymization for trial 15 with k=20...\n",
      "Running Java code with k=20...\n",
      "Solution space too large for k=20 and l=2: Attribute 'age': hierarchy does not contain a transformation rule for value '[0, 80['\n",
      "Execution successful!\n",
      "Gesamte Ausführung hat 0 Stunden, 0 Minuten, und 2.62 Sekunden gedauert.\n",
      "Anonymization completed for k=20. Output saved to C:/Users/leesh/Desktop/BA/Notebooks/weight_optimization/anonymized_trial_15_k20.csv.\n",
      "All anonymization processes completed.\n"
     ]
    },
    {
     "name": "stderr",
     "output_type": "stream",
     "text": [
      "[I 2024-09-17 21:21:09,418] Trial 15 finished with value: 0.7194751358773945 and parameters: {'age_weight': 0.31662679613441536, 'gender_weight': 0.8101955138536815, 'height_weight': 0.5902373308161603, 'weight_weight': 0.1812363999146973, 'ap_hi_weight': 0.26728455339454543, 'ap_lo_weight': 0.7249738698440611, 'cholesterol_weight': 0.08130897785350133, 'gluc_weight': 0.7333470268663764, 'smoke_weight': 0.8344270254720223, 'alco_weight': 0.7881005652752093, 'active_weight': 0.01097334971246633}. Best is trial 10 with value: 0.7268503515281477.\n"
     ]
    },
    {
     "name": "stdout",
     "output_type": "stream",
     "text": [
      "Running Java anonymization for trial 16 with k=10...\n",
      "Running Java code with k=10...\n",
      "Solution space too large for k=10 and l=2: Attribute 'age': hierarchy does not contain a transformation rule for value '[0, 80['\n",
      "Execution successful!\n",
      "Gesamte Ausführung hat 0 Stunden, 0 Minuten, und 2.68 Sekunden gedauert.\n",
      "Anonymization completed for k=10. Output saved to C:/Users/leesh/Desktop/BA/Notebooks/weight_optimization/anonymized_trial_16_k10.csv.\n",
      "Running Java anonymization for trial 16 with k=20...\n",
      "Running Java code with k=20...\n",
      "Solution space too large for k=20 and l=2: Attribute 'age': hierarchy does not contain a transformation rule for value '[0, 80['\n",
      "Execution successful!\n",
      "Gesamte Ausführung hat 0 Stunden, 0 Minuten, und 2.05 Sekunden gedauert.\n",
      "Anonymization completed for k=20. Output saved to C:/Users/leesh/Desktop/BA/Notebooks/weight_optimization/anonymized_trial_16_k20.csv.\n",
      "All anonymization processes completed.\n"
     ]
    },
    {
     "name": "stderr",
     "output_type": "stream",
     "text": [
      "[I 2024-09-17 21:21:26,011] Trial 16 finished with value: 0.7194118618646806 and parameters: {'age_weight': 0.611975150023798, 'gender_weight': 0.6216219486134114, 'height_weight': 0.8676009150017973, 'weight_weight': 0.19555334990323875, 'ap_hi_weight': 0.5026578726073617, 'ap_lo_weight': 0.6677927093714391, 'cholesterol_weight': 0.9911925313108204, 'gluc_weight': 0.26808731237967964, 'smoke_weight': 0.6243426515919434, 'alco_weight': 0.7949874670806025, 'active_weight': 0.3301257503691811}. Best is trial 10 with value: 0.7268503515281477.\n"
     ]
    },
    {
     "name": "stdout",
     "output_type": "stream",
     "text": [
      "Running Java anonymization for trial 17 with k=10...\n",
      "Running Java code with k=10...\n",
      "Solution space too large for k=10 and l=2: Attribute 'age': hierarchy does not contain a transformation rule for value '[0, 80['\n",
      "Execution successful!\n",
      "Gesamte Ausführung hat 0 Stunden, 0 Minuten, und 2.61 Sekunden gedauert.\n",
      "Anonymization completed for k=10. Output saved to C:/Users/leesh/Desktop/BA/Notebooks/weight_optimization/anonymized_trial_17_k10.csv.\n",
      "Running Java anonymization for trial 17 with k=20...\n",
      "Running Java code with k=20...\n",
      "Solution space too large for k=20 and l=2: Attribute 'age': hierarchy does not contain a transformation rule for value '[0, 80['\n",
      "Execution successful!\n",
      "Gesamte Ausführung hat 0 Stunden, 0 Minuten, und 2.38 Sekunden gedauert.\n",
      "Anonymization completed for k=20. Output saved to C:/Users/leesh/Desktop/BA/Notebooks/weight_optimization/anonymized_trial_17_k20.csv.\n",
      "All anonymization processes completed.\n"
     ]
    },
    {
     "name": "stderr",
     "output_type": "stream",
     "text": [
      "[I 2024-09-17 21:21:41,199] Trial 17 finished with value: 0.6844327176781003 and parameters: {'age_weight': 0.33290141978284493, 'gender_weight': 0.853051499252114, 'height_weight': 0.872791306493972, 'weight_weight': 0.2925495562429108, 'ap_hi_weight': 0.22274637647640777, 'ap_lo_weight': 0.47896575720111373, 'cholesterol_weight': 0.4412336049934138, 'gluc_weight': 0.7552383689714727, 'smoke_weight': 0.8942495134605688, 'alco_weight': 0.4189691311618678, 'active_weight': 0.13272097046286824}. Best is trial 10 with value: 0.7268503515281477.\n"
     ]
    },
    {
     "name": "stdout",
     "output_type": "stream",
     "text": [
      "Running Java anonymization for trial 18 with k=10...\n",
      "Running Java code with k=10...\n",
      "Solution space too large for k=10 and l=2: Attribute 'age': hierarchy does not contain a transformation rule for value '[0, 80['\n",
      "Execution successful!\n",
      "Gesamte Ausführung hat 0 Stunden, 0 Minuten, und 2.72 Sekunden gedauert.\n",
      "Anonymization completed for k=10. Output saved to C:/Users/leesh/Desktop/BA/Notebooks/weight_optimization/anonymized_trial_18_k10.csv.\n",
      "Running Java anonymization for trial 18 with k=20...\n",
      "Running Java code with k=20...\n",
      "Solution space too large for k=20 and l=2: Attribute 'age': hierarchy does not contain a transformation rule for value '[0, 80['\n",
      "Execution successful!\n",
      "Gesamte Ausführung hat 0 Stunden, 0 Minuten, und 2.40 Sekunden gedauert.\n",
      "Anonymization completed for k=20. Output saved to C:/Users/leesh/Desktop/BA/Notebooks/weight_optimization/anonymized_trial_18_k20.csv.\n",
      "All anonymization processes completed.\n"
     ]
    },
    {
     "name": "stderr",
     "output_type": "stream",
     "text": [
      "[I 2024-09-17 21:21:56,847] Trial 18 finished with value: 0.7156958259700423 and parameters: {'age_weight': 0.587641856150264, 'gender_weight': 0.7211125973694565, 'height_weight': 0.5717254831398412, 'weight_weight': 0.09798648510531924, 'ap_hi_weight': 0.4222658748022364, 'ap_lo_weight': 0.9836056902647572, 'cholesterol_weight': 0.8237181052722486, 'gluc_weight': 0.23067475808158755, 'smoke_weight': 0.649732904116299, 'alco_weight': 0.88105029686228, 'active_weight': 0.42160359036101536}. Best is trial 10 with value: 0.7268503515281477.\n"
     ]
    },
    {
     "name": "stdout",
     "output_type": "stream",
     "text": [
      "Running Java anonymization for trial 19 with k=10...\n",
      "Running Java code with k=10...\n",
      "Solution space too large for k=10 and l=2: Attribute 'age': hierarchy does not contain a transformation rule for value '[0, 80['\n",
      "Execution successful!\n",
      "Gesamte Ausführung hat 0 Stunden, 0 Minuten, und 2.62 Sekunden gedauert.\n",
      "Anonymization completed for k=10. Output saved to C:/Users/leesh/Desktop/BA/Notebooks/weight_optimization/anonymized_trial_19_k10.csv.\n",
      "Running Java anonymization for trial 19 with k=20...\n",
      "Running Java code with k=20...\n",
      "Solution space too large for k=20 and l=2: Attribute 'age': hierarchy does not contain a transformation rule for value '[0, 80['\n",
      "Execution successful!\n",
      "Gesamte Ausführung hat 0 Stunden, 0 Minuten, und 2.25 Sekunden gedauert.\n",
      "Anonymization completed for k=20. Output saved to C:/Users/leesh/Desktop/BA/Notebooks/weight_optimization/anonymized_trial_19_k20.csv.\n",
      "All anonymization processes completed.\n"
     ]
    },
    {
     "name": "stderr",
     "output_type": "stream",
     "text": [
      "[I 2024-09-17 21:22:12,164] Trial 19 finished with value: 0.7228224005294069 and parameters: {'age_weight': 0.011028850659878242, 'gender_weight': 0.8893585629699009, 'height_weight': 0.05371509260385321, 'weight_weight': 0.0061445375376680406, 'ap_hi_weight': 0.7144135468150343, 'ap_lo_weight': 0.4949351995495276, 'cholesterol_weight': 0.7089912053931451, 'gluc_weight': 0.3767823322221816, 'smoke_weight': 0.9137055211671464, 'alco_weight': 0.29201341492454463, 'active_weight': 0.12165304721714573}. Best is trial 10 with value: 0.7268503515281477.\n"
     ]
    },
    {
     "name": "stdout",
     "output_type": "stream",
     "text": [
      "Running Java anonymization for trial 20 with k=10...\n",
      "Running Java code with k=10...\n",
      "Solution space too large for k=10 and l=2: Attribute 'age': hierarchy does not contain a transformation rule for value '[0, 80['\n",
      "Execution successful!\n",
      "Gesamte Ausführung hat 0 Stunden, 0 Minuten, und 2.38 Sekunden gedauert.\n",
      "Anonymization completed for k=10. Output saved to C:/Users/leesh/Desktop/BA/Notebooks/weight_optimization/anonymized_trial_20_k10.csv.\n",
      "Running Java anonymization for trial 20 with k=20...\n",
      "Running Java code with k=20...\n",
      "Solution space too large for k=20 and l=2: Attribute 'age': hierarchy does not contain a transformation rule for value '[0, 80['\n",
      "Execution successful!\n",
      "Gesamte Ausführung hat 0 Stunden, 0 Minuten, und 2.50 Sekunden gedauert.\n",
      "Anonymization completed for k=20. Output saved to C:/Users/leesh/Desktop/BA/Notebooks/weight_optimization/anonymized_trial_20_k20.csv.\n",
      "All anonymization processes completed.\n"
     ]
    },
    {
     "name": "stderr",
     "output_type": "stream",
     "text": [
      "[I 2024-09-17 21:22:27,406] Trial 20 finished with value: 0.6869583404972885 and parameters: {'age_weight': 0.06801814279711502, 'gender_weight': 0.5474669602424996, 'height_weight': 0.057786803506083784, 'weight_weight': 0.26353771256546565, 'ap_hi_weight': 0.7569012657311044, 'ap_lo_weight': 0.15613131272790093, 'cholesterol_weight': 0.6550152039548591, 'gluc_weight': 0.4426454053185902, 'smoke_weight': 0.731720991221295, 'alco_weight': 0.21373780828632538, 'active_weight': 0.14549251774977662}. Best is trial 10 with value: 0.7268503515281477.\n"
     ]
    },
    {
     "name": "stdout",
     "output_type": "stream",
     "text": [
      "Running Java anonymization for trial 21 with k=10...\n",
      "Running Java code with k=10...\n",
      "Solution space too large for k=10 and l=2: Attribute 'age': hierarchy does not contain a transformation rule for value '[0, 80['\n",
      "Execution successful!\n",
      "Gesamte Ausführung hat 0 Stunden, 0 Minuten, und 2.53 Sekunden gedauert.\n",
      "Anonymization completed for k=10. Output saved to C:/Users/leesh/Desktop/BA/Notebooks/weight_optimization/anonymized_trial_21_k10.csv.\n",
      "Running Java anonymization for trial 21 with k=20...\n",
      "Running Java code with k=20...\n",
      "Solution space too large for k=20 and l=2: Attribute 'age': hierarchy does not contain a transformation rule for value '[0, 80['\n",
      "Execution successful!\n",
      "Gesamte Ausführung hat 0 Stunden, 0 Minuten, und 2.60 Sekunden gedauert.\n",
      "Anonymization completed for k=20. Output saved to C:/Users/leesh/Desktop/BA/Notebooks/weight_optimization/anonymized_trial_21_k20.csv.\n",
      "All anonymization processes completed.\n"
     ]
    },
    {
     "name": "stderr",
     "output_type": "stream",
     "text": [
      "[I 2024-09-17 21:22:43,693] Trial 21 finished with value: 0.7227958567816655 and parameters: {'age_weight': 0.002639145835017653, 'gender_weight': 0.9012817151539181, 'height_weight': 0.2673429085804083, 'weight_weight': 0.026017966192218033, 'ap_hi_weight': 0.6722371249139465, 'ap_lo_weight': 0.50102682974482, 'cholesterol_weight': 0.4476322399229674, 'gluc_weight': 0.3652285702357427, 'smoke_weight': 0.897065629114789, 'alco_weight': 0.21982482698601713, 'active_weight': 0.10062105290154699}. Best is trial 10 with value: 0.7268503515281477.\n"
     ]
    },
    {
     "name": "stdout",
     "output_type": "stream",
     "text": [
      "Running Java anonymization for trial 22 with k=10...\n",
      "Running Java code with k=10...\n",
      "Solution space too large for k=10 and l=2: Attribute 'age': hierarchy does not contain a transformation rule for value '[0, 80['\n",
      "Execution successful!\n",
      "Gesamte Ausführung hat 0 Stunden, 0 Minuten, und 2.36 Sekunden gedauert.\n",
      "Anonymization completed for k=10. Output saved to C:/Users/leesh/Desktop/BA/Notebooks/weight_optimization/anonymized_trial_22_k10.csv.\n",
      "Running Java anonymization for trial 22 with k=20...\n",
      "Running Java code with k=20...\n",
      "Solution space too large for k=20 and l=2: Attribute 'age': hierarchy does not contain a transformation rule for value '[0, 80['\n",
      "Execution successful!\n",
      "Gesamte Ausführung hat 0 Stunden, 0 Minuten, und 2.70 Sekunden gedauert.\n",
      "Anonymization completed for k=20. Output saved to C:/Users/leesh/Desktop/BA/Notebooks/weight_optimization/anonymized_trial_22_k20.csv.\n",
      "All anonymization processes completed.\n"
     ]
    },
    {
     "name": "stderr",
     "output_type": "stream",
     "text": [
      "[I 2024-09-17 21:23:00,144] Trial 22 finished with value: 0.7208449910720718 and parameters: {'age_weight': 0.004462444850533339, 'gender_weight': 0.9099492454746945, 'height_weight': 0.2674787162068331, 'weight_weight': 0.11416049212354164, 'ap_hi_weight': 0.7081879424938875, 'ap_lo_weight': 0.4926106162114468, 'cholesterol_weight': 0.4556334478644761, 'gluc_weight': 0.4016436040719858, 'smoke_weight': 0.8797379662318823, 'alco_weight': 0.1881344855902796, 'active_weight': 0.253464982849994}. Best is trial 10 with value: 0.7268503515281477.\n"
     ]
    },
    {
     "name": "stdout",
     "output_type": "stream",
     "text": [
      "Running Java anonymization for trial 23 with k=10...\n",
      "Running Java code with k=10...\n",
      "Solution space too large for k=10 and l=2: Attribute 'age': hierarchy does not contain a transformation rule for value '[0, 80['\n",
      "Execution successful!\n",
      "Gesamte Ausführung hat 0 Stunden, 0 Minuten, und 2.61 Sekunden gedauert.\n",
      "Anonymization completed for k=10. Output saved to C:/Users/leesh/Desktop/BA/Notebooks/weight_optimization/anonymized_trial_23_k10.csv.\n",
      "Running Java anonymization for trial 23 with k=20...\n",
      "Running Java code with k=20...\n",
      "Solution space too large for k=20 and l=2: Attribute 'age': hierarchy does not contain a transformation rule for value '[0, 80['\n",
      "Execution successful!\n",
      "Gesamte Ausführung hat 0 Stunden, 0 Minuten, und 2.61 Sekunden gedauert.\n",
      "Anonymization completed for k=20. Output saved to C:/Users/leesh/Desktop/BA/Notebooks/weight_optimization/anonymized_trial_23_k20.csv.\n",
      "All anonymization processes completed.\n"
     ]
    },
    {
     "name": "stderr",
     "output_type": "stream",
     "text": [
      "[I 2024-09-17 21:23:16,503] Trial 23 finished with value: 0.7266145821055026 and parameters: {'age_weight': 0.002787001356845623, 'gender_weight': 0.9237649831170195, 'height_weight': 0.015638544366885082, 'weight_weight': 0.08481265689282942, 'ap_hi_weight': 0.7804309056276434, 'ap_lo_weight': 0.4660891700666596, 'cholesterol_weight': 0.6715723130968365, 'gluc_weight': 0.15256501999420238, 'smoke_weight': 0.8658191407851417, 'alco_weight': 0.3217969417995386, 'active_weight': 0.09872390880663764}. Best is trial 10 with value: 0.7268503515281477.\n"
     ]
    },
    {
     "name": "stdout",
     "output_type": "stream",
     "text": [
      "Running Java anonymization for trial 24 with k=10...\n",
      "Running Java code with k=10...\n",
      "Solution space too large for k=10 and l=2: Attribute 'age': hierarchy does not contain a transformation rule for value '[0, 80['\n",
      "Execution successful!\n",
      "Gesamte Ausführung hat 0 Stunden, 0 Minuten, und 2.91 Sekunden gedauert.\n",
      "Anonymization completed for k=10. Output saved to C:/Users/leesh/Desktop/BA/Notebooks/weight_optimization/anonymized_trial_24_k10.csv.\n",
      "Running Java anonymization for trial 24 with k=20...\n",
      "Running Java code with k=20...\n",
      "Solution space too large for k=20 and l=2: Attribute 'age': hierarchy does not contain a transformation rule for value '[0, 80['\n",
      "Execution successful!\n",
      "Gesamte Ausführung hat 0 Stunden, 0 Minuten, und 2.38 Sekunden gedauert.\n",
      "Anonymization completed for k=20. Output saved to C:/Users/leesh/Desktop/BA/Notebooks/weight_optimization/anonymized_trial_24_k20.csv.\n",
      "All anonymization processes completed.\n"
     ]
    },
    {
     "name": "stderr",
     "output_type": "stream",
     "text": [
      "[I 2024-09-17 21:23:33,652] Trial 24 finished with value: 0.6957218672529348 and parameters: {'age_weight': 0.17654676588379734, 'gender_weight': 0.7287400936706807, 'height_weight': 0.0037803269172801204, 'weight_weight': 0.21792510336864007, 'ap_hi_weight': 0.9999912459654199, 'ap_lo_weight': 0.4289953524314958, 'cholesterol_weight': 0.6784422763751399, 'gluc_weight': 0.18250383727211605, 'smoke_weight': 0.5674741721721053, 'alco_weight': 0.32251851900120426, 'active_weight': 0.24678608010245856}. Best is trial 10 with value: 0.7268503515281477.\n"
     ]
    },
    {
     "name": "stdout",
     "output_type": "stream",
     "text": [
      "Running Java anonymization for trial 25 with k=10...\n",
      "Running Java code with k=10...\n",
      "Solution space too large for k=10 and l=2: Attribute 'age': hierarchy does not contain a transformation rule for value '[0, 80['\n",
      "Execution successful!\n",
      "Gesamte Ausführung hat 0 Stunden, 0 Minuten, und 2.73 Sekunden gedauert.\n",
      "Anonymization completed for k=10. Output saved to C:/Users/leesh/Desktop/BA/Notebooks/weight_optimization/anonymized_trial_25_k10.csv.\n",
      "Running Java anonymization for trial 25 with k=20...\n",
      "Running Java code with k=20...\n",
      "Solution space too large for k=20 and l=2: Attribute 'age': hierarchy does not contain a transformation rule for value '[0, 80['\n",
      "Execution successful!\n",
      "Gesamte Ausführung hat 0 Stunden, 0 Minuten, und 2.44 Sekunden gedauert.\n",
      "Anonymization completed for k=20. Output saved to C:/Users/leesh/Desktop/BA/Notebooks/weight_optimization/anonymized_trial_25_k20.csv.\n",
      "All anonymization processes completed.\n"
     ]
    },
    {
     "name": "stderr",
     "output_type": "stream",
     "text": [
      "[I 2024-09-17 21:23:52,037] Trial 25 finished with value: 0.7230632522820907 and parameters: {'age_weight': 0.3039370067531127, 'gender_weight': 0.9855860912247169, 'height_weight': 0.0999185089301858, 'weight_weight': 0.3665125628350848, 'ap_hi_weight': 0.7927718569538162, 'ap_lo_weight': 0.5490629789699838, 'cholesterol_weight': 0.7244091898134453, 'gluc_weight': 0.1620879898558084, 'smoke_weight': 0.9166815000255559, 'alco_weight': 0.315475846185579, 'active_weight': 0.08908518965778457}. Best is trial 10 with value: 0.7268503515281477.\n"
     ]
    },
    {
     "name": "stdout",
     "output_type": "stream",
     "text": [
      "Running Java anonymization for trial 26 with k=10...\n",
      "Running Java code with k=10...\n",
      "Solution space too large for k=10 and l=2: Attribute 'age': hierarchy does not contain a transformation rule for value '[0, 80['\n",
      "Execution successful!\n",
      "Gesamte Ausführung hat 0 Stunden, 0 Minuten, und 2.17 Sekunden gedauert.\n",
      "Anonymization completed for k=10. Output saved to C:/Users/leesh/Desktop/BA/Notebooks/weight_optimization/anonymized_trial_26_k10.csv.\n",
      "Running Java anonymization for trial 26 with k=20...\n",
      "Running Java code with k=20...\n",
      "Solution space too large for k=20 and l=2: Attribute 'age': hierarchy does not contain a transformation rule for value '[0, 80['\n",
      "Execution successful!\n",
      "Gesamte Ausführung hat 0 Stunden, 0 Minuten, und 2.63 Sekunden gedauert.\n",
      "Anonymization completed for k=20. Output saved to C:/Users/leesh/Desktop/BA/Notebooks/weight_optimization/anonymized_trial_26_k20.csv.\n",
      "All anonymization processes completed.\n"
     ]
    },
    {
     "name": "stderr",
     "output_type": "stream",
     "text": [
      "[I 2024-09-17 21:24:09,545] Trial 26 finished with value: 0.7208308841476667 and parameters: {'age_weight': 0.3321695410573646, 'gender_weight': 0.9962261850296192, 'height_weight': 0.1605903176045083, 'weight_weight': 0.4015319016431077, 'ap_hi_weight': 0.8156085705588221, 'ap_lo_weight': 0.5399017773504103, 'cholesterol_weight': 0.8731482657083746, 'gluc_weight': 0.00042200058983477007, 'smoke_weight': 0.7204972839499367, 'alco_weight': 0.39544121973673446, 'active_weight': 0.4122096810644344}. Best is trial 10 with value: 0.7268503515281477.\n"
     ]
    },
    {
     "name": "stdout",
     "output_type": "stream",
     "text": [
      "Running Java anonymization for trial 27 with k=10...\n",
      "Running Java code with k=10...\n",
      "Solution space too large for k=10 and l=2: Attribute 'age': hierarchy does not contain a transformation rule for value '[0, 80['\n",
      "Execution successful!\n",
      "Gesamte Ausführung hat 0 Stunden, 0 Minuten, und 2.43 Sekunden gedauert.\n",
      "Anonymization completed for k=10. Output saved to C:/Users/leesh/Desktop/BA/Notebooks/weight_optimization/anonymized_trial_27_k10.csv.\n",
      "Running Java anonymization for trial 27 with k=20...\n",
      "Running Java code with k=20...\n",
      "Solution space too large for k=20 and l=2: Attribute 'age': hierarchy does not contain a transformation rule for value '[0, 80['\n",
      "Execution successful!\n",
      "Gesamte Ausführung hat 0 Stunden, 0 Minuten, und 2.27 Sekunden gedauert.\n",
      "Anonymization completed for k=20. Output saved to C:/Users/leesh/Desktop/BA/Notebooks/weight_optimization/anonymized_trial_27_k20.csv.\n",
      "All anonymization processes completed.\n"
     ]
    },
    {
     "name": "stderr",
     "output_type": "stream",
     "text": [
      "[I 2024-09-17 21:24:25,636] Trial 27 finished with value: 0.7229986267065192 and parameters: {'age_weight': 0.2832278377391319, 'gender_weight': 0.7637237571005123, 'height_weight': 0.27744327161602417, 'weight_weight': 0.41689893701741154, 'ap_hi_weight': 0.5260220936117428, 'ap_lo_weight': 0.7028433538530532, 'cholesterol_weight': 0.6150769072534958, 'gluc_weight': 0.1309267387267458, 'smoke_weight': 0.8158426842958675, 'alco_weight': 0.5203924532253481, 'active_weight': 0.2527769270710093}. Best is trial 10 with value: 0.7268503515281477.\n"
     ]
    },
    {
     "name": "stdout",
     "output_type": "stream",
     "text": [
      "Running Java anonymization for trial 28 with k=10...\n",
      "Running Java code with k=10...\n",
      "Solution space too large for k=10 and l=2: Attribute 'age': hierarchy does not contain a transformation rule for value '[0, 80['\n",
      "Execution successful!\n",
      "Gesamte Ausführung hat 0 Stunden, 0 Minuten, und 2.00 Sekunden gedauert.\n",
      "Anonymization completed for k=10. Output saved to C:/Users/leesh/Desktop/BA/Notebooks/weight_optimization/anonymized_trial_28_k10.csv.\n",
      "Running Java anonymization for trial 28 with k=20...\n",
      "Running Java code with k=20...\n",
      "Solution space too large for k=20 and l=2: Attribute 'age': hierarchy does not contain a transformation rule for value '[0, 80['\n",
      "Execution successful!\n",
      "Gesamte Ausführung hat 0 Stunden, 0 Minuten, und 2.52 Sekunden gedauert.\n",
      "Anonymization completed for k=20. Output saved to C:/Users/leesh/Desktop/BA/Notebooks/weight_optimization/anonymized_trial_28_k20.csv.\n",
      "All anonymization processes completed.\n"
     ]
    },
    {
     "name": "stderr",
     "output_type": "stream",
     "text": [
      "[I 2024-09-17 21:24:42,036] Trial 28 finished with value: 0.7204902579068776 and parameters: {'age_weight': 0.40061598326426257, 'gender_weight': 0.9430805778001231, 'height_weight': 0.0839012343731024, 'weight_weight': 0.5969018620692678, 'ap_hi_weight': 0.9646256781491636, 'ap_lo_weight': 0.26134616900277735, 'cholesterol_weight': 0.7550910076356063, 'gluc_weight': 0.16677327350695983, 'smoke_weight': 0.9297543563572147, 'alco_weight': 0.14124828786337487, 'active_weight': 0.07212697900010051}. Best is trial 10 with value: 0.7268503515281477.\n"
     ]
    },
    {
     "name": "stdout",
     "output_type": "stream",
     "text": [
      "Running Java anonymization for trial 29 with k=10...\n",
      "Running Java code with k=10...\n",
      "Solution space too large for k=10 and l=2: Attribute 'age': hierarchy does not contain a transformation rule for value '[0, 80['\n",
      "Execution successful!\n",
      "Gesamte Ausführung hat 0 Stunden, 0 Minuten, und 2.18 Sekunden gedauert.\n",
      "Anonymization completed for k=10. Output saved to C:/Users/leesh/Desktop/BA/Notebooks/weight_optimization/anonymized_trial_29_k10.csv.\n",
      "Running Java anonymization for trial 29 with k=20...\n",
      "Running Java code with k=20...\n",
      "Solution space too large for k=20 and l=2: Attribute 'age': hierarchy does not contain a transformation rule for value '[0, 80['\n",
      "Execution successful!\n",
      "Gesamte Ausführung hat 0 Stunden, 0 Minuten, und 2.37 Sekunden gedauert.\n",
      "Anonymization completed for k=20. Output saved to C:/Users/leesh/Desktop/BA/Notebooks/weight_optimization/anonymized_trial_29_k20.csv.\n",
      "All anonymization processes completed.\n"
     ]
    },
    {
     "name": "stderr",
     "output_type": "stream",
     "text": [
      "[I 2024-09-17 21:24:57,827] Trial 29 finished with value: 0.7246686670443317 and parameters: {'age_weight': 0.23890218190028514, 'gender_weight': 0.6815185754762227, 'height_weight': 0.4958674833523415, 'weight_weight': 0.33563209205782407, 'ap_hi_weight': 0.8036731105549648, 'ap_lo_weight': 0.1624842638980406, 'cholesterol_weight': 0.3866777725656305, 'gluc_weight': 0.24651421720098454, 'smoke_weight': 0.8498108977913423, 'alco_weight': 0.7011579975829352, 'active_weight': 0.4104131071583178}. Best is trial 10 with value: 0.7268503515281477.\n"
     ]
    },
    {
     "name": "stdout",
     "output_type": "stream",
     "text": [
      "Running Java anonymization for trial 30 with k=10...\n",
      "Running Java code with k=10...\n",
      "Solution space too large for k=10 and l=2: Attribute 'age': hierarchy does not contain a transformation rule for value '[0, 80['\n",
      "Execution successful!\n",
      "Gesamte Ausführung hat 0 Stunden, 0 Minuten, und 2.73 Sekunden gedauert.\n",
      "Anonymization completed for k=10. Output saved to C:/Users/leesh/Desktop/BA/Notebooks/weight_optimization/anonymized_trial_30_k10.csv.\n",
      "Running Java anonymization for trial 30 with k=20...\n",
      "Running Java code with k=20...\n",
      "Solution space too large for k=20 and l=2: Attribute 'age': hierarchy does not contain a transformation rule for value '[0, 80['\n",
      "Execution successful!\n",
      "Gesamte Ausführung hat 0 Stunden, 0 Minuten, und 2.88 Sekunden gedauert.\n",
      "Anonymization completed for k=20. Output saved to C:/Users/leesh/Desktop/BA/Notebooks/weight_optimization/anonymized_trial_30_k20.csv.\n",
      "All anonymization processes completed.\n"
     ]
    },
    {
     "name": "stderr",
     "output_type": "stream",
     "text": [
      "[I 2024-09-17 21:25:17,880] Trial 30 finished with value: 0.7243568165424381 and parameters: {'age_weight': 0.231278002610282, 'gender_weight': 0.28070595274509147, 'height_weight': 0.5162951588954056, 'weight_weight': 0.32020749000005466, 'ap_hi_weight': 0.6027536298744831, 'ap_lo_weight': 0.028528028196954963, 'cholesterol_weight': 0.20336743950383396, 'gluc_weight': 0.24108642697552168, 'smoke_weight': 0.8412797908847675, 'alco_weight': 0.6950367196183369, 'active_weight': 0.9943825589780445}. Best is trial 10 with value: 0.7268503515281477.\n"
     ]
    },
    {
     "name": "stdout",
     "output_type": "stream",
     "text": [
      "Running Java anonymization for trial 31 with k=10...\n",
      "Running Java code with k=10...\n",
      "Solution space too large for k=10 and l=2: Attribute 'age': hierarchy does not contain a transformation rule for value '[0, 80['\n",
      "Execution successful!\n",
      "Gesamte Ausführung hat 0 Stunden, 0 Minuten, und 2.92 Sekunden gedauert.\n",
      "Anonymization completed for k=10. Output saved to C:/Users/leesh/Desktop/BA/Notebooks/weight_optimization/anonymized_trial_31_k10.csv.\n",
      "Running Java anonymization for trial 31 with k=20...\n",
      "Running Java code with k=20...\n",
      "Solution space too large for k=20 and l=2: Attribute 'age': hierarchy does not contain a transformation rule for value '[0, 80['\n",
      "Execution successful!\n",
      "Gesamte Ausführung hat 0 Stunden, 0 Minuten, und 2.71 Sekunden gedauert.\n",
      "Anonymization completed for k=20. Output saved to C:/Users/leesh/Desktop/BA/Notebooks/weight_optimization/anonymized_trial_31_k20.csv.\n",
      "All anonymization processes completed.\n"
     ]
    },
    {
     "name": "stderr",
     "output_type": "stream",
     "text": [
      "[I 2024-09-17 21:25:37,472] Trial 31 finished with value: 0.7247193631457918 and parameters: {'age_weight': 0.23614543380803948, 'gender_weight': 0.26527608173672607, 'height_weight': 0.48890817100935735, 'weight_weight': 0.3104975299895284, 'ap_hi_weight': 0.5611633407416313, 'ap_lo_weight': 0.00920681531727463, 'cholesterol_weight': 0.2523569969572581, 'gluc_weight': 0.26393728070699657, 'smoke_weight': 0.839229627354776, 'alco_weight': 0.6874178340866433, 'active_weight': 0.9915651992165428}. Best is trial 10 with value: 0.7268503515281477.\n"
     ]
    },
    {
     "name": "stdout",
     "output_type": "stream",
     "text": [
      "Running Java anonymization for trial 32 with k=10...\n",
      "Running Java code with k=10...\n",
      "Solution space too large for k=10 and l=2: Attribute 'age': hierarchy does not contain a transformation rule for value '[0, 80['\n",
      "Execution successful!\n",
      "Gesamte Ausführung hat 0 Stunden, 0 Minuten, und 3.62 Sekunden gedauert.\n",
      "Anonymization completed for k=10. Output saved to C:/Users/leesh/Desktop/BA/Notebooks/weight_optimization/anonymized_trial_32_k10.csv.\n",
      "Running Java anonymization for trial 32 with k=20...\n",
      "Running Java code with k=20...\n",
      "Solution space too large for k=20 and l=2: Attribute 'age': hierarchy does not contain a transformation rule for value '[0, 80['\n",
      "Execution successful!\n",
      "Gesamte Ausführung hat 0 Stunden, 0 Minuten, und 3.65 Sekunden gedauert.\n",
      "Anonymization completed for k=20. Output saved to C:/Users/leesh/Desktop/BA/Notebooks/weight_optimization/anonymized_trial_32_k20.csv.\n",
      "All anonymization processes completed.\n"
     ]
    },
    {
     "name": "stderr",
     "output_type": "stream",
     "text": [
      "[I 2024-09-17 21:26:02,445] Trial 32 finished with value: 0.724837669429092 and parameters: {'age_weight': 0.14775122429206994, 'gender_weight': 0.2529903913448618, 'height_weight': 0.43463721431150915, 'weight_weight': 0.08696371003105015, 'ap_hi_weight': 0.5511143674528463, 'ap_lo_weight': 0.1256591099453507, 'cholesterol_weight': 0.4017081621652163, 'gluc_weight': 0.28581477211172895, 'smoke_weight': 0.7572789137319414, 'alco_weight': 0.7256723801646956, 'active_weight': 0.759033484173939}. Best is trial 10 with value: 0.7268503515281477.\n"
     ]
    },
    {
     "name": "stdout",
     "output_type": "stream",
     "text": [
      "Running Java anonymization for trial 33 with k=10...\n",
      "Running Java code with k=10...\n",
      "Solution space too large for k=10 and l=2: Attribute 'age': hierarchy does not contain a transformation rule for value '[0, 80['\n",
      "Execution successful!\n",
      "Gesamte Ausführung hat 0 Stunden, 0 Minuten, und 3.23 Sekunden gedauert.\n",
      "Anonymization completed for k=10. Output saved to C:/Users/leesh/Desktop/BA/Notebooks/weight_optimization/anonymized_trial_33_k10.csv.\n",
      "Running Java anonymization for trial 33 with k=20...\n",
      "Running Java code with k=20...\n",
      "Solution space too large for k=20 and l=2: Attribute 'age': hierarchy does not contain a transformation rule for value '[0, 80['\n",
      "Execution successful!\n",
      "Gesamte Ausführung hat 0 Stunden, 0 Minuten, und 2.62 Sekunden gedauert.\n",
      "Anonymization completed for k=20. Output saved to C:/Users/leesh/Desktop/BA/Notebooks/weight_optimization/anonymized_trial_33_k20.csv.\n",
      "All anonymization processes completed.\n"
     ]
    },
    {
     "name": "stderr",
     "output_type": "stream",
     "text": [
      "[I 2024-09-17 21:26:21,728] Trial 33 finished with value: 0.7226301486355428 and parameters: {'age_weight': 0.15678099780548838, 'gender_weight': 0.06709091390219377, 'height_weight': 0.5873535238476245, 'weight_weight': 0.10832287661621884, 'ap_hi_weight': 0.3900880304446849, 'ap_lo_weight': 0.05571550214002711, 'cholesterol_weight': 0.23146398236893637, 'gluc_weight': 0.26846582074278297, 'smoke_weight': 0.7274344031828935, 'alco_weight': 0.48663127394257333, 'active_weight': 0.7090421684589131}. Best is trial 10 with value: 0.7268503515281477.\n"
     ]
    },
    {
     "name": "stdout",
     "output_type": "stream",
     "text": [
      "Running Java anonymization for trial 34 with k=10...\n",
      "Running Java code with k=10...\n",
      "Solution space too large for k=10 and l=2: Attribute 'age': hierarchy does not contain a transformation rule for value '[0, 80['\n",
      "Execution successful!\n",
      "Gesamte Ausführung hat 0 Stunden, 0 Minuten, und 3.32 Sekunden gedauert.\n",
      "Anonymization completed for k=10. Output saved to C:/Users/leesh/Desktop/BA/Notebooks/weight_optimization/anonymized_trial_34_k10.csv.\n",
      "Running Java anonymization for trial 34 with k=20...\n",
      "Running Java code with k=20...\n",
      "Solution space too large for k=20 and l=2: Attribute 'age': hierarchy does not contain a transformation rule for value '[0, 80['\n",
      "Execution successful!\n",
      "Gesamte Ausführung hat 0 Stunden, 0 Minuten, und 3.43 Sekunden gedauert.\n",
      "Anonymization completed for k=20. Output saved to C:/Users/leesh/Desktop/BA/Notebooks/weight_optimization/anonymized_trial_34_k20.csv.\n",
      "All anonymization processes completed.\n"
     ]
    },
    {
     "name": "stderr",
     "output_type": "stream",
     "text": [
      "[I 2024-09-17 21:26:49,389] Trial 34 finished with value: 0.7249486909904636 and parameters: {'age_weight': 0.07407194871660558, 'gender_weight': 0.2158834149424876, 'height_weight': 0.3284512766374179, 'weight_weight': 0.2191058820676333, 'ap_hi_weight': 0.5536338797619471, 'ap_lo_weight': 0.1492779728859983, 'cholesterol_weight': 0.5115266800224529, 'gluc_weight': 0.992685924774911, 'smoke_weight': 0.7804237896813754, 'alco_weight': 0.7534275535659709, 'active_weight': 0.7803674924796666}. Best is trial 10 with value: 0.7268503515281477.\n"
     ]
    },
    {
     "name": "stdout",
     "output_type": "stream",
     "text": [
      "Running Java anonymization for trial 35 with k=10...\n",
      "Running Java code with k=10...\n",
      "Solution space too large for k=10 and l=2: Attribute 'age': hierarchy does not contain a transformation rule for value '[0, 80['\n",
      "Execution successful!\n",
      "Gesamte Ausführung hat 0 Stunden, 0 Minuten, und 5.29 Sekunden gedauert.\n",
      "Anonymization completed for k=10. Output saved to C:/Users/leesh/Desktop/BA/Notebooks/weight_optimization/anonymized_trial_35_k10.csv.\n",
      "Running Java anonymization for trial 35 with k=20...\n",
      "Running Java code with k=20...\n",
      "Solution space too large for k=20 and l=2: Attribute 'age': hierarchy does not contain a transformation rule for value '[0, 80['\n",
      "Execution successful!\n",
      "Gesamte Ausführung hat 0 Stunden, 0 Minuten, und 3.88 Sekunden gedauert.\n",
      "Anonymization completed for k=20. Output saved to C:/Users/leesh/Desktop/BA/Notebooks/weight_optimization/anonymized_trial_35_k20.csv.\n",
      "All anonymization processes completed.\n"
     ]
    },
    {
     "name": "stderr",
     "output_type": "stream",
     "text": [
      "[I 2024-09-17 21:27:16,355] Trial 35 finished with value: 0.724874430105865 and parameters: {'age_weight': 0.0647203641910734, 'gender_weight': 0.1495864088574186, 'height_weight': 0.34318736980126113, 'weight_weight': 0.07907493415680325, 'ap_hi_weight': 0.43402132553882317, 'ap_lo_weight': 0.16805621282729866, 'cholesterol_weight': 0.5350669459643336, 'gluc_weight': 0.8484058484087394, 'smoke_weight': 0.45097512293653763, 'alco_weight': 0.9769894170643436, 'active_weight': 0.7889289787664889}. Best is trial 10 with value: 0.7268503515281477.\n"
     ]
    },
    {
     "name": "stdout",
     "output_type": "stream",
     "text": [
      "Running Java anonymization for trial 36 with k=10...\n",
      "Running Java code with k=10...\n",
      "Solution space too large for k=10 and l=2: Attribute 'age': hierarchy does not contain a transformation rule for value '[0, 80['\n",
      "Execution successful!\n",
      "Gesamte Ausführung hat 0 Stunden, 0 Minuten, und 3.55 Sekunden gedauert.\n",
      "Anonymization completed for k=10. Output saved to C:/Users/leesh/Desktop/BA/Notebooks/weight_optimization/anonymized_trial_36_k10.csv.\n",
      "Running Java anonymization for trial 36 with k=20...\n",
      "Running Java code with k=20...\n",
      "Solution space too large for k=20 and l=2: Attribute 'age': hierarchy does not contain a transformation rule for value '[0, 80['\n",
      "Execution successful!\n",
      "Gesamte Ausführung hat 0 Stunden, 0 Minuten, und 3.76 Sekunden gedauert.\n",
      "Anonymization completed for k=20. Output saved to C:/Users/leesh/Desktop/BA/Notebooks/weight_optimization/anonymized_trial_36_k20.csv.\n",
      "All anonymization processes completed.\n"
     ]
    },
    {
     "name": "stderr",
     "output_type": "stream",
     "text": [
      "[I 2024-09-17 21:27:40,950] Trial 36 finished with value: 0.7263984765532017 and parameters: {'age_weight': 0.0642154776493848, 'gender_weight': 0.35651250081320707, 'height_weight': 0.35495537202908717, 'weight_weight': 0.15388555944218082, 'ap_hi_weight': 0.4427393059443471, 'ap_lo_weight': 0.21113676169847712, 'cholesterol_weight': 0.5149303983892377, 'gluc_weight': 0.9940633182894517, 'smoke_weight': 0.39500172488419744, 'alco_weight': 0.9937407633662916, 'active_weight': 0.778565754316504}. Best is trial 10 with value: 0.7268503515281477.\n"
     ]
    },
    {
     "name": "stdout",
     "output_type": "stream",
     "text": [
      "Running Java anonymization for trial 37 with k=10...\n",
      "Running Java code with k=10...\n",
      "Solution space too large for k=10 and l=2: Attribute 'age': hierarchy does not contain a transformation rule for value '[0, 80['\n",
      "Execution successful!\n",
      "Gesamte Ausführung hat 0 Stunden, 0 Minuten, und 3.27 Sekunden gedauert.\n",
      "Anonymization completed for k=10. Output saved to C:/Users/leesh/Desktop/BA/Notebooks/weight_optimization/anonymized_trial_37_k10.csv.\n",
      "Running Java anonymization for trial 37 with k=20...\n",
      "Running Java code with k=20...\n",
      "Solution space too large for k=20 and l=2: Attribute 'age': hierarchy does not contain a transformation rule for value '[0, 80['\n",
      "Execution successful!\n",
      "Gesamte Ausführung hat 0 Stunden, 0 Minuten, und 2.99 Sekunden gedauert.\n",
      "Anonymization completed for k=20. Output saved to C:/Users/leesh/Desktop/BA/Notebooks/weight_optimization/anonymized_trial_37_k20.csv.\n",
      "All anonymization processes completed.\n"
     ]
    },
    {
     "name": "stderr",
     "output_type": "stream",
     "text": [
      "[I 2024-09-17 21:28:02,591] Trial 37 finished with value: 0.7266841228278981 and parameters: {'age_weight': 0.07847479336136687, 'gender_weight': 0.40902959247942705, 'height_weight': 0.33187627741816306, 'weight_weight': 0.24089776629828008, 'ap_hi_weight': 0.18265864267916043, 'ap_lo_weight': 0.22809752889030094, 'cholesterol_weight': 0.5089537839133287, 'gluc_weight': 0.9958854545527996, 'smoke_weight': 0.3509935243409926, 'alco_weight': 0.9150253645313294, 'active_weight': 0.6522427413280875}. Best is trial 10 with value: 0.7268503515281477.\n"
     ]
    },
    {
     "name": "stdout",
     "output_type": "stream",
     "text": [
      "Running Java anonymization for trial 38 with k=10...\n",
      "Running Java code with k=10...\n",
      "Solution space too large for k=10 and l=2: Attribute 'age': hierarchy does not contain a transformation rule for value '[0, 80['\n",
      "Execution successful!\n",
      "Gesamte Ausführung hat 0 Stunden, 0 Minuten, und 4.08 Sekunden gedauert.\n",
      "Anonymization completed for k=10. Output saved to C:/Users/leesh/Desktop/BA/Notebooks/weight_optimization/anonymized_trial_38_k10.csv.\n",
      "Running Java anonymization for trial 38 with k=20...\n",
      "Running Java code with k=20...\n",
      "Solution space too large for k=20 and l=2: Attribute 'age': hierarchy does not contain a transformation rule for value '[0, 80['\n",
      "Execution successful!\n",
      "Gesamte Ausführung hat 0 Stunden, 0 Minuten, und 4.60 Sekunden gedauert.\n",
      "Anonymization completed for k=20. Output saved to C:/Users/leesh/Desktop/BA/Notebooks/weight_optimization/anonymized_trial_38_k20.csv.\n",
      "All anonymization processes completed.\n"
     ]
    },
    {
     "name": "stderr",
     "output_type": "stream",
     "text": [
      "[I 2024-09-17 21:28:28,300] Trial 38 finished with value: 0.7227795446101266 and parameters: {'age_weight': 0.10917493651602671, 'gender_weight': 0.3759346631563045, 'height_weight': 0.4259362860111546, 'weight_weight': 0.14648945696705515, 'ap_hi_weight': 0.19239644495581645, 'ap_lo_weight': 0.3183556571091682, 'cholesterol_weight': 0.582379072581422, 'gluc_weight': 0.9347660533659992, 'smoke_weight': 0.3666112082172482, 'alco_weight': 0.9010102448917661, 'active_weight': 0.5998794511595366}. Best is trial 10 with value: 0.7268503515281477.\n"
     ]
    },
    {
     "name": "stdout",
     "output_type": "stream",
     "text": [
      "Running Java anonymization for trial 39 with k=10...\n",
      "Running Java code with k=10...\n",
      "Solution space too large for k=10 and l=2: Attribute 'age': hierarchy does not contain a transformation rule for value '[0, 80['\n",
      "Execution successful!\n",
      "Gesamte Ausführung hat 0 Stunden, 0 Minuten, und 3.33 Sekunden gedauert.\n",
      "Anonymization completed for k=10. Output saved to C:/Users/leesh/Desktop/BA/Notebooks/weight_optimization/anonymized_trial_39_k10.csv.\n",
      "Running Java anonymization for trial 39 with k=20...\n",
      "Running Java code with k=20...\n",
      "Solution space too large for k=20 and l=2: Attribute 'age': hierarchy does not contain a transformation rule for value '[0, 80['\n",
      "Execution successful!\n",
      "Gesamte Ausführung hat 0 Stunden, 0 Minuten, und 3.68 Sekunden gedauert.\n",
      "Anonymization completed for k=20. Output saved to C:/Users/leesh/Desktop/BA/Notebooks/weight_optimization/anonymized_trial_39_k20.csv.\n",
      "All anonymization processes completed.\n"
     ]
    },
    {
     "name": "stderr",
     "output_type": "stream",
     "text": [
      "[I 2024-09-17 21:28:54,284] Trial 39 finished with value: 0.7196518183520523 and parameters: {'age_weight': 0.7534515718321265, 'gender_weight': 0.5133038242093553, 'height_weight': 0.23477530906695676, 'weight_weight': 0.9634821602371015, 'ap_hi_weight': 0.046827934432425444, 'ap_lo_weight': 0.23132375165109323, 'cholesterol_weight': 0.4975814946074054, 'gluc_weight': 0.8352293479180696, 'smoke_weight': 0.32204617617040376, 'alco_weight': 0.8538334251362828, 'active_weight': 0.5966320142580153}. Best is trial 10 with value: 0.7268503515281477.\n"
     ]
    },
    {
     "name": "stdout",
     "output_type": "stream",
     "text": [
      "Running Java anonymization for trial 40 with k=10...\n",
      "Running Java code with k=10...\n",
      "Solution space too large for k=10 and l=2: Attribute 'age': hierarchy does not contain a transformation rule for value '[0, 80['\n",
      "Execution successful!\n",
      "Gesamte Ausführung hat 0 Stunden, 0 Minuten, und 2.92 Sekunden gedauert.\n",
      "Anonymization completed for k=10. Output saved to C:/Users/leesh/Desktop/BA/Notebooks/weight_optimization/anonymized_trial_40_k10.csv.\n",
      "Running Java anonymization for trial 40 with k=20...\n",
      "Running Java code with k=20...\n",
      "Solution space too large for k=20 and l=2: Attribute 'age': hierarchy does not contain a transformation rule for value '[0, 80['\n",
      "Execution successful!\n",
      "Gesamte Ausführung hat 0 Stunden, 0 Minuten, und 2.91 Sekunden gedauert.\n",
      "Anonymization completed for k=20. Output saved to C:/Users/leesh/Desktop/BA/Notebooks/weight_optimization/anonymized_trial_40_k20.csv.\n",
      "All anonymization processes completed.\n"
     ]
    },
    {
     "name": "stderr",
     "output_type": "stream",
     "text": [
      "[I 2024-09-17 21:29:13,900] Trial 40 finished with value: 0.7146185579000985 and parameters: {'age_weight': 0.19479296407498142, 'gender_weight': 0.44291673393047526, 'height_weight': 0.39030453414248606, 'weight_weight': 0.8332002772980756, 'ap_hi_weight': 0.3632372090208972, 'ap_lo_weight': 0.35376932748333695, 'cholesterol_weight': 0.6148615530902529, 'gluc_weight': 0.9700710349621061, 'smoke_weight': 0.11850700146519927, 'alco_weight': 0.9398424992043549, 'active_weight': 0.6737520030240443}. Best is trial 10 with value: 0.7268503515281477.\n"
     ]
    },
    {
     "name": "stdout",
     "output_type": "stream",
     "text": [
      "Running Java anonymization for trial 41 with k=10...\n",
      "Running Java code with k=10...\n",
      "Solution space too large for k=10 and l=2: Attribute 'age': hierarchy does not contain a transformation rule for value '[0, 80['\n",
      "Execution successful!\n",
      "Gesamte Ausführung hat 0 Stunden, 0 Minuten, und 2.68 Sekunden gedauert.\n",
      "Anonymization completed for k=10. Output saved to C:/Users/leesh/Desktop/BA/Notebooks/weight_optimization/anonymized_trial_41_k10.csv.\n",
      "Running Java anonymization for trial 41 with k=20...\n",
      "Running Java code with k=20...\n",
      "Solution space too large for k=20 and l=2: Attribute 'age': hierarchy does not contain a transformation rule for value '[0, 80['\n",
      "Execution successful!\n",
      "Gesamte Ausführung hat 0 Stunden, 0 Minuten, und 2.82 Sekunden gedauert.\n",
      "Anonymization completed for k=20. Output saved to C:/Users/leesh/Desktop/BA/Notebooks/weight_optimization/anonymized_trial_41_k20.csv.\n",
      "All anonymization processes completed.\n"
     ]
    },
    {
     "name": "stderr",
     "output_type": "stream",
     "text": [
      "[I 2024-09-17 21:29:31,769] Trial 41 finished with value: 0.7249468677132546 and parameters: {'age_weight': 0.06624593554730385, 'gender_weight': 0.3143729369237789, 'height_weight': 0.32567746526863117, 'weight_weight': 0.23993718934282743, 'ap_hi_weight': 0.473770957516834, 'ap_lo_weight': 0.1018138091764609, 'cholesterol_weight': 0.5097115632861403, 'gluc_weight': 0.9796425530097642, 'smoke_weight': 0.4252635680378125, 'alco_weight': 0.942054950808052, 'active_weight': 0.849937011212113}. Best is trial 10 with value: 0.7268503515281477.\n"
     ]
    },
    {
     "name": "stdout",
     "output_type": "stream",
     "text": [
      "Running Java anonymization for trial 42 with k=10...\n",
      "Running Java code with k=10...\n",
      "Solution space too large for k=10 and l=2: Attribute 'age': hierarchy does not contain a transformation rule for value '[0, 80['\n",
      "Execution successful!\n",
      "Gesamte Ausführung hat 0 Stunden, 0 Minuten, und 2.55 Sekunden gedauert.\n",
      "Anonymization completed for k=10. Output saved to C:/Users/leesh/Desktop/BA/Notebooks/weight_optimization/anonymized_trial_42_k10.csv.\n",
      "Running Java anonymization for trial 42 with k=20...\n",
      "Running Java code with k=20...\n",
      "Solution space too large for k=20 and l=2: Attribute 'age': hierarchy does not contain a transformation rule for value '[0, 80['\n",
      "Execution successful!\n",
      "Gesamte Ausführung hat 0 Stunden, 0 Minuten, und 2.57 Sekunden gedauert.\n",
      "Anonymization completed for k=20. Output saved to C:/Users/leesh/Desktop/BA/Notebooks/weight_optimization/anonymized_trial_42_k20.csv.\n",
      "All anonymization processes completed.\n"
     ]
    },
    {
     "name": "stderr",
     "output_type": "stream",
     "text": [
      "[I 2024-09-17 21:29:49,168] Trial 42 finished with value: 0.7231118869458498 and parameters: {'age_weight': 0.057103142867003506, 'gender_weight': 0.19941617977919923, 'height_weight': 0.2045350948684368, 'weight_weight': 0.16378981261932607, 'ap_hi_weight': 0.20615108157389878, 'ap_lo_weight': 0.20619389727559279, 'cholesterol_weight': 0.35603061333373165, 'gluc_weight': 0.873964484909943, 'smoke_weight': 0.2203209281590718, 'alco_weight': 0.9985568775458722, 'active_weight': 0.7450088279328084}. Best is trial 10 with value: 0.7268503515281477.\n"
     ]
    },
    {
     "name": "stdout",
     "output_type": "stream",
     "text": [
      "Running Java anonymization for trial 43 with k=10...\n",
      "Running Java code with k=10...\n",
      "Solution space too large for k=10 and l=2: Attribute 'age': hierarchy does not contain a transformation rule for value '[0, 80['\n",
      "Execution successful!\n",
      "Gesamte Ausführung hat 0 Stunden, 0 Minuten, und 2.43 Sekunden gedauert.\n",
      "Anonymization completed for k=10. Output saved to C:/Users/leesh/Desktop/BA/Notebooks/weight_optimization/anonymized_trial_43_k10.csv.\n",
      "Running Java anonymization for trial 43 with k=20...\n",
      "Running Java code with k=20...\n",
      "Solution space too large for k=20 and l=2: Attribute 'age': hierarchy does not contain a transformation rule for value '[0, 80['\n",
      "Execution successful!\n",
      "Gesamte Ausführung hat 0 Stunden, 0 Minuten, und 2.90 Sekunden gedauert.\n",
      "Anonymization completed for k=20. Output saved to C:/Users/leesh/Desktop/BA/Notebooks/weight_optimization/anonymized_trial_43_k20.csv.\n",
      "All anonymization processes completed.\n"
     ]
    },
    {
     "name": "stderr",
     "output_type": "stream",
     "text": [
      "[I 2024-09-17 21:30:06,043] Trial 43 finished with value: 0.7250953591862683 and parameters: {'age_weight': 0.10830467514818537, 'gender_weight': 0.40642618405335695, 'height_weight': 0.31548859958904535, 'weight_weight': 0.06196510533512727, 'ap_hi_weight': 0.2858807565590747, 'ap_lo_weight': 0.28285674597172095, 'cholesterol_weight': 0.49917321025692174, 'gluc_weight': 0.7976137959110514, 'smoke_weight': 0.32659630295337044, 'alco_weight': 0.5960232763142321, 'active_weight': 0.8103383588079124}. Best is trial 10 with value: 0.7268503515281477.\n"
     ]
    },
    {
     "name": "stdout",
     "output_type": "stream",
     "text": [
      "Running Java anonymization for trial 44 with k=10...\n",
      "Running Java code with k=10...\n",
      "Solution space too large for k=10 and l=2: Attribute 'age': hierarchy does not contain a transformation rule for value '[0, 80['\n",
      "Execution successful!\n",
      "Gesamte Ausführung hat 0 Stunden, 0 Minuten, und 2.59 Sekunden gedauert.\n",
      "Anonymization completed for k=10. Output saved to C:/Users/leesh/Desktop/BA/Notebooks/weight_optimization/anonymized_trial_44_k10.csv.\n",
      "Running Java anonymization for trial 44 with k=20...\n",
      "Running Java code with k=20...\n",
      "Solution space too large for k=20 and l=2: Attribute 'age': hierarchy does not contain a transformation rule for value '[0, 80['\n",
      "Execution successful!\n",
      "Gesamte Ausführung hat 0 Stunden, 0 Minuten, und 2.67 Sekunden gedauert.\n",
      "Anonymization completed for k=20. Output saved to C:/Users/leesh/Desktop/BA/Notebooks/weight_optimization/anonymized_trial_44_k20.csv.\n",
      "All anonymization processes completed.\n"
     ]
    },
    {
     "name": "stderr",
     "output_type": "stream",
     "text": [
      "[I 2024-09-17 21:30:23,443] Trial 44 finished with value: 0.7213226010101009 and parameters: {'age_weight': 0.1200695074447148, 'gender_weight': 0.38376331384390977, 'height_weight': 0.385664578825983, 'weight_weight': 0.06648272438263397, 'ap_hi_weight': 0.2874450611786466, 'ap_lo_weight': 0.3145080347221802, 'cholesterol_weight': 0.6268302734442058, 'gluc_weight': 0.7877801162696658, 'smoke_weight': 0.329238434061936, 'alco_weight': 0.5673489852363691, 'active_weight': 0.9277819049419255}. Best is trial 10 with value: 0.7268503515281477.\n"
     ]
    },
    {
     "name": "stdout",
     "output_type": "stream",
     "text": [
      "Running Java anonymization for trial 45 with k=10...\n",
      "Running Java code with k=10...\n",
      "Solution space too large for k=10 and l=2: Attribute 'age': hierarchy does not contain a transformation rule for value '[0, 80['\n",
      "Execution successful!\n",
      "Gesamte Ausführung hat 0 Stunden, 0 Minuten, und 2.61 Sekunden gedauert.\n",
      "Anonymization completed for k=10. Output saved to C:/Users/leesh/Desktop/BA/Notebooks/weight_optimization/anonymized_trial_45_k10.csv.\n",
      "Running Java anonymization for trial 45 with k=20...\n",
      "Running Java code with k=20...\n",
      "Solution space too large for k=20 and l=2: Attribute 'age': hierarchy does not contain a transformation rule for value '[0, 80['\n",
      "Execution successful!\n",
      "Gesamte Ausführung hat 0 Stunden, 0 Minuten, und 2.68 Sekunden gedauert.\n",
      "Anonymization completed for k=20. Output saved to C:/Users/leesh/Desktop/BA/Notebooks/weight_optimization/anonymized_trial_45_k20.csv.\n",
      "All anonymization processes completed.\n"
     ]
    },
    {
     "name": "stderr",
     "output_type": "stream",
     "text": [
      "[I 2024-09-17 21:30:40,310] Trial 45 finished with value: 0.7226410602333149 and parameters: {'age_weight': 0.03581829139869576, 'gender_weight': 0.5400590648503142, 'height_weight': 0.6303532043845492, 'weight_weight': 0.05100447313598774, 'ap_hi_weight': 0.2306203157506929, 'ap_lo_weight': 0.41252541059446113, 'cholesterol_weight': 0.4695189290831735, 'gluc_weight': 0.6202396083697412, 'smoke_weight': 0.4857006646288369, 'alco_weight': 0.6220361137024806, 'active_weight': 0.470441771254577}. Best is trial 10 with value: 0.7268503515281477.\n"
     ]
    },
    {
     "name": "stdout",
     "output_type": "stream",
     "text": [
      "Running Java anonymization for trial 46 with k=10...\n",
      "Running Java code with k=10...\n",
      "Solution space too large for k=10 and l=2: Attribute 'age': hierarchy does not contain a transformation rule for value '[0, 80['\n",
      "Execution successful!\n",
      "Gesamte Ausführung hat 0 Stunden, 0 Minuten, und 2.56 Sekunden gedauert.\n",
      "Anonymization completed for k=10. Output saved to C:/Users/leesh/Desktop/BA/Notebooks/weight_optimization/anonymized_trial_46_k10.csv.\n",
      "Running Java anonymization for trial 46 with k=20...\n",
      "Running Java code with k=20...\n",
      "Solution space too large for k=20 and l=2: Attribute 'age': hierarchy does not contain a transformation rule for value '[0, 80['\n",
      "Execution successful!\n",
      "Gesamte Ausführung hat 0 Stunden, 0 Minuten, und 2.86 Sekunden gedauert.\n",
      "Anonymization completed for k=20. Output saved to C:/Users/leesh/Desktop/BA/Notebooks/weight_optimization/anonymized_trial_46_k20.csv.\n",
      "All anonymization processes completed.\n"
     ]
    },
    {
     "name": "stderr",
     "output_type": "stream",
     "text": [
      "[I 2024-09-17 21:30:58,100] Trial 46 finished with value: 0.7266841228278981 and parameters: {'age_weight': 0.10973304311555529, 'gender_weight': 0.4664612747617555, 'height_weight': 0.13034666375986179, 'weight_weight': 0.1583870574822749, 'ap_hi_weight': 0.16992343870445478, 'ap_lo_weight': 0.3017610929266847, 'cholesterol_weight': 0.5717217734430831, 'gluc_weight': 0.6943620155711606, 'smoke_weight': 0.16751732947199738, 'alco_weight': 0.8701983733353341, 'active_weight': 0.6179743695829842}. Best is trial 10 with value: 0.7268503515281477.\n"
     ]
    },
    {
     "name": "stdout",
     "output_type": "stream",
     "text": [
      "Running Java anonymization for trial 47 with k=10...\n",
      "Running Java code with k=10...\n",
      "Solution space too large for k=10 and l=2: Attribute 'age': hierarchy does not contain a transformation rule for value '[0, 80['\n",
      "Execution successful!\n",
      "Gesamte Ausführung hat 0 Stunden, 0 Minuten, und 3.20 Sekunden gedauert.\n",
      "Anonymization completed for k=10. Output saved to C:/Users/leesh/Desktop/BA/Notebooks/weight_optimization/anonymized_trial_47_k10.csv.\n",
      "Running Java anonymization for trial 47 with k=20...\n",
      "Running Java code with k=20...\n",
      "Solution space too large for k=20 and l=2: Attribute 'age': hierarchy does not contain a transformation rule for value '[0, 80['\n",
      "Execution successful!\n",
      "Gesamte Ausführung hat 0 Stunden, 0 Minuten, und 3.60 Sekunden gedauert.\n",
      "Anonymization completed for k=20. Output saved to C:/Users/leesh/Desktop/BA/Notebooks/weight_optimization/anonymized_trial_47_k20.csv.\n",
      "All anonymization processes completed.\n"
     ]
    },
    {
     "name": "stderr",
     "output_type": "stream",
     "text": [
      "[I 2024-09-17 21:31:17,774] Trial 47 finished with value: 0.726461953503134 and parameters: {'age_weight': 0.5057577973219016, 'gender_weight': 0.5832227130479231, 'height_weight': 0.022821144551180894, 'weight_weight': 0.17007921035411927, 'ap_hi_weight': 0.1548462608874135, 'ap_lo_weight': 0.3894394839296405, 'cholesterol_weight': 0.577222326105734, 'gluc_weight': 0.6406862707710665, 'smoke_weight': 0.1587937595691932, 'alco_weight': 0.8558442666675038, 'active_weight': 0.6008849620051105}. Best is trial 10 with value: 0.7268503515281477.\n"
     ]
    },
    {
     "name": "stdout",
     "output_type": "stream",
     "text": [
      "Running Java anonymization for trial 48 with k=10...\n",
      "Running Java code with k=10...\n",
      "Solution space too large for k=10 and l=2: Attribute 'age': hierarchy does not contain a transformation rule for value '[0, 80['\n",
      "Execution successful!\n",
      "Gesamte Ausführung hat 0 Stunden, 0 Minuten, und 2.63 Sekunden gedauert.\n",
      "Anonymization completed for k=10. Output saved to C:/Users/leesh/Desktop/BA/Notebooks/weight_optimization/anonymized_trial_48_k10.csv.\n",
      "Running Java anonymization for trial 48 with k=20...\n",
      "Running Java code with k=20...\n",
      "Solution space too large for k=20 and l=2: Attribute 'age': hierarchy does not contain a transformation rule for value '[0, 80['\n",
      "Execution successful!\n",
      "Gesamte Ausführung hat 0 Stunden, 0 Minuten, und 2.78 Sekunden gedauert.\n",
      "Anonymization completed for k=20. Output saved to C:/Users/leesh/Desktop/BA/Notebooks/weight_optimization/anonymized_trial_48_k20.csv.\n",
      "All anonymization processes completed.\n"
     ]
    },
    {
     "name": "stderr",
     "output_type": "stream",
     "text": [
      "[I 2024-09-17 21:31:35,931] Trial 48 finished with value: 0.719198277738712 and parameters: {'age_weight': 0.5160793791126167, 'gender_weight': 0.5921864147035183, 'height_weight': 0.004486454482425621, 'weight_weight': 0.25954658934920416, 'ap_hi_weight': 0.14413113071626601, 'ap_lo_weight': 0.3817743706686768, 'cholesterol_weight': 0.5732705661979027, 'gluc_weight': 0.6734200553653723, 'smoke_weight': 0.1372667108805074, 'alco_weight': 0.8772552948506633, 'active_weight': 0.6273654209511015}. Best is trial 10 with value: 0.7268503515281477.\n"
     ]
    },
    {
     "name": "stdout",
     "output_type": "stream",
     "text": [
      "Running Java anonymization for trial 49 with k=10...\n",
      "Running Java code with k=10...\n",
      "Solution space too large for k=10 and l=2: Attribute 'age': hierarchy does not contain a transformation rule for value '[0, 80['\n",
      "Execution successful!\n",
      "Gesamte Ausführung hat 0 Stunden, 0 Minuten, und 3.06 Sekunden gedauert.\n",
      "Anonymization completed for k=10. Output saved to C:/Users/leesh/Desktop/BA/Notebooks/weight_optimization/anonymized_trial_49_k10.csv.\n",
      "Running Java anonymization for trial 49 with k=20...\n",
      "Running Java code with k=20...\n",
      "Solution space too large for k=20 and l=2: Attribute 'age': hierarchy does not contain a transformation rule for value '[0, 80['\n",
      "Execution successful!\n",
      "Gesamte Ausführung hat 0 Stunden, 0 Minuten, und 2.60 Sekunden gedauert.\n",
      "Anonymization completed for k=20. Output saved to C:/Users/leesh/Desktop/BA/Notebooks/weight_optimization/anonymized_trial_49_k20.csv.\n",
      "All anonymization processes completed.\n"
     ]
    },
    {
     "name": "stderr",
     "output_type": "stream",
     "text": [
      "[I 2024-09-17 21:31:53,770] Trial 49 finished with value: 0.7223818597876719 and parameters: {'age_weight': 0.3905656268086535, 'gender_weight': 0.45480369161343415, 'height_weight': 0.1354166704100852, 'weight_weight': 0.46755934536286115, 'ap_hi_weight': 0.006354628142436203, 'ap_lo_weight': 0.44382438870780194, 'cholesterol_weight': 0.787565202747427, 'gluc_weight': 0.5119548341995261, 'smoke_weight': 0.1556878966374508, 'alco_weight': 0.8356964413931307, 'active_weight': 0.5273026333035166}. Best is trial 10 with value: 0.7268503515281477.\n"
     ]
    },
    {
     "name": "stdout",
     "output_type": "stream",
     "text": [
      "Optimized weights for C:/Users/leesh/Desktop/BA/Notebooks/weight_optimization/cvd_k1000_l2.csv: {'age_weight': 0.4417194843109914, 'gender_weight': 0.9993626154243063, 'height_weight': 0.881040867694267, 'weight_weight': 0.058942964812388116, 'ap_hi_weight': 0.31156771428233454, 'ap_lo_weight': 0.5843905700190671, 'cholesterol_weight': 0.5814446569348688, 'gluc_weight': 0.3180476310226602, 'smoke_weight': 0.9514964164590098, 'alco_weight': 0.9714842983086067, 'active_weight': 0.3127374308669667}\n",
      "Optimization results saved to C:/Users/leesh/Desktop/BA/Notebooks/weight_optimization/optimized_results.csv.\n"
     ]
    }
   ],
   "source": [
    "import os\n",
    "import pandas as pd\n",
    "import numpy as np\n",
    "from sklearn.model_selection import cross_val_score\n",
    "from sklearn.ensemble import RandomForestClassifier\n",
    "import optuna\n",
    "from functools import partial\n",
    "import subprocess\n",
    "import time\n",
    "import re\n",
    "\n",
    "def run_java_anonymization(input_csv, output_csv, k_value, l_value=2, weights=None):\n",
    "    \"\"\"\n",
    "    Führt das Java-Programm zur Anonymisierung mit den angegebenen Parametern aus.\n",
    "    \n",
    "    Args:\n",
    "        input_csv (str): Pfad zur Eingabe-CSV-Datei.\n",
    "        output_csv (str): Pfad zur Ausgabe-CSV-Datei.\n",
    "        k_value (str): Wert für k-Anonymität.\n",
    "        l_value (int, optional): Wert für l-Diversität (Standard: 2).\n",
    "        weights (dict, optional): Gewichtungen für die Attribute, falls vorhanden.\n",
    "    \"\"\"\n",
    "    start_time = time.time()\n",
    "\n",
    "    # Pfade und Parameter\n",
    "    java_file = \"C:/Users/leesh/Desktop/BA/Notebooks/automated_anonymization/Anonymization/src/main/java/ARXAnonymization_w.java\"\n",
    "    class_file = \"C:/Users/leesh/Desktop/BA/Notebooks/automated_anonymization/Anonymization/src/main/java/ARXAnonymization_w.class\"\n",
    "    libs_dir = \"C:/Users/leesh/Desktop/BA/Notebooks/automated_anonymization/Anonymization/lib/*\"\n",
    "\n",
    "    # Gewichtungen als String formatieren, wenn vorhanden\n",
    "    if weights is not None:\n",
    "        weights_str = ','.join([str(weights[key]) for key in sorted(weights.keys())])\n",
    "    else:\n",
    "        weights_str = \"\"\n",
    "\n",
    "    run_command = [\n",
    "        \"java\",\n",
    "        \"-cp\", f\"{libs_dir};C:/Users/leesh/Desktop/BA/Notebooks/automated_anonymization/Anonymization/src/main/java\",\n",
    "        \"ARXAnonymization_w\",\n",
    "        input_csv,\n",
    "        output_csv,\n",
    "        str(k_value),\n",
    "        str(l_value),\n",
    "        weights_str\n",
    "    ]\n",
    "\n",
    "    print(f\"Running Java code with k={k_value}...\")\n",
    "    process = subprocess.Popen(run_command, stdout=subprocess.PIPE, stderr=subprocess.PIPE, text=True)\n",
    "\n",
    "    while True:\n",
    "        output = process.stdout.readline()\n",
    "        if output == \"\" and process.poll() is not None:\n",
    "            break\n",
    "        if output:\n",
    "            print(output.strip())\n",
    "\n",
    "    stderr_output = process.stderr.read()\n",
    "    if stderr_output:\n",
    "        print(f\"Error:\\n{stderr_output}\")\n",
    "\n",
    "    exit_code = process.poll()\n",
    "    if exit_code == 0:\n",
    "        print(\"Execution successful!\")\n",
    "    else:\n",
    "        print(f\"Execution failed with exit code {exit_code}\")\n",
    "\n",
    "    # Überprüfen, ob die Datei erstellt wurde\n",
    "    if not os.path.exists(output_csv):\n",
    "        raise FileNotFoundError(f\"Anonymisierungsdatei {output_csv} für k={k_value} wurde nicht erstellt.\")\n",
    "\n",
    "    end_time = time.time()\n",
    "    elapsed_time = end_time - start_time\n",
    "    hours_total, rem_total = divmod(elapsed_time, 3600)\n",
    "    minutes_total, seconds_total = divmod(rem_total, 60)\n",
    "    print(f\"Gesamte Ausführung hat {int(hours_total)} Stunden, {int(minutes_total)} Minuten, und {seconds_total:.2f} Sekunden gedauert.\")\n",
    "    \n",
    "    return exit_code\n",
    "\n",
    "def anonymize_data(df, weights, trial_number, temp_input_csv=\"C:/Users/leesh/Desktop/BA/Notebooks/weight_optimization/temp_input.csv\", temp_output_csv_template=\"C:/Users/leesh/Desktop/BA/Notebooks/weight_optimization/anonymized_trial_{}_k{}.csv\"):\n",
    "    df.to_csv(temp_input_csv, index=False)\n",
    "    k_values = [10, 20]\n",
    "\n",
    "    for k_value in k_values:\n",
    "        temp_output_csv = temp_output_csv_template.format(trial_number, k_value)\n",
    "    \n",
    "        print(f\"Running Java anonymization for trial {trial_number} with k={k_value}...\")\n",
    "        java_exit_code = run_java_anonymization(temp_input_csv, temp_output_csv, k_value, weights=weights)\n",
    "\n",
    "        if java_exit_code != 0:\n",
    "            print(f\"Anonymization script failed with exit code {java_exit_code} for k={k_value}.\")\n",
    "            continue\n",
    "\n",
    "        for i in range(10):\n",
    "            if os.path.exists(temp_output_csv):\n",
    "                break\n",
    "            time.sleep(1)\n",
    "        else:\n",
    "            print(f\"{temp_output_csv} wurde nicht gefunden. Erstelle eine leere Datei.\")\n",
    "            pd.DataFrame().to_csv(temp_output_csv, index=False)\n",
    "            raise FileNotFoundError(f\"{temp_output_csv} wurde nicht gefunden.\")\n",
    "    \n",
    "        anonymized_df = pd.read_csv(temp_output_csv)\n",
    "        print(f\"Anonymization completed for k={k_value}. Output saved to {temp_output_csv}.\")\n",
    "\n",
    "        if anonymized_df.empty or 'cardio' not in anonymized_df.columns or anonymized_df['cardio'].isnull().all():\n",
    "            print(f\"Anonymisierte Daten für k={k_value} enthalten keine nutzbaren Informationen. Überspringe Klassifikation.\")\n",
    "            return pd.DataFrame()  # Rückgabe eines leeren DataFrame, um die Klassifikation zu überspringen\n",
    "\n",
    "    print(\"All anonymization processes completed.\")\n",
    "    return anonymized_df\n",
    "\n",
    "# Funktion zur Bereinigung der 'weight'-Werte\n",
    "def convert_weight_value(x):\n",
    "    # Überprüfen, ob der Wert ein Bereich ist, z.B. \"[120. 160[\"\n",
    "    match = re.match(r\"\\[(\\d+\\.?\\d*)\\s+(\\d+\\.?\\d*)\\[\" , str(x))\n",
    "    if match:\n",
    "        # Den Mittelwert des Bereichs berechnen\n",
    "        lower_bound = float(match.group(1))\n",
    "        upper_bound = float(match.group(2))\n",
    "        return (lower_bound + upper_bound) / 2\n",
    "    elif x == '*':\n",
    "        return None  # Platzhalter für fehlende Werte\n",
    "    else:\n",
    "        # Ansonsten versuchen, den Wert als Float zu interpretieren\n",
    "        try:\n",
    "            return float(x)\n",
    "        except ValueError:\n",
    "            return None\n",
    "\n",
    "def process_value(value):\n",
    "    if isinstance(value, str):\n",
    "        value = value.strip()\n",
    "        if value.startswith('[') and value.endswith('['):\n",
    "            try:\n",
    "                start, end = map(float, value[1:-1].split(','))\n",
    "                return (start + end) / 2\n",
    "            except ValueError:\n",
    "                return np.nan\n",
    "        elif value.startswith('{') and value.endswith('}'):\n",
    "            try:\n",
    "                values = list(map(float, value[1:-1].split(',')))\n",
    "                return np.mean(values)\n",
    "            except ValueError:\n",
    "                return np.nan\n",
    "        else:\n",
    "            try:\n",
    "                return float(value)\n",
    "            except ValueError:\n",
    "                return np.nan\n",
    "    return value\n",
    "\n",
    "\n",
    "def evaluate_model(df, weights, trial_number):\n",
    "    df_anonymized = anonymize_data(df, weights, trial_number)\n",
    "    # Wenn der anonymisierte DataFrame leer ist, Klassifikation überspringen\n",
    "    if df_anonymized.empty:\n",
    "        print(f\"Anonymisierung für Trial {trial_number} fehlgeschlagen oder keine nutzbaren Daten vorhanden.\")\n",
    "        return 0\n",
    "\n",
    "    df_anonymized = df_anonymized.drop(columns=[\"id\"], errors='ignore')\n",
    "    df_anonymized = df_anonymized[~df_anonymized.isin(['*']).any(axis=1)]\n",
    "    df_anonymized = df_anonymized.dropna()\n",
    "    \n",
    "    X = df_anonymized.drop(columns=[\"cardio\"], errors='ignore')\n",
    "    y = df_anonymized[\"cardio\"]\n",
    "\n",
    "    for column in X.columns:\n",
    "        X[column] = X[column].apply(process_value)\n",
    "\n",
    "    if X.empty or y.empty:\n",
    "        print(f\"Fehler: Keine nutzbaren Daten nach Anonymisierung in Trial {trial_number}.\")\n",
    "        return 0\n",
    "\n",
    "    clf = RandomForestClassifier()\n",
    "    scores = cross_val_score(clf, X, y, cv=5, scoring='accuracy')\n",
    "    return scores.mean()\n",
    "\n",
    "def objective(trial, df):\n",
    "    weights = {\n",
    "        \"age\": trial.suggest_float(\"age_weight\", 0.0, 1.0),\n",
    "        \"gender\": trial.suggest_float(\"gender_weight\", 0.0, 1.0),\n",
    "        \"height\": trial.suggest_float(\"height_weight\", 0.0, 1.0),\n",
    "        \"weight\": trial.suggest_float(\"weight_weight\", 0.0, 1.0),\n",
    "        \"ap_hi\": trial.suggest_float(\"ap_hi_weight\", 0.0, 1.0),\n",
    "        \"ap_lo\": trial.suggest_float(\"ap_lo_weight\", 0.0, 1.0),\n",
    "        \"cholesterol\": trial.suggest_float(\"cholesterol_weight\", 0.0, 1.0),\n",
    "        \"gluc\": trial.suggest_float(\"gluc_weight\", 0.0, 1.0),\n",
    "        \"smoke\": trial.suggest_float(\"smoke_weight\", 0.0, 1.0),\n",
    "        \"alco\": trial.suggest_float(\"alco_weight\", 0.0, 1.0),\n",
    "        \"active\": trial.suggest_float(\"active_weight\", 0.0, 1.0),\n",
    "    }\n",
    "\n",
    "    if any(np.isnan(list(weights.values()))):\n",
    "        print(\"Es gibt ungültige Gewichtungen in den Attributen.\")\n",
    "        return 0\n",
    "\n",
    "    score = evaluate_model(df, weights, trial.number)\n",
    "    return score\n",
    "\n",
    "def optimize_weights_for_datasets(output_file=\"C:/Users/leesh/Desktop/BA/Notebooks/weight_optimization/optimized_results.csv\"):\n",
    "    datasets = [\"C:/Users/leesh/Desktop/BA/Notebooks/weight_optimization/cvd_k0_l0.csv\",\n",
    "                \"C:/Users/leesh/Desktop/BA/Notebooks/weight_optimization/cvd_k10_l2.csv\",\n",
    "                \"C:/Users/leesh/Desktop/BA/Notebooks/weight_optimization/cvd_k100_l2.csv\",\n",
    "                \"C:/Users/leesh/Desktop/BA/Notebooks/weight_optimization/cvd_k1000_l2.csv\"\n",
    "               ]\n",
    "    results = []\n",
    "\n",
    "    for dataset in datasets:\n",
    "        print(f\"Optimizing for {dataset}\")\n",
    "        df = pd.read_csv(dataset, delimiter=';')\n",
    "        df['weight'] = df['weight'].str.replace(',', '.').apply(convert_weight_value)\n",
    "\n",
    "        study = optuna.create_study(direction=\"maximize\")\n",
    "        study.optimize(partial(objective, df=df), n_trials=50)\n",
    "\n",
    "        print(f\"Optimized weights for {dataset}: {study.best_params}\")\n",
    "        \n",
    "        # Ergebnis speichern (beste Gewichtungen und Score)\n",
    "        result = {\n",
    "            \"dataset\": dataset,\n",
    "            \"best_weights\": study.best_params,\n",
    "            \"best_score\": study.best_value\n",
    "        }\n",
    "        results.append(result)\n",
    "\n",
    "    # Ergebnisse in eine CSV-Datei speichern\n",
    "    results_df = pd.DataFrame(results)\n",
    "    results_df.to_csv(output_file, index=False)\n",
    "    print(f\"Optimization results saved to {output_file}.\")\n",
    "\n",
    "output_file = \"C:/Users/leesh/Desktop/BA/Notebooks/weight_optimization/optimized_results.csv\"\n",
    "optimize_weights_for_datasets(output_file)\n"
   ]
  }
 ],
 "metadata": {
  "kernelspec": {
   "display_name": "Python 3 (ipykernel)",
   "language": "python",
   "name": "python3"
  },
  "language_info": {
   "codemirror_mode": {
    "name": "ipython",
    "version": 3
   },
   "file_extension": ".py",
   "mimetype": "text/x-python",
   "name": "python",
   "nbconvert_exporter": "python",
   "pygments_lexer": "ipython3",
   "version": "3.11.7"
  }
 },
 "nbformat": 4,
 "nbformat_minor": 5
}
