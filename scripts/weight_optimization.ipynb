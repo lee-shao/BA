{
 "cells": [
  {
   "cell_type": "code",
   "execution_count": 1,
   "id": "399b680a-1df2-4bfe-b7e0-7c2d6da413e0",
   "metadata": {},
   "outputs": [
    {
     "name": "stderr",
     "output_type": "stream",
     "text": [
      "[I 2024-09-17 00:45:19,376] A new study created in memory with name: no-name-3c9eb8f4-3693-4168-a44b-6070f5e035d4\n"
     ]
    },
    {
     "name": "stdout",
     "output_type": "stream",
     "text": [
      "Running Java anonymization with k={k_value}...\n",
      "weights_str 0.21574287416706084,0.40957365069666696,0.3574217188032208,0.15208455495165651,0.2044144578432986,0.2451686388247012,0.9857278317123906,0.33505457019162976,0.3798096911450387,0.44920441438273817,0.11505688692359883\n",
      "Running Java code...\n",
      "Anonymization successful for k = 100, l = 2\n",
      "Execution successful!\n",
      "Gesamte Ausführung hat 0 Stunden, 0 Minuten, und 33.14 Sekunden gedauert.\n",
      "Anonymization completed for k=100. Output saved to C:/Users/leesh/Desktop/BA/Notebooks/weight_optimization/temp_output_k100.csv.\n",
      "All anonymization processes completed.\n"
     ]
    },
    {
     "name": "stderr",
     "output_type": "stream",
     "text": [
      "[I 2024-09-17 00:46:00,788] Trial 0 finished with value: 0.6121805662595639 and parameters: {'age_weight': 0.40957365069666696, 'gender_weight': 0.9857278317123906, 'height_weight': 0.3798096911450387, 'weight_weight': 0.11505688692359883, 'ap_hi_weight': 0.15208455495165651, 'ap_lo_weight': 0.2044144578432986, 'cholesterol_weight': 0.2451686388247012, 'gluc_weight': 0.33505457019162976, 'smoke_weight': 0.44920441438273817, 'alco_weight': 0.3574217188032208, 'active_weight': 0.21574287416706084}. Best is trial 0 with value: 0.6121805662595639.\n"
     ]
    },
    {
     "name": "stdout",
     "output_type": "stream",
     "text": [
      "Running Java anonymization with k={k_value}...\n",
      "weights_str 0.1359381631939075,0.5101456315067897,0.4699407046328934,0.6856227677982788,0.5192125246510133,0.025572354290508637,0.1531621072076197,0.6990852524905248,0.11311873890415647,0.42581295499661664,0.4716266383578126\n",
      "Running Java code...\n",
      "Anonymization successful for k = 100, l = 2\n",
      "Execution successful!\n",
      "Gesamte Ausführung hat 0 Stunden, 0 Minuten, und 32.79 Sekunden gedauert.\n",
      "Anonymization completed for k=100. Output saved to C:/Users/leesh/Desktop/BA/Notebooks/weight_optimization/temp_output_k100.csv.\n",
      "All anonymization processes completed.\n"
     ]
    },
    {
     "name": "stderr",
     "output_type": "stream",
     "text": [
      "[I 2024-09-17 00:46:42,256] Trial 1 finished with value: 0.713108573705543 and parameters: {'age_weight': 0.5101456315067897, 'gender_weight': 0.1531621072076197, 'height_weight': 0.11311873890415647, 'weight_weight': 0.4716266383578126, 'ap_hi_weight': 0.6856227677982788, 'ap_lo_weight': 0.5192125246510133, 'cholesterol_weight': 0.025572354290508637, 'gluc_weight': 0.6990852524905248, 'smoke_weight': 0.42581295499661664, 'alco_weight': 0.4699407046328934, 'active_weight': 0.1359381631939075}. Best is trial 1 with value: 0.713108573705543.\n"
     ]
    },
    {
     "name": "stdout",
     "output_type": "stream",
     "text": [
      "Running Java anonymization with k={k_value}...\n",
      "weights_str 0.20124598587958686,0.35368945798815943,0.5929700566607592,0.23941941225220353,0.8436381257254931,0.06134194618384159,0.2080383088837644,0.30699555936521294,0.9442885851715612,0.7917556617690157,0.022922149267048053\n",
      "Running Java code...\n",
      "Anonymization successful for k = 100, l = 2\n",
      "Execution successful!\n",
      "Gesamte Ausführung hat 0 Stunden, 0 Minuten, und 33.04 Sekunden gedauert.\n",
      "Anonymization completed for k=100. Output saved to C:/Users/leesh/Desktop/BA/Notebooks/weight_optimization/temp_output_k100.csv.\n",
      "All anonymization processes completed.\n"
     ]
    },
    {
     "name": "stderr",
     "output_type": "stream",
     "text": [
      "[I 2024-09-17 00:47:24,405] Trial 2 finished with value: 0.7131620494029425 and parameters: {'age_weight': 0.35368945798815943, 'gender_weight': 0.2080383088837644, 'height_weight': 0.9442885851715612, 'weight_weight': 0.022922149267048053, 'ap_hi_weight': 0.23941941225220353, 'ap_lo_weight': 0.8436381257254931, 'cholesterol_weight': 0.06134194618384159, 'gluc_weight': 0.30699555936521294, 'smoke_weight': 0.7917556617690157, 'alco_weight': 0.5929700566607592, 'active_weight': 0.20124598587958686}. Best is trial 2 with value: 0.7131620494029425.\n"
     ]
    },
    {
     "name": "stdout",
     "output_type": "stream",
     "text": [
      "Running Java anonymization with k={k_value}...\n",
      "weights_str 0.3454689140921693,0.8101833079107938,0.6776906251036682,0.2133652783894041,0.8497157049179233,0.38696016753500595,0.3199662657596396,0.7873979715669746,0.48130048856057217,0.041396805188022134,0.022242448728683084\n",
      "Running Java code...\n",
      "Anonymization successful for k = 100, l = 2\n",
      "Execution successful!\n",
      "Gesamte Ausführung hat 0 Stunden, 0 Minuten, und 32.73 Sekunden gedauert.\n",
      "Anonymization completed for k=100. Output saved to C:/Users/leesh/Desktop/BA/Notebooks/weight_optimization/temp_output_k100.csv.\n",
      "All anonymization processes completed.\n"
     ]
    },
    {
     "name": "stderr",
     "output_type": "stream",
     "text": [
      "[I 2024-09-17 00:48:08,010] Trial 3 finished with value: 0.7111258100258537 and parameters: {'age_weight': 0.8101833079107938, 'gender_weight': 0.3199662657596396, 'height_weight': 0.48130048856057217, 'weight_weight': 0.022242448728683084, 'ap_hi_weight': 0.2133652783894041, 'ap_lo_weight': 0.8497157049179233, 'cholesterol_weight': 0.38696016753500595, 'gluc_weight': 0.7873979715669746, 'smoke_weight': 0.041396805188022134, 'alco_weight': 0.6776906251036682, 'active_weight': 0.3454689140921693}. Best is trial 2 with value: 0.7131620494029425.\n"
     ]
    },
    {
     "name": "stdout",
     "output_type": "stream",
     "text": [
      "Running Java anonymization with k={k_value}...\n",
      "weights_str 0.5134432259763212,0.06340032595762357,0.4592892337144623,0.39782368847409566,0.7652540147814534,0.8685426768352231,0.988004153214299,0.9779973499260913,0.725197406570067,0.7468262090123317,0.1777792632024835\n",
      "Running Java code...\n",
      "Anonymization successful for k = 100, l = 2\n",
      "Execution successful!\n",
      "Gesamte Ausführung hat 0 Stunden, 0 Minuten, und 32.84 Sekunden gedauert.\n",
      "Anonymization completed for k=100. Output saved to C:/Users/leesh/Desktop/BA/Notebooks/weight_optimization/temp_output_k100.csv.\n",
      "All anonymization processes completed.\n"
     ]
    },
    {
     "name": "stderr",
     "output_type": "stream",
     "text": [
      "[I 2024-09-17 00:48:50,696] Trial 4 finished with value: 0.7216872464325726 and parameters: {'age_weight': 0.06340032595762357, 'gender_weight': 0.988004153214299, 'height_weight': 0.725197406570067, 'weight_weight': 0.1777792632024835, 'ap_hi_weight': 0.39782368847409566, 'ap_lo_weight': 0.7652540147814534, 'cholesterol_weight': 0.8685426768352231, 'gluc_weight': 0.9779973499260913, 'smoke_weight': 0.7468262090123317, 'alco_weight': 0.4592892337144623, 'active_weight': 0.5134432259763212}. Best is trial 4 with value: 0.7216872464325726.\n"
     ]
    },
    {
     "name": "stdout",
     "output_type": "stream",
     "text": [
      "Running Java anonymization with k={k_value}...\n",
      "weights_str 0.5268691146879382,0.8045770324763261,0.8120849388408737,0.5523424124411163,0.9098538517847997,0.8559331613774751,0.6887341228000792,0.25650695606815865,0.2547390560919145,0.7978786318181541,0.8298733556848656\n",
      "Running Java code...\n",
      "Anonymization successful for k = 100, l = 2\n",
      "Execution successful!\n",
      "Gesamte Ausführung hat 0 Stunden, 0 Minuten, und 33.06 Sekunden gedauert.\n",
      "Anonymization completed for k=100. Output saved to C:/Users/leesh/Desktop/BA/Notebooks/weight_optimization/temp_output_k100.csv.\n",
      "All anonymization processes completed.\n"
     ]
    },
    {
     "name": "stderr",
     "output_type": "stream",
     "text": [
      "[I 2024-09-17 00:49:32,680] Trial 5 finished with value: 0.7133347518286867 and parameters: {'age_weight': 0.8045770324763261, 'gender_weight': 0.6887341228000792, 'height_weight': 0.2547390560919145, 'weight_weight': 0.8298733556848656, 'ap_hi_weight': 0.5523424124411163, 'ap_lo_weight': 0.9098538517847997, 'cholesterol_weight': 0.8559331613774751, 'gluc_weight': 0.25650695606815865, 'smoke_weight': 0.7978786318181541, 'alco_weight': 0.8120849388408737, 'active_weight': 0.5268691146879382}. Best is trial 4 with value: 0.7216872464325726.\n"
     ]
    },
    {
     "name": "stdout",
     "output_type": "stream",
     "text": [
      "Running Java anonymization with k={k_value}...\n",
      "weights_str 0.3792593732226621,0.35469577282087517,0.9298924389115395,0.16964562762444235,0.5331353223502499,0.8673499160613527,0.8118806166141908,0.8919936407371082,0.6120001849096469,0.8200686464293759,0.12200649338595704\n",
      "Running Java code...\n",
      "Anonymization successful for k = 100, l = 2\n",
      "Execution successful!\n",
      "Gesamte Ausführung hat 0 Stunden, 0 Minuten, und 33.06 Sekunden gedauert.\n",
      "Anonymization completed for k=100. Output saved to C:/Users/leesh/Desktop/BA/Notebooks/weight_optimization/temp_output_k100.csv.\n",
      "All anonymization processes completed.\n"
     ]
    },
    {
     "name": "stderr",
     "output_type": "stream",
     "text": [
      "[I 2024-09-17 00:50:15,946] Trial 6 finished with value: 0.7135842206567686 and parameters: {'age_weight': 0.35469577282087517, 'gender_weight': 0.8118806166141908, 'height_weight': 0.6120001849096469, 'weight_weight': 0.12200649338595704, 'ap_hi_weight': 0.16964562762444235, 'ap_lo_weight': 0.5331353223502499, 'cholesterol_weight': 0.8673499160613527, 'gluc_weight': 0.8919936407371082, 'smoke_weight': 0.8200686464293759, 'alco_weight': 0.9298924389115395, 'active_weight': 0.3792593732226621}. Best is trial 4 with value: 0.7216872464325726.\n"
     ]
    },
    {
     "name": "stdout",
     "output_type": "stream",
     "text": [
      "Running Java anonymization with k={k_value}...\n",
      "weights_str 0.8671092705500386,0.07764770958816802,0.3038754859427203,0.11841360540943613,0.12627048957628972,0.9460540228314297,0.9214332914273493,0.021179834430524958,0.5838844146743629,0.9543556643426873,0.605051170282212\n",
      "Running Java code...\n",
      "Anonymization successful for k = 100, l = 2\n",
      "Execution successful!\n",
      "Gesamte Ausführung hat 0 Stunden, 0 Minuten, und 33.15 Sekunden gedauert.\n",
      "Anonymization completed for k=100. Output saved to C:/Users/leesh/Desktop/BA/Notebooks/weight_optimization/temp_output_k100.csv.\n",
      "All anonymization processes completed.\n"
     ]
    },
    {
     "name": "stderr",
     "output_type": "stream",
     "text": [
      "[I 2024-09-17 00:50:58,274] Trial 7 finished with value: 0.696596728894763 and parameters: {'age_weight': 0.07764770958816802, 'gender_weight': 0.9214332914273493, 'height_weight': 0.5838844146743629, 'weight_weight': 0.605051170282212, 'ap_hi_weight': 0.11841360540943613, 'ap_lo_weight': 0.12627048957628972, 'cholesterol_weight': 0.9460540228314297, 'gluc_weight': 0.021179834430524958, 'smoke_weight': 0.9543556643426873, 'alco_weight': 0.3038754859427203, 'active_weight': 0.8671092705500386}. Best is trial 4 with value: 0.7216872464325726.\n"
     ]
    },
    {
     "name": "stdout",
     "output_type": "stream",
     "text": [
      "Running Java anonymization with k={k_value}...\n",
      "weights_str 0.9960965796540816,0.3295136074565952,0.9856915686575035,0.8914047366334886,0.6494492201130402,0.13443364596610596,0.06872190238666032,0.612714824232851,0.5902577156156713,0.9327365384987779,0.11034899092802086\n",
      "Running Java code...\n",
      "Anonymization successful for k = 100, l = 2\n",
      "Execution successful!\n",
      "Gesamte Ausführung hat 0 Stunden, 0 Minuten, und 33.04 Sekunden gedauert.\n",
      "Anonymization completed for k=100. Output saved to C:/Users/leesh/Desktop/BA/Notebooks/weight_optimization/temp_output_k100.csv.\n",
      "All anonymization processes completed.\n"
     ]
    },
    {
     "name": "stderr",
     "output_type": "stream",
     "text": [
      "[I 2024-09-17 00:51:41,812] Trial 8 finished with value: 0.7157120930608288 and parameters: {'age_weight': 0.3295136074565952, 'gender_weight': 0.06872190238666032, 'height_weight': 0.5902577156156713, 'weight_weight': 0.11034899092802086, 'ap_hi_weight': 0.8914047366334886, 'ap_lo_weight': 0.6494492201130402, 'cholesterol_weight': 0.13443364596610596, 'gluc_weight': 0.612714824232851, 'smoke_weight': 0.9327365384987779, 'alco_weight': 0.9856915686575035, 'active_weight': 0.9960965796540816}. Best is trial 4 with value: 0.7216872464325726.\n"
     ]
    },
    {
     "name": "stdout",
     "output_type": "stream",
     "text": [
      "Running Java anonymization with k={k_value}...\n",
      "weights_str 0.9326128383718785,0.655140335574425,0.25566910171698054,0.28839516365570306,0.5400852939096699,0.5346577162572784,0.42309736955646327,0.9700745907287719,0.7717124228512761,0.8370396811908062,0.3406255050369894\n",
      "Running Java code...\n",
      "Anonymization successful for k = 100, l = 2\n",
      "Execution successful!\n",
      "Gesamte Ausführung hat 0 Stunden, 0 Minuten, und 33.92 Sekunden gedauert.\n",
      "Anonymization completed for k=100. Output saved to C:/Users/leesh/Desktop/BA/Notebooks/weight_optimization/temp_output_k100.csv.\n",
      "All anonymization processes completed.\n"
     ]
    },
    {
     "name": "stderr",
     "output_type": "stream",
     "text": [
      "[I 2024-09-17 00:52:24,598] Trial 9 finished with value: 0.7156616612146023 and parameters: {'age_weight': 0.655140335574425, 'gender_weight': 0.42309736955646327, 'height_weight': 0.7717124228512761, 'weight_weight': 0.3406255050369894, 'ap_hi_weight': 0.28839516365570306, 'ap_lo_weight': 0.5400852939096699, 'cholesterol_weight': 0.5346577162572784, 'gluc_weight': 0.9700745907287719, 'smoke_weight': 0.8370396811908062, 'alco_weight': 0.25566910171698054, 'active_weight': 0.9326128383718785}. Best is trial 4 with value: 0.7216872464325726.\n"
     ]
    },
    {
     "name": "stdout",
     "output_type": "stream",
     "text": [
      "Running Java anonymization with k={k_value}...\n",
      "weights_str 0.6929278144506423,0.0016435135209322896,0.1118040900953603,0.5318425389501121,0.31440296047478056,0.653883481997767,0.6299185575330053,0.6127048117891578,0.9852519873909701,0.618793087114632,0.33431657333649845\n",
      "Running Java code...\n",
      "Anonymization successful for k = 100, l = 2\n",
      "Execution successful!\n",
      "Gesamte Ausführung hat 0 Stunden, 0 Minuten, und 32.93 Sekunden gedauert.\n",
      "Anonymization completed for k=100. Output saved to C:/Users/leesh/Desktop/BA/Notebooks/weight_optimization/temp_output_k100.csv.\n",
      "All anonymization processes completed.\n"
     ]
    },
    {
     "name": "stderr",
     "output_type": "stream",
     "text": [
      "[I 2024-09-17 00:53:07,990] Trial 10 finished with value: 0.631883845258832 and parameters: {'age_weight': 0.0016435135209322896, 'gender_weight': 0.6299185575330053, 'height_weight': 0.9852519873909701, 'weight_weight': 0.33431657333649845, 'ap_hi_weight': 0.5318425389501121, 'ap_lo_weight': 0.31440296047478056, 'cholesterol_weight': 0.653883481997767, 'gluc_weight': 0.6127048117891578, 'smoke_weight': 0.618793087114632, 'alco_weight': 0.1118040900953603, 'active_weight': 0.6929278144506423}. Best is trial 4 with value: 0.7216872464325726.\n"
     ]
    },
    {
     "name": "stdout",
     "output_type": "stream",
     "text": [
      "Running Java anonymization with k={k_value}...\n",
      "weights_str 0.693640292976846,0.19013478294030672,0.7294552844315477,0.9967055594523826,0.6591267399982291,0.6714644765903328,0.08101699652568894,0.501152223269635,0.7472375271302463,0.6197833608447353,0.25260555363934295\n",
      "Running Java code...\n",
      "Anonymization successful for k = 100, l = 2\n",
      "Execution successful!\n",
      "Gesamte Ausführung hat 0 Stunden, 0 Minuten, und 32.90 Sekunden gedauert.\n",
      "Anonymization completed for k=100. Output saved to C:/Users/leesh/Desktop/BA/Notebooks/weight_optimization/temp_output_k100.csv.\n",
      "All anonymization processes completed.\n"
     ]
    },
    {
     "name": "stderr",
     "output_type": "stream",
     "text": [
      "[I 2024-09-17 00:53:51,079] Trial 11 finished with value: 0.7127332517820598 and parameters: {'age_weight': 0.19013478294030672, 'gender_weight': 0.08101699652568894, 'height_weight': 0.7472375271302463, 'weight_weight': 0.25260555363934295, 'ap_hi_weight': 0.9967055594523826, 'ap_lo_weight': 0.6591267399982291, 'cholesterol_weight': 0.6714644765903328, 'gluc_weight': 0.501152223269635, 'smoke_weight': 0.6197833608447353, 'alco_weight': 0.7294552844315477, 'active_weight': 0.693640292976846}. Best is trial 4 with value: 0.7216872464325726.\n"
     ]
    },
    {
     "name": "stdout",
     "output_type": "stream",
     "text": [
      "Running Java anonymization with k={k_value}...\n",
      "weights_str 0.6990771017608508,0.19350144995964857,0.9550383671608171,0.8648025052010107,0.6873936198861538,0.24859441190306764,0.49808913541052147,0.799542574527785,0.6902499355076096,0.9951775592897322,0.6398062978767565\n",
      "Running Java code...\n",
      "Anonymization successful for k = 100, l = 2\n",
      "Execution successful!\n",
      "Gesamte Ausführung hat 0 Stunden, 0 Minuten, und 33.14 Sekunden gedauert.\n",
      "Anonymization completed for k=100. Output saved to C:/Users/leesh/Desktop/BA/Notebooks/weight_optimization/temp_output_k100.csv.\n",
      "All anonymization processes completed.\n"
     ]
    },
    {
     "name": "stderr",
     "output_type": "stream",
     "text": [
      "[I 2024-09-17 00:54:33,896] Trial 12 finished with value: 0.7166246492699612 and parameters: {'age_weight': 0.19350144995964857, 'gender_weight': 0.49808913541052147, 'height_weight': 0.6902499355076096, 'weight_weight': 0.6398062978767565, 'ap_hi_weight': 0.8648025052010107, 'ap_lo_weight': 0.6873936198861538, 'cholesterol_weight': 0.24859441190306764, 'gluc_weight': 0.799542574527785, 'smoke_weight': 0.9951775592897322, 'alco_weight': 0.9550383671608171, 'active_weight': 0.6990771017608508}. Best is trial 4 with value: 0.7216872464325726.\n"
     ]
    },
    {
     "name": "stdout",
     "output_type": "stream",
     "text": [
      "Running Java anonymization with k={k_value}...\n",
      "weights_str 0.6540514217450738,0.16931604300229627,0.46823465959619165,0.7244293945491334,0.7435754966131094,0.33462879036190435,0.562386935655157,0.8323001061884938,0.7970094596954769,0.615853388552018,0.7015981684499681\n",
      "Running Java code...\n",
      "Anonymization successful for k = 100, l = 2\n",
      "Execution successful!\n",
      "Gesamte Ausführung hat 0 Stunden, 0 Minuten, und 33.06 Sekunden gedauert.\n",
      "Anonymization completed for k=100. Output saved to C:/Users/leesh/Desktop/BA/Notebooks/weight_optimization/temp_output_k100.csv.\n",
      "All anonymization processes completed.\n"
     ]
    },
    {
     "name": "stderr",
     "output_type": "stream",
     "text": [
      "[I 2024-09-17 00:55:16,976] Trial 13 finished with value: 0.7146739660397482 and parameters: {'age_weight': 0.16931604300229627, 'gender_weight': 0.562386935655157, 'height_weight': 0.7970094596954769, 'weight_weight': 0.7015981684499681, 'ap_hi_weight': 0.7244293945491334, 'ap_lo_weight': 0.7435754966131094, 'cholesterol_weight': 0.33462879036190435, 'gluc_weight': 0.8323001061884938, 'smoke_weight': 0.615853388552018, 'alco_weight': 0.46823465959619165, 'active_weight': 0.6540514217450738}. Best is trial 4 with value: 0.7216872464325726.\n"
     ]
    },
    {
     "name": "stdout",
     "output_type": "stream",
     "text": [
      "Running Java anonymization with k={k_value}...\n",
      "weights_str 0.5375089266635336,0.20572722189487255,0.0391666194081387,0.41385516653174964,0.364337751327232,0.49483736144607066,0.46390485349748134,0.9742090880771316,0.8209048651815042,0.9964444362058804,0.9033306999809426\n",
      "Running Java code...\n",
      "Anonymization successful for k = 100, l = 2\n",
      "Execution successful!\n",
      "Gesamte Ausführung hat 0 Stunden, 0 Minuten, und 32.97 Sekunden gedauert.\n",
      "Anonymization completed for k=100. Output saved to C:/Users/leesh/Desktop/BA/Notebooks/weight_optimization/temp_output_k100.csv.\n",
      "All anonymization processes completed.\n"
     ]
    },
    {
     "name": "stderr",
     "output_type": "stream",
     "text": [
      "[I 2024-09-17 00:56:01,304] Trial 14 finished with value: 0.713596166670135 and parameters: {'age_weight': 0.20572722189487255, 'gender_weight': 0.46390485349748134, 'height_weight': 0.8209048651815042, 'weight_weight': 0.9033306999809426, 'ap_hi_weight': 0.41385516653174964, 'ap_lo_weight': 0.364337751327232, 'cholesterol_weight': 0.49483736144607066, 'gluc_weight': 0.9742090880771316, 'smoke_weight': 0.9964444362058804, 'alco_weight': 0.0391666194081387, 'active_weight': 0.5375089266635336}. Best is trial 4 with value: 0.7216872464325726.\n"
     ]
    },
    {
     "name": "stdout",
     "output_type": "stream",
     "text": [
      "Running Java anonymization with k={k_value}...\n",
      "weights_str 0.8102977673487342,0.029532620415130537,0.5633163345558522,0.3813612619610482,0.9740990016652507,0.20818722496534486,0.7650302071542173,0.743331770838485,0.6725266566261299,0.14162365686741962,0.5286938377383764\n",
      "Running Java code...\n",
      "Anonymization successful for k = 100, l = 2\n",
      "Execution successful!\n",
      "Gesamte Ausführung hat 0 Stunden, 0 Minuten, und 32.84 Sekunden gedauert.\n",
      "Anonymization completed for k=100. Output saved to C:/Users/leesh/Desktop/BA/Notebooks/weight_optimization/temp_output_k100.csv.\n",
      "All anonymization processes completed.\n"
     ]
    },
    {
     "name": "stderr",
     "output_type": "stream",
     "text": [
      "[I 2024-09-17 00:56:43,604] Trial 15 finished with value: 0.7198678072416289 and parameters: {'age_weight': 0.029532620415130537, 'gender_weight': 0.7650302071542173, 'height_weight': 0.6725266566261299, 'weight_weight': 0.5286938377383764, 'ap_hi_weight': 0.3813612619610482, 'ap_lo_weight': 0.9740990016652507, 'cholesterol_weight': 0.20818722496534486, 'gluc_weight': 0.743331770838485, 'smoke_weight': 0.14162365686741962, 'alco_weight': 0.5633163345558522, 'active_weight': 0.8102977673487342}. Best is trial 4 with value: 0.7216872464325726.\n"
     ]
    },
    {
     "name": "stdout",
     "output_type": "stream",
     "text": [
      "Running Java anonymization with k={k_value}...\n",
      "weights_str 0.7902408753838887,0.006027632618721551,0.594859154199518,0.3926746275613257,0.9828307514326979,0.7040475247733147,0.7991357374989092,0.6867611609066754,0.42627738112291835,0.1343926373791534,0.4806874262571838\n",
      "Running Java code...\n",
      "Anonymization successful for k = 100, l = 2\n",
      "Execution successful!\n",
      "Gesamte Ausführung hat 0 Stunden, 0 Minuten, und 33.38 Sekunden gedauert.\n",
      "Anonymization completed for k=100. Output saved to C:/Users/leesh/Desktop/BA/Notebooks/weight_optimization/temp_output_k100.csv.\n",
      "All anonymization processes completed.\n"
     ]
    },
    {
     "name": "stderr",
     "output_type": "stream",
     "text": [
      "[I 2024-09-17 00:57:27,614] Trial 16 finished with value: 0.7131421659089304 and parameters: {'age_weight': 0.006027632618721551, 'gender_weight': 0.7991357374989092, 'height_weight': 0.42627738112291835, 'weight_weight': 0.4806874262571838, 'ap_hi_weight': 0.3926746275613257, 'ap_lo_weight': 0.9828307514326979, 'cholesterol_weight': 0.7040475247733147, 'gluc_weight': 0.6867611609066754, 'smoke_weight': 0.1343926373791534, 'alco_weight': 0.594859154199518, 'active_weight': 0.7902408753838887}. Best is trial 4 with value: 0.7216872464325726.\n"
     ]
    },
    {
     "name": "stdout",
     "output_type": "stream",
     "text": [
      "Running Java anonymization with k={k_value}...\n",
      "weights_str 0.365420881556382,0.5390100482747717,0.4028132576046236,0.3745633836447353,0.9953396122977556,0.5054043678429339,0.8461853067437782,0.9879814510705189,0.8576327917498346,0.21841390051943818,0.34493631202654007\n",
      "Running Java code...\n",
      "Anonymization successful for k = 100, l = 2\n",
      "Execution successful!\n",
      "Gesamte Ausführung hat 0 Stunden, 0 Minuten, und 33.36 Sekunden gedauert.\n",
      "Anonymization completed for k=100. Output saved to C:/Users/leesh/Desktop/BA/Notebooks/weight_optimization/temp_output_k100.csv.\n",
      "All anonymization processes completed.\n"
     ]
    },
    {
     "name": "stderr",
     "output_type": "stream",
     "text": [
      "[I 2024-09-17 00:58:10,719] Trial 17 finished with value: 0.7133347518286867 and parameters: {'age_weight': 0.5390100482747717, 'gender_weight': 0.8461853067437782, 'height_weight': 0.8576327917498346, 'weight_weight': 0.34493631202654007, 'ap_hi_weight': 0.3745633836447353, 'ap_lo_weight': 0.9953396122977556, 'cholesterol_weight': 0.5054043678429339, 'gluc_weight': 0.9879814510705189, 'smoke_weight': 0.21841390051943818, 'alco_weight': 0.4028132576046236, 'active_weight': 0.365420881556382}. Best is trial 4 with value: 0.7216872464325726.\n"
     ]
    },
    {
     "name": "stdout",
     "output_type": "stream",
     "text": [
      "Running Java anonymization with k={k_value}...\n",
      "weights_str 0.0015224874699010238,0.09406690221382064,0.1942394396594368,0.032705275467115213,0.7901911431683113,0.783003298194204,0.7205982478984595,0.4622250980721232,0.3192569288039573,0.3473976118283123,0.7698148100442573\n",
      "Running Java code...\n",
      "Anonymization successful for k = 100, l = 2\n",
      "Execution successful!\n",
      "Gesamte Ausführung hat 0 Stunden, 0 Minuten, und 32.98 Sekunden gedauert.\n",
      "Anonymization completed for k=100. Output saved to C:/Users/leesh/Desktop/BA/Notebooks/weight_optimization/temp_output_k100.csv.\n",
      "All anonymization processes completed.\n"
     ]
    },
    {
     "name": "stderr",
     "output_type": "stream",
     "text": [
      "[I 2024-09-17 00:58:52,819] Trial 18 finished with value: 0.72253016067374 and parameters: {'age_weight': 0.09406690221382064, 'gender_weight': 0.7205982478984595, 'height_weight': 0.3192569288039573, 'weight_weight': 0.7698148100442573, 'ap_hi_weight': 0.032705275467115213, 'ap_lo_weight': 0.7901911431683113, 'cholesterol_weight': 0.783003298194204, 'gluc_weight': 0.4622250980721232, 'smoke_weight': 0.3473976118283123, 'alco_weight': 0.1942394396594368, 'active_weight': 0.0015224874699010238}. Best is trial 18 with value: 0.72253016067374.\n"
     ]
    },
    {
     "name": "stdout",
     "output_type": "stream",
     "text": [
      "Running Java anonymization with k={k_value}...\n",
      "weights_str 0.09327518656268641,0.656744500944887,0.19301612715457214,0.05904346040483046,0.7914055750205188,0.7688015338135985,0.9993489322116592,0.43833653002738776,0.28766665394354884,0.31784638195233833,0.9868117078016188\n",
      "Running Java code...\n",
      "Anonymization successful for k = 100, l = 2\n",
      "Execution successful!\n",
      "Gesamte Ausführung hat 0 Stunden, 0 Minuten, und 33.36 Sekunden gedauert.\n",
      "Anonymization completed for k=100. Output saved to C:/Users/leesh/Desktop/BA/Notebooks/weight_optimization/temp_output_k100.csv.\n",
      "All anonymization processes completed.\n"
     ]
    },
    {
     "name": "stderr",
     "output_type": "stream",
     "text": [
      "[I 2024-09-17 00:59:34,802] Trial 19 finished with value: 0.7221232165391672 and parameters: {'age_weight': 0.656744500944887, 'gender_weight': 0.9993489322116592, 'height_weight': 0.28766665394354884, 'weight_weight': 0.9868117078016188, 'ap_hi_weight': 0.05904346040483046, 'ap_lo_weight': 0.7914055750205188, 'cholesterol_weight': 0.7688015338135985, 'gluc_weight': 0.43833653002738776, 'smoke_weight': 0.31784638195233833, 'alco_weight': 0.19301612715457214, 'active_weight': 0.09327518656268641}. Best is trial 18 with value: 0.72253016067374.\n"
     ]
    },
    {
     "name": "stdout",
     "output_type": "stream",
     "text": [
      "Running Java anonymization with k={k_value}...\n",
      "weights_str 0.013409280962498125,0.9882270801471447,0.19203084768854833,0.02867833275222099,0.010092944454653918,0.7496947977236412,0.71285207761865,0.4643815662885444,0.023721027283537643,0.33816151391632465,0.963369136937953\n",
      "Running Java code...\n",
      "Anonymization successful for k = 100, l = 2\n",
      "Execution successful!\n",
      "Gesamte Ausführung hat 0 Stunden, 0 Minuten, und 32.61 Sekunden gedauert.\n",
      "Anonymization completed for k=100. Output saved to C:/Users/leesh/Desktop/BA/Notebooks/weight_optimization/temp_output_k100.csv.\n",
      "All anonymization processes completed.\n"
     ]
    },
    {
     "name": "stderr",
     "output_type": "stream",
     "text": [
      "[I 2024-09-17 01:00:16,952] Trial 20 finished with value: 0.6855559728311837 and parameters: {'age_weight': 0.9882270801471447, 'gender_weight': 0.71285207761865, 'height_weight': 0.023721027283537643, 'weight_weight': 0.963369136937953, 'ap_hi_weight': 0.02867833275222099, 'ap_lo_weight': 0.010092944454653918, 'cholesterol_weight': 0.7496947977236412, 'gluc_weight': 0.4643815662885444, 'smoke_weight': 0.33816151391632465, 'alco_weight': 0.19203084768854833, 'active_weight': 0.013409280962498125}. Best is trial 18 with value: 0.72253016067374.\n"
     ]
    },
    {
     "name": "stdout",
     "output_type": "stream",
     "text": [
      "Running Java anonymization with k={k_value}...\n",
      "weights_str 0.008950441617295996,0.6355932794723229,0.16399274909164985,0.02387621794759598,0.7575237870036369,0.9752854644358792,0.9971552202765257,0.43844043785634806,0.28176580106940463,0.30467561703910406,0.7730797672928641\n",
      "Running Java code...\n",
      "Anonymization successful for k = 100, l = 2\n",
      "Execution successful!\n",
      "Gesamte Ausführung hat 0 Stunden, 0 Minuten, und 33.23 Sekunden gedauert.\n",
      "Anonymization completed for k=100. Output saved to C:/Users/leesh/Desktop/BA/Notebooks/weight_optimization/temp_output_k100.csv.\n",
      "All anonymization processes completed.\n"
     ]
    },
    {
     "name": "stderr",
     "output_type": "stream",
     "text": [
      "[I 2024-09-17 01:00:59,137] Trial 21 finished with value: 0.7221232165391672 and parameters: {'age_weight': 0.6355932794723229, 'gender_weight': 0.9971552202765257, 'height_weight': 0.28176580106940463, 'weight_weight': 0.7730797672928641, 'ap_hi_weight': 0.02387621794759598, 'ap_lo_weight': 0.7575237870036369, 'cholesterol_weight': 0.9752854644358792, 'gluc_weight': 0.43844043785634806, 'smoke_weight': 0.30467561703910406, 'alco_weight': 0.16399274909164985, 'active_weight': 0.008950441617295996}. Best is trial 18 with value: 0.72253016067374.\n"
     ]
    },
    {
     "name": "stdout",
     "output_type": "stream",
     "text": [
      "Running Java anonymization with k={k_value}...\n",
      "weights_str 0.0012757233408990931,0.6301494744235694,0.16682041936894343,0.02629720827225479,0.7985436015583222,0.997765933769131,0.8818820281083324,0.4308756162846826,0.27360163900168527,0.3333157462105914,0.8113045301953588\n",
      "Running Java code...\n",
      "Anonymization successful for k = 100, l = 2\n",
      "Execution successful!\n",
      "Gesamte Ausführung hat 0 Stunden, 0 Minuten, und 32.68 Sekunden gedauert.\n",
      "Anonymization completed for k=100. Output saved to C:/Users/leesh/Desktop/BA/Notebooks/weight_optimization/temp_output_k100.csv.\n",
      "All anonymization processes completed.\n"
     ]
    },
    {
     "name": "stderr",
     "output_type": "stream",
     "text": [
      "[I 2024-09-17 01:01:41,048] Trial 22 finished with value: 0.7219106940608282 and parameters: {'age_weight': 0.6301494744235694, 'gender_weight': 0.8818820281083324, 'height_weight': 0.27360163900168527, 'weight_weight': 0.8113045301953588, 'ap_hi_weight': 0.02629720827225479, 'ap_lo_weight': 0.7985436015583222, 'cholesterol_weight': 0.997765933769131, 'gluc_weight': 0.4308756162846826, 'smoke_weight': 0.3333157462105914, 'alco_weight': 0.16682041936894343, 'active_weight': 0.0012757233408990931}. Best is trial 18 with value: 0.72253016067374.\n"
     ]
    },
    {
     "name": "stdout",
     "output_type": "stream",
     "text": [
      "Running Java anonymization with k={k_value}...\n",
      "weights_str 0.10500490974615076,0.753396386303926,0.024251561025730728,0.07882424648020414,0.6190933139596944,0.8456852972565905,0.9208250533853013,0.1285235165462899,0.28066358512431455,0.2899634387808982,0.7594014118137277\n",
      "Running Java code...\n",
      "Anonymization successful for k = 100, l = 2\n",
      "Execution successful!\n",
      "Gesamte Ausführung hat 0 Stunden, 0 Minuten, und 33.11 Sekunden gedauert.\n",
      "Anonymization completed for k=100. Output saved to C:/Users/leesh/Desktop/BA/Notebooks/weight_optimization/temp_output_k100.csv.\n",
      "All anonymization processes completed.\n"
     ]
    },
    {
     "name": "stderr",
     "output_type": "stream",
     "text": [
      "[I 2024-09-17 01:02:22,770] Trial 23 finished with value: 0.7224866239358751 and parameters: {'age_weight': 0.753396386303926, 'gender_weight': 0.9208250533853013, 'height_weight': 0.28066358512431455, 'weight_weight': 0.7594014118137277, 'ap_hi_weight': 0.07882424648020414, 'ap_lo_weight': 0.6190933139596944, 'cholesterol_weight': 0.8456852972565905, 'gluc_weight': 0.1285235165462899, 'smoke_weight': 0.2899634387808982, 'alco_weight': 0.024251561025730728, 'active_weight': 0.10500490974615076}. Best is trial 18 with value: 0.72253016067374.\n"
     ]
    },
    {
     "name": "stdout",
     "output_type": "stream",
     "text": [
      "Running Java anonymization with k={k_value}...\n",
      "weights_str 0.13139598136498687,0.7657303613014249,0.0033684436277099383,0.11067790234678608,0.6053393041414963,0.8086420983139786,0.8834479385350535,0.08315380683215379,0.17142301850298253,0.22807327128375887,0.9443593652702126\n",
      "Running Java code...\n",
      "Anonymization successful for k = 100, l = 2\n",
      "Execution successful!\n",
      "Gesamte Ausführung hat 0 Stunden, 0 Minuten, und 33.70 Sekunden gedauert.\n",
      "Anonymization completed for k=100. Output saved to C:/Users/leesh/Desktop/BA/Notebooks/weight_optimization/temp_output_k100.csv.\n",
      "All anonymization processes completed.\n"
     ]
    },
    {
     "name": "stderr",
     "output_type": "stream",
     "text": [
      "[I 2024-09-17 01:03:06,359] Trial 24 finished with value: 0.7223289946798852 and parameters: {'age_weight': 0.7657303613014249, 'gender_weight': 0.8834479385350535, 'height_weight': 0.17142301850298253, 'weight_weight': 0.9443593652702126, 'ap_hi_weight': 0.11067790234678608, 'ap_lo_weight': 0.6053393041414963, 'cholesterol_weight': 0.8086420983139786, 'gluc_weight': 0.08315380683215379, 'smoke_weight': 0.22807327128375887, 'alco_weight': 0.0033684436277099383, 'active_weight': 0.13139598136498687}. Best is trial 18 with value: 0.72253016067374.\n"
     ]
    },
    {
     "name": "stdout",
     "output_type": "stream",
     "text": [
      "Running Java anonymization with k={k_value}...\n",
      "weights_str 0.2581317521265307,0.7957076322992683,0.0019632136023286883,0.2923481684501268,0.403199806284537,0.7992153144152783,0.6140325779617001,0.058269080282569385,0.1142485833402199,0.22070183632444457,0.8902950560752663\n",
      "Running Java code...\n",
      "Anonymization successful for k = 100, l = 2\n",
      "Execution successful!\n",
      "Gesamte Ausführung hat 0 Stunden, 0 Minuten, und 33.06 Sekunden gedauert.\n",
      "Anonymization completed for k=100. Output saved to C:/Users/leesh/Desktop/BA/Notebooks/weight_optimization/temp_output_k100.csv.\n",
      "All anonymization processes completed.\n"
     ]
    },
    {
     "name": "stderr",
     "output_type": "stream",
     "text": [
      "[I 2024-09-17 01:03:48,935] Trial 25 finished with value: 0.7139800700607994 and parameters: {'age_weight': 0.7957076322992683, 'gender_weight': 0.6140325779617001, 'height_weight': 0.1142485833402199, 'weight_weight': 0.8902950560752663, 'ap_hi_weight': 0.2923481684501268, 'ap_lo_weight': 0.403199806284537, 'cholesterol_weight': 0.7992153144152783, 'gluc_weight': 0.058269080282569385, 'smoke_weight': 0.22070183632444457, 'alco_weight': 0.0019632136023286883, 'active_weight': 0.2581317521265307}. Best is trial 18 with value: 0.72253016067374.\n"
     ]
    },
    {
     "name": "stdout",
     "output_type": "stream",
     "text": [
      "Running Java anonymization with k={k_value}...\n",
      "weights_str 0.1389968231917883,0.9341094584283703,0.07592037207912716,0.11229294826957381,0.5912262463479685,0.6224662356146835,0.7262285485296882,0.13815616958272486,0.17382662281358127,0.5467141512154179,0.7293310254197948\n",
      "Running Java code...\n",
      "Anonymization successful for k = 100, l = 2\n",
      "Execution successful!\n",
      "Gesamte Ausführung hat 0 Stunden, 0 Minuten, und 33.07 Sekunden gedauert.\n",
      "Anonymization completed for k=100. Output saved to C:/Users/leesh/Desktop/BA/Notebooks/weight_optimization/temp_output_k100.csv.\n",
      "All anonymization processes completed.\n"
     ]
    },
    {
     "name": "stderr",
     "output_type": "stream",
     "text": [
      "[I 2024-09-17 01:04:30,981] Trial 26 finished with value: 0.7224866239358751 and parameters: {'age_weight': 0.9341094584283703, 'gender_weight': 0.7262285485296882, 'height_weight': 0.17382662281358127, 'weight_weight': 0.7293310254197948, 'ap_hi_weight': 0.11229294826957381, 'ap_lo_weight': 0.5912262463479685, 'cholesterol_weight': 0.6224662356146835, 'gluc_weight': 0.13815616958272486, 'smoke_weight': 0.5467141512154179, 'alco_weight': 0.07592037207912716, 'active_weight': 0.1389968231917883}. Best is trial 18 with value: 0.72253016067374.\n"
     ]
    },
    {
     "name": "stdout",
     "output_type": "stream",
     "text": [
      "Running Java anonymization with k={k_value}...\n",
      "weights_str 0.08376574337276765,0.9844803348853999,0.1046886114108065,0.2462454287360329,0.44888920187983006,0.6619064665334178,0.7178244212623968,0.16149890569665373,0.36794103999898564,0.5240900827382491,0.7224464505549836\n",
      "Running Java code...\n",
      "Anonymization successful for k = 100, l = 2\n",
      "Execution successful!\n",
      "Gesamte Ausführung hat 0 Stunden, 0 Minuten, und 33.58 Sekunden gedauert.\n",
      "Anonymization completed for k=100. Output saved to C:/Users/leesh/Desktop/BA/Notebooks/weight_optimization/temp_output_k100.csv.\n",
      "All anonymization processes completed.\n"
     ]
    },
    {
     "name": "stderr",
     "output_type": "stream",
     "text": [
      "[I 2024-09-17 01:05:14,493] Trial 27 finished with value: 0.7136605219110649 and parameters: {'age_weight': 0.9844803348853999, 'gender_weight': 0.7178244212623968, 'height_weight': 0.36794103999898564, 'weight_weight': 0.7224464505549836, 'ap_hi_weight': 0.2462454287360329, 'ap_lo_weight': 0.44888920187983006, 'cholesterol_weight': 0.6619064665334178, 'gluc_weight': 0.16149890569665373, 'smoke_weight': 0.5240900827382491, 'alco_weight': 0.1046886114108065, 'active_weight': 0.08376574337276765}. Best is trial 18 with value: 0.72253016067374.\n"
     ]
    },
    {
     "name": "stdout",
     "output_type": "stream",
     "text": [
      "Running Java anonymization with k={k_value}...\n",
      "weights_str 0.2837140045969449,0.899557093753991,0.07964214050941944,0.08727752285391854,0.5769141663442481,0.5986788140014673,0.5787144943645972,0.1571881086996779,0.007234162810758421,0.5530752583160689,0.6057855881211666\n",
      "Running Java code...\n",
      "Anonymization successful for k = 100, l = 2\n",
      "Execution successful!\n",
      "Gesamte Ausführung hat 0 Stunden, 0 Minuten, und 33.40 Sekunden gedauert.\n",
      "Anonymization completed for k=100. Output saved to C:/Users/leesh/Desktop/BA/Notebooks/weight_optimization/temp_output_k100.csv.\n",
      "All anonymization processes completed.\n"
     ]
    },
    {
     "name": "stderr",
     "output_type": "stream",
     "text": [
      "[I 2024-09-17 01:05:58,106] Trial 28 finished with value: 0.7136865418967535 and parameters: {'age_weight': 0.899557093753991, 'gender_weight': 0.5787144943645972, 'height_weight': 0.007234162810758421, 'weight_weight': 0.6057855881211666, 'ap_hi_weight': 0.08727752285391854, 'ap_lo_weight': 0.5769141663442481, 'cholesterol_weight': 0.5986788140014673, 'gluc_weight': 0.1571881086996779, 'smoke_weight': 0.5530752583160689, 'alco_weight': 0.07964214050941944, 'active_weight': 0.2837140045969449}. Best is trial 18 with value: 0.72253016067374.\n"
     ]
    },
    {
     "name": "stdout",
     "output_type": "stream",
     "text": [
      "Running Java anonymization with k={k_value}...\n",
      "weights_str 0.18150599492313035,0.9083280651639966,0.3136721023445412,0.1741150323936756,0.45894290453002495,0.5978606565344684,0.9281816635333145,0.20777805215190506,0.37237108037146927,0.4286671517076881,0.7058163159424374\n",
      "Running Java code...\n",
      "Anonymization successful for k = 100, l = 2\n",
      "Execution successful!\n",
      "Gesamte Ausführung hat 0 Stunden, 0 Minuten, und 32.65 Sekunden gedauert.\n",
      "Anonymization completed for k=100. Output saved to C:/Users/leesh/Desktop/BA/Notebooks/weight_optimization/temp_output_k100.csv.\n",
      "All anonymization processes completed.\n"
     ]
    },
    {
     "name": "stderr",
     "output_type": "stream",
     "text": [
      "[I 2024-09-17 01:06:39,217] Trial 29 finished with value: 0.7220251292414723 and parameters: {'age_weight': 0.9083280651639966, 'gender_weight': 0.9281816635333145, 'height_weight': 0.37237108037146927, 'weight_weight': 0.7058163159424374, 'ap_hi_weight': 0.1741150323936756, 'ap_lo_weight': 0.45894290453002495, 'cholesterol_weight': 0.5978606565344684, 'gluc_weight': 0.20777805215190506, 'smoke_weight': 0.4286671517076881, 'alco_weight': 0.3136721023445412, 'active_weight': 0.18150599492313035}. Best is trial 18 with value: 0.72253016067374.\n"
     ]
    },
    {
     "name": "stdout",
     "output_type": "stream",
     "text": [
      "Running Java anonymization with k={k_value}...\n",
      "weights_str 0.06863021694884197,0.8888991999247239,0.2603602922979734,0.11852165594726567,0.2518435724719634,0.9097823521850887,0.6714988715065233,0.346713499108414,0.20099141717223595,0.4741672710125217,0.8472954840794086\n",
      "Running Java code...\n",
      "Anonymization successful for k = 100, l = 2\n",
      "Execution successful!\n",
      "Gesamte Ausführung hat 0 Stunden, 0 Minuten, und 33.47 Sekunden gedauert.\n",
      "Anonymization completed for k=100. Output saved to C:/Users/leesh/Desktop/BA/Notebooks/weight_optimization/temp_output_k100.csv.\n",
      "All anonymization processes completed.\n"
     ]
    },
    {
     "name": "stderr",
     "output_type": "stream",
     "text": [
      "[I 2024-09-17 01:07:22,462] Trial 30 finished with value: 0.6205149900238108 and parameters: {'age_weight': 0.8888991999247239, 'gender_weight': 0.6714988715065233, 'height_weight': 0.20099141717223595, 'weight_weight': 0.8472954840794086, 'ap_hi_weight': 0.11852165594726567, 'ap_lo_weight': 0.2518435724719634, 'cholesterol_weight': 0.9097823521850887, 'gluc_weight': 0.346713499108414, 'smoke_weight': 0.4741672710125217, 'alco_weight': 0.2603602922979734, 'active_weight': 0.06863021694884197}. Best is trial 18 with value: 0.72253016067374.\n"
     ]
    },
    {
     "name": "stdout",
     "output_type": "stream",
     "text": [
      "Running Java anonymization with k={k_value}...\n",
      "weights_str 0.15572821357392722,0.7042003692605049,0.001798620571567544,0.1383415411221639,0.6102251233047071,0.8124975283984118,0.9039794492043145,0.11152109093869113,0.16621343123900828,0.40437725083292225,0.9104562650441922\n",
      "Running Java code...\n",
      "Anonymization successful for k = 100, l = 2\n",
      "Execution successful!\n",
      "Gesamte Ausführung hat 0 Stunden, 0 Minuten, und 32.92 Sekunden gedauert.\n",
      "Anonymization completed for k=100. Output saved to C:/Users/leesh/Desktop/BA/Notebooks/weight_optimization/temp_output_k100.csv.\n",
      "All anonymization processes completed.\n"
     ]
    },
    {
     "name": "stderr",
     "output_type": "stream",
     "text": [
      "[I 2024-09-17 01:08:04,466] Trial 31 finished with value: 0.7224866239358751 and parameters: {'age_weight': 0.7042003692605049, 'gender_weight': 0.9039794492043145, 'height_weight': 0.16621343123900828, 'weight_weight': 0.9104562650441922, 'ap_hi_weight': 0.1383415411221639, 'ap_lo_weight': 0.6102251233047071, 'cholesterol_weight': 0.8124975283984118, 'gluc_weight': 0.11152109093869113, 'smoke_weight': 0.40437725083292225, 'alco_weight': 0.001798620571567544, 'active_weight': 0.15572821357392722}. Best is trial 18 with value: 0.72253016067374.\n"
     ]
    },
    {
     "name": "stdout",
     "output_type": "stream",
     "text": [
      "Running Java anonymization with k={k_value}...\n",
      "weights_str 0.1448543454189478,0.45109676572855306,0.07866791584229021,0.012349184998950852,0.7060748721638651,0.7294898568060144,0.7649763574628944,0.13051957665194602,0.13706659166362564,0.3923844230807509,0.7553878595963255\n",
      "Running Java code...\n",
      "Anonymization successful for k = 100, l = 2\n",
      "Execution successful!\n",
      "Gesamte Ausführung hat 0 Stunden, 0 Minuten, und 32.87 Sekunden gedauert.\n",
      "Anonymization completed for k=100. Output saved to C:/Users/leesh/Desktop/BA/Notebooks/weight_optimization/temp_output_k100.csv.\n",
      "All anonymization processes completed.\n"
     ]
    },
    {
     "name": "stderr",
     "output_type": "stream",
     "text": [
      "[I 2024-09-17 01:08:45,685] Trial 32 finished with value: 0.7224866239358751 and parameters: {'age_weight': 0.45109676572855306, 'gender_weight': 0.7649763574628944, 'height_weight': 0.13706659166362564, 'weight_weight': 0.7553878595963255, 'ap_hi_weight': 0.012349184998950852, 'ap_lo_weight': 0.7060748721638651, 'cholesterol_weight': 0.7294898568060144, 'gluc_weight': 0.13051957665194602, 'smoke_weight': 0.3923844230807509, 'alco_weight': 0.07866791584229021, 'active_weight': 0.1448543454189478}. Best is trial 18 with value: 0.72253016067374.\n"
     ]
    },
    {
     "name": "stdout",
     "output_type": "stream",
     "text": [
      "Running Java anonymization with k={k_value}...\n",
      "weights_str 0.2449561193088137,0.7206763108009142,0.1312059537885624,0.16969261374079814,0.6032567911398652,0.826310456930976,0.9297474400623511,0.24952012877071442,0.07171405282892143,0.38513692309805014,0.6467671524505898\n",
      "Running Java code...\n",
      "Anonymization successful for k = 100, l = 2\n",
      "Execution successful!\n",
      "Gesamte Ausführung hat 0 Stunden, 0 Minuten, und 33.39 Sekunden gedauert.\n",
      "Anonymization completed for k=100. Output saved to C:/Users/leesh/Desktop/BA/Notebooks/weight_optimization/temp_output_k100.csv.\n",
      "All anonymization processes completed.\n"
     ]
    },
    {
     "name": "stderr",
     "output_type": "stream",
     "text": [
      "[I 2024-09-17 01:09:28,409] Trial 33 finished with value: 0.72204781875602 and parameters: {'age_weight': 0.7206763108009142, 'gender_weight': 0.9297474400623511, 'height_weight': 0.07171405282892143, 'weight_weight': 0.6467671524505898, 'ap_hi_weight': 0.16969261374079814, 'ap_lo_weight': 0.6032567911398652, 'cholesterol_weight': 0.826310456930976, 'gluc_weight': 0.24952012877071442, 'smoke_weight': 0.38513692309805014, 'alco_weight': 0.1312059537885624, 'active_weight': 0.2449561193088137}. Best is trial 18 with value: 0.72253016067374.\n"
     ]
    },
    {
     "name": "stdout",
     "output_type": "stream",
     "text": [
      "Running Java anonymization with k={k_value}...\n",
      "weights_str 0.4121099624310991,0.5612172879255546,0.05959046903804485,0.3129251169676219,0.8517386660853733,0.9108061874571787,0.7614402581886656,0.3387678542036151,0.21964839443145673,0.4849126370739184,0.8804334407495686\n",
      "Running Java code...\n",
      "Anonymization successful for k = 100, l = 2\n",
      "Execution successful!\n",
      "Gesamte Ausführung hat 0 Stunden, 0 Minuten, und 32.65 Sekunden gedauert.\n",
      "Anonymization completed for k=100. Output saved to C:/Users/leesh/Desktop/BA/Notebooks/weight_optimization/temp_output_k100.csv.\n",
      "All anonymization processes completed.\n"
     ]
    },
    {
     "name": "stderr",
     "output_type": "stream",
     "text": [
      "[I 2024-09-17 01:10:10,834] Trial 34 finished with value: 0.713596166670135 and parameters: {'age_weight': 0.5612172879255546, 'gender_weight': 0.7614402581886656, 'height_weight': 0.21964839443145673, 'weight_weight': 0.8804334407495686, 'ap_hi_weight': 0.3129251169676219, 'ap_lo_weight': 0.8517386660853733, 'cholesterol_weight': 0.9108061874571787, 'gluc_weight': 0.3387678542036151, 'smoke_weight': 0.4849126370739184, 'alco_weight': 0.05959046903804485, 'active_weight': 0.4121099624310991}. Best is trial 18 with value: 0.72253016067374.\n"
     ]
    },
    {
     "name": "stdout",
     "output_type": "stream",
     "text": [
      "Running Java anonymization with k={k_value}...\n",
      "weights_str 0.19324765684835676,0.7316832286670554,0.23509062904307537,0.2442401657659703,0.4892646676103259,0.5885668889977713,0.3503960085072038,0.016589270843784698,0.42829861465847147,0.695758896451141,0.5401156187662857\n",
      "Running Java code...\n",
      "Anonymization successful for k = 100, l = 2\n",
      "Execution successful!\n",
      "Gesamte Ausführung hat 0 Stunden, 0 Minuten, und 33.06 Sekunden gedauert.\n",
      "Anonymization completed for k=100. Output saved to C:/Users/leesh/Desktop/BA/Notebooks/weight_optimization/temp_output_k100.csv.\n",
      "All anonymization processes completed.\n"
     ]
    },
    {
     "name": "stderr",
     "output_type": "stream",
     "text": [
      "[I 2024-09-17 01:10:53,435] Trial 35 finished with value: 0.7143104806934595 and parameters: {'age_weight': 0.7316832286670554, 'gender_weight': 0.3503960085072038, 'height_weight': 0.42829861465847147, 'weight_weight': 0.5401156187662857, 'ap_hi_weight': 0.2442401657659703, 'ap_lo_weight': 0.4892646676103259, 'cholesterol_weight': 0.5885668889977713, 'gluc_weight': 0.016589270843784698, 'smoke_weight': 0.695758896451141, 'alco_weight': 0.23509062904307537, 'active_weight': 0.19324765684835676}. Best is trial 18 with value: 0.72253016067374.\n"
     ]
    },
    {
     "name": "stdout",
     "output_type": "stream",
     "text": [
      "Running Java anonymization with k={k_value}...\n",
      "weights_str 0.0743140964111756,0.8363444525719488,0.3921472356953727,0.20102532799784145,0.624727176479264,0.4576277344759422,0.8441303887464665,0.10557127696961133,0.3179544259566932,0.551558149826157,0.7796160373964123\n",
      "Running Java code...\n",
      "Anonymization successful for k = 100, l = 2\n",
      "Execution successful!\n",
      "Gesamte Ausführung hat 0 Stunden, 0 Minuten, und 33.76 Sekunden gedauert.\n",
      "Anonymization completed for k=100. Output saved to C:/Users/leesh/Desktop/BA/Notebooks/weight_optimization/temp_output_k100.csv.\n",
      "All anonymization processes completed.\n"
     ]
    },
    {
     "name": "stderr",
     "output_type": "stream",
     "text": [
      "[I 2024-09-17 01:11:36,125] Trial 36 finished with value: 0.7225871868446296 and parameters: {'age_weight': 0.8363444525719488, 'gender_weight': 0.8441303887464665, 'height_weight': 0.3179544259566932, 'weight_weight': 0.7796160373964123, 'ap_hi_weight': 0.20102532799784145, 'ap_lo_weight': 0.624727176479264, 'cholesterol_weight': 0.4576277344759422, 'gluc_weight': 0.10557127696961133, 'smoke_weight': 0.551558149826157, 'alco_weight': 0.3921472356953727, 'active_weight': 0.0743140964111756}. Best is trial 36 with value: 0.7225871868446296.\n"
     ]
    },
    {
     "name": "stdout",
     "output_type": "stream",
     "text": [
      "Running Java anonymization with k={k_value}...\n",
      "weights_str 0.3033936694005745,0.8518263177319357,0.4044127950814848,0.20571980972483841,0.8971930545346636,0.44191172991450683,0.8316300236223217,0.2119641198770899,0.5088620722353415,0.5642139769245479,0.7916381532285867\n",
      "Running Java code...\n",
      "Anonymization successful for k = 100, l = 2\n",
      "Execution successful!\n",
      "Gesamte Ausführung hat 0 Stunden, 0 Minuten, und 34.68 Sekunden gedauert.\n",
      "Anonymization completed for k=100. Output saved to C:/Users/leesh/Desktop/BA/Notebooks/weight_optimization/temp_output_k100.csv.\n",
      "All anonymization processes completed.\n"
     ]
    },
    {
     "name": "stderr",
     "output_type": "stream",
     "text": [
      "[I 2024-09-17 01:12:42,982] Trial 37 finished with value: 0.7209490647015953 and parameters: {'age_weight': 0.8518263177319357, 'gender_weight': 0.8316300236223217, 'height_weight': 0.5088620722353415, 'weight_weight': 0.7916381532285867, 'ap_hi_weight': 0.20571980972483841, 'ap_lo_weight': 0.8971930545346636, 'cholesterol_weight': 0.44191172991450683, 'gluc_weight': 0.2119641198770899, 'smoke_weight': 0.5642139769245479, 'alco_weight': 0.4044127950814848, 'active_weight': 0.3033936694005745}. Best is trial 36 with value: 0.7225871868446296.\n"
     ]
    },
    {
     "name": "stdout",
     "output_type": "stream",
     "text": [
      "Running Java anonymization with k={k_value}...\n",
      "weights_str 0.059148196156322136,0.9449261422920644,0.340282824053978,0.06850012278391945,0.5576611000540812,0.43743639469608353,0.6474046163325539,0.2895167828271653,0.3460171567435079,0.7099270752871936,0.6929633634744805\n",
      "Running Java code...\n",
      "Anonymization successful for k = 100, l = 2\n",
      "Execution successful!\n",
      "Gesamte Ausführung hat 0 Stunden, 0 Minuten, und 39.65 Sekunden gedauert.\n",
      "Anonymization completed for k=100. Output saved to C:/Users/leesh/Desktop/BA/Notebooks/weight_optimization/temp_output_k100.csv.\n",
      "All anonymization processes completed.\n"
     ]
    },
    {
     "name": "stderr",
     "output_type": "stream",
     "text": [
      "[I 2024-09-17 01:13:34,022] Trial 38 finished with value: 0.7131067167837883 and parameters: {'age_weight': 0.9449261422920644, 'gender_weight': 0.6474046163325539, 'height_weight': 0.3460171567435079, 'weight_weight': 0.6929633634744805, 'ap_hi_weight': 0.06850012278391945, 'ap_lo_weight': 0.5576611000540812, 'cholesterol_weight': 0.43743639469608353, 'gluc_weight': 0.2895167828271653, 'smoke_weight': 0.7099270752871936, 'alco_weight': 0.340282824053978, 'active_weight': 0.059148196156322136}. Best is trial 36 with value: 0.7225871868446296.\n"
     ]
    },
    {
     "name": "stdout",
     "output_type": "stream",
     "text": [
      "Running Java anonymization with k={k_value}...\n",
      "weights_str 0.1122084926085554,0.8383058635045433,0.5472691493417874,0.6064240121513326,0.6858237686246395,0.3486151825547056,0.558798953604721,0.2001828124812695,0.4974442560929152,0.02218473933991305,0.574844532656215\n",
      "Running Java code...\n",
      "Anonymization successful for k = 100, l = 2\n",
      "Execution successful!\n",
      "Gesamte Ausführung hat 0 Stunden, 0 Minuten, und 33.77 Sekunden gedauert.\n",
      "Anonymization completed for k=100. Output saved to C:/Users/leesh/Desktop/BA/Notebooks/weight_optimization/temp_output_k100.csv.\n",
      "All anonymization processes completed.\n"
     ]
    },
    {
     "name": "stderr",
     "output_type": "stream",
     "text": [
      "[I 2024-09-17 01:14:18,332] Trial 39 finished with value: 0.7088434791292536 and parameters: {'age_weight': 0.8383058635045433, 'gender_weight': 0.558798953604721, 'height_weight': 0.4974442560929152, 'weight_weight': 0.574844532656215, 'ap_hi_weight': 0.6064240121513326, 'ap_lo_weight': 0.6858237686246395, 'cholesterol_weight': 0.3486151825547056, 'gluc_weight': 0.2001828124812695, 'smoke_weight': 0.02218473933991305, 'alco_weight': 0.5472691493417874, 'active_weight': 0.1122084926085554}. Best is trial 36 with value: 0.7225871868446296.\n"
     ]
    },
    {
     "name": "stdout",
     "output_type": "stream",
     "text": [
      "Running Java anonymization with k={k_value}...\n",
      "weights_str 0.21620588421269174,0.44479439304520474,0.39228465044526384,0.2040783413311144,0.7298551913369117,0.5591754170303118,0.7291987659132407,0.07300708788236221,0.31232452100210656,0.13948697896495527,0.4169315483223768\n",
      "Running Java code...\n",
      "Anonymization successful for k = 100, l = 2\n",
      "Execution successful!\n",
      "Gesamte Ausführung hat 0 Stunden, 0 Minuten, und 32.82 Sekunden gedauert.\n",
      "Anonymization completed for k=100. Output saved to C:/Users/leesh/Desktop/BA/Notebooks/weight_optimization/temp_output_k100.csv.\n",
      "All anonymization processes completed.\n"
     ]
    },
    {
     "name": "stderr",
     "output_type": "stream",
     "text": [
      "[I 2024-09-17 01:15:01,057] Trial 40 finished with value: 0.7206461876922018 and parameters: {'age_weight': 0.44479439304520474, 'gender_weight': 0.7291987659132407, 'height_weight': 0.31232452100210656, 'weight_weight': 0.4169315483223768, 'ap_hi_weight': 0.2040783413311144, 'ap_lo_weight': 0.7298551913369117, 'cholesterol_weight': 0.5591754170303118, 'gluc_weight': 0.07300708788236221, 'smoke_weight': 0.13948697896495527, 'alco_weight': 0.39228465044526384, 'active_weight': 0.21620588421269174}. Best is trial 36 with value: 0.7225871868446296.\n"
     ]
    },
    {
     "name": "stdout",
     "output_type": "stream",
     "text": [
      "Running Java anonymization with k={k_value}...\n",
      "weights_str 0.15844085456678436,0.6915852753126764,0.039832094305370436,0.14230178022200674,0.6232137315376353,0.8747852954233656,0.8777314842893679,0.11683175270854035,0.2384430155801215,0.2741694350629605,0.8417231684213342\n",
      "Running Java code...\n",
      "Anonymization successful for k = 100, l = 2\n",
      "Execution successful!\n",
      "Gesamte Ausführung hat 0 Stunden, 0 Minuten, und 32.70 Sekunden gedauert.\n",
      "Anonymization completed for k=100. Output saved to C:/Users/leesh/Desktop/BA/Notebooks/weight_optimization/temp_output_k100.csv.\n",
      "All anonymization processes completed.\n"
     ]
    },
    {
     "name": "stderr",
     "output_type": "stream",
     "text": [
      "[I 2024-09-17 01:15:42,481] Trial 41 finished with value: 0.7224866239358751 and parameters: {'age_weight': 0.6915852753126764, 'gender_weight': 0.8777314842893679, 'height_weight': 0.2384430155801215, 'weight_weight': 0.8417231684213342, 'ap_hi_weight': 0.14230178022200674, 'ap_lo_weight': 0.6232137315376353, 'cholesterol_weight': 0.8747852954233656, 'gluc_weight': 0.11683175270854035, 'smoke_weight': 0.2741694350629605, 'alco_weight': 0.039832094305370436, 'active_weight': 0.15844085456678436}. Best is trial 36 with value: 0.7225871868446296.\n"
     ]
    },
    {
     "name": "stdout",
     "output_type": "stream",
     "text": [
      "Running Java anonymization with k={k_value}...\n",
      "weights_str 0.45279657583653876,0.7821834797263949,0.13652451338550564,0.10478721619607408,0.5075398874007383,0.6995767166339304,0.9468506611605629,0.37681310771473636,0.16466477949493596,0.45924952921395557,0.9201874434639363\n",
      "Running Java code...\n",
      "Anonymization successful for k = 100, l = 2\n",
      "Execution successful!\n",
      "Gesamte Ausführung hat 0 Stunden, 0 Minuten, und 33.30 Sekunden gedauert.\n",
      "Anonymization completed for k=100. Output saved to C:/Users/leesh/Desktop/BA/Notebooks/weight_optimization/temp_output_k100.csv.\n",
      "All anonymization processes completed.\n"
     ]
    },
    {
     "name": "stderr",
     "output_type": "stream",
     "text": [
      "[I 2024-09-17 01:16:24,504] Trial 42 finished with value: 0.7220087813585232 and parameters: {'age_weight': 0.7821834797263949, 'gender_weight': 0.9468506611605629, 'height_weight': 0.16466477949493596, 'weight_weight': 0.9201874434639363, 'ap_hi_weight': 0.10478721619607408, 'ap_lo_weight': 0.5075398874007383, 'cholesterol_weight': 0.6995767166339304, 'gluc_weight': 0.37681310771473636, 'smoke_weight': 0.45924952921395557, 'alco_weight': 0.13652451338550564, 'active_weight': 0.45279657583653876}. Best is trial 36 with value: 0.7225871868446296.\n"
     ]
    },
    {
     "name": "stdout",
     "output_type": "stream",
     "text": [
      "Running Java anonymization with k={k_value}...\n",
      "weights_str 0.06870101694361698,0.8468785329645218,0.22968013782715113,0.07165971570456392,0.6446481858561535,0.7781557442561071,0.8461447585666156,0.01089194006386865,0.06901940664352668,0.3989415779467973,0.7457539396708961\n",
      "Running Java code...\n",
      "Anonymization successful for k = 100, l = 2\n",
      "Execution successful!\n",
      "Gesamte Ausführung hat 0 Stunden, 0 Minuten, und 33.26 Sekunden gedauert.\n",
      "Anonymization completed for k=100. Output saved to C:/Users/leesh/Desktop/BA/Notebooks/weight_optimization/temp_output_k100.csv.\n",
      "All anonymization processes completed.\n"
     ]
    },
    {
     "name": "stderr",
     "output_type": "stream",
     "text": [
      "[I 2024-09-17 01:17:08,067] Trial 43 finished with value: 0.7210084033613445 and parameters: {'age_weight': 0.8468785329645218, 'gender_weight': 0.8461447585666156, 'height_weight': 0.06901940664352668, 'weight_weight': 0.7457539396708961, 'ap_hi_weight': 0.07165971570456392, 'ap_lo_weight': 0.6446481858561535, 'cholesterol_weight': 0.7781557442561071, 'gluc_weight': 0.01089194006386865, 'smoke_weight': 0.3989415779467973, 'alco_weight': 0.22968013782715113, 'active_weight': 0.06870101694361698}. Best is trial 36 with value: 0.7225871868446296.\n"
     ]
    },
    {
     "name": "stdout",
     "output_type": "stream",
     "text": [
      "Running Java anonymization with k={k_value}...\n",
      "weights_str 0.041075946800723434,0.5783213727250228,0.008109763748926357,0.45267008351879906,0.8220026418883765,0.6250277587806137,0.7983051894141804,0.2603081047710447,0.4248469953312685,0.5103794320299584,0.8557550606535906\n",
      "Running Java code...\n",
      "Anonymization successful for k = 100, l = 2\n",
      "Execution successful!\n",
      "Gesamte Ausführung hat 0 Stunden, 0 Minuten, und 32.81 Sekunden gedauert.\n",
      "Anonymization completed for k=100. Output saved to C:/Users/leesh/Desktop/BA/Notebooks/weight_optimization/temp_output_k100.csv.\n",
      "All anonymization processes completed.\n"
     ]
    },
    {
     "name": "stderr",
     "output_type": "stream",
     "text": [
      "[I 2024-09-17 01:17:50,900] Trial 44 finished with value: 0.713596166670135 and parameters: {'age_weight': 0.5783213727250228, 'gender_weight': 0.7983051894141804, 'height_weight': 0.4248469953312685, 'weight_weight': 0.8557550606535906, 'ap_hi_weight': 0.45267008351879906, 'ap_lo_weight': 0.8220026418883765, 'cholesterol_weight': 0.6250277587806137, 'gluc_weight': 0.2603081047710447, 'smoke_weight': 0.5103794320299584, 'alco_weight': 0.008109763748926357, 'active_weight': 0.041075946800723434}. Best is trial 36 with value: 0.7225871868446296.\n"
     ]
    },
    {
     "name": "stdout",
     "output_type": "stream",
     "text": [
      "Running Java anonymization with k={k_value}...\n",
      "weights_str 0.13424724138527155,0.9365720389321762,0.11210339980471486,0.32635023607125,0.5677083838712766,0.8467582031212266,0.9600538740529708,0.5334321025842499,0.3221049311385542,0.5744241119424724,0.6705214243650414\n",
      "Running Java code...\n",
      "Anonymization successful for k = 100, l = 2\n",
      "Execution successful!\n",
      "Gesamte Ausführung hat 0 Stunden, 0 Minuten, und 33.45 Sekunden gedauert.\n",
      "Anonymization completed for k=100. Output saved to C:/Users/leesh/Desktop/BA/Notebooks/weight_optimization/temp_output_k100.csv.\n",
      "All anonymization processes completed.\n"
     ]
    },
    {
     "name": "stderr",
     "output_type": "stream",
     "text": [
      "[I 2024-09-17 01:18:34,853] Trial 45 finished with value: 0.7134513673780425 and parameters: {'age_weight': 0.9365720389321762, 'gender_weight': 0.9600538740529708, 'height_weight': 0.3221049311385542, 'weight_weight': 0.6705214243650414, 'ap_hi_weight': 0.32635023607125, 'ap_lo_weight': 0.5677083838712766, 'cholesterol_weight': 0.8467582031212266, 'gluc_weight': 0.5334321025842499, 'smoke_weight': 0.5744241119424724, 'alco_weight': 0.11210339980471486, 'active_weight': 0.13424724138527155}. Best is trial 36 with value: 0.7225871868446296.\n"
     ]
    },
    {
     "name": "stdout",
     "output_type": "stream",
     "text": [
      "Running Java anonymization with k={k_value}...\n",
      "weights_str 0.21401287010821607,0.28435462424004987,0.27880867451186847,0.15191621376312392,0.6747058041249414,0.9055541904071688,0.8857661164964251,0.08555734458109883,0.2033991022042379,0.3705102883629223,0.7994581054629297\n",
      "Running Java code...\n",
      "Anonymization successful for k = 100, l = 2\n",
      "Execution successful!\n",
      "Gesamte Ausführung hat 0 Stunden, 0 Minuten, und 33.33 Sekunden gedauert.\n",
      "Anonymization completed for k=100. Output saved to C:/Users/leesh/Desktop/BA/Notebooks/weight_optimization/temp_output_k100.csv.\n",
      "All anonymization processes completed.\n"
     ]
    },
    {
     "name": "stderr",
     "output_type": "stream",
     "text": [
      "[I 2024-09-17 01:19:17,131] Trial 46 finished with value: 0.7231185209624819 and parameters: {'age_weight': 0.28435462424004987, 'gender_weight': 0.8857661164964251, 'height_weight': 0.2033991022042379, 'weight_weight': 0.7994581054629297, 'ap_hi_weight': 0.15191621376312392, 'ap_lo_weight': 0.6747058041249414, 'cholesterol_weight': 0.9055541904071688, 'gluc_weight': 0.08555734458109883, 'smoke_weight': 0.3705102883629223, 'alco_weight': 0.27880867451186847, 'active_weight': 0.21401287010821607}. Best is trial 46 with value: 0.7231185209624819.\n"
     ]
    },
    {
     "name": "stdout",
     "output_type": "stream",
     "text": [
      "Running Java anonymization with k={k_value}...\n",
      "weights_str 0.32345958578933415,0.2800382058052062,0.2848441307738483,0.26627407600152375,0.6692879904925738,0.9298538038952465,0.8029213126415695,0.1729373600645463,0.21991854881694062,0.6699128219047339,0.7920256997874242\n",
      "Running Java code...\n",
      "Anonymization successful for k = 100, l = 2\n",
      "Execution successful!\n",
      "Gesamte Ausführung hat 0 Stunden, 0 Minuten, und 32.78 Sekunden gedauert.\n",
      "Anonymization completed for k=100. Output saved to C:/Users/leesh/Desktop/BA/Notebooks/weight_optimization/temp_output_k100.csv.\n",
      "All anonymization processes completed.\n"
     ]
    },
    {
     "name": "stderr",
     "output_type": "stream",
     "text": [
      "[I 2024-09-17 01:19:58,508] Trial 47 finished with value: 0.7221737296068322 and parameters: {'age_weight': 0.2800382058052062, 'gender_weight': 0.8029213126415695, 'height_weight': 0.21991854881694062, 'weight_weight': 0.7920256997874242, 'ap_hi_weight': 0.26627407600152375, 'ap_lo_weight': 0.6692879904925738, 'cholesterol_weight': 0.9298538038952465, 'gluc_weight': 0.1729373600645463, 'smoke_weight': 0.6699128219047339, 'alco_weight': 0.2848441307738483, 'active_weight': 0.32345958578933415}. Best is trial 46 with value: 0.7231185209624819.\n"
     ]
    },
    {
     "name": "stdout",
     "output_type": "stream",
     "text": [
      "Running Java anonymization with k={k_value}...\n",
      "weights_str 0.23217277270663755,0.10091960140266337,0.3434541236251434,0.1809224633858381,0.8784468792953535,0.879318119416177,0.2847418147426821,0.0491782583486553,0.07268948027236372,0.36001477658118075,0.6231757166495313\n",
      "Running Java code...\n",
      "Anonymization successful for k = 100, l = 2\n",
      "Execution successful!\n",
      "Gesamte Ausführung hat 0 Stunden, 0 Minuten, und 33.57 Sekunden gedauert.\n",
      "Anonymization completed for k=100. Output saved to C:/Users/leesh/Desktop/BA/Notebooks/weight_optimization/temp_output_k100.csv.\n",
      "All anonymization processes completed.\n"
     ]
    },
    {
     "name": "stderr",
     "output_type": "stream",
     "text": [
      "[I 2024-09-17 01:20:42,800] Trial 48 finished with value: 0.7130547886082899 and parameters: {'age_weight': 0.10091960140266337, 'gender_weight': 0.2847418147426821, 'height_weight': 0.07268948027236372, 'weight_weight': 0.6231757166495313, 'ap_hi_weight': 0.1809224633858381, 'ap_lo_weight': 0.8784468792953535, 'cholesterol_weight': 0.879318119416177, 'gluc_weight': 0.0491782583486553, 'smoke_weight': 0.36001477658118075, 'alco_weight': 0.3434541236251434, 'active_weight': 0.23217277270663755}. Best is trial 46 with value: 0.7231185209624819.\n"
     ]
    },
    {
     "name": "stdout",
     "output_type": "stream",
     "text": [
      "Running Java anonymization with k={k_value}...\n",
      "weights_str 0.10177523620264184,0.2570750488900398,0.5054829604954933,0.005540229996227941,0.7142765675680814,0.4095220850382716,0.7479279826848223,0.5888181056533438,0.5501810034219788,0.2823727861204047,0.7439590294256764\n",
      "Running Java code...\n",
      "Anonymization successful for k = 100, l = 2\n",
      "Execution successful!\n",
      "Gesamte Ausführung hat 0 Stunden, 0 Minuten, und 32.83 Sekunden gedauert.\n",
      "Anonymization completed for k=100. Output saved to C:/Users/leesh/Desktop/BA/Notebooks/weight_optimization/temp_output_k100.csv.\n",
      "All anonymization processes completed.\n"
     ]
    },
    {
     "name": "stderr",
     "output_type": "stream",
     "text": [
      "[I 2024-09-17 01:21:25,027] Trial 49 finished with value: 0.7132211145612029 and parameters: {'age_weight': 0.2570750488900398, 'gender_weight': 0.7479279826848223, 'height_weight': 0.5501810034219788, 'weight_weight': 0.7439590294256764, 'ap_hi_weight': 0.005540229996227941, 'ap_lo_weight': 0.7142765675680814, 'cholesterol_weight': 0.4095220850382716, 'gluc_weight': 0.5888181056533438, 'smoke_weight': 0.2823727861204047, 'alco_weight': 0.5054829604954933, 'active_weight': 0.10177523620264184}. Best is trial 46 with value: 0.7231185209624819.\n",
      "C:\\Users\\leesh\\AppData\\Local\\Temp\\ipykernel_197716\\770707487.py:255: FutureWarning: The behavior of DataFrame concatenation with empty or all-NA entries is deprecated. In a future version, this will no longer exclude empty or all-NA columns when determining the result dtypes. To retain the old behavior, exclude the relevant entries before the concat operation.\n",
      "  results_df = pd.concat([results_df, pd.DataFrame([result])], ignore_index=True)\n"
     ]
    },
    {
     "ename": "ValueError",
     "evalue": "could not convert string to float: '[40. 120['",
     "output_type": "error",
     "traceback": [
      "\u001b[1;31m---------------------------------------------------------------------------\u001b[0m",
      "\u001b[1;31mValueError\u001b[0m                                Traceback (most recent call last)",
      "Cell \u001b[1;32mIn[1], line 261\u001b[0m\n\u001b[0;32m    259\u001b[0m input_folder \u001b[38;5;241m=\u001b[39m \u001b[38;5;124m\"\u001b[39m\u001b[38;5;124mC:/Users/leesh/Desktop/BA/Notebooks/weight_optimization\u001b[39m\u001b[38;5;124m\"\u001b[39m  \u001b[38;5;66;03m# Ordner, der die CSV-Dateien enthält\u001b[39;00m\n\u001b[0;32m    260\u001b[0m output_csv \u001b[38;5;241m=\u001b[39m \u001b[38;5;124m\"\u001b[39m\u001b[38;5;124mC:/Users/leesh/Desktop/BA/Notebooks/weight_optimization/weight_optimization_results.csv\u001b[39m\u001b[38;5;124m\"\u001b[39m  \u001b[38;5;66;03m# Datei, in der die Ergebnisse gespeichert werden\u001b[39;00m\n\u001b[1;32m--> 261\u001b[0m optimize_weights_for_datasets(input_folder, output_csv)\n",
      "Cell \u001b[1;32mIn[1], line 219\u001b[0m, in \u001b[0;36moptimize_weights_for_datasets\u001b[1;34m(input_folder, output_csv)\u001b[0m\n\u001b[0;32m    217\u001b[0m dataset_name \u001b[38;5;241m=\u001b[39m csv_file\u001b[38;5;241m.\u001b[39msplit(\u001b[38;5;124m'\u001b[39m\u001b[38;5;124m.\u001b[39m\u001b[38;5;124m'\u001b[39m)[\u001b[38;5;241m0\u001b[39m]\n\u001b[0;32m    218\u001b[0m df \u001b[38;5;241m=\u001b[39m pd\u001b[38;5;241m.\u001b[39mread_csv(os\u001b[38;5;241m.\u001b[39mpath\u001b[38;5;241m.\u001b[39mjoin(input_folder, csv_file), delimiter \u001b[38;5;241m=\u001b[39m \u001b[38;5;124m'\u001b[39m\u001b[38;5;124m;\u001b[39m\u001b[38;5;124m'\u001b[39m)\n\u001b[1;32m--> 219\u001b[0m df[\u001b[38;5;124m'\u001b[39m\u001b[38;5;124mweight\u001b[39m\u001b[38;5;124m'\u001b[39m] \u001b[38;5;241m=\u001b[39m df[\u001b[38;5;124m'\u001b[39m\u001b[38;5;124mweight\u001b[39m\u001b[38;5;124m'\u001b[39m]\u001b[38;5;241m.\u001b[39mstr\u001b[38;5;241m.\u001b[39mreplace(\u001b[38;5;124m'\u001b[39m\u001b[38;5;124m,\u001b[39m\u001b[38;5;124m'\u001b[39m, \u001b[38;5;124m'\u001b[39m\u001b[38;5;124m.\u001b[39m\u001b[38;5;124m'\u001b[39m)\u001b[38;5;241m.\u001b[39mapply(\n\u001b[0;32m    220\u001b[0m     \u001b[38;5;28;01mlambda\u001b[39;00m x: \u001b[38;5;28mfloat\u001b[39m(x) \u001b[38;5;28;01mif\u001b[39;00m x \u001b[38;5;241m!=\u001b[39m \u001b[38;5;124m'\u001b[39m\u001b[38;5;124m*\u001b[39m\u001b[38;5;124m'\u001b[39m \u001b[38;5;28;01melse\u001b[39;00m x\n\u001b[0;32m    221\u001b[0m )\n\u001b[0;32m    223\u001b[0m \u001b[38;5;66;03m# Prüfen, ob für diesen Datensatz schon Optimierungen gemacht wurden\u001b[39;00m\n\u001b[0;32m    224\u001b[0m existing_trials \u001b[38;5;241m=\u001b[39m results_df[results_df[\u001b[38;5;124m\"\u001b[39m\u001b[38;5;124mdataset\u001b[39m\u001b[38;5;124m\"\u001b[39m] \u001b[38;5;241m==\u001b[39m dataset_name]\n",
      "File \u001b[1;32m~\\anaconda3\\Lib\\site-packages\\pandas\\core\\series.py:4764\u001b[0m, in \u001b[0;36mSeries.apply\u001b[1;34m(self, func, convert_dtype, args, by_row, **kwargs)\u001b[0m\n\u001b[0;32m   4629\u001b[0m \u001b[38;5;28;01mdef\u001b[39;00m \u001b[38;5;21mapply\u001b[39m(\n\u001b[0;32m   4630\u001b[0m     \u001b[38;5;28mself\u001b[39m,\n\u001b[0;32m   4631\u001b[0m     func: AggFuncType,\n\u001b[1;32m   (...)\u001b[0m\n\u001b[0;32m   4636\u001b[0m     \u001b[38;5;241m*\u001b[39m\u001b[38;5;241m*\u001b[39mkwargs,\n\u001b[0;32m   4637\u001b[0m ) \u001b[38;5;241m-\u001b[39m\u001b[38;5;241m>\u001b[39m DataFrame \u001b[38;5;241m|\u001b[39m Series:\n\u001b[0;32m   4638\u001b[0m \u001b[38;5;250m    \u001b[39m\u001b[38;5;124;03m\"\"\"\u001b[39;00m\n\u001b[0;32m   4639\u001b[0m \u001b[38;5;124;03m    Invoke function on values of Series.\u001b[39;00m\n\u001b[0;32m   4640\u001b[0m \n\u001b[1;32m   (...)\u001b[0m\n\u001b[0;32m   4755\u001b[0m \u001b[38;5;124;03m    dtype: float64\u001b[39;00m\n\u001b[0;32m   4756\u001b[0m \u001b[38;5;124;03m    \"\"\"\u001b[39;00m\n\u001b[0;32m   4757\u001b[0m     \u001b[38;5;28;01mreturn\u001b[39;00m SeriesApply(\n\u001b[0;32m   4758\u001b[0m         \u001b[38;5;28mself\u001b[39m,\n\u001b[0;32m   4759\u001b[0m         func,\n\u001b[0;32m   4760\u001b[0m         convert_dtype\u001b[38;5;241m=\u001b[39mconvert_dtype,\n\u001b[0;32m   4761\u001b[0m         by_row\u001b[38;5;241m=\u001b[39mby_row,\n\u001b[0;32m   4762\u001b[0m         args\u001b[38;5;241m=\u001b[39margs,\n\u001b[0;32m   4763\u001b[0m         kwargs\u001b[38;5;241m=\u001b[39mkwargs,\n\u001b[1;32m-> 4764\u001b[0m     )\u001b[38;5;241m.\u001b[39mapply()\n",
      "File \u001b[1;32m~\\anaconda3\\Lib\\site-packages\\pandas\\core\\apply.py:1209\u001b[0m, in \u001b[0;36mSeriesApply.apply\u001b[1;34m(self)\u001b[0m\n\u001b[0;32m   1206\u001b[0m     \u001b[38;5;28;01mreturn\u001b[39;00m \u001b[38;5;28mself\u001b[39m\u001b[38;5;241m.\u001b[39mapply_compat()\n\u001b[0;32m   1208\u001b[0m \u001b[38;5;66;03m# self.func is Callable\u001b[39;00m\n\u001b[1;32m-> 1209\u001b[0m \u001b[38;5;28;01mreturn\u001b[39;00m \u001b[38;5;28mself\u001b[39m\u001b[38;5;241m.\u001b[39mapply_standard()\n",
      "File \u001b[1;32m~\\anaconda3\\Lib\\site-packages\\pandas\\core\\apply.py:1289\u001b[0m, in \u001b[0;36mSeriesApply.apply_standard\u001b[1;34m(self)\u001b[0m\n\u001b[0;32m   1283\u001b[0m \u001b[38;5;66;03m# row-wise access\u001b[39;00m\n\u001b[0;32m   1284\u001b[0m \u001b[38;5;66;03m# apply doesn't have a `na_action` keyword and for backward compat reasons\u001b[39;00m\n\u001b[0;32m   1285\u001b[0m \u001b[38;5;66;03m# we need to give `na_action=\"ignore\"` for categorical data.\u001b[39;00m\n\u001b[0;32m   1286\u001b[0m \u001b[38;5;66;03m# TODO: remove the `na_action=\"ignore\"` when that default has been changed in\u001b[39;00m\n\u001b[0;32m   1287\u001b[0m \u001b[38;5;66;03m#  Categorical (GH51645).\u001b[39;00m\n\u001b[0;32m   1288\u001b[0m action \u001b[38;5;241m=\u001b[39m \u001b[38;5;124m\"\u001b[39m\u001b[38;5;124mignore\u001b[39m\u001b[38;5;124m\"\u001b[39m \u001b[38;5;28;01mif\u001b[39;00m \u001b[38;5;28misinstance\u001b[39m(obj\u001b[38;5;241m.\u001b[39mdtype, CategoricalDtype) \u001b[38;5;28;01melse\u001b[39;00m \u001b[38;5;28;01mNone\u001b[39;00m\n\u001b[1;32m-> 1289\u001b[0m mapped \u001b[38;5;241m=\u001b[39m obj\u001b[38;5;241m.\u001b[39m_map_values(\n\u001b[0;32m   1290\u001b[0m     mapper\u001b[38;5;241m=\u001b[39mcurried, na_action\u001b[38;5;241m=\u001b[39maction, convert\u001b[38;5;241m=\u001b[39m\u001b[38;5;28mself\u001b[39m\u001b[38;5;241m.\u001b[39mconvert_dtype\n\u001b[0;32m   1291\u001b[0m )\n\u001b[0;32m   1293\u001b[0m \u001b[38;5;28;01mif\u001b[39;00m \u001b[38;5;28mlen\u001b[39m(mapped) \u001b[38;5;129;01mand\u001b[39;00m \u001b[38;5;28misinstance\u001b[39m(mapped[\u001b[38;5;241m0\u001b[39m], ABCSeries):\n\u001b[0;32m   1294\u001b[0m     \u001b[38;5;66;03m# GH#43986 Need to do list(mapped) in order to get treated as nested\u001b[39;00m\n\u001b[0;32m   1295\u001b[0m     \u001b[38;5;66;03m#  See also GH#25959 regarding EA support\u001b[39;00m\n\u001b[0;32m   1296\u001b[0m     \u001b[38;5;28;01mreturn\u001b[39;00m obj\u001b[38;5;241m.\u001b[39m_constructor_expanddim(\u001b[38;5;28mlist\u001b[39m(mapped), index\u001b[38;5;241m=\u001b[39mobj\u001b[38;5;241m.\u001b[39mindex)\n",
      "File \u001b[1;32m~\\anaconda3\\Lib\\site-packages\\pandas\\core\\base.py:921\u001b[0m, in \u001b[0;36mIndexOpsMixin._map_values\u001b[1;34m(self, mapper, na_action, convert)\u001b[0m\n\u001b[0;32m    918\u001b[0m \u001b[38;5;28;01mif\u001b[39;00m \u001b[38;5;28misinstance\u001b[39m(arr, ExtensionArray):\n\u001b[0;32m    919\u001b[0m     \u001b[38;5;28;01mreturn\u001b[39;00m arr\u001b[38;5;241m.\u001b[39mmap(mapper, na_action\u001b[38;5;241m=\u001b[39mna_action)\n\u001b[1;32m--> 921\u001b[0m \u001b[38;5;28;01mreturn\u001b[39;00m algorithms\u001b[38;5;241m.\u001b[39mmap_array(arr, mapper, na_action\u001b[38;5;241m=\u001b[39mna_action, convert\u001b[38;5;241m=\u001b[39mconvert)\n",
      "File \u001b[1;32m~\\anaconda3\\Lib\\site-packages\\pandas\\core\\algorithms.py:1814\u001b[0m, in \u001b[0;36mmap_array\u001b[1;34m(arr, mapper, na_action, convert)\u001b[0m\n\u001b[0;32m   1812\u001b[0m values \u001b[38;5;241m=\u001b[39m arr\u001b[38;5;241m.\u001b[39mastype(\u001b[38;5;28mobject\u001b[39m, copy\u001b[38;5;241m=\u001b[39m\u001b[38;5;28;01mFalse\u001b[39;00m)\n\u001b[0;32m   1813\u001b[0m \u001b[38;5;28;01mif\u001b[39;00m na_action \u001b[38;5;129;01mis\u001b[39;00m \u001b[38;5;28;01mNone\u001b[39;00m:\n\u001b[1;32m-> 1814\u001b[0m     \u001b[38;5;28;01mreturn\u001b[39;00m lib\u001b[38;5;241m.\u001b[39mmap_infer(values, mapper, convert\u001b[38;5;241m=\u001b[39mconvert)\n\u001b[0;32m   1815\u001b[0m \u001b[38;5;28;01melse\u001b[39;00m:\n\u001b[0;32m   1816\u001b[0m     \u001b[38;5;28;01mreturn\u001b[39;00m lib\u001b[38;5;241m.\u001b[39mmap_infer_mask(\n\u001b[0;32m   1817\u001b[0m         values, mapper, mask\u001b[38;5;241m=\u001b[39misna(values)\u001b[38;5;241m.\u001b[39mview(np\u001b[38;5;241m.\u001b[39muint8), convert\u001b[38;5;241m=\u001b[39mconvert\n\u001b[0;32m   1818\u001b[0m     )\n",
      "File \u001b[1;32mlib.pyx:2926\u001b[0m, in \u001b[0;36mpandas._libs.lib.map_infer\u001b[1;34m()\u001b[0m\n",
      "Cell \u001b[1;32mIn[1], line 220\u001b[0m, in \u001b[0;36moptimize_weights_for_datasets.<locals>.<lambda>\u001b[1;34m(x)\u001b[0m\n\u001b[0;32m    217\u001b[0m dataset_name \u001b[38;5;241m=\u001b[39m csv_file\u001b[38;5;241m.\u001b[39msplit(\u001b[38;5;124m'\u001b[39m\u001b[38;5;124m.\u001b[39m\u001b[38;5;124m'\u001b[39m)[\u001b[38;5;241m0\u001b[39m]\n\u001b[0;32m    218\u001b[0m df \u001b[38;5;241m=\u001b[39m pd\u001b[38;5;241m.\u001b[39mread_csv(os\u001b[38;5;241m.\u001b[39mpath\u001b[38;5;241m.\u001b[39mjoin(input_folder, csv_file), delimiter \u001b[38;5;241m=\u001b[39m \u001b[38;5;124m'\u001b[39m\u001b[38;5;124m;\u001b[39m\u001b[38;5;124m'\u001b[39m)\n\u001b[0;32m    219\u001b[0m df[\u001b[38;5;124m'\u001b[39m\u001b[38;5;124mweight\u001b[39m\u001b[38;5;124m'\u001b[39m] \u001b[38;5;241m=\u001b[39m df[\u001b[38;5;124m'\u001b[39m\u001b[38;5;124mweight\u001b[39m\u001b[38;5;124m'\u001b[39m]\u001b[38;5;241m.\u001b[39mstr\u001b[38;5;241m.\u001b[39mreplace(\u001b[38;5;124m'\u001b[39m\u001b[38;5;124m,\u001b[39m\u001b[38;5;124m'\u001b[39m, \u001b[38;5;124m'\u001b[39m\u001b[38;5;124m.\u001b[39m\u001b[38;5;124m'\u001b[39m)\u001b[38;5;241m.\u001b[39mapply(\n\u001b[1;32m--> 220\u001b[0m     \u001b[38;5;28;01mlambda\u001b[39;00m x: \u001b[38;5;28mfloat\u001b[39m(x) \u001b[38;5;28;01mif\u001b[39;00m x \u001b[38;5;241m!=\u001b[39m \u001b[38;5;124m'\u001b[39m\u001b[38;5;124m*\u001b[39m\u001b[38;5;124m'\u001b[39m \u001b[38;5;28;01melse\u001b[39;00m x\n\u001b[0;32m    221\u001b[0m )\n\u001b[0;32m    223\u001b[0m \u001b[38;5;66;03m# Prüfen, ob für diesen Datensatz schon Optimierungen gemacht wurden\u001b[39;00m\n\u001b[0;32m    224\u001b[0m existing_trials \u001b[38;5;241m=\u001b[39m results_df[results_df[\u001b[38;5;124m\"\u001b[39m\u001b[38;5;124mdataset\u001b[39m\u001b[38;5;124m\"\u001b[39m] \u001b[38;5;241m==\u001b[39m dataset_name]\n",
      "\u001b[1;31mValueError\u001b[0m: could not convert string to float: '[40. 120['"
     ]
    }
   ],
   "source": [
    "import os\n",
    "import pandas as pd\n",
    "import numpy as np\n",
    "from sklearn.model_selection import train_test_split, cross_val_score\n",
    "from sklearn.ensemble import RandomForestClassifier\n",
    "import optuna\n",
    "from functools import partial\n",
    "import subprocess\n",
    "import time\n",
    "\n",
    "def run_java_anonymization(input_csv, output_csv, k_value, l_value=2, weights=None):\n",
    "    \"\"\"\n",
    "    Führt das Java-Programm zur Anonymisierung mit den angegebenen Parametern aus.\n",
    "    \n",
    "    Args:\n",
    "        input_csv (str): Pfad zur Eingabe-CSV-Datei.\n",
    "        output_csv (str): Pfad zur Ausgabe-CSV-Datei.\n",
    "        k_value (str): Wert für k-Anonymität.\n",
    "        l_value (int, optional): Wert für l-Diversität (Standard: 2).\n",
    "        weights (dict, optional): Gewichtungen für die Attribute, falls vorhanden.\n",
    "    \"\"\"\n",
    "    # Startzeit messen\n",
    "    start_time = time.time()\n",
    "\n",
    "    # Pfade und Parameter\n",
    "    java_file = \"C:/Users/leesh/Desktop/BA/Notebooks/automated_anonymization/Anonymization/src/main/java/ARXAnonymization_w.java\"\n",
    "    class_file = \"C:/Users/leesh/Desktop/BA/Notebooks/automated_anonymization/Anonymization/src/main/java/ARXAnonymization_w.class\"\n",
    "    libs_dir = \"C:/Users/leesh/Desktop/BA/Notebooks/automated_anonymization/Anonymization/lib/*\"\n",
    "\n",
    "    # Gewichtungen als String formatieren, wenn vorhanden\n",
    "    if weights is not None:\n",
    "        weights_str = ','.join([str(weights[key]) for key in sorted(weights.keys())])\n",
    "    else:\n",
    "        weights_str = \"\"\n",
    "\n",
    "    # Ausführung des Java-Programms\n",
    "    print(\"weights_str\", weights_str)\n",
    "    run_command = [\n",
    "        \"java\",\n",
    "        \"-cp\", f\"{libs_dir};C:/Users/leesh/Desktop/BA/Notebooks/automated_anonymization/Anonymization/src/main/java\",\n",
    "        \"ARXAnonymization_w\",\n",
    "        input_csv,\n",
    "        output_csv,\n",
    "        str(k_value),\n",
    "        str(l_value),\n",
    "        weights_str\n",
    "    ]\n",
    "\n",
    "\n",
    "    print(\"Running Java code...\")\n",
    "    process = subprocess.Popen(run_command, stdout=subprocess.PIPE, stderr=subprocess.PIPE, text=True)\n",
    "\n",
    "    # Lesen und Ausgeben der Ausgabe zeilenweise\n",
    "    while True:\n",
    "        output = process.stdout.readline()\n",
    "        if output == \"\" and process.poll() is not None:\n",
    "            break\n",
    "        if output:\n",
    "            print(output.strip())\n",
    "\n",
    "    # Lesen und Ausgeben von Fehlern\n",
    "    stderr_output = process.stderr.read()\n",
    "    if stderr_output:\n",
    "        print(f\"Error:\\n{stderr_output}\")\n",
    "\n",
    "    # Überprüfen des Rückgabecodes des Prozesses\n",
    "    exit_code = process.poll()\n",
    "    if exit_code == 0:\n",
    "        print(\"Execution successful!\")\n",
    "    else:\n",
    "        print(f\"Execution failed with exit code {exit_code}\")\n",
    "\n",
    "    # Endzeit messen\n",
    "    end_time = time.time()\n",
    "    elapsed_time = end_time - start_time\n",
    "    hours_total, rem_total = divmod(elapsed_time, 3600)\n",
    "    minutes_total, seconds_total = divmod(rem_total, 60)\n",
    "    print(f\"Gesamte Ausführung hat {int(hours_total)} Stunden, {int(minutes_total)} Minuten, und {seconds_total:.2f} Sekunden gedauert.\")\n",
    "    \n",
    "    return exit_code\n",
    "\n",
    "def run_script_and_capture_output(command):\n",
    "    \"\"\"Führt ein Kommando aus und gibt die Ausgabe in Echtzeit zurück.\"\"\"\n",
    "    process = subprocess.Popen(command, stdout=subprocess.PIPE, stderr=subprocess.PIPE, text=True)\n",
    "\n",
    "    while True:\n",
    "        output = process.stdout.readline()\n",
    "        if output == \"\" and process.poll() is not None:\n",
    "            break\n",
    "        if output:\n",
    "            print(output.strip())\n",
    "\n",
    "    # Lesen und Drucken von Fehlermeldungen\n",
    "    stderr_output = process.stderr.read()\n",
    "    if stderr_output:\n",
    "        print(f\"Error:\\n{stderr_output}\")\n",
    "\n",
    "    return process.poll()  # Rückgabe des Exit-Codes\n",
    "\n",
    "# Funktion zur Anonymisierung\n",
    "def anonymize_data(df, weights, temp_input_csv=\"C:/Users/leesh/Desktop/BA/Notebooks/weight_optimization/temp_input.csv\", temp_output_csv_template=\"C:/Users/leesh/Desktop/BA/Notebooks/weight_optimization/temp_output_k{}.csv\"):\n",
    "    # Speichern des DataFrames als CSV, damit das Java-Programm darauf zugreifen kann\n",
    "    df.to_csv(temp_input_csv, index=False)\n",
    "\n",
    "    k_values = [100]\n",
    "\n",
    "    for k_value in k_values:\n",
    "        temp_output_csv = temp_output_csv_template.format(k_value)\n",
    "    \n",
    "        print(\"Running Java anonymization with k={k_value}...\")\n",
    "        java_exit_code = run_java_anonymization(temp_input_csv, temp_output_csv, k_value, weights=weights)\n",
    "\n",
    "        if java_exit_code != 0:\n",
    "            print(f\"Anonymization script failed with exit code {java_exit_code}.\")\n",
    "            continue\n",
    "\n",
    "        # Warte auf das Erstellen der Datei\n",
    "        for i in range(10):  # Versuche es 10 Mal mit jeweils 1 Sekunde Pause\n",
    "            if os.path.exists(temp_output_csv):\n",
    "                break\n",
    "            time.sleep(1)\n",
    "        else:\n",
    "             # Wenn die Datei nicht gefunden wird, erstelle eine leere Datei\n",
    "            print(f\"{temp_output_csv} wurde nicht gefunden. Erstelle eine leere Datei.\")\n",
    "            pd.DataFrame().to_csv(temp_output_csv, index=False)  # Erstelle eine leere CSV\n",
    "            raise FileNotFoundError(f\"{temp_output_csv} wurde nicht gefunden.\")\n",
    "    \n",
    "        # Laden der anonymisierten Daten zurück in einen DataFrame\n",
    "        anonymized_df = pd.read_csv(temp_output_csv)\n",
    "        print(f\"Anonymization completed for k={k_value}. Output saved to {temp_output_csv}.\")\n",
    "\n",
    "    print(\"All anonymization processes completed.\")\n",
    "    return anonymized_df\n",
    "\n",
    "\n",
    "# Processing-Funktion für Intervalle und Mengen\n",
    "def process_value(value):\n",
    "    if isinstance(value, str):\n",
    "        value = value.strip()\n",
    "        if value.startswith('[') and value.endswith('['):\n",
    "            try:\n",
    "                start, end = map(float, value[1:-1].split(','))\n",
    "                return (start + end) / 2\n",
    "            except ValueError:\n",
    "                return np.nan\n",
    "        elif value.startswith('{') and value.endswith('}'):\n",
    "            try:\n",
    "                values = list(map(float, value[1:-1].split(',')))\n",
    "                return np.mean(values)\n",
    "            except ValueError:\n",
    "                return np.nan\n",
    "        else:\n",
    "            try:\n",
    "                return float(value)\n",
    "            except ValueError:\n",
    "                return np.nan\n",
    "    return value\n",
    "\n",
    "\n",
    "# Funktion zur Bewertung der Modellleistung\n",
    "def evaluate_model(df, weights):\n",
    "    df_anonymized = anonymize_data(df, weights)\n",
    "    if df_anonymized is None:\n",
    "        return 0  # Rückgabe von 0, wenn die Anonymisierung fehlschlägt\n",
    "\n",
    "    # Sicherstellen, dass keine ungültigen Werte vorhanden sind\n",
    "    df_anonymized = df_anonymized.drop(columns=[\"id\"])\n",
    "    df_anonymized = df_anonymized[~df_anonymized.isin(['*']).any(axis=1)]\n",
    "    df_anonymized = df_anonymized.dropna()\n",
    "    \n",
    "    X = df_anonymized.drop(columns=[\"cardio\"])\n",
    "    y = df_anonymized[\"cardio\"]\n",
    "\n",
    "    for column in X.columns:\n",
    "        X[column] = X[column].apply(process_value)\n",
    "\n",
    "    #X.to_csv(\"C:/Users/leesh/Desktop/BA/Notebooks/weight_optimization/temp_output_modified.csv\", index=False)\n",
    "    \n",
    "    clf = RandomForestClassifier()\n",
    "    scores = cross_val_score(clf, X, y, cv=5, scoring='accuracy')\n",
    "    return scores.mean()\n",
    "\n",
    "# Optuna-Ziel-Funktion für die Optimierung\n",
    "def objective(trial, df):\n",
    "    \n",
    "    # Bayesian Optimization durch Variieren der Gewichtungen\n",
    "    weights = {\n",
    "        \"age\": trial.suggest_float(\"age_weight\", 0.0, 1.0),\n",
    "        \"gender\": trial.suggest_float(\"gender_weight\", 0.0, 1.0),\n",
    "        \"height\": trial.suggest_float(\"height_weight\", 0.0, 1.0),\n",
    "        \"weight\": trial.suggest_float(\"weight_weight\", 0.0, 1.0),\n",
    "        \"ap_hi\": trial.suggest_float(\"ap_hi_weight\", 0.0, 1.0),\n",
    "        \"ap_lo\": trial.suggest_float(\"ap_lo_weight\", 0.0, 1.0),\n",
    "        \"cholesterol\": trial.suggest_float(\"cholesterol_weight\", 0.0, 1.0),\n",
    "        \"gluc\": trial.suggest_float(\"gluc_weight\", 0.0, 1.0),\n",
    "        \"smoke\": trial.suggest_float(\"smoke_weight\", 0.0, 1.0),\n",
    "        \"alco\": trial.suggest_float(\"alco_weight\", 0.0, 1.0),\n",
    "        \"active\": trial.suggest_float(\"active_weight\", 0.0, 1.0),\n",
    "    }\n",
    "\n",
    "    score = evaluate_model(df, weights)\n",
    "    return score\n",
    "\n",
    "# Funktion zum Laden von CSV-Dateien und Optimierung pro Datei\n",
    "def optimize_weights_for_datasets(input_folder, output_csv):\n",
    "    # Prüfen, ob es eine bestehende Ausgabe gibt, um Fortschritt fortzusetzen\n",
    "    if os.path.exists(output_csv):\n",
    "        results_df = pd.read_csv(output_csv)\n",
    "    else:\n",
    "        results_df = pd.DataFrame(columns=[\"dataset\", \"trial_number\", \"age_weight\", \"gender_weight\", \"height_weight\", \n",
    "                                           \"weight_weight\", \"ap_hi_weight\", \"ap_lo_weight\", \"cholesterol_weight\", \n",
    "                                           \"gluc_weight\", \"smoke_weight\", \"alco_weight\", \"active_weight\", \"score\"])\n",
    "\n",
    "    csv_files = [f for f in os.listdir(input_folder) if f.endswith('.csv')]\n",
    "\n",
    "    for csv_file in csv_files:\n",
    "        dataset_name = csv_file.split('.')[0]\n",
    "        df = pd.read_csv(os.path.join(input_folder, csv_file), delimiter = ';')\n",
    "        df['weight'] = df['weight'].str.replace(',', '.').apply(\n",
    "            lambda x: float(x) if x != '*' else x\n",
    "        )\n",
    "\n",
    "        # Prüfen, ob für diesen Datensatz schon Optimierungen gemacht wurden\n",
    "        existing_trials = results_df[results_df[\"dataset\"] == dataset_name]\n",
    "        if not existing_trials.empty:\n",
    "            last_trial_number = existing_trials[\"trial_number\"].max()\n",
    "        else:\n",
    "            last_trial_number = 0\n",
    "\n",
    "        # Bayesian Optimization Setup\n",
    "        study = optuna.create_study(direction=\"maximize\")\n",
    "        study.optimize(partial(objective, df=df), n_trials=50, n_jobs=1)\n",
    "\n",
    "        # Ergebnisse speichern\n",
    "        for i, trial in enumerate(study.trials):\n",
    "            if i + 1 > last_trial_number:  # Nur neue Ergebnisse speichern\n",
    "                result = {\n",
    "                    \"dataset\": dataset_name,\n",
    "                    \"trial_number\": i + 1,\n",
    "                    \"age_weight\": trial.params[\"age_weight\"],\n",
    "                    \"gender_weight\": trial.params[\"gender_weight\"],\n",
    "                    \"height_weight\": trial.params[\"height_weight\"],\n",
    "                    \"weight_weight\": trial.params[\"weight_weight\"],\n",
    "                    \"ap_hi_weight\": trial.params[\"ap_hi_weight\"],\n",
    "                    \"ap_lo_weight\": trial.params[\"ap_lo_weight\"],\n",
    "                    \"cholesterol_weight\": trial.params[\"cholesterol_weight\"],\n",
    "                    \"gluc_weight\": trial.params[\"gluc_weight\"],\n",
    "                    \"smoke_weight\": trial.params[\"smoke_weight\"],\n",
    "                    \"alco_weight\": trial.params[\"alco_weight\"],\n",
    "                    \"active_weight\": trial.params[\"active_weight\"],\n",
    "                    \"score\": trial.value\n",
    "                }\n",
    "                #new_row = pd.DataFrame([result])\n",
    "                #results_df = pd.concat([results_df, new_row], ignore_index=True)\n",
    "                results_df = pd.concat([results_df, pd.DataFrame([result])], ignore_index=True)\n",
    "                results_df.to_csv(output_csv, index=False)\n",
    "\n",
    "# Ausführen der Optimierung für Datensätze in einem Ordner\n",
    "input_folder = \"C:/Users/leesh/Desktop/BA/Notebooks/weight_optimization\"  # Ordner, der die CSV-Dateien enthält\n",
    "output_csv = \"C:/Users/leesh/Desktop/BA/Notebooks/weight_optimization/weight_optimization_results.csv\"  # Datei, in der die Ergebnisse gespeichert werden\n",
    "optimize_weights_for_datasets(input_folder, output_csv)\n"
   ]
  },
  {
   "cell_type": "code",
   "execution_count": null,
   "id": "27802285-45b6-4350-b95d-06d61538684f",
   "metadata": {},
   "outputs": [],
   "source": []
  }
 ],
 "metadata": {
  "kernelspec": {
   "display_name": "Python 3 (ipykernel)",
   "language": "python",
   "name": "python3"
  },
  "language_info": {
   "codemirror_mode": {
    "name": "ipython",
    "version": 3
   },
   "file_extension": ".py",
   "mimetype": "text/x-python",
   "name": "python",
   "nbconvert_exporter": "python",
   "pygments_lexer": "ipython3",
   "version": "3.11.7"
  }
 },
 "nbformat": 4,
 "nbformat_minor": 5
}
